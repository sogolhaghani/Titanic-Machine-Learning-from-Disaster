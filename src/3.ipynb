{
 "metadata": {
  "language_info": {
   "codemirror_mode": {
    "name": "ipython",
    "version": 3
   },
   "file_extension": ".py",
   "mimetype": "text/x-python",
   "name": "python",
   "nbconvert_exporter": "python",
   "pygments_lexer": "ipython3",
   "version": "3.7.6-final"
  },
  "orig_nbformat": 2,
  "kernelspec": {
   "name": "python37364bitanaconda3virtualenv17c84ce56901433a85eef3c70d4c4b9d",
   "display_name": "Python 3.7.3 64-bit ('anaconda3': virtualenv)"
  }
 },
 "nbformat": 4,
 "nbformat_minor": 2,
 "cells": [
  {
   "source": [
    "# data analysis and wrangling\n"
   ],
   "cell_type": "markdown",
   "metadata": {}
  },
  {
   "source": [
    "## Imports"
   ],
   "cell_type": "markdown",
   "metadata": {}
  },
  {
   "source": [
    "import pandas as pd\n",
    "import numpy as np\n",
    "import random as rnd\n",
    "\n",
    "# visualization\n",
    "import seaborn as sns\n",
    "import matplotlib.pyplot as plt\n",
    "%matplotlib inline\n",
    "\n",
    "# preprocessing\n",
    "from sklearn import preprocessing\n",
    "from sklearn.preprocessing import LabelEncoder\n",
    "from sklearn.preprocessing import OneHotEncoder\n",
    "import ppscore as pps\n",
    "\n",
    "# machine learning\n",
    "from sklearn.linear_model import LogisticRegression\n",
    "from sklearn.svm import SVC, LinearSVC\n",
    "from sklearn.ensemble import RandomForestClassifier\n",
    "from sklearn.neighbors import KNeighborsClassifier\n",
    "from sklearn.naive_bayes import GaussianNB\n",
    "from sklearn.linear_model import Perceptron\n",
    "from sklearn.linear_model import SGDClassifier\n",
    "from sklearn.tree import DecisionTreeClassifier\n",
    "from sklearn.neural_network import MLPClassifier\n"
   ],
   "cell_type": "code",
   "metadata": {},
   "execution_count": 544,
   "outputs": []
  },
  {
   "source": [
    "## Load Data"
   ],
   "cell_type": "markdown",
   "metadata": {}
  },
  {
   "cell_type": "code",
   "execution_count": 545,
   "metadata": {},
   "outputs": [
    {
     "output_type": "stream",
     "name": "stdout",
     "text": [
      "['PassengerId' 'Survived' 'Pclass' 'Name' 'Sex' 'Age' 'SibSp' 'Parch'\n 'Ticket' 'Fare' 'Cabin' 'Embarked']\n"
     ]
    }
   ],
   "source": [
    "train_df = pd.read_csv('../dataset/train.csv')\n",
    "test_df = pd.read_csv('../dataset/test.csv')\n",
    "print(train_df.columns.values)"
   ]
  },
  {
   "cell_type": "code",
   "execution_count": 546,
   "metadata": {},
   "outputs": [],
   "source": [
    "all_df = pd.concat((train_df.loc[:,'Pclass':'Embarked'], test_df.loc[:,'Pclass':'Embarked'])).reset_index(drop=True)"
   ]
  },
  {
   "cell_type": "code",
   "execution_count": 547,
   "metadata": {},
   "outputs": [
    {
     "output_type": "execute_result",
     "data": {
      "text/plain": [
       "Sex       female  male\n",
       "Title                 \n",
       "Capt           0     1\n",
       "Col            0     4\n",
       "Countess       1     0\n",
       "Don            0     1\n",
       "Dona           1     0\n",
       "Dr             1     7\n",
       "Jonkheer       0     1\n",
       "Lady           1     0\n",
       "Major          0     2\n",
       "Master         0    61\n",
       "Miss         260     0\n",
       "Mlle           2     0\n",
       "Mme            1     0\n",
       "Mr             0   757\n",
       "Mrs          197     0\n",
       "Ms             2     0\n",
       "Rev            0     8\n",
       "Sir            0     1"
      ],
      "text/html": "<div>\n<style scoped>\n    .dataframe tbody tr th:only-of-type {\n        vertical-align: middle;\n    }\n\n    .dataframe tbody tr th {\n        vertical-align: top;\n    }\n\n    .dataframe thead th {\n        text-align: right;\n    }\n</style>\n<table border=\"1\" class=\"dataframe\">\n  <thead>\n    <tr style=\"text-align: right;\">\n      <th>Sex</th>\n      <th>female</th>\n      <th>male</th>\n    </tr>\n    <tr>\n      <th>Title</th>\n      <th></th>\n      <th></th>\n    </tr>\n  </thead>\n  <tbody>\n    <tr>\n      <th>Capt</th>\n      <td>0</td>\n      <td>1</td>\n    </tr>\n    <tr>\n      <th>Col</th>\n      <td>0</td>\n      <td>4</td>\n    </tr>\n    <tr>\n      <th>Countess</th>\n      <td>1</td>\n      <td>0</td>\n    </tr>\n    <tr>\n      <th>Don</th>\n      <td>0</td>\n      <td>1</td>\n    </tr>\n    <tr>\n      <th>Dona</th>\n      <td>1</td>\n      <td>0</td>\n    </tr>\n    <tr>\n      <th>Dr</th>\n      <td>1</td>\n      <td>7</td>\n    </tr>\n    <tr>\n      <th>Jonkheer</th>\n      <td>0</td>\n      <td>1</td>\n    </tr>\n    <tr>\n      <th>Lady</th>\n      <td>1</td>\n      <td>0</td>\n    </tr>\n    <tr>\n      <th>Major</th>\n      <td>0</td>\n      <td>2</td>\n    </tr>\n    <tr>\n      <th>Master</th>\n      <td>0</td>\n      <td>61</td>\n    </tr>\n    <tr>\n      <th>Miss</th>\n      <td>260</td>\n      <td>0</td>\n    </tr>\n    <tr>\n      <th>Mlle</th>\n      <td>2</td>\n      <td>0</td>\n    </tr>\n    <tr>\n      <th>Mme</th>\n      <td>1</td>\n      <td>0</td>\n    </tr>\n    <tr>\n      <th>Mr</th>\n      <td>0</td>\n      <td>757</td>\n    </tr>\n    <tr>\n      <th>Mrs</th>\n      <td>197</td>\n      <td>0</td>\n    </tr>\n    <tr>\n      <th>Ms</th>\n      <td>2</td>\n      <td>0</td>\n    </tr>\n    <tr>\n      <th>Rev</th>\n      <td>0</td>\n      <td>8</td>\n    </tr>\n    <tr>\n      <th>Sir</th>\n      <td>0</td>\n      <td>1</td>\n    </tr>\n  </tbody>\n</table>\n</div>"
     },
     "metadata": {},
     "execution_count": 547
    }
   ],
   "source": [
    "all_df['Title'] = all_df.Name.str.extract(' ([A-Za-z]+)\\.', expand=False)\n",
    "pd.crosstab(all_df['Title'], all_df['Sex'])"
   ]
  },
  {
   "cell_type": "code",
   "execution_count": 548,
   "metadata": {},
   "outputs": [],
   "source": [
    "all_df['Title'] = all_df['Title'].replace(['Mlle', 'Lady', 'Ms', 'Countess'], 'Miss')\n",
    "all_df['Title'] = all_df['Title'].replace('Mme', 'Mrs')\n",
    "all_df['Title'] = all_df['Title'].replace(['Sir', 'Major'], 'Mr')\n",
    "all_df['Title'] = all_df['Title'].replace('^(?!.*(Miss|Mrs|Mr|Master)).*$', 'Rare',regex=True)"
   ]
  },
  {
   "cell_type": "code",
   "execution_count": 549,
   "metadata": {},
   "outputs": [
    {
     "output_type": "execute_result",
     "data": {
      "text/plain": [
       "   Pclass                                               Name     Sex   Age  \\\n",
       "0       3                            Braund, Mr. Owen Harris    male  22.0   \n",
       "1       1  Cumings, Mrs. John Bradley (Florence Briggs Th...  female  38.0   \n",
       "2       3                             Heikkinen, Miss. Laina  female  26.0   \n",
       "3       1       Futrelle, Mrs. Jacques Heath (Lily May Peel)  female  35.0   \n",
       "4       3                           Allen, Mr. William Henry    male  35.0   \n",
       "\n",
       "   SibSp  Parch            Ticket     Fare Cabin Embarked  Title  \n",
       "0      1      0         A/5 21171   7.2500   NaN        S      1  \n",
       "1      1      0          PC 17599  71.2833   C85        C      2  \n",
       "2      0      0  STON/O2. 3101282   7.9250   NaN        S      4  \n",
       "3      1      0            113803  53.1000  C123        S      2  \n",
       "4      0      0            373450   8.0500   NaN        S      1  "
      ],
      "text/html": "<div>\n<style scoped>\n    .dataframe tbody tr th:only-of-type {\n        vertical-align: middle;\n    }\n\n    .dataframe tbody tr th {\n        vertical-align: top;\n    }\n\n    .dataframe thead th {\n        text-align: right;\n    }\n</style>\n<table border=\"1\" class=\"dataframe\">\n  <thead>\n    <tr style=\"text-align: right;\">\n      <th></th>\n      <th>Pclass</th>\n      <th>Name</th>\n      <th>Sex</th>\n      <th>Age</th>\n      <th>SibSp</th>\n      <th>Parch</th>\n      <th>Ticket</th>\n      <th>Fare</th>\n      <th>Cabin</th>\n      <th>Embarked</th>\n      <th>Title</th>\n    </tr>\n  </thead>\n  <tbody>\n    <tr>\n      <th>0</th>\n      <td>3</td>\n      <td>Braund, Mr. Owen Harris</td>\n      <td>male</td>\n      <td>22.0</td>\n      <td>1</td>\n      <td>0</td>\n      <td>A/5 21171</td>\n      <td>7.2500</td>\n      <td>NaN</td>\n      <td>S</td>\n      <td>1</td>\n    </tr>\n    <tr>\n      <th>1</th>\n      <td>1</td>\n      <td>Cumings, Mrs. John Bradley (Florence Briggs Th...</td>\n      <td>female</td>\n      <td>38.0</td>\n      <td>1</td>\n      <td>0</td>\n      <td>PC 17599</td>\n      <td>71.2833</td>\n      <td>C85</td>\n      <td>C</td>\n      <td>2</td>\n    </tr>\n    <tr>\n      <th>2</th>\n      <td>3</td>\n      <td>Heikkinen, Miss. Laina</td>\n      <td>female</td>\n      <td>26.0</td>\n      <td>0</td>\n      <td>0</td>\n      <td>STON/O2. 3101282</td>\n      <td>7.9250</td>\n      <td>NaN</td>\n      <td>S</td>\n      <td>4</td>\n    </tr>\n    <tr>\n      <th>3</th>\n      <td>1</td>\n      <td>Futrelle, Mrs. Jacques Heath (Lily May Peel)</td>\n      <td>female</td>\n      <td>35.0</td>\n      <td>1</td>\n      <td>0</td>\n      <td>113803</td>\n      <td>53.1000</td>\n      <td>C123</td>\n      <td>S</td>\n      <td>2</td>\n    </tr>\n    <tr>\n      <th>4</th>\n      <td>3</td>\n      <td>Allen, Mr. William Henry</td>\n      <td>male</td>\n      <td>35.0</td>\n      <td>0</td>\n      <td>0</td>\n      <td>373450</td>\n      <td>8.0500</td>\n      <td>NaN</td>\n      <td>S</td>\n      <td>1</td>\n    </tr>\n  </tbody>\n</table>\n</div>"
     },
     "metadata": {},
     "execution_count": 549
    }
   ],
   "source": [
    "title_mapping = {\"Mr\": 1, \"Miss\": 4, \"Mrs\": 2, \"Master\": 3, \"Rare\": 0}\n",
    "\n",
    "all_df['Title'] = all_df['Title'].map(title_mapping)\n",
    "all_df['Title'] = all_df['Title'].fillna(0)\n",
    "\n",
    "all_df.head()"
   ]
  },
  {
   "cell_type": "code",
   "execution_count": 550,
   "metadata": {},
   "outputs": [],
   "source": [
    "arr = all_df.pivot_table(index=['Ticket'], aggfunc='size')\n",
    "for x in arr.index:\n",
    "     all_df.loc[ all_df['Ticket'] == x, 'Mu1'] = arr.get(x)\n",
    "    \n",
    "all_df = all_df.drop(['Ticket'], axis=1)\n",
    "# all_df.head()"
   ]
  },
  {
   "cell_type": "code",
   "execution_count": 551,
   "metadata": {},
   "outputs": [],
   "source": [
    "all_df = all_df.drop(['Name'], axis=1)"
   ]
  },
  {
   "cell_type": "code",
   "execution_count": 552,
   "metadata": {},
   "outputs": [
    {
     "output_type": "execute_result",
     "data": {
      "text/plain": [
       "   Pclass  Sex   Age  SibSp  Parch     Fare Cabin Embarked  Title  Mu1\n",
       "0       3    0  22.0      1      0   7.2500   NaN        S      1  1.0\n",
       "1       1    1  38.0      1      0  71.2833   C85        C      2  2.0\n",
       "2       3    1  26.0      0      0   7.9250   NaN        S      4  1.0\n",
       "3       1    1  35.0      1      0  53.1000  C123        S      2  2.0\n",
       "4       3    0  35.0      0      0   8.0500   NaN        S      1  1.0"
      ],
      "text/html": "<div>\n<style scoped>\n    .dataframe tbody tr th:only-of-type {\n        vertical-align: middle;\n    }\n\n    .dataframe tbody tr th {\n        vertical-align: top;\n    }\n\n    .dataframe thead th {\n        text-align: right;\n    }\n</style>\n<table border=\"1\" class=\"dataframe\">\n  <thead>\n    <tr style=\"text-align: right;\">\n      <th></th>\n      <th>Pclass</th>\n      <th>Sex</th>\n      <th>Age</th>\n      <th>SibSp</th>\n      <th>Parch</th>\n      <th>Fare</th>\n      <th>Cabin</th>\n      <th>Embarked</th>\n      <th>Title</th>\n      <th>Mu1</th>\n    </tr>\n  </thead>\n  <tbody>\n    <tr>\n      <th>0</th>\n      <td>3</td>\n      <td>0</td>\n      <td>22.0</td>\n      <td>1</td>\n      <td>0</td>\n      <td>7.2500</td>\n      <td>NaN</td>\n      <td>S</td>\n      <td>1</td>\n      <td>1.0</td>\n    </tr>\n    <tr>\n      <th>1</th>\n      <td>1</td>\n      <td>1</td>\n      <td>38.0</td>\n      <td>1</td>\n      <td>0</td>\n      <td>71.2833</td>\n      <td>C85</td>\n      <td>C</td>\n      <td>2</td>\n      <td>2.0</td>\n    </tr>\n    <tr>\n      <th>2</th>\n      <td>3</td>\n      <td>1</td>\n      <td>26.0</td>\n      <td>0</td>\n      <td>0</td>\n      <td>7.9250</td>\n      <td>NaN</td>\n      <td>S</td>\n      <td>4</td>\n      <td>1.0</td>\n    </tr>\n    <tr>\n      <th>3</th>\n      <td>1</td>\n      <td>1</td>\n      <td>35.0</td>\n      <td>1</td>\n      <td>0</td>\n      <td>53.1000</td>\n      <td>C123</td>\n      <td>S</td>\n      <td>2</td>\n      <td>2.0</td>\n    </tr>\n    <tr>\n      <th>4</th>\n      <td>3</td>\n      <td>0</td>\n      <td>35.0</td>\n      <td>0</td>\n      <td>0</td>\n      <td>8.0500</td>\n      <td>NaN</td>\n      <td>S</td>\n      <td>1</td>\n      <td>1.0</td>\n    </tr>\n  </tbody>\n</table>\n</div>"
     },
     "metadata": {},
     "execution_count": 552
    }
   ],
   "source": [
    "all_df['Sex'] = all_df['Sex'].map( {'female': 1, 'male': 0} ).astype(int)\n",
    "all_df.head()"
   ]
  },
  {
   "source": [
    "## Completing a numerical continuous feature¶\n"
   ],
   "cell_type": "markdown",
   "metadata": {}
  },
  {
   "cell_type": "code",
   "execution_count": 553,
   "metadata": {},
   "outputs": [],
   "source": [
    "# grid = sns.FacetGrid(train_df, row='Title', col='Sex', size=2.2, aspect=1.6)\n",
    "# grid.map(plt.hist, 'Age', alpha=.5, bins=20)\n",
    "# grid.add_legend()"
   ]
  },
  {
   "cell_type": "code",
   "execution_count": 554,
   "metadata": {},
   "outputs": [
    {
     "output_type": "execute_result",
     "data": {
      "text/plain": [
       "array([[0., 0., 0., 0., 0.],\n",
       "       [0., 0., 0., 0., 0.]])"
      ]
     },
     "metadata": {},
     "execution_count": 554
    }
   ],
   "source": [
    "guess_ages = np.zeros((2,5))\n",
    "guess_ages"
   ]
  },
  {
   "cell_type": "code",
   "execution_count": 555,
   "metadata": {},
   "outputs": [
    {
     "output_type": "execute_result",
     "data": {
      "text/plain": [
       "   Pclass  Sex  Age  SibSp  Parch     Fare Cabin Embarked  Title  Mu1\n",
       "0       3    0   22      1      0   7.2500   NaN        S      1  1.0\n",
       "1       1    1   38      1      0  71.2833   C85        C      2  2.0\n",
       "2       3    1   26      0      0   7.9250   NaN        S      4  1.0\n",
       "3       1    1   35      1      0  53.1000  C123        S      2  2.0\n",
       "4       3    0   35      0      0   8.0500   NaN        S      1  1.0"
      ],
      "text/html": "<div>\n<style scoped>\n    .dataframe tbody tr th:only-of-type {\n        vertical-align: middle;\n    }\n\n    .dataframe tbody tr th {\n        vertical-align: top;\n    }\n\n    .dataframe thead th {\n        text-align: right;\n    }\n</style>\n<table border=\"1\" class=\"dataframe\">\n  <thead>\n    <tr style=\"text-align: right;\">\n      <th></th>\n      <th>Pclass</th>\n      <th>Sex</th>\n      <th>Age</th>\n      <th>SibSp</th>\n      <th>Parch</th>\n      <th>Fare</th>\n      <th>Cabin</th>\n      <th>Embarked</th>\n      <th>Title</th>\n      <th>Mu1</th>\n    </tr>\n  </thead>\n  <tbody>\n    <tr>\n      <th>0</th>\n      <td>3</td>\n      <td>0</td>\n      <td>22</td>\n      <td>1</td>\n      <td>0</td>\n      <td>7.2500</td>\n      <td>NaN</td>\n      <td>S</td>\n      <td>1</td>\n      <td>1.0</td>\n    </tr>\n    <tr>\n      <th>1</th>\n      <td>1</td>\n      <td>1</td>\n      <td>38</td>\n      <td>1</td>\n      <td>0</td>\n      <td>71.2833</td>\n      <td>C85</td>\n      <td>C</td>\n      <td>2</td>\n      <td>2.0</td>\n    </tr>\n    <tr>\n      <th>2</th>\n      <td>3</td>\n      <td>1</td>\n      <td>26</td>\n      <td>0</td>\n      <td>0</td>\n      <td>7.9250</td>\n      <td>NaN</td>\n      <td>S</td>\n      <td>4</td>\n      <td>1.0</td>\n    </tr>\n    <tr>\n      <th>3</th>\n      <td>1</td>\n      <td>1</td>\n      <td>35</td>\n      <td>1</td>\n      <td>0</td>\n      <td>53.1000</td>\n      <td>C123</td>\n      <td>S</td>\n      <td>2</td>\n      <td>2.0</td>\n    </tr>\n    <tr>\n      <th>4</th>\n      <td>3</td>\n      <td>0</td>\n      <td>35</td>\n      <td>0</td>\n      <td>0</td>\n      <td>8.0500</td>\n      <td>NaN</td>\n      <td>S</td>\n      <td>1</td>\n      <td>1.0</td>\n    </tr>\n  </tbody>\n</table>\n</div>"
     },
     "metadata": {},
     "execution_count": 555
    }
   ],
   "source": [
    "\n",
    "for i in range(0,2):\n",
    "    for j in range(0,5):\n",
    "        guss_df = all_df[(all_df['Sex'] == i) & (all_df['Title'] == j )]['Age'].dropna()\n",
    "        guss_age = guss_df.median()\n",
    "        if guss_age != guss_age:\n",
    "            guss_age = -5 #dataset[(dataset['Sex'] == i)]['Age'].dropna().median()\n",
    "        guess_ages[i,j] = int(guss_age/0.5 + 0.5) * 0.5\n",
    "for i in range(0,2):\n",
    "    for j in range(0,5):\n",
    "        all_df.loc[(all_df.Age.isnull()) & (all_df.Sex == i ) & ( all_df.Title == j), 'Age'] = guess_ages[i,j]\n",
    "\n",
    "# all_df.loc[(all_df.Age.isnull()), 'Age'] = all_df[(all_df['Sex'] == i)]['Age'].dropna().median()           \n",
    "all_df['Age'] = all_df['Age'].astype(int)\n",
    "all_df.head()"
   ]
  },
  {
   "cell_type": "code",
   "execution_count": 556,
   "metadata": {},
   "outputs": [],
   "source": [
    "all_df.loc[ (all_df['Title'] == 0) & (all_df['Age'] <= 18)& (all_df['Sex'] <= 0), 'Title'] = 3\n",
    "all_df.loc[ (all_df['Title'] == 0) & (all_df['Age'] <= 18)& (all_df['Sex'] <= 1), 'Title'] = 4\n",
    "all_df.loc[ (all_df['Title'] == 0) & (all_df['Age'] > 18)& (all_df['Sex'] <= 1), 'Title'] = 2\n",
    "all_df.loc[ (all_df['Title'] == 0) & (all_df['Age'] > 18)& (all_df['Sex'] <= 0), 'Title'] = 1\n",
    "\n",
    "# all_df.head()"
   ]
  },
  {
   "cell_type": "code",
   "execution_count": 557,
   "metadata": {},
   "outputs": [],
   "source": [
    "cabin_category = {'A':9, 'B':8, 'C':7, 'D':6, 'E':5, 'F':4, 'G':3, 'T':2}\n",
    "\n",
    "# all_df['Cabin'] = all_df['Cabin'].fillna('U')\n",
    "all_df['Cabin'] = all_df['Cabin'].replace('([0-9]+)', '',regex=True).str.slice(0, 1)\n",
    "all_df['Cabin'] = all_df['Cabin'].map(cabin_category)\n",
    "    \n",
    "# all_df = all_df.drop(['Cabin'], axis=1)"
   ]
  },
  {
   "cell_type": "code",
   "execution_count": 558,
   "metadata": {},
   "outputs": [],
   "source": [
    "freq_port = train_df.Embarked.dropna().mode()[0]\n",
    "all_df['Embarked'] = all_df['Embarked'].fillna(freq_port)\n",
    "all_df['Embarked'] = all_df['Embarked'].map( {'S': 0, 'C': 2, 'Q': 1} ).astype(int)\n",
    "\n",
    "all_df['Pclass'] = all_df['Pclass'].fillna(freq_port)\n",
    "all_df['Pclass'] = all_df['Pclass'].map( {3: 0, 2: 1, 1: 2} ).astype(int)"
   ]
  },
  {
   "cell_type": "code",
   "execution_count": 559,
   "metadata": {},
   "outputs": [],
   "source": [
    "guess_cabins = np.zeros((3,3))\n",
    "for i in range(0,3):\n",
    "    for j in range(0,3):\n",
    "        guess_df = all_df[(all_df['Pclass'] == i) & (all_df['Embarked'] == j)]['Cabin'].dropna()\n",
    "        guess_cabin = guess_df.median()\n",
    "        # if guss_age != guss_age:\n",
    "        #     guss_age = -5 #dataset[(dataset['Sex'] == i)]['Age'].dropna().median()\n",
    "        guess_cabins[i,j] = int(guess_cabin/0.5 + 0.5) * 0.5\n",
    "for i in range(0,3):\n",
    "    for j in range(0,3):\n",
    "        all_df.loc[(all_df.Cabin.isnull()) & (all_df.Pclass == i ) & ( all_df.Embarked == j), 'Cabin'] = guess_cabins[i,j]"
   ]
  },
  {
   "cell_type": "code",
   "execution_count": 560,
   "metadata": {},
   "outputs": [],
   "source": [
    "# train_df['AgeBand'] = pd.cut(train_df['Age'], 5)\n",
    "# train_df[['AgeBand', 'Survived']].groupby(['AgeBand'], as_index=False).mean().sort_values(by='AgeBand', ascending=True)"
   ]
  },
  {
   "cell_type": "code",
   "execution_count": 561,
   "metadata": {},
   "outputs": [],
   "source": [
    "# for dataset in combine:    \n",
    "#     dataset.loc[ dataset['Age'] <= 16, 'Age'] = 4\n",
    "#     dataset.loc[(dataset['Age'] > 16) & (dataset['Age'] <= 32), 'Age'] = 3\n",
    "#     dataset.loc[(dataset['Age'] > 32) & (dataset['Age'] <= 48), 'Age'] = 2\n",
    "#     dataset.loc[(dataset['Age'] > 48) & (dataset['Age'] <= 64), 'Age'] = 1\n",
    "#     dataset.loc[ dataset['Age'] > 64, 'Age'] = 0\n",
    "# train_df.head()"
   ]
  },
  {
   "cell_type": "code",
   "execution_count": 562,
   "metadata": {},
   "outputs": [],
   "source": [
    "# train_df = train_df.drop(['AgeBand'], axis=1)\n",
    "# combine = [train_df, test_df]\n",
    "# train_df.head()"
   ]
  },
  {
   "cell_type": "code",
   "execution_count": 563,
   "metadata": {},
   "outputs": [],
   "source": [
    "all_df['FamilySize'] = all_df['SibSp'] + all_df['Parch'] + 1\n",
    "\n",
    "# train_df[['FamilySize', 'Survived']].groupby(['FamilySize'], as_index=False).mean().sort_values(by='Survived', ascending=False)"
   ]
  },
  {
   "cell_type": "code",
   "execution_count": 564,
   "metadata": {},
   "outputs": [
    {
     "output_type": "execute_result",
     "data": {
      "text/plain": [
       "<matplotlib.axes._subplots.AxesSubplot at 0x7fb41644dcd0>"
      ]
     },
     "metadata": {},
     "execution_count": 564
    },
    {
     "output_type": "display_data",
     "data": {
      "text/plain": "<Figure size 432x288 with 2 Axes>",
      "image/svg+xml": "<?xml version=\"1.0\" encoding=\"utf-8\" standalone=\"no\"?>\n<!DOCTYPE svg PUBLIC \"-//W3C//DTD SVG 1.1//EN\"\n  \"http://www.w3.org/Graphics/SVG/1.1/DTD/svg11.dtd\">\n<!-- Created with matplotlib (https://matplotlib.org/) -->\n<svg height=\"309.926719pt\" version=\"1.1\" viewBox=\"0 0 407.042625 309.926719\" width=\"407.042625pt\" xmlns=\"http://www.w3.org/2000/svg\" xmlns:xlink=\"http://www.w3.org/1999/xlink\">\n <defs>\n  <style type=\"text/css\">\n*{stroke-linecap:butt;stroke-linejoin:round;}\n  </style>\n </defs>\n <g id=\"figure_1\">\n  <g id=\"patch_1\">\n   <path d=\"M 0 309.926719 \nL 407.042625 309.926719 \nL 407.042625 0 \nL 0 0 \nz\n\" style=\"fill:none;\"/>\n  </g>\n  <g id=\"axes_1\">\n   <g id=\"patch_2\">\n    <path d=\"M 81.4875 228.439219 \nL 349.3275 228.439219 \nL 349.3275 10.999219 \nL 81.4875 10.999219 \nz\n\" style=\"fill:#ffffff;\"/>\n   </g>\n   <g id=\"QuadMesh_1\">\n    <path clip-path=\"url(#p9719650d04)\" d=\"M 81.4875 10.999219 \nL 105.836591 10.999219 \nL 105.836591 30.766491 \nL 81.4875 30.766491 \nL 81.4875 10.999219 \n\" style=\"fill:#ffd4ac;stroke:#ffffff;stroke-width:0.75;\"/>\n    <path clip-path=\"url(#p9719650d04)\" d=\"M 105.836591 10.999219 \nL 130.185682 10.999219 \nL 130.185682 30.766491 \nL 105.836591 30.766491 \nL 105.836591 10.999219 \n\" style=\"fill:#afddd7;stroke:#ffffff;stroke-width:0.75;\"/>\n    <path clip-path=\"url(#p9719650d04)\" d=\"M 130.185682 10.999219 \nL 154.534773 10.999219 \nL 154.534773 30.766491 \nL 130.185682 30.766491 \nL 130.185682 10.999219 \n\" style=\"fill:#bde7db;stroke:#ffffff;stroke-width:0.75;\"/>\n    <path clip-path=\"url(#p9719650d04)\" d=\"M 154.534773 10.999219 \nL 178.883864 10.999219 \nL 178.883864 30.766491 \nL 154.534773 30.766491 \nL 154.534773 10.999219 \n\" style=\"fill:#bde7db;stroke:#ffffff;stroke-width:0.75;\"/>\n    <path clip-path=\"url(#p9719650d04)\" d=\"M 178.883864 10.999219 \nL 203.232955 10.999219 \nL 203.232955 30.766491 \nL 178.883864 30.766491 \nL 178.883864 10.999219 \n\" style=\"fill:#bde7db;stroke:#ffffff;stroke-width:0.75;\"/>\n    <path clip-path=\"url(#p9719650d04)\" d=\"M 203.232955 10.999219 \nL 227.582045 10.999219 \nL 227.582045 30.766491 \nL 203.232955 30.766491 \nL 203.232955 10.999219 \n\" style=\"fill:#bde7db;stroke:#ffffff;stroke-width:0.75;\"/>\n    <path clip-path=\"url(#p9719650d04)\" d=\"M 227.582045 10.999219 \nL 251.931136 10.999219 \nL 251.931136 30.766491 \nL 227.582045 30.766491 \nL 227.582045 10.999219 \n\" style=\"fill:#bde7db;stroke:#ffffff;stroke-width:0.75;\"/>\n    <path clip-path=\"url(#p9719650d04)\" d=\"M 251.931136 10.999219 \nL 276.280227 10.999219 \nL 276.280227 30.766491 \nL 251.931136 30.766491 \nL 251.931136 10.999219 \n\" style=\"fill:#a1d3d4;stroke:#ffffff;stroke-width:0.75;\"/>\n    <path clip-path=\"url(#p9719650d04)\" d=\"M 276.280227 10.999219 \nL 300.629318 10.999219 \nL 300.629318 30.766491 \nL 276.280227 30.766491 \nL 276.280227 10.999219 \n\" style=\"fill:#bde7db;stroke:#ffffff;stroke-width:0.75;\"/>\n    <path clip-path=\"url(#p9719650d04)\" d=\"M 300.629318 10.999219 \nL 324.978409 10.999219 \nL 324.978409 30.766491 \nL 300.629318 30.766491 \nL 300.629318 10.999219 \n\" style=\"fill:#afddd7;stroke:#ffffff;stroke-width:0.75;\"/>\n    <path clip-path=\"url(#p9719650d04)\" d=\"M 324.978409 10.999219 \nL 349.3275 10.999219 \nL 349.3275 30.766491 \nL 324.978409 30.766491 \nL 324.978409 10.999219 \n\" style=\"fill:#58a5cd;stroke:#ffffff;stroke-width:0.75;\"/>\n    <path clip-path=\"url(#p9719650d04)\" d=\"M 81.4875 30.766491 \nL 105.836591 30.766491 \nL 105.836591 50.533764 \nL 81.4875 50.533764 \nL 81.4875 30.766491 \n\" style=\"fill:#bde7db;stroke:#ffffff;stroke-width:0.75;\"/>\n    <path clip-path=\"url(#p9719650d04)\" d=\"M 105.836591 30.766491 \nL 130.185682 30.766491 \nL 130.185682 50.533764 \nL 105.836591 50.533764 \nL 105.836591 30.766491 \n\" style=\"fill:#ffd4ac;stroke:#ffffff;stroke-width:0.75;\"/>\n    <path clip-path=\"url(#p9719650d04)\" d=\"M 130.185682 30.766491 \nL 154.534773 30.766491 \nL 154.534773 50.533764 \nL 130.185682 50.533764 \nL 130.185682 30.766491 \n\" style=\"fill:#bde7db;stroke:#ffffff;stroke-width:0.75;\"/>\n    <path clip-path=\"url(#p9719650d04)\" d=\"M 154.534773 30.766491 \nL 178.883864 30.766491 \nL 178.883864 50.533764 \nL 154.534773 50.533764 \nL 154.534773 30.766491 \n\" style=\"fill:#bde7db;stroke:#ffffff;stroke-width:0.75;\"/>\n    <path clip-path=\"url(#p9719650d04)\" d=\"M 178.883864 30.766491 \nL 203.232955 30.766491 \nL 203.232955 50.533764 \nL 178.883864 50.533764 \nL 178.883864 30.766491 \n\" style=\"fill:#a22f44;stroke:#ffffff;stroke-width:0.75;\"/>\n    <path clip-path=\"url(#p9719650d04)\" d=\"M 203.232955 30.766491 \nL 227.582045 30.766491 \nL 227.582045 50.533764 \nL 203.232955 50.533764 \nL 203.232955 30.766491 \n\" style=\"fill:#bde7db;stroke:#ffffff;stroke-width:0.75;\"/>\n    <path clip-path=\"url(#p9719650d04)\" d=\"M 227.582045 30.766491 \nL 251.931136 30.766491 \nL 251.931136 50.533764 \nL 227.582045 50.533764 \nL 227.582045 30.766491 \n\" style=\"fill:#bde7db;stroke:#ffffff;stroke-width:0.75;\"/>\n    <path clip-path=\"url(#p9719650d04)\" d=\"M 251.931136 30.766491 \nL 276.280227 30.766491 \nL 276.280227 50.533764 \nL 251.931136 50.533764 \nL 251.931136 30.766491 \n\" style=\"fill:#722c3d;stroke:#ffffff;stroke-width:0.75;\"/>\n    <path clip-path=\"url(#p9719650d04)\" d=\"M 276.280227 30.766491 \nL 300.629318 30.766491 \nL 300.629318 50.533764 \nL 276.280227 50.533764 \nL 276.280227 30.766491 \n\" style=\"fill:#bde7db;stroke:#ffffff;stroke-width:0.75;\"/>\n    <path clip-path=\"url(#p9719650d04)\" d=\"M 300.629318 30.766491 \nL 324.978409 30.766491 \nL 324.978409 50.533764 \nL 300.629318 50.533764 \nL 300.629318 30.766491 \n\" style=\"fill:#bde7db;stroke:#ffffff;stroke-width:0.75;\"/>\n    <path clip-path=\"url(#p9719650d04)\" d=\"M 324.978409 30.766491 \nL 349.3275 30.766491 \nL 349.3275 50.533764 \nL 324.978409 50.533764 \nL 324.978409 30.766491 \n\" style=\"fill:#bde7db;stroke:#ffffff;stroke-width:0.75;\"/>\n    <path clip-path=\"url(#p9719650d04)\" d=\"M 81.4875 50.533764 \nL 105.836591 50.533764 \nL 105.836591 70.301037 \nL 81.4875 70.301037 \nL 81.4875 50.533764 \n\" style=\"fill:#bde7db;stroke:#ffffff;stroke-width:0.75;\"/>\n    <path clip-path=\"url(#p9719650d04)\" d=\"M 105.836591 50.533764 \nL 130.185682 50.533764 \nL 130.185682 70.301037 \nL 105.836591 70.301037 \nL 105.836591 50.533764 \n\" style=\"fill:#bde7db;stroke:#ffffff;stroke-width:0.75;\"/>\n    <path clip-path=\"url(#p9719650d04)\" d=\"M 130.185682 50.533764 \nL 154.534773 50.533764 \nL 154.534773 70.301037 \nL 130.185682 70.301037 \nL 130.185682 50.533764 \n\" style=\"fill:#ffd4ac;stroke:#ffffff;stroke-width:0.75;\"/>\n    <path clip-path=\"url(#p9719650d04)\" d=\"M 154.534773 50.533764 \nL 178.883864 50.533764 \nL 178.883864 70.301037 \nL 154.534773 70.301037 \nL 154.534773 50.533764 \n\" style=\"fill:#bde7db;stroke:#ffffff;stroke-width:0.75;\"/>\n    <path clip-path=\"url(#p9719650d04)\" d=\"M 178.883864 50.533764 \nL 203.232955 50.533764 \nL 203.232955 70.301037 \nL 178.883864 70.301037 \nL 178.883864 50.533764 \n\" style=\"fill:#b13242;stroke:#ffffff;stroke-width:0.75;\"/>\n    <path clip-path=\"url(#p9719650d04)\" d=\"M 203.232955 50.533764 \nL 227.582045 50.533764 \nL 227.582045 70.301037 \nL 203.232955 70.301037 \nL 203.232955 50.533764 \n\" style=\"fill:#bde7db;stroke:#ffffff;stroke-width:0.75;\"/>\n    <path clip-path=\"url(#p9719650d04)\" d=\"M 227.582045 50.533764 \nL 251.931136 50.533764 \nL 251.931136 70.301037 \nL 227.582045 70.301037 \nL 227.582045 50.533764 \n\" style=\"fill:#bde7db;stroke:#ffffff;stroke-width:0.75;\"/>\n    <path clip-path=\"url(#p9719650d04)\" d=\"M 251.931136 50.533764 \nL 276.280227 50.533764 \nL 276.280227 70.301037 \nL 251.931136 70.301037 \nL 251.931136 50.533764 \n\" style=\"fill:#bde7db;stroke:#ffffff;stroke-width:0.75;\"/>\n    <path clip-path=\"url(#p9719650d04)\" d=\"M 276.280227 50.533764 \nL 300.629318 50.533764 \nL 300.629318 70.301037 \nL 276.280227 70.301037 \nL 276.280227 50.533764 \n\" style=\"fill:#bde7db;stroke:#ffffff;stroke-width:0.75;\"/>\n    <path clip-path=\"url(#p9719650d04)\" d=\"M 300.629318 50.533764 \nL 324.978409 50.533764 \nL 324.978409 70.301037 \nL 300.629318 70.301037 \nL 300.629318 50.533764 \n\" style=\"fill:#bde7db;stroke:#ffffff;stroke-width:0.75;\"/>\n    <path clip-path=\"url(#p9719650d04)\" d=\"M 324.978409 50.533764 \nL 349.3275 50.533764 \nL 349.3275 70.301037 \nL 324.978409 70.301037 \nL 324.978409 50.533764 \n\" style=\"fill:#bde7db;stroke:#ffffff;stroke-width:0.75;\"/>\n    <path clip-path=\"url(#p9719650d04)\" d=\"M 81.4875 70.301037 \nL 105.836591 70.301037 \nL 105.836591 90.06831 \nL 81.4875 90.06831 \nL 81.4875 70.301037 \n\" style=\"fill:#bde7db;stroke:#ffffff;stroke-width:0.75;\"/>\n    <path clip-path=\"url(#p9719650d04)\" d=\"M 105.836591 70.301037 \nL 130.185682 70.301037 \nL 130.185682 90.06831 \nL 105.836591 90.06831 \nL 105.836591 70.301037 \n\" style=\"fill:#bde7db;stroke:#ffffff;stroke-width:0.75;\"/>\n    <path clip-path=\"url(#p9719650d04)\" d=\"M 130.185682 70.301037 \nL 154.534773 70.301037 \nL 154.534773 90.06831 \nL 130.185682 90.06831 \nL 130.185682 70.301037 \n\" style=\"fill:#bde7db;stroke:#ffffff;stroke-width:0.75;\"/>\n    <path clip-path=\"url(#p9719650d04)\" d=\"M 154.534773 70.301037 \nL 178.883864 70.301037 \nL 178.883864 90.06831 \nL 154.534773 90.06831 \nL 154.534773 70.301037 \n\" style=\"fill:#ffd4ac;stroke:#ffffff;stroke-width:0.75;\"/>\n    <path clip-path=\"url(#p9719650d04)\" d=\"M 178.883864 70.301037 \nL 203.232955 70.301037 \nL 203.232955 90.06831 \nL 178.883864 90.06831 \nL 178.883864 70.301037 \n\" style=\"fill:#522731;stroke:#ffffff;stroke-width:0.75;\"/>\n    <path clip-path=\"url(#p9719650d04)\" d=\"M 203.232955 70.301037 \nL 227.582045 70.301037 \nL 227.582045 90.06831 \nL 203.232955 90.06831 \nL 203.232955 70.301037 \n\" style=\"fill:#23222d;stroke:#ffffff;stroke-width:0.75;\"/>\n    <path clip-path=\"url(#p9719650d04)\" d=\"M 227.582045 70.301037 \nL 251.931136 70.301037 \nL 251.931136 90.06831 \nL 227.582045 90.06831 \nL 227.582045 70.301037 \n\" style=\"fill:#3c3a69;stroke:#ffffff;stroke-width:0.75;\"/>\n    <path clip-path=\"url(#p9719650d04)\" d=\"M 251.931136 70.301037 \nL 276.280227 70.301037 \nL 276.280227 90.06831 \nL 251.931136 90.06831 \nL 251.931136 70.301037 \n\" style=\"fill:#bde7db;stroke:#ffffff;stroke-width:0.75;\"/>\n    <path clip-path=\"url(#p9719650d04)\" d=\"M 276.280227 70.301037 \nL 300.629318 70.301037 \nL 300.629318 90.06831 \nL 276.280227 90.06831 \nL 276.280227 70.301037 \n\" style=\"fill:#bde7db;stroke:#ffffff;stroke-width:0.75;\"/>\n    <path clip-path=\"url(#p9719650d04)\" d=\"M 300.629318 70.301037 \nL 324.978409 70.301037 \nL 324.978409 90.06831 \nL 300.629318 90.06831 \nL 300.629318 70.301037 \n\" style=\"fill:#1f1f23;stroke:#ffffff;stroke-width:0.75;\"/>\n    <path clip-path=\"url(#p9719650d04)\" d=\"M 324.978409 70.301037 \nL 349.3275 70.301037 \nL 349.3275 90.06831 \nL 324.978409 90.06831 \nL 324.978409 70.301037 \n\" style=\"fill:#bde7db;stroke:#ffffff;stroke-width:0.75;\"/>\n    <path clip-path=\"url(#p9719650d04)\" d=\"M 81.4875 90.06831 \nL 105.836591 90.06831 \nL 105.836591 109.835582 \nL 81.4875 109.835582 \nL 81.4875 90.06831 \n\" style=\"fill:#bde7db;stroke:#ffffff;stroke-width:0.75;\"/>\n    <path clip-path=\"url(#p9719650d04)\" d=\"M 105.836591 90.06831 \nL 130.185682 90.06831 \nL 130.185682 109.835582 \nL 105.836591 109.835582 \nL 105.836591 90.06831 \n\" style=\"fill:#4c9ccd;stroke:#ffffff;stroke-width:0.75;\"/>\n    <path clip-path=\"url(#p9719650d04)\" d=\"M 130.185682 90.06831 \nL 154.534773 90.06831 \nL 154.534773 109.835582 \nL 130.185682 109.835582 \nL 130.185682 90.06831 \n\" style=\"fill:#bde7db;stroke:#ffffff;stroke-width:0.75;\"/>\n    <path clip-path=\"url(#p9719650d04)\" d=\"M 154.534773 90.06831 \nL 178.883864 90.06831 \nL 178.883864 109.835582 \nL 154.534773 109.835582 \nL 154.534773 90.06831 \n\" style=\"fill:#bde7db;stroke:#ffffff;stroke-width:0.75;\"/>\n    <path clip-path=\"url(#p9719650d04)\" d=\"M 178.883864 90.06831 \nL 203.232955 90.06831 \nL 203.232955 109.835582 \nL 178.883864 109.835582 \nL 178.883864 90.06831 \n\" style=\"fill:#ffd4ac;stroke:#ffffff;stroke-width:0.75;\"/>\n    <path clip-path=\"url(#p9719650d04)\" d=\"M 203.232955 90.06831 \nL 227.582045 90.06831 \nL 227.582045 109.835582 \nL 203.232955 109.835582 \nL 203.232955 90.06831 \n\" style=\"fill:#75b8ce;stroke:#ffffff;stroke-width:0.75;\"/>\n    <path clip-path=\"url(#p9719650d04)\" d=\"M 227.582045 90.06831 \nL 251.931136 90.06831 \nL 251.931136 109.835582 \nL 227.582045 109.835582 \nL 227.582045 90.06831 \n\" style=\"fill:#bde7db;stroke:#ffffff;stroke-width:0.75;\"/>\n    <path clip-path=\"url(#p9719650d04)\" d=\"M 251.931136 90.06831 \nL 276.280227 90.06831 \nL 276.280227 109.835582 \nL 251.931136 109.835582 \nL 251.931136 90.06831 \n\" style=\"fill:#3c8ccf;stroke:#ffffff;stroke-width:0.75;\"/>\n    <path clip-path=\"url(#p9719650d04)\" d=\"M 276.280227 90.06831 \nL 300.629318 90.06831 \nL 300.629318 109.835582 \nL 276.280227 109.835582 \nL 276.280227 90.06831 \n\" style=\"fill:#bde7db;stroke:#ffffff;stroke-width:0.75;\"/>\n    <path clip-path=\"url(#p9719650d04)\" d=\"M 300.629318 90.06831 \nL 324.978409 90.06831 \nL 324.978409 109.835582 \nL 300.629318 109.835582 \nL 300.629318 90.06831 \n\" style=\"fill:#bde7db;stroke:#ffffff;stroke-width:0.75;\"/>\n    <path clip-path=\"url(#p9719650d04)\" d=\"M 324.978409 90.06831 \nL 349.3275 90.06831 \nL 349.3275 109.835582 \nL 324.978409 109.835582 \nL 324.978409 90.06831 \n\" style=\"fill:#bde7db;stroke:#ffffff;stroke-width:0.75;\"/>\n    <path clip-path=\"url(#p9719650d04)\" d=\"M 81.4875 109.835582 \nL 105.836591 109.835582 \nL 105.836591 129.602855 \nL 81.4875 129.602855 \nL 81.4875 109.835582 \n\" style=\"fill:#bde7db;stroke:#ffffff;stroke-width:0.75;\"/>\n    <path clip-path=\"url(#p9719650d04)\" d=\"M 105.836591 109.835582 \nL 130.185682 109.835582 \nL 130.185682 129.602855 \nL 105.836591 129.602855 \nL 105.836591 109.835582 \n\" style=\"fill:#bde7db;stroke:#ffffff;stroke-width:0.75;\"/>\n    <path clip-path=\"url(#p9719650d04)\" d=\"M 130.185682 109.835582 \nL 154.534773 109.835582 \nL 154.534773 129.602855 \nL 130.185682 129.602855 \nL 130.185682 109.835582 \n\" style=\"fill:#bde7db;stroke:#ffffff;stroke-width:0.75;\"/>\n    <path clip-path=\"url(#p9719650d04)\" d=\"M 154.534773 109.835582 \nL 178.883864 109.835582 \nL 178.883864 129.602855 \nL 154.534773 129.602855 \nL 154.534773 109.835582 \n\" style=\"fill:#222129;stroke:#ffffff;stroke-width:0.75;\"/>\n    <path clip-path=\"url(#p9719650d04)\" d=\"M 178.883864 109.835582 \nL 203.232955 109.835582 \nL 203.232955 129.602855 \nL 178.883864 129.602855 \nL 178.883864 109.835582 \n\" style=\"fill:#f18f51;stroke:#ffffff;stroke-width:0.75;\"/>\n    <path clip-path=\"url(#p9719650d04)\" d=\"M 203.232955 109.835582 \nL 227.582045 109.835582 \nL 227.582045 129.602855 \nL 203.232955 129.602855 \nL 203.232955 109.835582 \n\" style=\"fill:#ffd4ac;stroke:#ffffff;stroke-width:0.75;\"/>\n    <path clip-path=\"url(#p9719650d04)\" d=\"M 227.582045 109.835582 \nL 251.931136 109.835582 \nL 251.931136 129.602855 \nL 227.582045 129.602855 \nL 227.582045 109.835582 \n\" style=\"fill:#3885d0;stroke:#ffffff;stroke-width:0.75;\"/>\n    <path clip-path=\"url(#p9719650d04)\" d=\"M 251.931136 109.835582 \nL 276.280227 109.835582 \nL 276.280227 129.602855 \nL 251.931136 129.602855 \nL 251.931136 109.835582 \n\" style=\"fill:#bde7db;stroke:#ffffff;stroke-width:0.75;\"/>\n    <path clip-path=\"url(#p9719650d04)\" d=\"M 276.280227 109.835582 \nL 300.629318 109.835582 \nL 300.629318 129.602855 \nL 276.280227 129.602855 \nL 276.280227 109.835582 \n\" style=\"fill:#bde7db;stroke:#ffffff;stroke-width:0.75;\"/>\n    <path clip-path=\"url(#p9719650d04)\" d=\"M 300.629318 109.835582 \nL 324.978409 109.835582 \nL 324.978409 129.602855 \nL 300.629318 129.602855 \nL 300.629318 109.835582 \n\" style=\"fill:#3885d0;stroke:#ffffff;stroke-width:0.75;\"/>\n    <path clip-path=\"url(#p9719650d04)\" d=\"M 324.978409 109.835582 \nL 349.3275 109.835582 \nL 349.3275 129.602855 \nL 324.978409 129.602855 \nL 324.978409 109.835582 \n\" style=\"fill:#bde7db;stroke:#ffffff;stroke-width:0.75;\"/>\n    <path clip-path=\"url(#p9719650d04)\" d=\"M 81.4875 129.602855 \nL 105.836591 129.602855 \nL 105.836591 149.370128 \nL 81.4875 149.370128 \nL 81.4875 129.602855 \n\" style=\"fill:#bde7db;stroke:#ffffff;stroke-width:0.75;\"/>\n    <path clip-path=\"url(#p9719650d04)\" d=\"M 105.836591 129.602855 \nL 130.185682 129.602855 \nL 130.185682 149.370128 \nL 105.836591 149.370128 \nL 105.836591 129.602855 \n\" style=\"fill:#bde7db;stroke:#ffffff;stroke-width:0.75;\"/>\n    <path clip-path=\"url(#p9719650d04)\" d=\"M 130.185682 129.602855 \nL 154.534773 129.602855 \nL 154.534773 149.370128 \nL 130.185682 149.370128 \nL 130.185682 129.602855 \n\" style=\"fill:#bde7db;stroke:#ffffff;stroke-width:0.75;\"/>\n    <path clip-path=\"url(#p9719650d04)\" d=\"M 154.534773 129.602855 \nL 178.883864 129.602855 \nL 178.883864 149.370128 \nL 154.534773 149.370128 \nL 154.534773 129.602855 \n\" style=\"fill:#252532;stroke:#ffffff;stroke-width:0.75;\"/>\n    <path clip-path=\"url(#p9719650d04)\" d=\"M 178.883864 129.602855 \nL 203.232955 129.602855 \nL 203.232955 149.370128 \nL 178.883864 149.370128 \nL 178.883864 129.602855 \n\" style=\"fill:#475cbc;stroke:#ffffff;stroke-width:0.75;\"/>\n    <path clip-path=\"url(#p9719650d04)\" d=\"M 203.232955 129.602855 \nL 227.582045 129.602855 \nL 227.582045 149.370128 \nL 203.232955 149.370128 \nL 203.232955 129.602855 \n\" style=\"fill:#50a0cd;stroke:#ffffff;stroke-width:0.75;\"/>\n    <path clip-path=\"url(#p9719650d04)\" d=\"M 227.582045 129.602855 \nL 251.931136 129.602855 \nL 251.931136 149.370128 \nL 227.582045 149.370128 \nL 227.582045 129.602855 \n\" style=\"fill:#ffd4ac;stroke:#ffffff;stroke-width:0.75;\"/>\n    <path clip-path=\"url(#p9719650d04)\" d=\"M 251.931136 129.602855 \nL 276.280227 129.602855 \nL 276.280227 149.370128 \nL 251.931136 149.370128 \nL 251.931136 129.602855 \n\" style=\"fill:#bde7db;stroke:#ffffff;stroke-width:0.75;\"/>\n    <path clip-path=\"url(#p9719650d04)\" d=\"M 276.280227 129.602855 \nL 300.629318 129.602855 \nL 300.629318 149.370128 \nL 276.280227 149.370128 \nL 276.280227 129.602855 \n\" style=\"fill:#bde7db;stroke:#ffffff;stroke-width:0.75;\"/>\n    <path clip-path=\"url(#p9719650d04)\" d=\"M 300.629318 129.602855 \nL 324.978409 129.602855 \nL 324.978409 149.370128 \nL 300.629318 149.370128 \nL 300.629318 129.602855 \n\" style=\"fill:#bde7db;stroke:#ffffff;stroke-width:0.75;\"/>\n    <path clip-path=\"url(#p9719650d04)\" d=\"M 324.978409 129.602855 \nL 349.3275 129.602855 \nL 349.3275 149.370128 \nL 324.978409 149.370128 \nL 324.978409 129.602855 \n\" style=\"fill:#bde7db;stroke:#ffffff;stroke-width:0.75;\"/>\n    <path clip-path=\"url(#p9719650d04)\" d=\"M 81.4875 149.370128 \nL 105.836591 149.370128 \nL 105.836591 169.137401 \nL 81.4875 169.137401 \nL 81.4875 149.370128 \n\" style=\"fill:#84c1cf;stroke:#ffffff;stroke-width:0.75;\"/>\n    <path clip-path=\"url(#p9719650d04)\" d=\"M 105.836591 149.370128 \nL 130.185682 149.370128 \nL 130.185682 169.137401 \nL 105.836591 169.137401 \nL 105.836591 149.370128 \n\" style=\"fill:#2f1f22;stroke:#ffffff;stroke-width:0.75;\"/>\n    <path clip-path=\"url(#p9719650d04)\" d=\"M 130.185682 149.370128 \nL 154.534773 149.370128 \nL 154.534773 169.137401 \nL 130.185682 169.137401 \nL 130.185682 149.370128 \n\" style=\"fill:#b7e3d9;stroke:#ffffff;stroke-width:0.75;\"/>\n    <path clip-path=\"url(#p9719650d04)\" d=\"M 154.534773 149.370128 \nL 178.883864 149.370128 \nL 178.883864 169.137401 \nL 154.534773 169.137401 \nL 154.534773 149.370128 \n\" style=\"fill:#bde7db;stroke:#ffffff;stroke-width:0.75;\"/>\n    <path clip-path=\"url(#p9719650d04)\" d=\"M 178.883864 149.370128 \nL 203.232955 149.370128 \nL 203.232955 169.137401 \nL 178.883864 169.137401 \nL 178.883864 149.370128 \n\" style=\"fill:#f29558;stroke:#ffffff;stroke-width:0.75;\"/>\n    <path clip-path=\"url(#p9719650d04)\" d=\"M 203.232955 149.370128 \nL 227.582045 149.370128 \nL 227.582045 169.137401 \nL 203.232955 169.137401 \nL 203.232955 149.370128 \n\" style=\"fill:#a9d9d6;stroke:#ffffff;stroke-width:0.75;\"/>\n    <path clip-path=\"url(#p9719650d04)\" d=\"M 227.582045 149.370128 \nL 251.931136 149.370128 \nL 251.931136 169.137401 \nL 227.582045 169.137401 \nL 227.582045 149.370128 \n\" style=\"fill:#bde7db;stroke:#ffffff;stroke-width:0.75;\"/>\n    <path clip-path=\"url(#p9719650d04)\" d=\"M 251.931136 149.370128 \nL 276.280227 149.370128 \nL 276.280227 169.137401 \nL 251.931136 169.137401 \nL 251.931136 149.370128 \n\" style=\"fill:#ffd4ac;stroke:#ffffff;stroke-width:0.75;\"/>\n    <path clip-path=\"url(#p9719650d04)\" d=\"M 276.280227 149.370128 \nL 300.629318 149.370128 \nL 300.629318 169.137401 \nL 276.280227 169.137401 \nL 276.280227 149.370128 \n\" style=\"fill:#bde7db;stroke:#ffffff;stroke-width:0.75;\"/>\n    <path clip-path=\"url(#p9719650d04)\" d=\"M 300.629318 149.370128 \nL 324.978409 149.370128 \nL 324.978409 169.137401 \nL 300.629318 169.137401 \nL 300.629318 149.370128 \n\" style=\"fill:#bde7db;stroke:#ffffff;stroke-width:0.75;\"/>\n    <path clip-path=\"url(#p9719650d04)\" d=\"M 324.978409 149.370128 \nL 349.3275 149.370128 \nL 349.3275 169.137401 \nL 324.978409 169.137401 \nL 324.978409 149.370128 \n\" style=\"fill:#bde7db;stroke:#ffffff;stroke-width:0.75;\"/>\n    <path clip-path=\"url(#p9719650d04)\" d=\"M 81.4875 169.137401 \nL 105.836591 169.137401 \nL 105.836591 188.904673 \nL 81.4875 188.904673 \nL 81.4875 169.137401 \n\" style=\"fill:#bde7db;stroke:#ffffff;stroke-width:0.75;\"/>\n    <path clip-path=\"url(#p9719650d04)\" d=\"M 105.836591 169.137401 \nL 130.185682 169.137401 \nL 130.185682 188.904673 \nL 105.836591 188.904673 \nL 105.836591 169.137401 \n\" style=\"fill:#bde7db;stroke:#ffffff;stroke-width:0.75;\"/>\n    <path clip-path=\"url(#p9719650d04)\" d=\"M 130.185682 169.137401 \nL 154.534773 169.137401 \nL 154.534773 188.904673 \nL 130.185682 188.904673 \nL 130.185682 169.137401 \n\" style=\"fill:#bde7db;stroke:#ffffff;stroke-width:0.75;\"/>\n    <path clip-path=\"url(#p9719650d04)\" d=\"M 154.534773 169.137401 \nL 178.883864 169.137401 \nL 178.883864 188.904673 \nL 154.534773 188.904673 \nL 154.534773 169.137401 \n\" style=\"fill:#bde7db;stroke:#ffffff;stroke-width:0.75;\"/>\n    <path clip-path=\"url(#p9719650d04)\" d=\"M 178.883864 169.137401 \nL 203.232955 169.137401 \nL 203.232955 188.904673 \nL 178.883864 188.904673 \nL 178.883864 169.137401 \n\" style=\"fill:#bde7db;stroke:#ffffff;stroke-width:0.75;\"/>\n    <path clip-path=\"url(#p9719650d04)\" d=\"M 203.232955 169.137401 \nL 227.582045 169.137401 \nL 227.582045 188.904673 \nL 203.232955 188.904673 \nL 203.232955 169.137401 \n\" style=\"fill:#bde7db;stroke:#ffffff;stroke-width:0.75;\"/>\n    <path clip-path=\"url(#p9719650d04)\" d=\"M 227.582045 169.137401 \nL 251.931136 169.137401 \nL 251.931136 188.904673 \nL 227.582045 188.904673 \nL 227.582045 169.137401 \n\" style=\"fill:#bde7db;stroke:#ffffff;stroke-width:0.75;\"/>\n    <path clip-path=\"url(#p9719650d04)\" d=\"M 251.931136 169.137401 \nL 276.280227 169.137401 \nL 276.280227 188.904673 \nL 251.931136 188.904673 \nL 251.931136 169.137401 \n\" style=\"fill:#bde7db;stroke:#ffffff;stroke-width:0.75;\"/>\n    <path clip-path=\"url(#p9719650d04)\" d=\"M 276.280227 169.137401 \nL 300.629318 169.137401 \nL 300.629318 188.904673 \nL 276.280227 188.904673 \nL 276.280227 169.137401 \n\" style=\"fill:#ffd4ac;stroke:#ffffff;stroke-width:0.75;\"/>\n    <path clip-path=\"url(#p9719650d04)\" d=\"M 300.629318 169.137401 \nL 324.978409 169.137401 \nL 324.978409 188.904673 \nL 300.629318 188.904673 \nL 300.629318 169.137401 \n\" style=\"fill:#bde7db;stroke:#ffffff;stroke-width:0.75;\"/>\n    <path clip-path=\"url(#p9719650d04)\" d=\"M 324.978409 169.137401 \nL 349.3275 169.137401 \nL 349.3275 188.904673 \nL 324.978409 188.904673 \nL 324.978409 169.137401 \n\" style=\"fill:#f49d63;stroke:#ffffff;stroke-width:0.75;\"/>\n    <path clip-path=\"url(#p9719650d04)\" d=\"M 81.4875 188.904673 \nL 105.836591 188.904673 \nL 105.836591 208.671946 \nL 81.4875 208.671946 \nL 81.4875 188.904673 \n\" style=\"fill:#bde7db;stroke:#ffffff;stroke-width:0.75;\"/>\n    <path clip-path=\"url(#p9719650d04)\" d=\"M 105.836591 188.904673 \nL 130.185682 188.904673 \nL 130.185682 208.671946 \nL 105.836591 208.671946 \nL 105.836591 188.904673 \n\" style=\"fill:#bde7db;stroke:#ffffff;stroke-width:0.75;\"/>\n    <path clip-path=\"url(#p9719650d04)\" d=\"M 130.185682 188.904673 \nL 154.534773 188.904673 \nL 154.534773 208.671946 \nL 130.185682 208.671946 \nL 130.185682 188.904673 \n\" style=\"fill:#bde7db;stroke:#ffffff;stroke-width:0.75;\"/>\n    <path clip-path=\"url(#p9719650d04)\" d=\"M 154.534773 188.904673 \nL 178.883864 188.904673 \nL 178.883864 208.671946 \nL 154.534773 208.671946 \nL 154.534773 188.904673 \n\" style=\"fill:#352024;stroke:#ffffff;stroke-width:0.75;\"/>\n    <path clip-path=\"url(#p9719650d04)\" d=\"M 178.883864 188.904673 \nL 203.232955 188.904673 \nL 203.232955 208.671946 \nL 178.883864 208.671946 \nL 178.883864 188.904673 \n\" style=\"fill:#4952ad;stroke:#ffffff;stroke-width:0.75;\"/>\n    <path clip-path=\"url(#p9719650d04)\" d=\"M 203.232955 188.904673 \nL 227.582045 188.904673 \nL 227.582045 208.671946 \nL 203.232955 208.671946 \nL 203.232955 188.904673 \n\" style=\"fill:#4596ce;stroke:#ffffff;stroke-width:0.75;\"/>\n    <path clip-path=\"url(#p9719650d04)\" d=\"M 227.582045 188.904673 \nL 251.931136 188.904673 \nL 251.931136 208.671946 \nL 227.582045 208.671946 \nL 227.582045 188.904673 \n\" style=\"fill:#bde7db;stroke:#ffffff;stroke-width:0.75;\"/>\n    <path clip-path=\"url(#p9719650d04)\" d=\"M 251.931136 188.904673 \nL 276.280227 188.904673 \nL 276.280227 208.671946 \nL 251.931136 208.671946 \nL 251.931136 188.904673 \n\" style=\"fill:#bde7db;stroke:#ffffff;stroke-width:0.75;\"/>\n    <path clip-path=\"url(#p9719650d04)\" d=\"M 276.280227 188.904673 \nL 300.629318 188.904673 \nL 300.629318 208.671946 \nL 276.280227 208.671946 \nL 276.280227 188.904673 \n\" style=\"fill:#bde7db;stroke:#ffffff;stroke-width:0.75;\"/>\n    <path clip-path=\"url(#p9719650d04)\" d=\"M 300.629318 188.904673 \nL 324.978409 188.904673 \nL 324.978409 208.671946 \nL 300.629318 208.671946 \nL 300.629318 188.904673 \n\" style=\"fill:#ffd4ac;stroke:#ffffff;stroke-width:0.75;\"/>\n    <path clip-path=\"url(#p9719650d04)\" d=\"M 324.978409 188.904673 \nL 349.3275 188.904673 \nL 349.3275 208.671946 \nL 324.978409 208.671946 \nL 324.978409 188.904673 \n\" style=\"fill:#bde7db;stroke:#ffffff;stroke-width:0.75;\"/>\n    <path clip-path=\"url(#p9719650d04)\" d=\"M 81.4875 208.671946 \nL 105.836591 208.671946 \nL 105.836591 228.439219 \nL 81.4875 228.439219 \nL 81.4875 208.671946 \n\" style=\"fill:#58a5cd;stroke:#ffffff;stroke-width:0.75;\"/>\n    <path clip-path=\"url(#p9719650d04)\" d=\"M 105.836591 208.671946 \nL 130.185682 208.671946 \nL 130.185682 228.439219 \nL 105.836591 228.439219 \nL 105.836591 208.671946 \n\" style=\"fill:#bde7db;stroke:#ffffff;stroke-width:0.75;\"/>\n    <path clip-path=\"url(#p9719650d04)\" d=\"M 130.185682 208.671946 \nL 154.534773 208.671946 \nL 154.534773 228.439219 \nL 130.185682 228.439219 \nL 130.185682 208.671946 \n\" style=\"fill:#bde7db;stroke:#ffffff;stroke-width:0.75;\"/>\n    <path clip-path=\"url(#p9719650d04)\" d=\"M 154.534773 208.671946 \nL 178.883864 208.671946 \nL 178.883864 228.439219 \nL 154.534773 228.439219 \nL 154.534773 208.671946 \n\" style=\"fill:#bde7db;stroke:#ffffff;stroke-width:0.75;\"/>\n    <path clip-path=\"url(#p9719650d04)\" d=\"M 178.883864 208.671946 \nL 203.232955 208.671946 \nL 203.232955 228.439219 \nL 178.883864 228.439219 \nL 178.883864 208.671946 \n\" style=\"fill:#bde7db;stroke:#ffffff;stroke-width:0.75;\"/>\n    <path clip-path=\"url(#p9719650d04)\" d=\"M 203.232955 208.671946 \nL 227.582045 208.671946 \nL 227.582045 228.439219 \nL 203.232955 228.439219 \nL 203.232955 208.671946 \n\" style=\"fill:#bde7db;stroke:#ffffff;stroke-width:0.75;\"/>\n    <path clip-path=\"url(#p9719650d04)\" d=\"M 227.582045 208.671946 \nL 251.931136 208.671946 \nL 251.931136 228.439219 \nL 227.582045 228.439219 \nL 227.582045 208.671946 \n\" style=\"fill:#bde7db;stroke:#ffffff;stroke-width:0.75;\"/>\n    <path clip-path=\"url(#p9719650d04)\" d=\"M 251.931136 208.671946 \nL 276.280227 208.671946 \nL 276.280227 228.439219 \nL 251.931136 228.439219 \nL 251.931136 208.671946 \n\" style=\"fill:#bde7db;stroke:#ffffff;stroke-width:0.75;\"/>\n    <path clip-path=\"url(#p9719650d04)\" d=\"M 276.280227 208.671946 \nL 300.629318 208.671946 \nL 300.629318 228.439219 \nL 276.280227 228.439219 \nL 276.280227 208.671946 \n\" style=\"fill:#393763;stroke:#ffffff;stroke-width:0.75;\"/>\n    <path clip-path=\"url(#p9719650d04)\" d=\"M 300.629318 208.671946 \nL 324.978409 208.671946 \nL 324.978409 228.439219 \nL 300.629318 228.439219 \nL 300.629318 208.671946 \n\" style=\"fill:#bde7db;stroke:#ffffff;stroke-width:0.75;\"/>\n    <path clip-path=\"url(#p9719650d04)\" d=\"M 324.978409 208.671946 \nL 349.3275 208.671946 \nL 349.3275 228.439219 \nL 324.978409 228.439219 \nL 324.978409 208.671946 \n\" style=\"fill:#ffd4ac;stroke:#ffffff;stroke-width:0.75;\"/>\n   </g>\n   <g id=\"matplotlib.axis_1\">\n    <g id=\"xtick_1\">\n     <g id=\"line2d_1\">\n      <defs>\n       <path d=\"M 0 0 \nL 0 3.5 \n\" id=\"m43e2a98774\" style=\"stroke:#000000;stroke-width:0.8;\"/>\n      </defs>\n      <g>\n       <use style=\"stroke:#000000;stroke-width:0.8;\" x=\"93.662045\" xlink:href=\"#m43e2a98774\" y=\"228.439219\"/>\n      </g>\n     </g>\n     <g id=\"text_1\">\n      <!-- Age -->\n      <defs>\n       <path d=\"M 34.1875 63.1875 \nL 20.796875 26.90625 \nL 47.609375 26.90625 \nz\nM 28.609375 72.90625 \nL 39.796875 72.90625 \nL 67.578125 0 \nL 57.328125 0 \nL 50.6875 18.703125 \nL 17.828125 18.703125 \nL 11.1875 0 \nL 0.78125 0 \nz\n\" id=\"DejaVuSans-65\"/>\n       <path d=\"M 45.40625 27.984375 \nQ 45.40625 37.75 41.375 43.109375 \nQ 37.359375 48.484375 30.078125 48.484375 \nQ 22.859375 48.484375 18.828125 43.109375 \nQ 14.796875 37.75 14.796875 27.984375 \nQ 14.796875 18.265625 18.828125 12.890625 \nQ 22.859375 7.515625 30.078125 7.515625 \nQ 37.359375 7.515625 41.375 12.890625 \nQ 45.40625 18.265625 45.40625 27.984375 \nz\nM 54.390625 6.78125 \nQ 54.390625 -7.171875 48.1875 -13.984375 \nQ 42 -20.796875 29.203125 -20.796875 \nQ 24.46875 -20.796875 20.265625 -20.09375 \nQ 16.0625 -19.390625 12.109375 -17.921875 \nL 12.109375 -9.1875 \nQ 16.0625 -11.328125 19.921875 -12.34375 \nQ 23.78125 -13.375 27.78125 -13.375 \nQ 36.625 -13.375 41.015625 -8.765625 \nQ 45.40625 -4.15625 45.40625 5.171875 \nL 45.40625 9.625 \nQ 42.625 4.78125 38.28125 2.390625 \nQ 33.9375 0 27.875 0 \nQ 17.828125 0 11.671875 7.65625 \nQ 5.515625 15.328125 5.515625 27.984375 \nQ 5.515625 40.671875 11.671875 48.328125 \nQ 17.828125 56 27.875 56 \nQ 33.9375 56 38.28125 53.609375 \nQ 42.625 51.21875 45.40625 46.390625 \nL 45.40625 54.6875 \nL 54.390625 54.6875 \nz\n\" id=\"DejaVuSans-103\"/>\n       <path d=\"M 56.203125 29.59375 \nL 56.203125 25.203125 \nL 14.890625 25.203125 \nQ 15.484375 15.921875 20.484375 11.0625 \nQ 25.484375 6.203125 34.421875 6.203125 \nQ 39.59375 6.203125 44.453125 7.46875 \nQ 49.3125 8.734375 54.109375 11.28125 \nL 54.109375 2.78125 \nQ 49.265625 0.734375 44.1875 -0.34375 \nQ 39.109375 -1.421875 33.890625 -1.421875 \nQ 20.796875 -1.421875 13.15625 6.1875 \nQ 5.515625 13.8125 5.515625 26.8125 \nQ 5.515625 40.234375 12.765625 48.109375 \nQ 20.015625 56 32.328125 56 \nQ 43.359375 56 49.78125 48.890625 \nQ 56.203125 41.796875 56.203125 29.59375 \nz\nM 47.21875 32.234375 \nQ 47.125 39.59375 43.09375 43.984375 \nQ 39.0625 48.390625 32.421875 48.390625 \nQ 24.90625 48.390625 20.390625 44.140625 \nQ 15.875 39.890625 15.1875 32.171875 \nz\n\" id=\"DejaVuSans-101\"/>\n      </defs>\n      <g transform=\"translate(96.42142 254.781406)rotate(-90)scale(0.1 -0.1)\">\n       <use xlink:href=\"#DejaVuSans-65\"/>\n       <use x=\"68.408203\" xlink:href=\"#DejaVuSans-103\"/>\n       <use x=\"131.884766\" xlink:href=\"#DejaVuSans-101\"/>\n      </g>\n     </g>\n    </g>\n    <g id=\"xtick_2\">\n     <g id=\"line2d_2\">\n      <g>\n       <use style=\"stroke:#000000;stroke-width:0.8;\" x=\"118.011136\" xlink:href=\"#m43e2a98774\" y=\"228.439219\"/>\n      </g>\n     </g>\n     <g id=\"text_2\">\n      <!-- Cabin -->\n      <defs>\n       <path d=\"M 64.40625 67.28125 \nL 64.40625 56.890625 \nQ 59.421875 61.53125 53.78125 63.8125 \nQ 48.140625 66.109375 41.796875 66.109375 \nQ 29.296875 66.109375 22.65625 58.46875 \nQ 16.015625 50.828125 16.015625 36.375 \nQ 16.015625 21.96875 22.65625 14.328125 \nQ 29.296875 6.6875 41.796875 6.6875 \nQ 48.140625 6.6875 53.78125 8.984375 \nQ 59.421875 11.28125 64.40625 15.921875 \nL 64.40625 5.609375 \nQ 59.234375 2.09375 53.4375 0.328125 \nQ 47.65625 -1.421875 41.21875 -1.421875 \nQ 24.65625 -1.421875 15.125 8.703125 \nQ 5.609375 18.84375 5.609375 36.375 \nQ 5.609375 53.953125 15.125 64.078125 \nQ 24.65625 74.21875 41.21875 74.21875 \nQ 47.75 74.21875 53.53125 72.484375 \nQ 59.328125 70.75 64.40625 67.28125 \nz\n\" id=\"DejaVuSans-67\"/>\n       <path d=\"M 34.28125 27.484375 \nQ 23.390625 27.484375 19.1875 25 \nQ 14.984375 22.515625 14.984375 16.5 \nQ 14.984375 11.71875 18.140625 8.90625 \nQ 21.296875 6.109375 26.703125 6.109375 \nQ 34.1875 6.109375 38.703125 11.40625 \nQ 43.21875 16.703125 43.21875 25.484375 \nL 43.21875 27.484375 \nz\nM 52.203125 31.203125 \nL 52.203125 0 \nL 43.21875 0 \nL 43.21875 8.296875 \nQ 40.140625 3.328125 35.546875 0.953125 \nQ 30.953125 -1.421875 24.3125 -1.421875 \nQ 15.921875 -1.421875 10.953125 3.296875 \nQ 6 8.015625 6 15.921875 \nQ 6 25.140625 12.171875 29.828125 \nQ 18.359375 34.515625 30.609375 34.515625 \nL 43.21875 34.515625 \nL 43.21875 35.40625 \nQ 43.21875 41.609375 39.140625 45 \nQ 35.0625 48.390625 27.6875 48.390625 \nQ 23 48.390625 18.546875 47.265625 \nQ 14.109375 46.140625 10.015625 43.890625 \nL 10.015625 52.203125 \nQ 14.9375 54.109375 19.578125 55.046875 \nQ 24.21875 56 28.609375 56 \nQ 40.484375 56 46.34375 49.84375 \nQ 52.203125 43.703125 52.203125 31.203125 \nz\n\" id=\"DejaVuSans-97\"/>\n       <path d=\"M 48.6875 27.296875 \nQ 48.6875 37.203125 44.609375 42.84375 \nQ 40.53125 48.484375 33.40625 48.484375 \nQ 26.265625 48.484375 22.1875 42.84375 \nQ 18.109375 37.203125 18.109375 27.296875 \nQ 18.109375 17.390625 22.1875 11.75 \nQ 26.265625 6.109375 33.40625 6.109375 \nQ 40.53125 6.109375 44.609375 11.75 \nQ 48.6875 17.390625 48.6875 27.296875 \nz\nM 18.109375 46.390625 \nQ 20.953125 51.265625 25.265625 53.625 \nQ 29.59375 56 35.59375 56 \nQ 45.5625 56 51.78125 48.09375 \nQ 58.015625 40.1875 58.015625 27.296875 \nQ 58.015625 14.40625 51.78125 6.484375 \nQ 45.5625 -1.421875 35.59375 -1.421875 \nQ 29.59375 -1.421875 25.265625 0.953125 \nQ 20.953125 3.328125 18.109375 8.203125 \nL 18.109375 0 \nL 9.078125 0 \nL 9.078125 75.984375 \nL 18.109375 75.984375 \nz\n\" id=\"DejaVuSans-98\"/>\n       <path d=\"M 9.421875 54.6875 \nL 18.40625 54.6875 \nL 18.40625 0 \nL 9.421875 0 \nz\nM 9.421875 75.984375 \nL 18.40625 75.984375 \nL 18.40625 64.59375 \nL 9.421875 64.59375 \nz\n\" id=\"DejaVuSans-105\"/>\n       <path d=\"M 54.890625 33.015625 \nL 54.890625 0 \nL 45.90625 0 \nL 45.90625 32.71875 \nQ 45.90625 40.484375 42.875 44.328125 \nQ 39.84375 48.1875 33.796875 48.1875 \nQ 26.515625 48.1875 22.3125 43.546875 \nQ 18.109375 38.921875 18.109375 30.90625 \nL 18.109375 0 \nL 9.078125 0 \nL 9.078125 54.6875 \nL 18.109375 54.6875 \nL 18.109375 46.1875 \nQ 21.34375 51.125 25.703125 53.5625 \nQ 30.078125 56 35.796875 56 \nQ 45.21875 56 50.046875 50.171875 \nQ 54.890625 44.34375 54.890625 33.015625 \nz\n\" id=\"DejaVuSans-110\"/>\n      </defs>\n      <g transform=\"translate(120.770511 264.014219)rotate(-90)scale(0.1 -0.1)\">\n       <use xlink:href=\"#DejaVuSans-67\"/>\n       <use x=\"69.824219\" xlink:href=\"#DejaVuSans-97\"/>\n       <use x=\"131.103516\" xlink:href=\"#DejaVuSans-98\"/>\n       <use x=\"194.580078\" xlink:href=\"#DejaVuSans-105\"/>\n       <use x=\"222.363281\" xlink:href=\"#DejaVuSans-110\"/>\n      </g>\n     </g>\n    </g>\n    <g id=\"xtick_3\">\n     <g id=\"line2d_3\">\n      <g>\n       <use style=\"stroke:#000000;stroke-width:0.8;\" x=\"142.360227\" xlink:href=\"#m43e2a98774\" y=\"228.439219\"/>\n      </g>\n     </g>\n     <g id=\"text_3\">\n      <!-- Embarked -->\n      <defs>\n       <path d=\"M 9.8125 72.90625 \nL 55.90625 72.90625 \nL 55.90625 64.59375 \nL 19.671875 64.59375 \nL 19.671875 43.015625 \nL 54.390625 43.015625 \nL 54.390625 34.71875 \nL 19.671875 34.71875 \nL 19.671875 8.296875 \nL 56.78125 8.296875 \nL 56.78125 0 \nL 9.8125 0 \nz\n\" id=\"DejaVuSans-69\"/>\n       <path d=\"M 52 44.1875 \nQ 55.375 50.25 60.0625 53.125 \nQ 64.75 56 71.09375 56 \nQ 79.640625 56 84.28125 50.015625 \nQ 88.921875 44.046875 88.921875 33.015625 \nL 88.921875 0 \nL 79.890625 0 \nL 79.890625 32.71875 \nQ 79.890625 40.578125 77.09375 44.375 \nQ 74.3125 48.1875 68.609375 48.1875 \nQ 61.625 48.1875 57.5625 43.546875 \nQ 53.515625 38.921875 53.515625 30.90625 \nL 53.515625 0 \nL 44.484375 0 \nL 44.484375 32.71875 \nQ 44.484375 40.625 41.703125 44.40625 \nQ 38.921875 48.1875 33.109375 48.1875 \nQ 26.21875 48.1875 22.15625 43.53125 \nQ 18.109375 38.875 18.109375 30.90625 \nL 18.109375 0 \nL 9.078125 0 \nL 9.078125 54.6875 \nL 18.109375 54.6875 \nL 18.109375 46.1875 \nQ 21.1875 51.21875 25.484375 53.609375 \nQ 29.78125 56 35.6875 56 \nQ 41.65625 56 45.828125 52.96875 \nQ 50 49.953125 52 44.1875 \nz\n\" id=\"DejaVuSans-109\"/>\n       <path d=\"M 41.109375 46.296875 \nQ 39.59375 47.171875 37.8125 47.578125 \nQ 36.03125 48 33.890625 48 \nQ 26.265625 48 22.1875 43.046875 \nQ 18.109375 38.09375 18.109375 28.8125 \nL 18.109375 0 \nL 9.078125 0 \nL 9.078125 54.6875 \nL 18.109375 54.6875 \nL 18.109375 46.1875 \nQ 20.953125 51.171875 25.484375 53.578125 \nQ 30.03125 56 36.53125 56 \nQ 37.453125 56 38.578125 55.875 \nQ 39.703125 55.765625 41.0625 55.515625 \nz\n\" id=\"DejaVuSans-114\"/>\n       <path d=\"M 9.078125 75.984375 \nL 18.109375 75.984375 \nL 18.109375 31.109375 \nL 44.921875 54.6875 \nL 56.390625 54.6875 \nL 27.390625 29.109375 \nL 57.625 0 \nL 45.90625 0 \nL 18.109375 26.703125 \nL 18.109375 0 \nL 9.078125 0 \nz\n\" id=\"DejaVuSans-107\"/>\n       <path d=\"M 45.40625 46.390625 \nL 45.40625 75.984375 \nL 54.390625 75.984375 \nL 54.390625 0 \nL 45.40625 0 \nL 45.40625 8.203125 \nQ 42.578125 3.328125 38.25 0.953125 \nQ 33.9375 -1.421875 27.875 -1.421875 \nQ 17.96875 -1.421875 11.734375 6.484375 \nQ 5.515625 14.40625 5.515625 27.296875 \nQ 5.515625 40.1875 11.734375 48.09375 \nQ 17.96875 56 27.875 56 \nQ 33.9375 56 38.25 53.625 \nQ 42.578125 51.265625 45.40625 46.390625 \nz\nM 14.796875 27.296875 \nQ 14.796875 17.390625 18.875 11.75 \nQ 22.953125 6.109375 30.078125 6.109375 \nQ 37.203125 6.109375 41.296875 11.75 \nQ 45.40625 17.390625 45.40625 27.296875 \nQ 45.40625 37.203125 41.296875 42.84375 \nQ 37.203125 48.484375 30.078125 48.484375 \nQ 22.953125 48.484375 18.875 42.84375 \nQ 14.796875 37.203125 14.796875 27.296875 \nz\n\" id=\"DejaVuSans-100\"/>\n      </defs>\n      <g transform=\"translate(145.119602 286.373594)rotate(-90)scale(0.1 -0.1)\">\n       <use xlink:href=\"#DejaVuSans-69\"/>\n       <use x=\"63.183594\" xlink:href=\"#DejaVuSans-109\"/>\n       <use x=\"160.595703\" xlink:href=\"#DejaVuSans-98\"/>\n       <use x=\"224.072266\" xlink:href=\"#DejaVuSans-97\"/>\n       <use x=\"285.351562\" xlink:href=\"#DejaVuSans-114\"/>\n       <use x=\"326.464844\" xlink:href=\"#DejaVuSans-107\"/>\n       <use x=\"384.328125\" xlink:href=\"#DejaVuSans-101\"/>\n       <use x=\"445.851562\" xlink:href=\"#DejaVuSans-100\"/>\n      </g>\n     </g>\n    </g>\n    <g id=\"xtick_4\">\n     <g id=\"line2d_4\">\n      <g>\n       <use style=\"stroke:#000000;stroke-width:0.8;\" x=\"166.709318\" xlink:href=\"#m43e2a98774\" y=\"228.439219\"/>\n      </g>\n     </g>\n     <g id=\"text_4\">\n      <!-- FamilySize -->\n      <defs>\n       <path d=\"M 9.8125 72.90625 \nL 51.703125 72.90625 \nL 51.703125 64.59375 \nL 19.671875 64.59375 \nL 19.671875 43.109375 \nL 48.578125 43.109375 \nL 48.578125 34.8125 \nL 19.671875 34.8125 \nL 19.671875 0 \nL 9.8125 0 \nz\n\" id=\"DejaVuSans-70\"/>\n       <path d=\"M 9.421875 75.984375 \nL 18.40625 75.984375 \nL 18.40625 0 \nL 9.421875 0 \nz\n\" id=\"DejaVuSans-108\"/>\n       <path d=\"M 32.171875 -5.078125 \nQ 28.375 -14.84375 24.75 -17.8125 \nQ 21.140625 -20.796875 15.09375 -20.796875 \nL 7.90625 -20.796875 \nL 7.90625 -13.28125 \nL 13.1875 -13.28125 \nQ 16.890625 -13.28125 18.9375 -11.515625 \nQ 21 -9.765625 23.484375 -3.21875 \nL 25.09375 0.875 \nL 2.984375 54.6875 \nL 12.5 54.6875 \nL 29.59375 11.921875 \nL 46.6875 54.6875 \nL 56.203125 54.6875 \nz\n\" id=\"DejaVuSans-121\"/>\n       <path d=\"M 53.515625 70.515625 \nL 53.515625 60.890625 \nQ 47.90625 63.578125 42.921875 64.890625 \nQ 37.9375 66.21875 33.296875 66.21875 \nQ 25.25 66.21875 20.875 63.09375 \nQ 16.5 59.96875 16.5 54.203125 \nQ 16.5 49.359375 19.40625 46.890625 \nQ 22.3125 44.4375 30.421875 42.921875 \nL 36.375 41.703125 \nQ 47.40625 39.59375 52.65625 34.296875 \nQ 57.90625 29 57.90625 20.125 \nQ 57.90625 9.515625 50.796875 4.046875 \nQ 43.703125 -1.421875 29.984375 -1.421875 \nQ 24.8125 -1.421875 18.96875 -0.25 \nQ 13.140625 0.921875 6.890625 3.21875 \nL 6.890625 13.375 \nQ 12.890625 10.015625 18.65625 8.296875 \nQ 24.421875 6.59375 29.984375 6.59375 \nQ 38.421875 6.59375 43.015625 9.90625 \nQ 47.609375 13.234375 47.609375 19.390625 \nQ 47.609375 24.75 44.3125 27.78125 \nQ 41.015625 30.8125 33.5 32.328125 \nL 27.484375 33.5 \nQ 16.453125 35.6875 11.515625 40.375 \nQ 6.59375 45.0625 6.59375 53.421875 \nQ 6.59375 63.09375 13.40625 68.65625 \nQ 20.21875 74.21875 32.171875 74.21875 \nQ 37.3125 74.21875 42.625 73.28125 \nQ 47.953125 72.359375 53.515625 70.515625 \nz\n\" id=\"DejaVuSans-83\"/>\n       <path d=\"M 5.515625 54.6875 \nL 48.1875 54.6875 \nL 48.1875 46.484375 \nL 14.40625 7.171875 \nL 48.1875 7.171875 \nL 48.1875 0 \nL 4.296875 0 \nL 4.296875 8.203125 \nL 38.09375 47.515625 \nL 5.515625 47.515625 \nz\n\" id=\"DejaVuSans-122\"/>\n      </defs>\n      <g transform=\"translate(169.468693 289.048594)rotate(-90)scale(0.1 -0.1)\">\n       <use xlink:href=\"#DejaVuSans-70\"/>\n       <use x=\"57.378906\" xlink:href=\"#DejaVuSans-97\"/>\n       <use x=\"118.658203\" xlink:href=\"#DejaVuSans-109\"/>\n       <use x=\"216.070312\" xlink:href=\"#DejaVuSans-105\"/>\n       <use x=\"243.853516\" xlink:href=\"#DejaVuSans-108\"/>\n       <use x=\"271.636719\" xlink:href=\"#DejaVuSans-121\"/>\n       <use x=\"330.816406\" xlink:href=\"#DejaVuSans-83\"/>\n       <use x=\"394.292969\" xlink:href=\"#DejaVuSans-105\"/>\n       <use x=\"422.076172\" xlink:href=\"#DejaVuSans-122\"/>\n       <use x=\"474.566406\" xlink:href=\"#DejaVuSans-101\"/>\n      </g>\n     </g>\n    </g>\n    <g id=\"xtick_5\">\n     <g id=\"line2d_5\">\n      <g>\n       <use style=\"stroke:#000000;stroke-width:0.8;\" x=\"191.058409\" xlink:href=\"#m43e2a98774\" y=\"228.439219\"/>\n      </g>\n     </g>\n     <g id=\"text_5\">\n      <!-- Fare -->\n      <g transform=\"translate(193.817784 257.565781)rotate(-90)scale(0.1 -0.1)\">\n       <use xlink:href=\"#DejaVuSans-70\"/>\n       <use x=\"57.378906\" xlink:href=\"#DejaVuSans-97\"/>\n       <use x=\"118.658203\" xlink:href=\"#DejaVuSans-114\"/>\n       <use x=\"159.740234\" xlink:href=\"#DejaVuSans-101\"/>\n      </g>\n     </g>\n    </g>\n    <g id=\"xtick_6\">\n     <g id=\"line2d_6\">\n      <g>\n       <use style=\"stroke:#000000;stroke-width:0.8;\" x=\"215.4075\" xlink:href=\"#m43e2a98774\" y=\"228.439219\"/>\n      </g>\n     </g>\n     <g id=\"text_6\">\n      <!-- Mu1 -->\n      <defs>\n       <path d=\"M 9.8125 72.90625 \nL 24.515625 72.90625 \nL 43.109375 23.296875 \nL 61.8125 72.90625 \nL 76.515625 72.90625 \nL 76.515625 0 \nL 66.890625 0 \nL 66.890625 64.015625 \nL 48.09375 14.015625 \nL 38.1875 14.015625 \nL 19.390625 64.015625 \nL 19.390625 0 \nL 9.8125 0 \nz\n\" id=\"DejaVuSans-77\"/>\n       <path d=\"M 8.5 21.578125 \nL 8.5 54.6875 \nL 17.484375 54.6875 \nL 17.484375 21.921875 \nQ 17.484375 14.15625 20.5 10.265625 \nQ 23.53125 6.390625 29.59375 6.390625 \nQ 36.859375 6.390625 41.078125 11.03125 \nQ 45.3125 15.671875 45.3125 23.6875 \nL 45.3125 54.6875 \nL 54.296875 54.6875 \nL 54.296875 0 \nL 45.3125 0 \nL 45.3125 8.40625 \nQ 42.046875 3.421875 37.71875 1 \nQ 33.40625 -1.421875 27.6875 -1.421875 \nQ 18.265625 -1.421875 13.375 4.4375 \nQ 8.5 10.296875 8.5 21.578125 \nz\nM 31.109375 56 \nz\n\" id=\"DejaVuSans-117\"/>\n       <path d=\"M 12.40625 8.296875 \nL 28.515625 8.296875 \nL 28.515625 63.921875 \nL 10.984375 60.40625 \nL 10.984375 69.390625 \nL 28.421875 72.90625 \nL 38.28125 72.90625 \nL 38.28125 8.296875 \nL 54.390625 8.296875 \nL 54.390625 0 \nL 12.40625 0 \nz\n\" id=\"DejaVuSans-49\"/>\n      </defs>\n      <g transform=\"translate(218.166875 256.767344)rotate(-90)scale(0.1 -0.1)\">\n       <use xlink:href=\"#DejaVuSans-77\"/>\n       <use x=\"86.279297\" xlink:href=\"#DejaVuSans-117\"/>\n       <use x=\"149.658203\" xlink:href=\"#DejaVuSans-49\"/>\n      </g>\n     </g>\n    </g>\n    <g id=\"xtick_7\">\n     <g id=\"line2d_7\">\n      <g>\n       <use style=\"stroke:#000000;stroke-width:0.8;\" x=\"239.756591\" xlink:href=\"#m43e2a98774\" y=\"228.439219\"/>\n      </g>\n     </g>\n     <g id=\"text_7\">\n      <!-- Parch -->\n      <defs>\n       <path d=\"M 19.671875 64.796875 \nL 19.671875 37.40625 \nL 32.078125 37.40625 \nQ 38.96875 37.40625 42.71875 40.96875 \nQ 46.484375 44.53125 46.484375 51.125 \nQ 46.484375 57.671875 42.71875 61.234375 \nQ 38.96875 64.796875 32.078125 64.796875 \nz\nM 9.8125 72.90625 \nL 32.078125 72.90625 \nQ 44.34375 72.90625 50.609375 67.359375 \nQ 56.890625 61.8125 56.890625 51.125 \nQ 56.890625 40.328125 50.609375 34.8125 \nQ 44.34375 29.296875 32.078125 29.296875 \nL 19.671875 29.296875 \nL 19.671875 0 \nL 9.8125 0 \nz\n\" id=\"DejaVuSans-80\"/>\n       <path d=\"M 48.78125 52.59375 \nL 48.78125 44.1875 \nQ 44.96875 46.296875 41.140625 47.34375 \nQ 37.3125 48.390625 33.40625 48.390625 \nQ 24.65625 48.390625 19.8125 42.84375 \nQ 14.984375 37.3125 14.984375 27.296875 \nQ 14.984375 17.28125 19.8125 11.734375 \nQ 24.65625 6.203125 33.40625 6.203125 \nQ 37.3125 6.203125 41.140625 7.25 \nQ 44.96875 8.296875 48.78125 10.40625 \nL 48.78125 2.09375 \nQ 45.015625 0.34375 40.984375 -0.53125 \nQ 36.96875 -1.421875 32.421875 -1.421875 \nQ 20.0625 -1.421875 12.78125 6.34375 \nQ 5.515625 14.109375 5.515625 27.296875 \nQ 5.515625 40.671875 12.859375 48.328125 \nQ 20.21875 56 33.015625 56 \nQ 37.15625 56 41.109375 55.140625 \nQ 45.0625 54.296875 48.78125 52.59375 \nz\n\" id=\"DejaVuSans-99\"/>\n       <path d=\"M 54.890625 33.015625 \nL 54.890625 0 \nL 45.90625 0 \nL 45.90625 32.71875 \nQ 45.90625 40.484375 42.875 44.328125 \nQ 39.84375 48.1875 33.796875 48.1875 \nQ 26.515625 48.1875 22.3125 43.546875 \nQ 18.109375 38.921875 18.109375 30.90625 \nL 18.109375 0 \nL 9.078125 0 \nL 9.078125 75.984375 \nL 18.109375 75.984375 \nL 18.109375 46.1875 \nQ 21.34375 51.125 25.703125 53.5625 \nQ 30.078125 56 35.796875 56 \nQ 45.21875 56 50.046875 50.171875 \nQ 54.890625 44.34375 54.890625 33.015625 \nz\n\" id=\"DejaVuSans-104\"/>\n      </defs>\n      <g transform=\"translate(242.515966 263.534531)rotate(-90)scale(0.1 -0.1)\">\n       <use xlink:href=\"#DejaVuSans-80\"/>\n       <use x=\"60.240234\" xlink:href=\"#DejaVuSans-97\"/>\n       <use x=\"121.519531\" xlink:href=\"#DejaVuSans-114\"/>\n       <use x=\"162.601562\" xlink:href=\"#DejaVuSans-99\"/>\n       <use x=\"217.582031\" xlink:href=\"#DejaVuSans-104\"/>\n      </g>\n     </g>\n    </g>\n    <g id=\"xtick_8\">\n     <g id=\"line2d_8\">\n      <g>\n       <use style=\"stroke:#000000;stroke-width:0.8;\" x=\"264.105682\" xlink:href=\"#m43e2a98774\" y=\"228.439219\"/>\n      </g>\n     </g>\n     <g id=\"text_8\">\n      <!-- Pclass -->\n      <defs>\n       <path d=\"M 44.28125 53.078125 \nL 44.28125 44.578125 \nQ 40.484375 46.53125 36.375 47.5 \nQ 32.28125 48.484375 27.875 48.484375 \nQ 21.1875 48.484375 17.84375 46.4375 \nQ 14.5 44.390625 14.5 40.28125 \nQ 14.5 37.15625 16.890625 35.375 \nQ 19.28125 33.59375 26.515625 31.984375 \nL 29.59375 31.296875 \nQ 39.15625 29.25 43.1875 25.515625 \nQ 47.21875 21.78125 47.21875 15.09375 \nQ 47.21875 7.46875 41.1875 3.015625 \nQ 35.15625 -1.421875 24.609375 -1.421875 \nQ 20.21875 -1.421875 15.453125 -0.5625 \nQ 10.6875 0.296875 5.421875 2 \nL 5.421875 11.28125 \nQ 10.40625 8.6875 15.234375 7.390625 \nQ 20.0625 6.109375 24.8125 6.109375 \nQ 31.15625 6.109375 34.5625 8.28125 \nQ 37.984375 10.453125 37.984375 14.40625 \nQ 37.984375 18.0625 35.515625 20.015625 \nQ 33.0625 21.96875 24.703125 23.78125 \nL 21.578125 24.515625 \nQ 13.234375 26.265625 9.515625 29.90625 \nQ 5.8125 33.546875 5.8125 39.890625 \nQ 5.8125 47.609375 11.28125 51.796875 \nQ 16.75 56 26.8125 56 \nQ 31.78125 56 36.171875 55.265625 \nQ 40.578125 54.546875 44.28125 53.078125 \nz\n\" id=\"DejaVuSans-115\"/>\n      </defs>\n      <g transform=\"translate(266.865057 266.292344)rotate(-90)scale(0.1 -0.1)\">\n       <use xlink:href=\"#DejaVuSans-80\"/>\n       <use x=\"60.302734\" xlink:href=\"#DejaVuSans-99\"/>\n       <use x=\"115.283203\" xlink:href=\"#DejaVuSans-108\"/>\n       <use x=\"143.066406\" xlink:href=\"#DejaVuSans-97\"/>\n       <use x=\"204.345703\" xlink:href=\"#DejaVuSans-115\"/>\n       <use x=\"256.445312\" xlink:href=\"#DejaVuSans-115\"/>\n      </g>\n     </g>\n    </g>\n    <g id=\"xtick_9\">\n     <g id=\"line2d_9\">\n      <g>\n       <use style=\"stroke:#000000;stroke-width:0.8;\" x=\"288.454773\" xlink:href=\"#m43e2a98774\" y=\"228.439219\"/>\n      </g>\n     </g>\n     <g id=\"text_9\">\n      <!-- Sex -->\n      <defs>\n       <path d=\"M 54.890625 54.6875 \nL 35.109375 28.078125 \nL 55.90625 0 \nL 45.3125 0 \nL 29.390625 21.484375 \nL 13.484375 0 \nL 2.875 0 \nL 24.125 28.609375 \nL 4.6875 54.6875 \nL 15.28125 54.6875 \nL 29.78125 35.203125 \nL 44.28125 54.6875 \nz\n\" id=\"DejaVuSans-120\"/>\n      </defs>\n      <g transform=\"translate(291.214148 253.857969)rotate(-90)scale(0.1 -0.1)\">\n       <use xlink:href=\"#DejaVuSans-83\"/>\n       <use x=\"63.476562\" xlink:href=\"#DejaVuSans-101\"/>\n       <use x=\"124.984375\" xlink:href=\"#DejaVuSans-120\"/>\n      </g>\n     </g>\n    </g>\n    <g id=\"xtick_10\">\n     <g id=\"line2d_10\">\n      <g>\n       <use style=\"stroke:#000000;stroke-width:0.8;\" x=\"312.803864\" xlink:href=\"#m43e2a98774\" y=\"228.439219\"/>\n      </g>\n     </g>\n     <g id=\"text_10\">\n      <!-- SibSp -->\n      <defs>\n       <path d=\"M 18.109375 8.203125 \nL 18.109375 -20.796875 \nL 9.078125 -20.796875 \nL 9.078125 54.6875 \nL 18.109375 54.6875 \nL 18.109375 46.390625 \nQ 20.953125 51.265625 25.265625 53.625 \nQ 29.59375 56 35.59375 56 \nQ 45.5625 56 51.78125 48.09375 \nQ 58.015625 40.1875 58.015625 27.296875 \nQ 58.015625 14.40625 51.78125 6.484375 \nQ 45.5625 -1.421875 35.59375 -1.421875 \nQ 29.59375 -1.421875 25.265625 0.953125 \nQ 20.953125 3.328125 18.109375 8.203125 \nz\nM 48.6875 27.296875 \nQ 48.6875 37.203125 44.609375 42.84375 \nQ 40.53125 48.484375 33.40625 48.484375 \nQ 26.265625 48.484375 22.1875 42.84375 \nQ 18.109375 37.203125 18.109375 27.296875 \nQ 18.109375 17.390625 22.1875 11.75 \nQ 26.265625 6.109375 33.40625 6.109375 \nQ 40.53125 6.109375 44.609375 11.75 \nQ 48.6875 17.390625 48.6875 27.296875 \nz\n\" id=\"DejaVuSans-112\"/>\n      </defs>\n      <g transform=\"translate(315.563239 263.611094)rotate(-90)scale(0.1 -0.1)\">\n       <use xlink:href=\"#DejaVuSans-83\"/>\n       <use x=\"63.476562\" xlink:href=\"#DejaVuSans-105\"/>\n       <use x=\"91.259766\" xlink:href=\"#DejaVuSans-98\"/>\n       <use x=\"154.736328\" xlink:href=\"#DejaVuSans-83\"/>\n       <use x=\"218.212891\" xlink:href=\"#DejaVuSans-112\"/>\n      </g>\n     </g>\n    </g>\n    <g id=\"xtick_11\">\n     <g id=\"line2d_11\">\n      <g>\n       <use style=\"stroke:#000000;stroke-width:0.8;\" x=\"337.152955\" xlink:href=\"#m43e2a98774\" y=\"228.439219\"/>\n      </g>\n     </g>\n     <g id=\"text_11\">\n      <!-- Title -->\n      <defs>\n       <path d=\"M -0.296875 72.90625 \nL 61.375 72.90625 \nL 61.375 64.59375 \nL 35.5 64.59375 \nL 35.5 0 \nL 25.59375 0 \nL 25.59375 64.59375 \nL -0.296875 64.59375 \nz\n\" id=\"DejaVuSans-84\"/>\n       <path d=\"M 18.3125 70.21875 \nL 18.3125 54.6875 \nL 36.8125 54.6875 \nL 36.8125 47.703125 \nL 18.3125 47.703125 \nL 18.3125 18.015625 \nQ 18.3125 11.328125 20.140625 9.421875 \nQ 21.96875 7.515625 27.59375 7.515625 \nL 36.8125 7.515625 \nL 36.8125 0 \nL 27.59375 0 \nQ 17.1875 0 13.234375 3.875 \nQ 9.28125 7.765625 9.28125 18.015625 \nL 9.28125 47.703125 \nL 2.6875 47.703125 \nL 2.6875 54.6875 \nL 9.28125 54.6875 \nL 9.28125 70.21875 \nz\n\" id=\"DejaVuSans-116\"/>\n      </defs>\n      <g transform=\"translate(339.91233 257.172031)rotate(-90)scale(0.1 -0.1)\">\n       <use xlink:href=\"#DejaVuSans-84\"/>\n       <use x=\"61.037109\" xlink:href=\"#DejaVuSans-105\"/>\n       <use x=\"88.820312\" xlink:href=\"#DejaVuSans-116\"/>\n       <use x=\"128.029297\" xlink:href=\"#DejaVuSans-108\"/>\n       <use x=\"155.8125\" xlink:href=\"#DejaVuSans-101\"/>\n      </g>\n     </g>\n    </g>\n    <g id=\"text_12\">\n     <!-- x -->\n     <g transform=\"translate(212.448125 300.647031)scale(0.1 -0.1)\">\n      <use xlink:href=\"#DejaVuSans-120\"/>\n     </g>\n    </g>\n   </g>\n   <g id=\"matplotlib.axis_2\">\n    <g id=\"ytick_1\">\n     <g id=\"line2d_12\">\n      <defs>\n       <path d=\"M 0 0 \nL -3.5 0 \n\" id=\"m2325411b23\" style=\"stroke:#000000;stroke-width:0.8;\"/>\n      </defs>\n      <g>\n       <use style=\"stroke:#000000;stroke-width:0.8;\" x=\"81.4875\" xlink:href=\"#m2325411b23\" y=\"20.882855\"/>\n      </g>\n     </g>\n     <g id=\"text_13\">\n      <!-- Age -->\n      <g transform=\"translate(55.145313 24.682074)scale(0.1 -0.1)\">\n       <use xlink:href=\"#DejaVuSans-65\"/>\n       <use x=\"68.408203\" xlink:href=\"#DejaVuSans-103\"/>\n       <use x=\"131.884766\" xlink:href=\"#DejaVuSans-101\"/>\n      </g>\n     </g>\n    </g>\n    <g id=\"ytick_2\">\n     <g id=\"line2d_13\">\n      <g>\n       <use style=\"stroke:#000000;stroke-width:0.8;\" x=\"81.4875\" xlink:href=\"#m2325411b23\" y=\"40.650128\"/>\n      </g>\n     </g>\n     <g id=\"text_14\">\n      <!-- Cabin -->\n      <g transform=\"translate(45.9125 44.449347)scale(0.1 -0.1)\">\n       <use xlink:href=\"#DejaVuSans-67\"/>\n       <use x=\"69.824219\" xlink:href=\"#DejaVuSans-97\"/>\n       <use x=\"131.103516\" xlink:href=\"#DejaVuSans-98\"/>\n       <use x=\"194.580078\" xlink:href=\"#DejaVuSans-105\"/>\n       <use x=\"222.363281\" xlink:href=\"#DejaVuSans-110\"/>\n      </g>\n     </g>\n    </g>\n    <g id=\"ytick_3\">\n     <g id=\"line2d_14\">\n      <g>\n       <use style=\"stroke:#000000;stroke-width:0.8;\" x=\"81.4875\" xlink:href=\"#m2325411b23\" y=\"60.417401\"/>\n      </g>\n     </g>\n     <g id=\"text_15\">\n      <!-- Embarked -->\n      <g transform=\"translate(23.553125 64.216619)scale(0.1 -0.1)\">\n       <use xlink:href=\"#DejaVuSans-69\"/>\n       <use x=\"63.183594\" xlink:href=\"#DejaVuSans-109\"/>\n       <use x=\"160.595703\" xlink:href=\"#DejaVuSans-98\"/>\n       <use x=\"224.072266\" xlink:href=\"#DejaVuSans-97\"/>\n       <use x=\"285.351562\" xlink:href=\"#DejaVuSans-114\"/>\n       <use x=\"326.464844\" xlink:href=\"#DejaVuSans-107\"/>\n       <use x=\"384.328125\" xlink:href=\"#DejaVuSans-101\"/>\n       <use x=\"445.851562\" xlink:href=\"#DejaVuSans-100\"/>\n      </g>\n     </g>\n    </g>\n    <g id=\"ytick_4\">\n     <g id=\"line2d_15\">\n      <g>\n       <use style=\"stroke:#000000;stroke-width:0.8;\" x=\"81.4875\" xlink:href=\"#m2325411b23\" y=\"80.184673\"/>\n      </g>\n     </g>\n     <g id=\"text_16\">\n      <!-- FamilySize -->\n      <g transform=\"translate(20.878125 83.983892)scale(0.1 -0.1)\">\n       <use xlink:href=\"#DejaVuSans-70\"/>\n       <use x=\"57.378906\" xlink:href=\"#DejaVuSans-97\"/>\n       <use x=\"118.658203\" xlink:href=\"#DejaVuSans-109\"/>\n       <use x=\"216.070312\" xlink:href=\"#DejaVuSans-105\"/>\n       <use x=\"243.853516\" xlink:href=\"#DejaVuSans-108\"/>\n       <use x=\"271.636719\" xlink:href=\"#DejaVuSans-121\"/>\n       <use x=\"330.816406\" xlink:href=\"#DejaVuSans-83\"/>\n       <use x=\"394.292969\" xlink:href=\"#DejaVuSans-105\"/>\n       <use x=\"422.076172\" xlink:href=\"#DejaVuSans-122\"/>\n       <use x=\"474.566406\" xlink:href=\"#DejaVuSans-101\"/>\n      </g>\n     </g>\n    </g>\n    <g id=\"ytick_5\">\n     <g id=\"line2d_16\">\n      <g>\n       <use style=\"stroke:#000000;stroke-width:0.8;\" x=\"81.4875\" xlink:href=\"#m2325411b23\" y=\"99.951946\"/>\n      </g>\n     </g>\n     <g id=\"text_17\">\n      <!-- Fare -->\n      <g transform=\"translate(52.360938 103.751165)scale(0.1 -0.1)\">\n       <use xlink:href=\"#DejaVuSans-70\"/>\n       <use x=\"57.378906\" xlink:href=\"#DejaVuSans-97\"/>\n       <use x=\"118.658203\" xlink:href=\"#DejaVuSans-114\"/>\n       <use x=\"159.740234\" xlink:href=\"#DejaVuSans-101\"/>\n      </g>\n     </g>\n    </g>\n    <g id=\"ytick_6\">\n     <g id=\"line2d_17\">\n      <g>\n       <use style=\"stroke:#000000;stroke-width:0.8;\" x=\"81.4875\" xlink:href=\"#m2325411b23\" y=\"119.719219\"/>\n      </g>\n     </g>\n     <g id=\"text_18\">\n      <!-- Mu1 -->\n      <g transform=\"translate(53.159375 123.518437)scale(0.1 -0.1)\">\n       <use xlink:href=\"#DejaVuSans-77\"/>\n       <use x=\"86.279297\" xlink:href=\"#DejaVuSans-117\"/>\n       <use x=\"149.658203\" xlink:href=\"#DejaVuSans-49\"/>\n      </g>\n     </g>\n    </g>\n    <g id=\"ytick_7\">\n     <g id=\"line2d_18\">\n      <g>\n       <use style=\"stroke:#000000;stroke-width:0.8;\" x=\"81.4875\" xlink:href=\"#m2325411b23\" y=\"139.486491\"/>\n      </g>\n     </g>\n     <g id=\"text_19\">\n      <!-- Parch -->\n      <g transform=\"translate(46.392188 143.28571)scale(0.1 -0.1)\">\n       <use xlink:href=\"#DejaVuSans-80\"/>\n       <use x=\"60.240234\" xlink:href=\"#DejaVuSans-97\"/>\n       <use x=\"121.519531\" xlink:href=\"#DejaVuSans-114\"/>\n       <use x=\"162.601562\" xlink:href=\"#DejaVuSans-99\"/>\n       <use x=\"217.582031\" xlink:href=\"#DejaVuSans-104\"/>\n      </g>\n     </g>\n    </g>\n    <g id=\"ytick_8\">\n     <g id=\"line2d_19\">\n      <g>\n       <use style=\"stroke:#000000;stroke-width:0.8;\" x=\"81.4875\" xlink:href=\"#m2325411b23\" y=\"159.253764\"/>\n      </g>\n     </g>\n     <g id=\"text_20\">\n      <!-- Pclass -->\n      <g transform=\"translate(43.634375 163.052983)scale(0.1 -0.1)\">\n       <use xlink:href=\"#DejaVuSans-80\"/>\n       <use x=\"60.302734\" xlink:href=\"#DejaVuSans-99\"/>\n       <use x=\"115.283203\" xlink:href=\"#DejaVuSans-108\"/>\n       <use x=\"143.066406\" xlink:href=\"#DejaVuSans-97\"/>\n       <use x=\"204.345703\" xlink:href=\"#DejaVuSans-115\"/>\n       <use x=\"256.445312\" xlink:href=\"#DejaVuSans-115\"/>\n      </g>\n     </g>\n    </g>\n    <g id=\"ytick_9\">\n     <g id=\"line2d_20\">\n      <g>\n       <use style=\"stroke:#000000;stroke-width:0.8;\" x=\"81.4875\" xlink:href=\"#m2325411b23\" y=\"179.021037\"/>\n      </g>\n     </g>\n     <g id=\"text_21\">\n      <!-- Sex -->\n      <g transform=\"translate(56.06875 182.820256)scale(0.1 -0.1)\">\n       <use xlink:href=\"#DejaVuSans-83\"/>\n       <use x=\"63.476562\" xlink:href=\"#DejaVuSans-101\"/>\n       <use x=\"124.984375\" xlink:href=\"#DejaVuSans-120\"/>\n      </g>\n     </g>\n    </g>\n    <g id=\"ytick_10\">\n     <g id=\"line2d_21\">\n      <g>\n       <use style=\"stroke:#000000;stroke-width:0.8;\" x=\"81.4875\" xlink:href=\"#m2325411b23\" y=\"198.78831\"/>\n      </g>\n     </g>\n     <g id=\"text_22\">\n      <!-- SibSp -->\n      <g transform=\"translate(46.315625 202.587528)scale(0.1 -0.1)\">\n       <use xlink:href=\"#DejaVuSans-83\"/>\n       <use x=\"63.476562\" xlink:href=\"#DejaVuSans-105\"/>\n       <use x=\"91.259766\" xlink:href=\"#DejaVuSans-98\"/>\n       <use x=\"154.736328\" xlink:href=\"#DejaVuSans-83\"/>\n       <use x=\"218.212891\" xlink:href=\"#DejaVuSans-112\"/>\n      </g>\n     </g>\n    </g>\n    <g id=\"ytick_11\">\n     <g id=\"line2d_22\">\n      <g>\n       <use style=\"stroke:#000000;stroke-width:0.8;\" x=\"81.4875\" xlink:href=\"#m2325411b23\" y=\"218.555582\"/>\n      </g>\n     </g>\n     <g id=\"text_23\">\n      <!-- Title -->\n      <g transform=\"translate(52.754688 222.354801)scale(0.1 -0.1)\">\n       <use xlink:href=\"#DejaVuSans-84\"/>\n       <use x=\"61.037109\" xlink:href=\"#DejaVuSans-105\"/>\n       <use x=\"88.820312\" xlink:href=\"#DejaVuSans-116\"/>\n       <use x=\"128.029297\" xlink:href=\"#DejaVuSans-108\"/>\n       <use x=\"155.8125\" xlink:href=\"#DejaVuSans-101\"/>\n      </g>\n     </g>\n    </g>\n    <g id=\"text_24\">\n     <!-- y -->\n     <g transform=\"translate(14.798438 122.678594)rotate(-90)scale(0.1 -0.1)\">\n      <use xlink:href=\"#DejaVuSans-121\"/>\n     </g>\n    </g>\n   </g>\n   <g id=\"text_25\">\n    <!-- 1 -->\n    <g style=\"fill:#262626;\" transform=\"translate(90.480795 23.64223)scale(0.1 -0.1)\">\n     <use xlink:href=\"#DejaVuSans-49\"/>\n    </g>\n   </g>\n   <g id=\"text_26\">\n    <!-- 0.02 -->\n    <defs>\n     <path d=\"M 31.78125 66.40625 \nQ 24.171875 66.40625 20.328125 58.90625 \nQ 16.5 51.421875 16.5 36.375 \nQ 16.5 21.390625 20.328125 13.890625 \nQ 24.171875 6.390625 31.78125 6.390625 \nQ 39.453125 6.390625 43.28125 13.890625 \nQ 47.125 21.390625 47.125 36.375 \nQ 47.125 51.421875 43.28125 58.90625 \nQ 39.453125 66.40625 31.78125 66.40625 \nz\nM 31.78125 74.21875 \nQ 44.046875 74.21875 50.515625 64.515625 \nQ 56.984375 54.828125 56.984375 36.375 \nQ 56.984375 17.96875 50.515625 8.265625 \nQ 44.046875 -1.421875 31.78125 -1.421875 \nQ 19.53125 -1.421875 13.0625 8.265625 \nQ 6.59375 17.96875 6.59375 36.375 \nQ 6.59375 54.828125 13.0625 64.515625 \nQ 19.53125 74.21875 31.78125 74.21875 \nz\n\" id=\"DejaVuSans-48\"/>\n     <path d=\"M 10.6875 12.40625 \nL 21 12.40625 \nL 21 0 \nL 10.6875 0 \nz\n\" id=\"DejaVuSans-46\"/>\n     <path d=\"M 19.1875 8.296875 \nL 53.609375 8.296875 \nL 53.609375 0 \nL 7.328125 0 \nL 7.328125 8.296875 \nQ 12.9375 14.109375 22.625 23.890625 \nQ 32.328125 33.6875 34.8125 36.53125 \nQ 39.546875 41.84375 41.421875 45.53125 \nQ 43.3125 49.21875 43.3125 52.78125 \nQ 43.3125 58.59375 39.234375 62.25 \nQ 35.15625 65.921875 28.609375 65.921875 \nQ 23.96875 65.921875 18.8125 64.3125 \nQ 13.671875 62.703125 7.8125 59.421875 \nL 7.8125 69.390625 \nQ 13.765625 71.78125 18.9375 73 \nQ 24.125 74.21875 28.421875 74.21875 \nQ 39.75 74.21875 46.484375 68.546875 \nQ 53.21875 62.890625 53.21875 53.421875 \nQ 53.21875 48.921875 51.53125 44.890625 \nQ 49.859375 40.875 45.40625 35.40625 \nQ 44.1875 33.984375 37.640625 27.21875 \nQ 31.109375 20.453125 19.1875 8.296875 \nz\n\" id=\"DejaVuSans-50\"/>\n    </defs>\n    <g style=\"fill:#262626;\" transform=\"translate(106.878324 23.64223)scale(0.1 -0.1)\">\n     <use xlink:href=\"#DejaVuSans-48\"/>\n     <use x=\"63.623047\" xlink:href=\"#DejaVuSans-46\"/>\n     <use x=\"95.410156\" xlink:href=\"#DejaVuSans-48\"/>\n     <use x=\"159.033203\" xlink:href=\"#DejaVuSans-50\"/>\n    </g>\n   </g>\n   <g id=\"text_27\">\n    <!-- 0 -->\n    <g style=\"fill:#262626;\" transform=\"translate(139.178977 23.64223)scale(0.1 -0.1)\">\n     <use xlink:href=\"#DejaVuSans-48\"/>\n    </g>\n   </g>\n   <g id=\"text_28\">\n    <!-- 0 -->\n    <g style=\"fill:#262626;\" transform=\"translate(163.528068 23.64223)scale(0.1 -0.1)\">\n     <use xlink:href=\"#DejaVuSans-48\"/>\n    </g>\n   </g>\n   <g id=\"text_29\">\n    <!-- 0 -->\n    <g style=\"fill:#262626;\" transform=\"translate(187.877159 23.64223)scale(0.1 -0.1)\">\n     <use xlink:href=\"#DejaVuSans-48\"/>\n    </g>\n   </g>\n   <g id=\"text_30\">\n    <!-- 0 -->\n    <g style=\"fill:#262626;\" transform=\"translate(212.22625 23.64223)scale(0.1 -0.1)\">\n     <use xlink:href=\"#DejaVuSans-48\"/>\n    </g>\n   </g>\n   <g id=\"text_31\">\n    <!-- 0 -->\n    <g style=\"fill:#262626;\" transform=\"translate(236.575341 23.64223)scale(0.1 -0.1)\">\n     <use xlink:href=\"#DejaVuSans-48\"/>\n    </g>\n   </g>\n   <g id=\"text_32\">\n    <!-- 0.04 -->\n    <defs>\n     <path d=\"M 37.796875 64.3125 \nL 12.890625 25.390625 \nL 37.796875 25.390625 \nz\nM 35.203125 72.90625 \nL 47.609375 72.90625 \nL 47.609375 25.390625 \nL 58.015625 25.390625 \nL 58.015625 17.1875 \nL 47.609375 17.1875 \nL 47.609375 0 \nL 37.796875 0 \nL 37.796875 17.1875 \nL 4.890625 17.1875 \nL 4.890625 26.703125 \nz\n\" id=\"DejaVuSans-52\"/>\n    </defs>\n    <g style=\"fill:#262626;\" transform=\"translate(252.972869 23.64223)scale(0.1 -0.1)\">\n     <use xlink:href=\"#DejaVuSans-48\"/>\n     <use x=\"63.623047\" xlink:href=\"#DejaVuSans-46\"/>\n     <use x=\"95.410156\" xlink:href=\"#DejaVuSans-48\"/>\n     <use x=\"159.033203\" xlink:href=\"#DejaVuSans-52\"/>\n    </g>\n   </g>\n   <g id=\"text_33\">\n    <!-- 0 -->\n    <g style=\"fill:#262626;\" transform=\"translate(285.273523 23.64223)scale(0.1 -0.1)\">\n     <use xlink:href=\"#DejaVuSans-48\"/>\n    </g>\n   </g>\n   <g id=\"text_34\">\n    <!-- 0.02 -->\n    <g style=\"fill:#262626;\" transform=\"translate(301.671051 23.64223)scale(0.1 -0.1)\">\n     <use xlink:href=\"#DejaVuSans-48\"/>\n     <use x=\"63.623047\" xlink:href=\"#DejaVuSans-46\"/>\n     <use x=\"95.410156\" xlink:href=\"#DejaVuSans-48\"/>\n     <use x=\"159.033203\" xlink:href=\"#DejaVuSans-50\"/>\n    </g>\n   </g>\n   <g id=\"text_35\">\n    <!-- 0.14 -->\n    <g style=\"fill:#ffffff;\" transform=\"translate(326.020142 23.64223)scale(0.1 -0.1)\">\n     <use xlink:href=\"#DejaVuSans-48\"/>\n     <use x=\"63.623047\" xlink:href=\"#DejaVuSans-46\"/>\n     <use x=\"95.410156\" xlink:href=\"#DejaVuSans-49\"/>\n     <use x=\"159.033203\" xlink:href=\"#DejaVuSans-52\"/>\n    </g>\n   </g>\n   <g id=\"text_36\">\n    <!-- 0 -->\n    <g style=\"fill:#262626;\" transform=\"translate(90.480795 43.409503)scale(0.1 -0.1)\">\n     <use xlink:href=\"#DejaVuSans-48\"/>\n    </g>\n   </g>\n   <g id=\"text_37\">\n    <!-- 1 -->\n    <g style=\"fill:#262626;\" transform=\"translate(114.829886 43.409503)scale(0.1 -0.1)\">\n     <use xlink:href=\"#DejaVuSans-49\"/>\n    </g>\n   </g>\n   <g id=\"text_38\">\n    <!-- 0 -->\n    <g style=\"fill:#262626;\" transform=\"translate(139.178977 43.409503)scale(0.1 -0.1)\">\n     <use xlink:href=\"#DejaVuSans-48\"/>\n    </g>\n   </g>\n   <g id=\"text_39\">\n    <!-- 0 -->\n    <g style=\"fill:#262626;\" transform=\"translate(163.528068 43.409503)scale(0.1 -0.1)\">\n     <use xlink:href=\"#DejaVuSans-48\"/>\n    </g>\n   </g>\n   <g id=\"text_40\">\n    <!-- 0.72 -->\n    <defs>\n     <path d=\"M 8.203125 72.90625 \nL 55.078125 72.90625 \nL 55.078125 68.703125 \nL 28.609375 0 \nL 18.3125 0 \nL 43.21875 64.59375 \nL 8.203125 64.59375 \nz\n\" id=\"DejaVuSans-55\"/>\n    </defs>\n    <g style=\"fill:#ffffff;\" transform=\"translate(179.925597 43.409503)scale(0.1 -0.1)\">\n     <use xlink:href=\"#DejaVuSans-48\"/>\n     <use x=\"63.623047\" xlink:href=\"#DejaVuSans-46\"/>\n     <use x=\"95.410156\" xlink:href=\"#DejaVuSans-55\"/>\n     <use x=\"159.033203\" xlink:href=\"#DejaVuSans-50\"/>\n    </g>\n   </g>\n   <g id=\"text_41\">\n    <!-- 0 -->\n    <g style=\"fill:#262626;\" transform=\"translate(212.22625 43.409503)scale(0.1 -0.1)\">\n     <use xlink:href=\"#DejaVuSans-48\"/>\n    </g>\n   </g>\n   <g id=\"text_42\">\n    <!-- 0 -->\n    <g style=\"fill:#262626;\" transform=\"translate(236.575341 43.409503)scale(0.1 -0.1)\">\n     <use xlink:href=\"#DejaVuSans-48\"/>\n    </g>\n   </g>\n   <g id=\"text_43\">\n    <!-- 0.66 -->\n    <defs>\n     <path d=\"M 33.015625 40.375 \nQ 26.375 40.375 22.484375 35.828125 \nQ 18.609375 31.296875 18.609375 23.390625 \nQ 18.609375 15.53125 22.484375 10.953125 \nQ 26.375 6.390625 33.015625 6.390625 \nQ 39.65625 6.390625 43.53125 10.953125 \nQ 47.40625 15.53125 47.40625 23.390625 \nQ 47.40625 31.296875 43.53125 35.828125 \nQ 39.65625 40.375 33.015625 40.375 \nz\nM 52.59375 71.296875 \nL 52.59375 62.3125 \nQ 48.875 64.0625 45.09375 64.984375 \nQ 41.3125 65.921875 37.59375 65.921875 \nQ 27.828125 65.921875 22.671875 59.328125 \nQ 17.53125 52.734375 16.796875 39.40625 \nQ 19.671875 43.65625 24.015625 45.921875 \nQ 28.375 48.1875 33.59375 48.1875 \nQ 44.578125 48.1875 50.953125 41.515625 \nQ 57.328125 34.859375 57.328125 23.390625 \nQ 57.328125 12.15625 50.6875 5.359375 \nQ 44.046875 -1.421875 33.015625 -1.421875 \nQ 20.359375 -1.421875 13.671875 8.265625 \nQ 6.984375 17.96875 6.984375 36.375 \nQ 6.984375 53.65625 15.1875 63.9375 \nQ 23.390625 74.21875 37.203125 74.21875 \nQ 40.921875 74.21875 44.703125 73.484375 \nQ 48.484375 72.75 52.59375 71.296875 \nz\n\" id=\"DejaVuSans-54\"/>\n    </defs>\n    <g style=\"fill:#ffffff;\" transform=\"translate(252.972869 43.409503)scale(0.1 -0.1)\">\n     <use xlink:href=\"#DejaVuSans-48\"/>\n     <use x=\"63.623047\" xlink:href=\"#DejaVuSans-46\"/>\n     <use x=\"95.410156\" xlink:href=\"#DejaVuSans-54\"/>\n     <use x=\"159.033203\" xlink:href=\"#DejaVuSans-54\"/>\n    </g>\n   </g>\n   <g id=\"text_44\">\n    <!-- 0 -->\n    <g style=\"fill:#262626;\" transform=\"translate(285.273523 43.409503)scale(0.1 -0.1)\">\n     <use xlink:href=\"#DejaVuSans-48\"/>\n    </g>\n   </g>\n   <g id=\"text_45\">\n    <!-- 0 -->\n    <g style=\"fill:#262626;\" transform=\"translate(309.622614 43.409503)scale(0.1 -0.1)\">\n     <use xlink:href=\"#DejaVuSans-48\"/>\n    </g>\n   </g>\n   <g id=\"text_46\">\n    <!-- 0 -->\n    <g style=\"fill:#262626;\" transform=\"translate(333.971705 43.409503)scale(0.1 -0.1)\">\n     <use xlink:href=\"#DejaVuSans-48\"/>\n    </g>\n   </g>\n   <g id=\"text_47\">\n    <!-- 0 -->\n    <g style=\"fill:#262626;\" transform=\"translate(90.480795 63.176776)scale(0.1 -0.1)\">\n     <use xlink:href=\"#DejaVuSans-48\"/>\n    </g>\n   </g>\n   <g id=\"text_48\">\n    <!-- 0 -->\n    <g style=\"fill:#262626;\" transform=\"translate(114.829886 63.176776)scale(0.1 -0.1)\">\n     <use xlink:href=\"#DejaVuSans-48\"/>\n    </g>\n   </g>\n   <g id=\"text_49\">\n    <!-- 1 -->\n    <g style=\"fill:#262626;\" transform=\"translate(139.178977 63.176776)scale(0.1 -0.1)\">\n     <use xlink:href=\"#DejaVuSans-49\"/>\n    </g>\n   </g>\n   <g id=\"text_50\">\n    <!-- 0 -->\n    <g style=\"fill:#262626;\" transform=\"translate(163.528068 63.176776)scale(0.1 -0.1)\">\n     <use xlink:href=\"#DejaVuSans-48\"/>\n    </g>\n   </g>\n   <g id=\"text_51\">\n    <!-- 0.74 -->\n    <g style=\"fill:#ffffff;\" transform=\"translate(179.925597 63.176776)scale(0.1 -0.1)\">\n     <use xlink:href=\"#DejaVuSans-48\"/>\n     <use x=\"63.623047\" xlink:href=\"#DejaVuSans-46\"/>\n     <use x=\"95.410156\" xlink:href=\"#DejaVuSans-55\"/>\n     <use x=\"159.033203\" xlink:href=\"#DejaVuSans-52\"/>\n    </g>\n   </g>\n   <g id=\"text_52\">\n    <!-- 0 -->\n    <g style=\"fill:#262626;\" transform=\"translate(212.22625 63.176776)scale(0.1 -0.1)\">\n     <use xlink:href=\"#DejaVuSans-48\"/>\n    </g>\n   </g>\n   <g id=\"text_53\">\n    <!-- 0 -->\n    <g style=\"fill:#262626;\" transform=\"translate(236.575341 63.176776)scale(0.1 -0.1)\">\n     <use xlink:href=\"#DejaVuSans-48\"/>\n    </g>\n   </g>\n   <g id=\"text_54\">\n    <!-- 0 -->\n    <g style=\"fill:#262626;\" transform=\"translate(260.924432 63.176776)scale(0.1 -0.1)\">\n     <use xlink:href=\"#DejaVuSans-48\"/>\n    </g>\n   </g>\n   <g id=\"text_55\">\n    <!-- 0 -->\n    <g style=\"fill:#262626;\" transform=\"translate(285.273523 63.176776)scale(0.1 -0.1)\">\n     <use xlink:href=\"#DejaVuSans-48\"/>\n    </g>\n   </g>\n   <g id=\"text_56\">\n    <!-- 0 -->\n    <g style=\"fill:#262626;\" transform=\"translate(309.622614 63.176776)scale(0.1 -0.1)\">\n     <use xlink:href=\"#DejaVuSans-48\"/>\n    </g>\n   </g>\n   <g id=\"text_57\">\n    <!-- 0 -->\n    <g style=\"fill:#262626;\" transform=\"translate(333.971705 63.176776)scale(0.1 -0.1)\">\n     <use xlink:href=\"#DejaVuSans-48\"/>\n    </g>\n   </g>\n   <g id=\"text_58\">\n    <!-- 0 -->\n    <g style=\"fill:#262626;\" transform=\"translate(90.480795 82.944048)scale(0.1 -0.1)\">\n     <use xlink:href=\"#DejaVuSans-48\"/>\n    </g>\n   </g>\n   <g id=\"text_59\">\n    <!-- 0 -->\n    <g style=\"fill:#262626;\" transform=\"translate(114.829886 82.944048)scale(0.1 -0.1)\">\n     <use xlink:href=\"#DejaVuSans-48\"/>\n    </g>\n   </g>\n   <g id=\"text_60\">\n    <!-- 0 -->\n    <g style=\"fill:#262626;\" transform=\"translate(139.178977 82.944048)scale(0.1 -0.1)\">\n     <use xlink:href=\"#DejaVuSans-48\"/>\n    </g>\n   </g>\n   <g id=\"text_61\">\n    <!-- 1 -->\n    <g style=\"fill:#262626;\" transform=\"translate(163.528068 82.944048)scale(0.1 -0.1)\">\n     <use xlink:href=\"#DejaVuSans-49\"/>\n    </g>\n   </g>\n   <g id=\"text_62\">\n    <!-- 0.61 -->\n    <g style=\"fill:#ffffff;\" transform=\"translate(179.925597 82.944048)scale(0.1 -0.1)\">\n     <use xlink:href=\"#DejaVuSans-48\"/>\n     <use x=\"63.623047\" xlink:href=\"#DejaVuSans-46\"/>\n     <use x=\"95.410156\" xlink:href=\"#DejaVuSans-54\"/>\n     <use x=\"159.033203\" xlink:href=\"#DejaVuSans-49\"/>\n    </g>\n   </g>\n   <g id=\"text_63\">\n    <!-- 0.45 -->\n    <defs>\n     <path d=\"M 10.796875 72.90625 \nL 49.515625 72.90625 \nL 49.515625 64.59375 \nL 19.828125 64.59375 \nL 19.828125 46.734375 \nQ 21.96875 47.46875 24.109375 47.828125 \nQ 26.265625 48.1875 28.421875 48.1875 \nQ 40.625 48.1875 47.75 41.5 \nQ 54.890625 34.8125 54.890625 23.390625 \nQ 54.890625 11.625 47.5625 5.09375 \nQ 40.234375 -1.421875 26.90625 -1.421875 \nQ 22.3125 -1.421875 17.546875 -0.640625 \nQ 12.796875 0.140625 7.71875 1.703125 \nL 7.71875 11.625 \nQ 12.109375 9.234375 16.796875 8.0625 \nQ 21.484375 6.890625 26.703125 6.890625 \nQ 35.15625 6.890625 40.078125 11.328125 \nQ 45.015625 15.765625 45.015625 23.390625 \nQ 45.015625 31 40.078125 35.4375 \nQ 35.15625 39.890625 26.703125 39.890625 \nQ 22.75 39.890625 18.8125 39.015625 \nQ 14.890625 38.140625 10.796875 36.28125 \nz\n\" id=\"DejaVuSans-53\"/>\n    </defs>\n    <g style=\"fill:#ffffff;\" transform=\"translate(204.274688 82.944048)scale(0.1 -0.1)\">\n     <use xlink:href=\"#DejaVuSans-48\"/>\n     <use x=\"63.623047\" xlink:href=\"#DejaVuSans-46\"/>\n     <use x=\"95.410156\" xlink:href=\"#DejaVuSans-52\"/>\n     <use x=\"159.033203\" xlink:href=\"#DejaVuSans-53\"/>\n    </g>\n   </g>\n   <g id=\"text_64\">\n    <!-- 0.36 -->\n    <defs>\n     <path d=\"M 40.578125 39.3125 \nQ 47.65625 37.796875 51.625 33 \nQ 55.609375 28.21875 55.609375 21.1875 \nQ 55.609375 10.40625 48.1875 4.484375 \nQ 40.765625 -1.421875 27.09375 -1.421875 \nQ 22.515625 -1.421875 17.65625 -0.515625 \nQ 12.796875 0.390625 7.625 2.203125 \nL 7.625 11.71875 \nQ 11.71875 9.328125 16.59375 8.109375 \nQ 21.484375 6.890625 26.8125 6.890625 \nQ 36.078125 6.890625 40.9375 10.546875 \nQ 45.796875 14.203125 45.796875 21.1875 \nQ 45.796875 27.640625 41.28125 31.265625 \nQ 36.765625 34.90625 28.71875 34.90625 \nL 20.21875 34.90625 \nL 20.21875 43.015625 \nL 29.109375 43.015625 \nQ 36.375 43.015625 40.234375 45.921875 \nQ 44.09375 48.828125 44.09375 54.296875 \nQ 44.09375 59.90625 40.109375 62.90625 \nQ 36.140625 65.921875 28.71875 65.921875 \nQ 24.65625 65.921875 20.015625 65.03125 \nQ 15.375 64.15625 9.8125 62.3125 \nL 9.8125 71.09375 \nQ 15.4375 72.65625 20.34375 73.4375 \nQ 25.25 74.21875 29.59375 74.21875 \nQ 40.828125 74.21875 47.359375 69.109375 \nQ 53.90625 64.015625 53.90625 55.328125 \nQ 53.90625 49.265625 50.4375 45.09375 \nQ 46.96875 40.921875 40.578125 39.3125 \nz\n\" id=\"DejaVuSans-51\"/>\n    </defs>\n    <g style=\"fill:#ffffff;\" transform=\"translate(228.623778 82.944048)scale(0.1 -0.1)\">\n     <use xlink:href=\"#DejaVuSans-48\"/>\n     <use x=\"63.623047\" xlink:href=\"#DejaVuSans-46\"/>\n     <use x=\"95.410156\" xlink:href=\"#DejaVuSans-51\"/>\n     <use x=\"159.033203\" xlink:href=\"#DejaVuSans-54\"/>\n    </g>\n   </g>\n   <g id=\"text_65\">\n    <!-- 0 -->\n    <g style=\"fill:#262626;\" transform=\"translate(260.924432 82.944048)scale(0.1 -0.1)\">\n     <use xlink:href=\"#DejaVuSans-48\"/>\n    </g>\n   </g>\n   <g id=\"text_66\">\n    <!-- 0 -->\n    <g style=\"fill:#262626;\" transform=\"translate(285.273523 82.944048)scale(0.1 -0.1)\">\n     <use xlink:href=\"#DejaVuSans-48\"/>\n    </g>\n   </g>\n   <g id=\"text_67\">\n    <!-- 0.48 -->\n    <defs>\n     <path d=\"M 31.78125 34.625 \nQ 24.75 34.625 20.71875 30.859375 \nQ 16.703125 27.09375 16.703125 20.515625 \nQ 16.703125 13.921875 20.71875 10.15625 \nQ 24.75 6.390625 31.78125 6.390625 \nQ 38.8125 6.390625 42.859375 10.171875 \nQ 46.921875 13.96875 46.921875 20.515625 \nQ 46.921875 27.09375 42.890625 30.859375 \nQ 38.875 34.625 31.78125 34.625 \nz\nM 21.921875 38.8125 \nQ 15.578125 40.375 12.03125 44.71875 \nQ 8.5 49.078125 8.5 55.328125 \nQ 8.5 64.0625 14.71875 69.140625 \nQ 20.953125 74.21875 31.78125 74.21875 \nQ 42.671875 74.21875 48.875 69.140625 \nQ 55.078125 64.0625 55.078125 55.328125 \nQ 55.078125 49.078125 51.53125 44.71875 \nQ 48 40.375 41.703125 38.8125 \nQ 48.828125 37.15625 52.796875 32.3125 \nQ 56.78125 27.484375 56.78125 20.515625 \nQ 56.78125 9.90625 50.3125 4.234375 \nQ 43.84375 -1.421875 31.78125 -1.421875 \nQ 19.734375 -1.421875 13.25 4.234375 \nQ 6.78125 9.90625 6.78125 20.515625 \nQ 6.78125 27.484375 10.78125 32.3125 \nQ 14.796875 37.15625 21.921875 38.8125 \nz\nM 18.3125 54.390625 \nQ 18.3125 48.734375 21.84375 45.5625 \nQ 25.390625 42.390625 31.78125 42.390625 \nQ 38.140625 42.390625 41.71875 45.5625 \nQ 45.3125 48.734375 45.3125 54.390625 \nQ 45.3125 60.0625 41.71875 63.234375 \nQ 38.140625 66.40625 31.78125 66.40625 \nQ 25.390625 66.40625 21.84375 63.234375 \nQ 18.3125 60.0625 18.3125 54.390625 \nz\n\" id=\"DejaVuSans-56\"/>\n    </defs>\n    <g style=\"fill:#ffffff;\" transform=\"translate(301.671051 82.944048)scale(0.1 -0.1)\">\n     <use xlink:href=\"#DejaVuSans-48\"/>\n     <use x=\"63.623047\" xlink:href=\"#DejaVuSans-46\"/>\n     <use x=\"95.410156\" xlink:href=\"#DejaVuSans-52\"/>\n     <use x=\"159.033203\" xlink:href=\"#DejaVuSans-56\"/>\n    </g>\n   </g>\n   <g id=\"text_68\">\n    <!-- 0 -->\n    <g style=\"fill:#262626;\" transform=\"translate(333.971705 82.944048)scale(0.1 -0.1)\">\n     <use xlink:href=\"#DejaVuSans-48\"/>\n    </g>\n   </g>\n   <g id=\"text_69\">\n    <!-- 0 -->\n    <g style=\"fill:#262626;\" transform=\"translate(90.480795 102.711321)scale(0.1 -0.1)\">\n     <use xlink:href=\"#DejaVuSans-48\"/>\n    </g>\n   </g>\n   <g id=\"text_70\">\n    <!-- 0.16 -->\n    <g style=\"fill:#ffffff;\" transform=\"translate(106.878324 102.711321)scale(0.1 -0.1)\">\n     <use xlink:href=\"#DejaVuSans-48\"/>\n     <use x=\"63.623047\" xlink:href=\"#DejaVuSans-46\"/>\n     <use x=\"95.410156\" xlink:href=\"#DejaVuSans-49\"/>\n     <use x=\"159.033203\" xlink:href=\"#DejaVuSans-54\"/>\n    </g>\n   </g>\n   <g id=\"text_71\">\n    <!-- 0 -->\n    <g style=\"fill:#262626;\" transform=\"translate(139.178977 102.711321)scale(0.1 -0.1)\">\n     <use xlink:href=\"#DejaVuSans-48\"/>\n    </g>\n   </g>\n   <g id=\"text_72\">\n    <!-- 0 -->\n    <g style=\"fill:#262626;\" transform=\"translate(163.528068 102.711321)scale(0.1 -0.1)\">\n     <use xlink:href=\"#DejaVuSans-48\"/>\n    </g>\n   </g>\n   <g id=\"text_73\">\n    <!-- 1 -->\n    <g style=\"fill:#262626;\" transform=\"translate(187.877159 102.711321)scale(0.1 -0.1)\">\n     <use xlink:href=\"#DejaVuSans-49\"/>\n    </g>\n   </g>\n   <g id=\"text_74\">\n    <!-- 0.1 -->\n    <g style=\"fill:#262626;\" transform=\"translate(207.455938 102.711321)scale(0.1 -0.1)\">\n     <use xlink:href=\"#DejaVuSans-48\"/>\n     <use x=\"63.623047\" xlink:href=\"#DejaVuSans-46\"/>\n     <use x=\"95.410156\" xlink:href=\"#DejaVuSans-49\"/>\n    </g>\n   </g>\n   <g id=\"text_75\">\n    <!-- 0 -->\n    <g style=\"fill:#262626;\" transform=\"translate(236.575341 102.711321)scale(0.1 -0.1)\">\n     <use xlink:href=\"#DejaVuSans-48\"/>\n    </g>\n   </g>\n   <g id=\"text_76\">\n    <!-- 0.19 -->\n    <defs>\n     <path d=\"M 10.984375 1.515625 \nL 10.984375 10.5 \nQ 14.703125 8.734375 18.5 7.8125 \nQ 22.3125 6.890625 25.984375 6.890625 \nQ 35.75 6.890625 40.890625 13.453125 \nQ 46.046875 20.015625 46.78125 33.40625 \nQ 43.953125 29.203125 39.59375 26.953125 \nQ 35.25 24.703125 29.984375 24.703125 \nQ 19.046875 24.703125 12.671875 31.3125 \nQ 6.296875 37.9375 6.296875 49.421875 \nQ 6.296875 60.640625 12.9375 67.421875 \nQ 19.578125 74.21875 30.609375 74.21875 \nQ 43.265625 74.21875 49.921875 64.515625 \nQ 56.59375 54.828125 56.59375 36.375 \nQ 56.59375 19.140625 48.40625 8.859375 \nQ 40.234375 -1.421875 26.421875 -1.421875 \nQ 22.703125 -1.421875 18.890625 -0.6875 \nQ 15.09375 0.046875 10.984375 1.515625 \nz\nM 30.609375 32.421875 \nQ 37.25 32.421875 41.125 36.953125 \nQ 45.015625 41.5 45.015625 49.421875 \nQ 45.015625 57.28125 41.125 61.84375 \nQ 37.25 66.40625 30.609375 66.40625 \nQ 23.96875 66.40625 20.09375 61.84375 \nQ 16.21875 57.28125 16.21875 49.421875 \nQ 16.21875 41.5 20.09375 36.953125 \nQ 23.96875 32.421875 30.609375 32.421875 \nz\n\" id=\"DejaVuSans-57\"/>\n    </defs>\n    <g style=\"fill:#ffffff;\" transform=\"translate(252.972869 102.711321)scale(0.1 -0.1)\">\n     <use xlink:href=\"#DejaVuSans-48\"/>\n     <use x=\"63.623047\" xlink:href=\"#DejaVuSans-46\"/>\n     <use x=\"95.410156\" xlink:href=\"#DejaVuSans-49\"/>\n     <use x=\"159.033203\" xlink:href=\"#DejaVuSans-57\"/>\n    </g>\n   </g>\n   <g id=\"text_77\">\n    <!-- 0 -->\n    <g style=\"fill:#262626;\" transform=\"translate(285.273523 102.711321)scale(0.1 -0.1)\">\n     <use xlink:href=\"#DejaVuSans-48\"/>\n    </g>\n   </g>\n   <g id=\"text_78\">\n    <!-- 0 -->\n    <g style=\"fill:#262626;\" transform=\"translate(309.622614 102.711321)scale(0.1 -0.1)\">\n     <use xlink:href=\"#DejaVuSans-48\"/>\n    </g>\n   </g>\n   <g id=\"text_79\">\n    <!-- 0 -->\n    <g style=\"fill:#262626;\" transform=\"translate(333.971705 102.711321)scale(0.1 -0.1)\">\n     <use xlink:href=\"#DejaVuSans-48\"/>\n    </g>\n   </g>\n   <g id=\"text_80\">\n    <!-- 0 -->\n    <g style=\"fill:#262626;\" transform=\"translate(90.480795 122.478594)scale(0.1 -0.1)\">\n     <use xlink:href=\"#DejaVuSans-48\"/>\n    </g>\n   </g>\n   <g id=\"text_81\">\n    <!-- 0 -->\n    <g style=\"fill:#262626;\" transform=\"translate(114.829886 122.478594)scale(0.1 -0.1)\">\n     <use xlink:href=\"#DejaVuSans-48\"/>\n    </g>\n   </g>\n   <g id=\"text_82\">\n    <!-- 0 -->\n    <g style=\"fill:#262626;\" transform=\"translate(139.178977 122.478594)scale(0.1 -0.1)\">\n     <use xlink:href=\"#DejaVuSans-48\"/>\n    </g>\n   </g>\n   <g id=\"text_83\">\n    <!-- 0.46 -->\n    <g style=\"fill:#ffffff;\" transform=\"translate(155.576506 122.478594)scale(0.1 -0.1)\">\n     <use xlink:href=\"#DejaVuSans-48\"/>\n     <use x=\"63.623047\" xlink:href=\"#DejaVuSans-46\"/>\n     <use x=\"95.410156\" xlink:href=\"#DejaVuSans-52\"/>\n     <use x=\"159.033203\" xlink:href=\"#DejaVuSans-54\"/>\n    </g>\n   </g>\n   <g id=\"text_84\">\n    <!-- 0.9 -->\n    <g style=\"fill:#ffffff;\" transform=\"translate(183.106847 122.478594)scale(0.1 -0.1)\">\n     <use xlink:href=\"#DejaVuSans-48\"/>\n     <use x=\"63.623047\" xlink:href=\"#DejaVuSans-46\"/>\n     <use x=\"95.410156\" xlink:href=\"#DejaVuSans-57\"/>\n    </g>\n   </g>\n   <g id=\"text_85\">\n    <!-- 1 -->\n    <g style=\"fill:#262626;\" transform=\"translate(212.22625 122.478594)scale(0.1 -0.1)\">\n     <use xlink:href=\"#DejaVuSans-49\"/>\n    </g>\n   </g>\n   <g id=\"text_86\">\n    <!-- 0.2 -->\n    <g style=\"fill:#ffffff;\" transform=\"translate(231.805028 122.478594)scale(0.1 -0.1)\">\n     <use xlink:href=\"#DejaVuSans-48\"/>\n     <use x=\"63.623047\" xlink:href=\"#DejaVuSans-46\"/>\n     <use x=\"95.410156\" xlink:href=\"#DejaVuSans-50\"/>\n    </g>\n   </g>\n   <g id=\"text_87\">\n    <!-- 0 -->\n    <g style=\"fill:#262626;\" transform=\"translate(260.924432 122.478594)scale(0.1 -0.1)\">\n     <use xlink:href=\"#DejaVuSans-48\"/>\n    </g>\n   </g>\n   <g id=\"text_88\">\n    <!-- 0 -->\n    <g style=\"fill:#262626;\" transform=\"translate(285.273523 122.478594)scale(0.1 -0.1)\">\n     <use xlink:href=\"#DejaVuSans-48\"/>\n    </g>\n   </g>\n   <g id=\"text_89\">\n    <!-- 0.2 -->\n    <g style=\"fill:#ffffff;\" transform=\"translate(304.852301 122.478594)scale(0.1 -0.1)\">\n     <use xlink:href=\"#DejaVuSans-48\"/>\n     <use x=\"63.623047\" xlink:href=\"#DejaVuSans-46\"/>\n     <use x=\"95.410156\" xlink:href=\"#DejaVuSans-50\"/>\n    </g>\n   </g>\n   <g id=\"text_90\">\n    <!-- 0 -->\n    <g style=\"fill:#262626;\" transform=\"translate(333.971705 122.478594)scale(0.1 -0.1)\">\n     <use xlink:href=\"#DejaVuSans-48\"/>\n    </g>\n   </g>\n   <g id=\"text_91\">\n    <!-- 0 -->\n    <g style=\"fill:#262626;\" transform=\"translate(90.480795 142.245866)scale(0.1 -0.1)\">\n     <use xlink:href=\"#DejaVuSans-48\"/>\n    </g>\n   </g>\n   <g id=\"text_92\">\n    <!-- 0 -->\n    <g style=\"fill:#262626;\" transform=\"translate(114.829886 142.245866)scale(0.1 -0.1)\">\n     <use xlink:href=\"#DejaVuSans-48\"/>\n    </g>\n   </g>\n   <g id=\"text_93\">\n    <!-- 0 -->\n    <g style=\"fill:#262626;\" transform=\"translate(139.178977 142.245866)scale(0.1 -0.1)\">\n     <use xlink:href=\"#DejaVuSans-48\"/>\n    </g>\n   </g>\n   <g id=\"text_94\">\n    <!-- 0.44 -->\n    <g style=\"fill:#ffffff;\" transform=\"translate(155.576506 142.245866)scale(0.1 -0.1)\">\n     <use xlink:href=\"#DejaVuSans-48\"/>\n     <use x=\"63.623047\" xlink:href=\"#DejaVuSans-46\"/>\n     <use x=\"95.410156\" xlink:href=\"#DejaVuSans-52\"/>\n     <use x=\"159.033203\" xlink:href=\"#DejaVuSans-52\"/>\n    </g>\n   </g>\n   <g id=\"text_95\">\n    <!-- 0.27 -->\n    <g style=\"fill:#ffffff;\" transform=\"translate(179.925597 142.245866)scale(0.1 -0.1)\">\n     <use xlink:href=\"#DejaVuSans-48\"/>\n     <use x=\"63.623047\" xlink:href=\"#DejaVuSans-46\"/>\n     <use x=\"95.410156\" xlink:href=\"#DejaVuSans-50\"/>\n     <use x=\"159.033203\" xlink:href=\"#DejaVuSans-55\"/>\n    </g>\n   </g>\n   <g id=\"text_96\">\n    <!-- 0.15 -->\n    <g style=\"fill:#ffffff;\" transform=\"translate(204.274688 142.245866)scale(0.1 -0.1)\">\n     <use xlink:href=\"#DejaVuSans-48\"/>\n     <use x=\"63.623047\" xlink:href=\"#DejaVuSans-46\"/>\n     <use x=\"95.410156\" xlink:href=\"#DejaVuSans-49\"/>\n     <use x=\"159.033203\" xlink:href=\"#DejaVuSans-53\"/>\n    </g>\n   </g>\n   <g id=\"text_97\">\n    <!-- 1 -->\n    <g style=\"fill:#262626;\" transform=\"translate(236.575341 142.245866)scale(0.1 -0.1)\">\n     <use xlink:href=\"#DejaVuSans-49\"/>\n    </g>\n   </g>\n   <g id=\"text_98\">\n    <!-- 0 -->\n    <g style=\"fill:#262626;\" transform=\"translate(260.924432 142.245866)scale(0.1 -0.1)\">\n     <use xlink:href=\"#DejaVuSans-48\"/>\n    </g>\n   </g>\n   <g id=\"text_99\">\n    <!-- 0 -->\n    <g style=\"fill:#262626;\" transform=\"translate(285.273523 142.245866)scale(0.1 -0.1)\">\n     <use xlink:href=\"#DejaVuSans-48\"/>\n    </g>\n   </g>\n   <g id=\"text_100\">\n    <!-- 0 -->\n    <g style=\"fill:#262626;\" transform=\"translate(309.622614 142.245866)scale(0.1 -0.1)\">\n     <use xlink:href=\"#DejaVuSans-48\"/>\n    </g>\n   </g>\n   <g id=\"text_101\">\n    <!-- 0 -->\n    <g style=\"fill:#262626;\" transform=\"translate(333.971705 142.245866)scale(0.1 -0.1)\">\n     <use xlink:href=\"#DejaVuSans-48\"/>\n    </g>\n   </g>\n   <g id=\"text_102\">\n    <!-- 0.08 -->\n    <g style=\"fill:#262626;\" transform=\"translate(82.529233 162.013139)scale(0.1 -0.1)\">\n     <use xlink:href=\"#DejaVuSans-48\"/>\n     <use x=\"63.623047\" xlink:href=\"#DejaVuSans-46\"/>\n     <use x=\"95.410156\" xlink:href=\"#DejaVuSans-48\"/>\n     <use x=\"159.033203\" xlink:href=\"#DejaVuSans-56\"/>\n    </g>\n   </g>\n   <g id=\"text_103\">\n    <!-- 0.55 -->\n    <g style=\"fill:#ffffff;\" transform=\"translate(106.878324 162.013139)scale(0.1 -0.1)\">\n     <use xlink:href=\"#DejaVuSans-48\"/>\n     <use x=\"63.623047\" xlink:href=\"#DejaVuSans-46\"/>\n     <use x=\"95.410156\" xlink:href=\"#DejaVuSans-53\"/>\n     <use x=\"159.033203\" xlink:href=\"#DejaVuSans-53\"/>\n    </g>\n   </g>\n   <g id=\"text_104\">\n    <!-- 0.01 -->\n    <g style=\"fill:#262626;\" transform=\"translate(131.227415 162.013139)scale(0.1 -0.1)\">\n     <use xlink:href=\"#DejaVuSans-48\"/>\n     <use x=\"63.623047\" xlink:href=\"#DejaVuSans-46\"/>\n     <use x=\"95.410156\" xlink:href=\"#DejaVuSans-48\"/>\n     <use x=\"159.033203\" xlink:href=\"#DejaVuSans-49\"/>\n    </g>\n   </g>\n   <g id=\"text_105\">\n    <!-- 0 -->\n    <g style=\"fill:#262626;\" transform=\"translate(163.528068 162.013139)scale(0.1 -0.1)\">\n     <use xlink:href=\"#DejaVuSans-48\"/>\n    </g>\n   </g>\n   <g id=\"text_106\">\n    <!-- 0.91 -->\n    <g style=\"fill:#262626;\" transform=\"translate(179.925597 162.013139)scale(0.1 -0.1)\">\n     <use xlink:href=\"#DejaVuSans-48\"/>\n     <use x=\"63.623047\" xlink:href=\"#DejaVuSans-46\"/>\n     <use x=\"95.410156\" xlink:href=\"#DejaVuSans-57\"/>\n     <use x=\"159.033203\" xlink:href=\"#DejaVuSans-49\"/>\n    </g>\n   </g>\n   <g id=\"text_107\">\n    <!-- 0.03 -->\n    <g style=\"fill:#262626;\" transform=\"translate(204.274688 162.013139)scale(0.1 -0.1)\">\n     <use xlink:href=\"#DejaVuSans-48\"/>\n     <use x=\"63.623047\" xlink:href=\"#DejaVuSans-46\"/>\n     <use x=\"95.410156\" xlink:href=\"#DejaVuSans-48\"/>\n     <use x=\"159.033203\" xlink:href=\"#DejaVuSans-51\"/>\n    </g>\n   </g>\n   <g id=\"text_108\">\n    <!-- 0 -->\n    <g style=\"fill:#262626;\" transform=\"translate(236.575341 162.013139)scale(0.1 -0.1)\">\n     <use xlink:href=\"#DejaVuSans-48\"/>\n    </g>\n   </g>\n   <g id=\"text_109\">\n    <!-- 1 -->\n    <g style=\"fill:#262626;\" transform=\"translate(260.924432 162.013139)scale(0.1 -0.1)\">\n     <use xlink:href=\"#DejaVuSans-49\"/>\n    </g>\n   </g>\n   <g id=\"text_110\">\n    <!-- 0 -->\n    <g style=\"fill:#262626;\" transform=\"translate(285.273523 162.013139)scale(0.1 -0.1)\">\n     <use xlink:href=\"#DejaVuSans-48\"/>\n    </g>\n   </g>\n   <g id=\"text_111\">\n    <!-- 0 -->\n    <g style=\"fill:#262626;\" transform=\"translate(309.622614 162.013139)scale(0.1 -0.1)\">\n     <use xlink:href=\"#DejaVuSans-48\"/>\n    </g>\n   </g>\n   <g id=\"text_112\">\n    <!-- 0 -->\n    <g style=\"fill:#262626;\" transform=\"translate(333.971705 162.013139)scale(0.1 -0.1)\">\n     <use xlink:href=\"#DejaVuSans-48\"/>\n    </g>\n   </g>\n   <g id=\"text_113\">\n    <!-- 0 -->\n    <g style=\"fill:#262626;\" transform=\"translate(90.480795 181.780412)scale(0.1 -0.1)\">\n     <use xlink:href=\"#DejaVuSans-48\"/>\n    </g>\n   </g>\n   <g id=\"text_114\">\n    <!-- 0 -->\n    <g style=\"fill:#262626;\" transform=\"translate(114.829886 181.780412)scale(0.1 -0.1)\">\n     <use xlink:href=\"#DejaVuSans-48\"/>\n    </g>\n   </g>\n   <g id=\"text_115\">\n    <!-- 0 -->\n    <g style=\"fill:#262626;\" transform=\"translate(139.178977 181.780412)scale(0.1 -0.1)\">\n     <use xlink:href=\"#DejaVuSans-48\"/>\n    </g>\n   </g>\n   <g id=\"text_116\">\n    <!-- 0 -->\n    <g style=\"fill:#262626;\" transform=\"translate(163.528068 181.780412)scale(0.1 -0.1)\">\n     <use xlink:href=\"#DejaVuSans-48\"/>\n    </g>\n   </g>\n   <g id=\"text_117\">\n    <!-- 0 -->\n    <g style=\"fill:#262626;\" transform=\"translate(187.877159 181.780412)scale(0.1 -0.1)\">\n     <use xlink:href=\"#DejaVuSans-48\"/>\n    </g>\n   </g>\n   <g id=\"text_118\">\n    <!-- 0 -->\n    <g style=\"fill:#262626;\" transform=\"translate(212.22625 181.780412)scale(0.1 -0.1)\">\n     <use xlink:href=\"#DejaVuSans-48\"/>\n    </g>\n   </g>\n   <g id=\"text_119\">\n    <!-- 0 -->\n    <g style=\"fill:#262626;\" transform=\"translate(236.575341 181.780412)scale(0.1 -0.1)\">\n     <use xlink:href=\"#DejaVuSans-48\"/>\n    </g>\n   </g>\n   <g id=\"text_120\">\n    <!-- 0 -->\n    <g style=\"fill:#262626;\" transform=\"translate(260.924432 181.780412)scale(0.1 -0.1)\">\n     <use xlink:href=\"#DejaVuSans-48\"/>\n    </g>\n   </g>\n   <g id=\"text_121\">\n    <!-- 1 -->\n    <g style=\"fill:#262626;\" transform=\"translate(285.273523 181.780412)scale(0.1 -0.1)\">\n     <use xlink:href=\"#DejaVuSans-49\"/>\n    </g>\n   </g>\n   <g id=\"text_122\">\n    <!-- 0 -->\n    <g style=\"fill:#262626;\" transform=\"translate(309.622614 181.780412)scale(0.1 -0.1)\">\n     <use xlink:href=\"#DejaVuSans-48\"/>\n    </g>\n   </g>\n   <g id=\"text_123\">\n    <!-- 0.92 -->\n    <g style=\"fill:#262626;\" transform=\"translate(326.020142 181.780412)scale(0.1 -0.1)\">\n     <use xlink:href=\"#DejaVuSans-48\"/>\n     <use x=\"63.623047\" xlink:href=\"#DejaVuSans-46\"/>\n     <use x=\"95.410156\" xlink:href=\"#DejaVuSans-57\"/>\n     <use x=\"159.033203\" xlink:href=\"#DejaVuSans-50\"/>\n    </g>\n   </g>\n   <g id=\"text_124\">\n    <!-- 0 -->\n    <g style=\"fill:#262626;\" transform=\"translate(90.480795 201.547685)scale(0.1 -0.1)\">\n     <use xlink:href=\"#DejaVuSans-48\"/>\n    </g>\n   </g>\n   <g id=\"text_125\">\n    <!-- 0 -->\n    <g style=\"fill:#262626;\" transform=\"translate(114.829886 201.547685)scale(0.1 -0.1)\">\n     <use xlink:href=\"#DejaVuSans-48\"/>\n    </g>\n   </g>\n   <g id=\"text_126\">\n    <!-- 0 -->\n    <g style=\"fill:#262626;\" transform=\"translate(139.178977 201.547685)scale(0.1 -0.1)\">\n     <use xlink:href=\"#DejaVuSans-48\"/>\n    </g>\n   </g>\n   <g id=\"text_127\">\n    <!-- 0.56 -->\n    <g style=\"fill:#ffffff;\" transform=\"translate(155.576506 201.547685)scale(0.1 -0.1)\">\n     <use xlink:href=\"#DejaVuSans-48\"/>\n     <use x=\"63.623047\" xlink:href=\"#DejaVuSans-46\"/>\n     <use x=\"95.410156\" xlink:href=\"#DejaVuSans-53\"/>\n     <use x=\"159.033203\" xlink:href=\"#DejaVuSans-54\"/>\n    </g>\n   </g>\n   <g id=\"text_128\">\n    <!-- 0.29 -->\n    <g style=\"fill:#ffffff;\" transform=\"translate(179.925597 201.547685)scale(0.1 -0.1)\">\n     <use xlink:href=\"#DejaVuSans-48\"/>\n     <use x=\"63.623047\" xlink:href=\"#DejaVuSans-46\"/>\n     <use x=\"95.410156\" xlink:href=\"#DejaVuSans-50\"/>\n     <use x=\"159.033203\" xlink:href=\"#DejaVuSans-57\"/>\n    </g>\n   </g>\n   <g id=\"text_129\">\n    <!-- 0.17 -->\n    <g style=\"fill:#ffffff;\" transform=\"translate(204.274688 201.547685)scale(0.1 -0.1)\">\n     <use xlink:href=\"#DejaVuSans-48\"/>\n     <use x=\"63.623047\" xlink:href=\"#DejaVuSans-46\"/>\n     <use x=\"95.410156\" xlink:href=\"#DejaVuSans-49\"/>\n     <use x=\"159.033203\" xlink:href=\"#DejaVuSans-55\"/>\n    </g>\n   </g>\n   <g id=\"text_130\">\n    <!-- 0 -->\n    <g style=\"fill:#262626;\" transform=\"translate(236.575341 201.547685)scale(0.1 -0.1)\">\n     <use xlink:href=\"#DejaVuSans-48\"/>\n    </g>\n   </g>\n   <g id=\"text_131\">\n    <!-- 0 -->\n    <g style=\"fill:#262626;\" transform=\"translate(260.924432 201.547685)scale(0.1 -0.1)\">\n     <use xlink:href=\"#DejaVuSans-48\"/>\n    </g>\n   </g>\n   <g id=\"text_132\">\n    <!-- 0 -->\n    <g style=\"fill:#262626;\" transform=\"translate(285.273523 201.547685)scale(0.1 -0.1)\">\n     <use xlink:href=\"#DejaVuSans-48\"/>\n    </g>\n   </g>\n   <g id=\"text_133\">\n    <!-- 1 -->\n    <g style=\"fill:#262626;\" transform=\"translate(309.622614 201.547685)scale(0.1 -0.1)\">\n     <use xlink:href=\"#DejaVuSans-49\"/>\n    </g>\n   </g>\n   <g id=\"text_134\">\n    <!-- 0 -->\n    <g style=\"fill:#262626;\" transform=\"translate(333.971705 201.547685)scale(0.1 -0.1)\">\n     <use xlink:href=\"#DejaVuSans-48\"/>\n    </g>\n   </g>\n   <g id=\"text_135\">\n    <!-- 0.14 -->\n    <g style=\"fill:#ffffff;\" transform=\"translate(82.529233 221.314957)scale(0.1 -0.1)\">\n     <use xlink:href=\"#DejaVuSans-48\"/>\n     <use x=\"63.623047\" xlink:href=\"#DejaVuSans-46\"/>\n     <use x=\"95.410156\" xlink:href=\"#DejaVuSans-49\"/>\n     <use x=\"159.033203\" xlink:href=\"#DejaVuSans-52\"/>\n    </g>\n   </g>\n   <g id=\"text_136\">\n    <!-- 0 -->\n    <g style=\"fill:#262626;\" transform=\"translate(114.829886 221.314957)scale(0.1 -0.1)\">\n     <use xlink:href=\"#DejaVuSans-48\"/>\n    </g>\n   </g>\n   <g id=\"text_137\">\n    <!-- 0 -->\n    <g style=\"fill:#262626;\" transform=\"translate(139.178977 221.314957)scale(0.1 -0.1)\">\n     <use xlink:href=\"#DejaVuSans-48\"/>\n    </g>\n   </g>\n   <g id=\"text_138\">\n    <!-- 0 -->\n    <g style=\"fill:#262626;\" transform=\"translate(163.528068 221.314957)scale(0.1 -0.1)\">\n     <use xlink:href=\"#DejaVuSans-48\"/>\n    </g>\n   </g>\n   <g id=\"text_139\">\n    <!-- 0 -->\n    <g style=\"fill:#262626;\" transform=\"translate(187.877159 221.314957)scale(0.1 -0.1)\">\n     <use xlink:href=\"#DejaVuSans-48\"/>\n    </g>\n   </g>\n   <g id=\"text_140\">\n    <!-- 0 -->\n    <g style=\"fill:#262626;\" transform=\"translate(212.22625 221.314957)scale(0.1 -0.1)\">\n     <use xlink:href=\"#DejaVuSans-48\"/>\n    </g>\n   </g>\n   <g id=\"text_141\">\n    <!-- 0 -->\n    <g style=\"fill:#262626;\" transform=\"translate(236.575341 221.314957)scale(0.1 -0.1)\">\n     <use xlink:href=\"#DejaVuSans-48\"/>\n    </g>\n   </g>\n   <g id=\"text_142\">\n    <!-- 0 -->\n    <g style=\"fill:#262626;\" transform=\"translate(260.924432 221.314957)scale(0.1 -0.1)\">\n     <use xlink:href=\"#DejaVuSans-48\"/>\n    </g>\n   </g>\n   <g id=\"text_143\">\n    <!-- 0.37 -->\n    <g style=\"fill:#ffffff;\" transform=\"translate(277.32196 221.314957)scale(0.1 -0.1)\">\n     <use xlink:href=\"#DejaVuSans-48\"/>\n     <use x=\"63.623047\" xlink:href=\"#DejaVuSans-46\"/>\n     <use x=\"95.410156\" xlink:href=\"#DejaVuSans-51\"/>\n     <use x=\"159.033203\" xlink:href=\"#DejaVuSans-55\"/>\n    </g>\n   </g>\n   <g id=\"text_144\">\n    <!-- 0 -->\n    <g style=\"fill:#262626;\" transform=\"translate(309.622614 221.314957)scale(0.1 -0.1)\">\n     <use xlink:href=\"#DejaVuSans-48\"/>\n    </g>\n   </g>\n   <g id=\"text_145\">\n    <!-- 1 -->\n    <g style=\"fill:#262626;\" transform=\"translate(333.971705 221.314957)scale(0.1 -0.1)\">\n     <use xlink:href=\"#DejaVuSans-49\"/>\n    </g>\n   </g>\n  </g>\n  <g id=\"axes_2\">\n   <g id=\"patch_3\">\n    <path clip-path=\"url(#p7905c8ce0f)\" d=\"M 366.0675 228.439219 \nL 366.0675 227.589844 \nL 366.0675 11.848594 \nL 366.0675 10.999219 \nL 376.9395 10.999219 \nL 376.9395 11.848594 \nL 376.9395 227.589844 \nL 376.9395 228.439219 \nz\n\" style=\"fill:#ffffff;stroke:#ffffff;stroke-linejoin:miter;stroke-width:0.01;\"/>\n   </g>\n   <image height=\"218\" id=\"image2370940284\" transform=\"scale(1 -1)translate(0 -218)\" width=\"11\" x=\"366\" xlink:href=\"data:image/png;base64,\niVBORw0KGgoAAAANSUhEUgAAAAsAAADaCAYAAABwzrisAAAABHNCSVQICAgIfAhkiAAAAbtJREFUaIHV2MtxxCAURFFASM4/IEfiAJyCrQ84Bc6iq2Stu27d12KAUf38/ppl8enPWM5i+LpT5GcsZ5E8JHz+wwGJPGauDdCwAdezSY3zFnLM+Y6tjfOB8LCeXxEm50vayGlgzzVEvmXx5wacsQGfK6UxRaPkwrKeq+z8lciyfVG4wZ5r5O1aX/29wrKzcINdptex/lZ6vddXP5IlXGLhOuANzucHNCY5i8aUMJEHDGhkcpbqcm0841c0cs5AHjGNMc6UhgyIPUP4GbDX5TQmXAuC5GFtiDPcToxcrDo46HH7AnKhNoqQaUC4BXawKL2QcyrclpOllC7pvn7j13Ar8G8ip7GJhjmDh5EpLB6o8Rby+tN7XY/3LTigaAh5b0AmZ2rDflYx8h7rOddGrroDTgodcP0JtnG8xZnIqfAhB1DQ2TTkC5WQ9wZ3UXOu8r1OwkTeN/mqBqemObcmA0qYyL3Ld9GYRoOfipGrkK0Nc4YwkSm87XIzNw0hN9KA45jC7ejr4RLTqNt60b1IuO1HiFw3qo7I0kYDjXZ8AFkGrLB/Idl6FvIObZDGS9qgAZMvRRa/rGd0Xtf4A0yVEvGy4pl3AAAAAElFTkSuQmCC\" y=\"-10\"/>\n   <g id=\"matplotlib.axis_3\"/>\n   <g id=\"matplotlib.axis_4\">\n    <g id=\"ytick_12\">\n     <g id=\"line2d_23\">\n      <defs>\n       <path d=\"M 0 0 \nL 3.5 0 \n\" id=\"m39554ccd21\" style=\"stroke:#000000;stroke-width:0.8;\"/>\n      </defs>\n      <g>\n       <use style=\"stroke:#000000;stroke-width:0.8;\" x=\"376.9395\" xlink:href=\"#m39554ccd21\" y=\"228.439219\"/>\n      </g>\n     </g>\n     <g id=\"text_146\">\n      <!-- 0.0 -->\n      <g transform=\"translate(383.9395 232.238437)scale(0.1 -0.1)\">\n       <use xlink:href=\"#DejaVuSans-48\"/>\n       <use x=\"63.623047\" xlink:href=\"#DejaVuSans-46\"/>\n       <use x=\"95.410156\" xlink:href=\"#DejaVuSans-48\"/>\n      </g>\n     </g>\n    </g>\n    <g id=\"ytick_13\">\n     <g id=\"line2d_24\">\n      <g>\n       <use style=\"stroke:#000000;stroke-width:0.8;\" x=\"376.9395\" xlink:href=\"#m39554ccd21\" y=\"184.951219\"/>\n      </g>\n     </g>\n     <g id=\"text_147\">\n      <!-- 0.2 -->\n      <g transform=\"translate(383.9395 188.750437)scale(0.1 -0.1)\">\n       <use xlink:href=\"#DejaVuSans-48\"/>\n       <use x=\"63.623047\" xlink:href=\"#DejaVuSans-46\"/>\n       <use x=\"95.410156\" xlink:href=\"#DejaVuSans-50\"/>\n      </g>\n     </g>\n    </g>\n    <g id=\"ytick_14\">\n     <g id=\"line2d_25\">\n      <g>\n       <use style=\"stroke:#000000;stroke-width:0.8;\" x=\"376.9395\" xlink:href=\"#m39554ccd21\" y=\"141.463219\"/>\n      </g>\n     </g>\n     <g id=\"text_148\">\n      <!-- 0.4 -->\n      <g transform=\"translate(383.9395 145.262437)scale(0.1 -0.1)\">\n       <use xlink:href=\"#DejaVuSans-48\"/>\n       <use x=\"63.623047\" xlink:href=\"#DejaVuSans-46\"/>\n       <use x=\"95.410156\" xlink:href=\"#DejaVuSans-52\"/>\n      </g>\n     </g>\n    </g>\n    <g id=\"ytick_15\">\n     <g id=\"line2d_26\">\n      <g>\n       <use style=\"stroke:#000000;stroke-width:0.8;\" x=\"376.9395\" xlink:href=\"#m39554ccd21\" y=\"97.975219\"/>\n      </g>\n     </g>\n     <g id=\"text_149\">\n      <!-- 0.6 -->\n      <g transform=\"translate(383.9395 101.774437)scale(0.1 -0.1)\">\n       <use xlink:href=\"#DejaVuSans-48\"/>\n       <use x=\"63.623047\" xlink:href=\"#DejaVuSans-46\"/>\n       <use x=\"95.410156\" xlink:href=\"#DejaVuSans-54\"/>\n      </g>\n     </g>\n    </g>\n    <g id=\"ytick_16\">\n     <g id=\"line2d_27\">\n      <g>\n       <use style=\"stroke:#000000;stroke-width:0.8;\" x=\"376.9395\" xlink:href=\"#m39554ccd21\" y=\"54.487219\"/>\n      </g>\n     </g>\n     <g id=\"text_150\">\n      <!-- 0.8 -->\n      <g transform=\"translate(383.9395 58.286437)scale(0.1 -0.1)\">\n       <use xlink:href=\"#DejaVuSans-48\"/>\n       <use x=\"63.623047\" xlink:href=\"#DejaVuSans-46\"/>\n       <use x=\"95.410156\" xlink:href=\"#DejaVuSans-56\"/>\n      </g>\n     </g>\n    </g>\n    <g id=\"ytick_17\">\n     <g id=\"line2d_28\">\n      <g>\n       <use style=\"stroke:#000000;stroke-width:0.8;\" x=\"376.9395\" xlink:href=\"#m39554ccd21\" y=\"10.999219\"/>\n      </g>\n     </g>\n     <g id=\"text_151\">\n      <!-- 1.0 -->\n      <g transform=\"translate(383.9395 14.798437)scale(0.1 -0.1)\">\n       <use xlink:href=\"#DejaVuSans-49\"/>\n       <use x=\"63.623047\" xlink:href=\"#DejaVuSans-46\"/>\n       <use x=\"95.410156\" xlink:href=\"#DejaVuSans-48\"/>\n      </g>\n     </g>\n    </g>\n   </g>\n   <g id=\"patch_4\">\n    <path d=\"M 366.0675 228.439219 \nL 366.0675 227.589844 \nL 366.0675 11.848594 \nL 366.0675 10.999219 \nL 376.9395 10.999219 \nL 376.9395 11.848594 \nL 376.9395 227.589844 \nL 376.9395 228.439219 \nz\n\" style=\"fill:none;\"/>\n   </g>\n  </g>\n </g>\n <defs>\n  <clipPath id=\"p9719650d04\">\n   <rect height=\"217.44\" width=\"267.84\" x=\"81.4875\" y=\"10.999219\"/>\n  </clipPath>\n  <clipPath id=\"p7905c8ce0f\">\n   <rect height=\"217.44\" width=\"10.872\" x=\"366.0675\" y=\"10.999219\"/>\n  </clipPath>\n </defs>\n</svg>\n",
      "image/png": "[encoded data removed]"
     },
     "metadata": {
      "needs_background": "light"
     }
    }
   ],
   "source": [
    "matrix_pps = pps.matrix(all_df)[['x', 'y', 'ppscore']].pivot(columns='x', index='y', values='ppscore')\n",
    "matrix_pps = matrix_pps.apply(lambda x: round(x, 2))\n",
    "\n",
    "sns.heatmap(matrix_pps, vmin=0, vmax=1, cmap=\"icefire\", linewidths=0.75, annot=True)"
   ]
  },
  {
   "cell_type": "code",
   "execution_count": 565,
   "metadata": {},
   "outputs": [],
   "source": [
    "# for dataset in combine:\n",
    "#     dataset['IsAlone'] = 0\n",
    "#     dataset.loc[dataset['FamilySize'] == 1, 'IsAlone'] = 1\n",
    "\n",
    "# train_df[['IsAlone', 'Survived']].groupby(['IsAlone'], as_index=False).mean()"
   ]
  },
  {
   "cell_type": "code",
   "execution_count": 566,
   "metadata": {},
   "outputs": [
    {
     "output_type": "execute_result",
     "data": {
      "text/plain": [
       "   Pclass  Sex  Age     Fare  Cabin  Embarked  Title  Mu1  FamilySize\n",
       "0       0    0   22   7.2500    4.0         0      1  1.0           2\n",
       "1       2    1   38  71.2833    7.0         2      2  2.0           2\n",
       "2       0    1   26   7.9250    4.0         0      4  1.0           1\n",
       "3       2    1   35  53.1000    7.0         0      2  2.0           2\n",
       "4       0    0   35   8.0500    4.0         0      1  1.0           1"
      ],
      "text/html": "<div>\n<style scoped>\n    .dataframe tbody tr th:only-of-type {\n        vertical-align: middle;\n    }\n\n    .dataframe tbody tr th {\n        vertical-align: top;\n    }\n\n    .dataframe thead th {\n        text-align: right;\n    }\n</style>\n<table border=\"1\" class=\"dataframe\">\n  <thead>\n    <tr style=\"text-align: right;\">\n      <th></th>\n      <th>Pclass</th>\n      <th>Sex</th>\n      <th>Age</th>\n      <th>Fare</th>\n      <th>Cabin</th>\n      <th>Embarked</th>\n      <th>Title</th>\n      <th>Mu1</th>\n      <th>FamilySize</th>\n    </tr>\n  </thead>\n  <tbody>\n    <tr>\n      <th>0</th>\n      <td>0</td>\n      <td>0</td>\n      <td>22</td>\n      <td>7.2500</td>\n      <td>4.0</td>\n      <td>0</td>\n      <td>1</td>\n      <td>1.0</td>\n      <td>2</td>\n    </tr>\n    <tr>\n      <th>1</th>\n      <td>2</td>\n      <td>1</td>\n      <td>38</td>\n      <td>71.2833</td>\n      <td>7.0</td>\n      <td>2</td>\n      <td>2</td>\n      <td>2.0</td>\n      <td>2</td>\n    </tr>\n    <tr>\n      <th>2</th>\n      <td>0</td>\n      <td>1</td>\n      <td>26</td>\n      <td>7.9250</td>\n      <td>4.0</td>\n      <td>0</td>\n      <td>4</td>\n      <td>1.0</td>\n      <td>1</td>\n    </tr>\n    <tr>\n      <th>3</th>\n      <td>2</td>\n      <td>1</td>\n      <td>35</td>\n      <td>53.1000</td>\n      <td>7.0</td>\n      <td>0</td>\n      <td>2</td>\n      <td>2.0</td>\n      <td>2</td>\n    </tr>\n    <tr>\n      <th>4</th>\n      <td>0</td>\n      <td>0</td>\n      <td>35</td>\n      <td>8.0500</td>\n      <td>4.0</td>\n      <td>0</td>\n      <td>1</td>\n      <td>1.0</td>\n      <td>1</td>\n    </tr>\n  </tbody>\n</table>\n</div>"
     },
     "metadata": {},
     "execution_count": 566
    }
   ],
   "source": [
    "all_df = all_df.drop(['Parch', 'SibSp'], axis=1)\n",
    "all_df.head()"
   ]
  },
  {
   "cell_type": "code",
   "execution_count": 567,
   "metadata": {},
   "outputs": [],
   "source": [
    "all_df['Age*Class'] = all_df.Sex + all_df.Pclass + 1"
   ]
  },
  {
   "cell_type": "code",
   "execution_count": 568,
   "metadata": {},
   "outputs": [],
   "source": [
    "freq_port = train_df.Embarked.dropna().mode()[0]"
   ]
  },
  {
   "cell_type": "code",
   "execution_count": 569,
   "metadata": {},
   "outputs": [],
   "source": [
    "# all_df['E*P'] = all_df.Cabin + all_df.Pclass + all_df.Embarked + 1"
   ]
  },
  {
   "cell_type": "code",
   "execution_count": 570,
   "metadata": {},
   "outputs": [],
   "source": [
    "all_df['Fare'].fillna(all_df['Fare'].dropna().median(), inplace=True)"
   ]
  },
  {
   "cell_type": "code",
   "execution_count": 571,
   "metadata": {},
   "outputs": [],
   "source": [
    "# train_df['FareBand'] = pd.qcut(train_df['Fare'], 4)\n",
    "# train_df[['FareBand', 'Survived']].groupby(['FareBand'], as_index=False).mean().sort_values(by='FareBand', ascending=True)"
   ]
  },
  {
   "cell_type": "code",
   "execution_count": 572,
   "metadata": {},
   "outputs": [],
   "source": [
    "# for dataset in combine:\n",
    "#     dataset.loc[ dataset['Fare'] <= 7.91, 'Fare'] = 0\n",
    "#     dataset.loc[(dataset['Fare'] > 7.91) & (dataset['Fare'] <= 14.454), 'Fare'] = 1\n",
    "#     dataset.loc[(dataset['Fare'] > 14.454) & (dataset['Fare'] <= 31), 'Fare']   = 2\n",
    "#     dataset.loc[ dataset['Fare'] > 31, 'Fare'] = 3\n",
    "#     dataset['Fare'] = dataset['Fare'].astype(int)\n",
    "\n",
    "# train_df = train_df.drop(['FareBand'], axis=1)\n",
    "# combine = [train_df, test_df]\n",
    "    \n",
    "# train_df.head(10)"
   ]
  },
  {
   "cell_type": "code",
   "execution_count": 573,
   "metadata": {},
   "outputs": [],
   "source": [
    "# dummy_col=['Title', 'Age', 'FamilySize', 'Cabin', 'Embarked', 'Pclass', 'Fare']\n",
    "\n",
    "\n",
    "# df = pd.concat((train_df.loc[:,'Pclass':'IsAlone'], test_df.loc[:,'Pclass':'IsAlone'])).reset_index(drop=True)\n",
    "# dummy = pd.get_dummies(df[dummy_col], columns=dummy_col, drop_first=False)\n",
    "# df = pd.concat([dummy, df], axis = 1)\n",
    "\n",
    "\n",
    "\n",
    "# df = df.drop(dummy_col, axis=1)\n",
    "\n",
    "# # train_df = df[:train_df.shape[0]]\n",
    "# # test_df = df[train_df.shape[0]:]   \n",
    "   \n",
    "\n",
    "# X_train = df[:train_df.shape[0]]\n",
    "# Y_train = train_df[\"Survived\"]\n",
    "# X_test  =  df[train_df.shape[0]:]   \n",
    "# X_train.shape, Y_train.shape, X_test.shape\n"
   ]
  },
  {
   "cell_type": "code",
   "execution_count": 574,
   "metadata": {},
   "outputs": [],
   "source": [
    "Y_train = train_df[\"Survived\"]\n",
    "pass_temp = test_df['PassengerId']\n",
    "train_df = all_df[:train_df.shape[0]]\n",
    "test_df = all_df[train_df.shape[0]:] "
   ]
  },
  {
   "cell_type": "code",
   "execution_count": 575,
   "metadata": {},
   "outputs": [
    {
     "output_type": "execute_result",
     "data": {
      "text/plain": [
       "   Pclass  Sex     Age      Fare     Cabin  Embarked     Title  Mu1  \\\n",
       "0     0.0  0.0  0.2750  0.014151  0.285714       0.0  0.000000  0.0   \n",
       "1     1.0  1.0  0.4750  0.139136  0.714286       1.0  0.333333  0.1   \n",
       "2     0.0  1.0  0.3250  0.015469  0.285714       0.0  1.000000  0.0   \n",
       "3     1.0  1.0  0.4375  0.103644  0.714286       0.0  0.333333  0.1   \n",
       "4     0.0  0.0  0.4375  0.015713  0.285714       0.0  0.000000  0.0   \n",
       "\n",
       "   FamilySize  Age*Class  \n",
       "0         0.1   0.000000  \n",
       "1         0.1   1.000000  \n",
       "2         0.0   0.333333  \n",
       "3         0.1   1.000000  \n",
       "4         0.0   0.000000  "
      ],
      "text/html": "<div>\n<style scoped>\n    .dataframe tbody tr th:only-of-type {\n        vertical-align: middle;\n    }\n\n    .dataframe tbody tr th {\n        vertical-align: top;\n    }\n\n    .dataframe thead th {\n        text-align: right;\n    }\n</style>\n<table border=\"1\" class=\"dataframe\">\n  <thead>\n    <tr style=\"text-align: right;\">\n      <th></th>\n      <th>Pclass</th>\n      <th>Sex</th>\n      <th>Age</th>\n      <th>Fare</th>\n      <th>Cabin</th>\n      <th>Embarked</th>\n      <th>Title</th>\n      <th>Mu1</th>\n      <th>FamilySize</th>\n      <th>Age*Class</th>\n    </tr>\n  </thead>\n  <tbody>\n    <tr>\n      <th>0</th>\n      <td>0.0</td>\n      <td>0.0</td>\n      <td>0.2750</td>\n      <td>0.014151</td>\n      <td>0.285714</td>\n      <td>0.0</td>\n      <td>0.000000</td>\n      <td>0.0</td>\n      <td>0.1</td>\n      <td>0.000000</td>\n    </tr>\n    <tr>\n      <th>1</th>\n      <td>1.0</td>\n      <td>1.0</td>\n      <td>0.4750</td>\n      <td>0.139136</td>\n      <td>0.714286</td>\n      <td>1.0</td>\n      <td>0.333333</td>\n      <td>0.1</td>\n      <td>0.1</td>\n      <td>1.000000</td>\n    </tr>\n    <tr>\n      <th>2</th>\n      <td>0.0</td>\n      <td>1.0</td>\n      <td>0.3250</td>\n      <td>0.015469</td>\n      <td>0.285714</td>\n      <td>0.0</td>\n      <td>1.000000</td>\n      <td>0.0</td>\n      <td>0.0</td>\n      <td>0.333333</td>\n    </tr>\n    <tr>\n      <th>3</th>\n      <td>1.0</td>\n      <td>1.0</td>\n      <td>0.4375</td>\n      <td>0.103644</td>\n      <td>0.714286</td>\n      <td>0.0</td>\n      <td>0.333333</td>\n      <td>0.1</td>\n      <td>0.1</td>\n      <td>1.000000</td>\n    </tr>\n    <tr>\n      <th>4</th>\n      <td>0.0</td>\n      <td>0.0</td>\n      <td>0.4375</td>\n      <td>0.015713</td>\n      <td>0.285714</td>\n      <td>0.0</td>\n      <td>0.000000</td>\n      <td>0.0</td>\n      <td>0.0</td>\n      <td>0.000000</td>\n    </tr>\n  </tbody>\n</table>\n</div>"
     },
     "metadata": {},
     "execution_count": 575
    }
   ],
   "source": [
    "x = train_df.values #returns a numpy array\n",
    "min_max_scaler = preprocessing.MinMaxScaler()\n",
    "x_scaled = min_max_scaler.fit_transform(x)\n",
    "train_df[:] = x_scaled\n",
    "\n",
    "x = test_df.values \n",
    "\n",
    "min_max_scaler = preprocessing.MinMaxScaler()\n",
    "x_scaled = min_max_scaler.fit_transform(x)\n",
    "test_df[:] = x_scaled\n",
    "train_df.head()"
   ]
  },
  {
   "source": [
    "## Model, predict and solve\n"
   ],
   "cell_type": "markdown",
   "metadata": {}
  },
  {
   "cell_type": "code",
   "execution_count": 576,
   "metadata": {},
   "outputs": [
    {
     "output_type": "execute_result",
     "data": {
      "text/plain": [
       "((891, 10), (891,), (418, 10))"
      ]
     },
     "metadata": {},
     "execution_count": 576
    }
   ],
   "source": [
    "X_train = train_df\n",
    "X_test  = test_df\n",
    "X_train.shape, Y_train.shape, X_test.shape\n"
   ]
  },
  {
   "cell_type": "code",
   "execution_count": 577,
   "metadata": {},
   "outputs": [
    {
     "output_type": "execute_result",
     "data": {
      "text/plain": [
       "79.57"
      ]
     },
     "metadata": {},
     "execution_count": 577
    }
   ],
   "source": [
    "logreg = LogisticRegression()\n",
    "logreg.fit(X_train, Y_train)\n",
    "Y_pred = logreg.predict(X_test)\n",
    "Y_pred.astype(int)\n",
    "acc_log = round(logreg.score(X_train, Y_train) * 100, 2)\n",
    "acc_log"
   ]
  },
  {
   "cell_type": "code",
   "execution_count": 578,
   "metadata": {},
   "outputs": [
    {
     "output_type": "execute_result",
     "data": {
      "text/plain": [
       "      Feature  Correlation\n",
       "1         Age     1.735546\n",
       "0         Sex     1.221143\n",
       "6         Mu1     0.643811\n",
       "3       Cabin     0.510695\n",
       "5       Title     0.473241\n",
       "7  FamilySize    -0.126710\n",
       "4    Embarked    -0.249989\n",
       "8   Age*Class    -1.382833\n",
       "2        Fare    -1.874407"
      ],
      "text/html": "<div>\n<style scoped>\n    .dataframe tbody tr th:only-of-type {\n        vertical-align: middle;\n    }\n\n    .dataframe tbody tr th {\n        vertical-align: top;\n    }\n\n    .dataframe thead th {\n        text-align: right;\n    }\n</style>\n<table border=\"1\" class=\"dataframe\">\n  <thead>\n    <tr style=\"text-align: right;\">\n      <th></th>\n      <th>Feature</th>\n      <th>Correlation</th>\n    </tr>\n  </thead>\n  <tbody>\n    <tr>\n      <th>1</th>\n      <td>Age</td>\n      <td>1.735546</td>\n    </tr>\n    <tr>\n      <th>0</th>\n      <td>Sex</td>\n      <td>1.221143</td>\n    </tr>\n    <tr>\n      <th>6</th>\n      <td>Mu1</td>\n      <td>0.643811</td>\n    </tr>\n    <tr>\n      <th>3</th>\n      <td>Cabin</td>\n      <td>0.510695</td>\n    </tr>\n    <tr>\n      <th>5</th>\n      <td>Title</td>\n      <td>0.473241</td>\n    </tr>\n    <tr>\n      <th>7</th>\n      <td>FamilySize</td>\n      <td>-0.126710</td>\n    </tr>\n    <tr>\n      <th>4</th>\n      <td>Embarked</td>\n      <td>-0.249989</td>\n    </tr>\n    <tr>\n      <th>8</th>\n      <td>Age*Class</td>\n      <td>-1.382833</td>\n    </tr>\n    <tr>\n      <th>2</th>\n      <td>Fare</td>\n      <td>-1.874407</td>\n    </tr>\n  </tbody>\n</table>\n</div>"
     },
     "metadata": {},
     "execution_count": 578
    }
   ],
   "source": [
    "coeff_df = pd.DataFrame(train_df.columns.delete(0))\n",
    "coeff_df.columns = ['Feature']\n",
    "coeff_df[\"Correlation\"] = pd.Series(logreg.coef_[0])\n",
    "\n",
    "coeff_df.sort_values(by='Correlation', ascending=False)"
   ]
  },
  {
   "cell_type": "code",
   "execution_count": 579,
   "metadata": {},
   "outputs": [
    {
     "output_type": "execute_result",
     "data": {
      "text/plain": [
       "83.95"
      ]
     },
     "metadata": {},
     "execution_count": 579
    }
   ],
   "source": [
    "svc = SVC()\n",
    "svc.fit(X_train, Y_train)\n",
    "Y_pred = svc.predict(X_test)\n",
    "Y_pred = Y_pred.astype(int)\n",
    "\n",
    "acc_svc = round(svc.score(X_train, Y_train) * 100, 2)\n",
    "acc_svc"
   ]
  },
  {
   "cell_type": "code",
   "execution_count": 580,
   "metadata": {},
   "outputs": [
    {
     "output_type": "execute_result",
     "data": {
      "text/plain": [
       "81.71"
      ]
     },
     "metadata": {},
     "execution_count": 580
    }
   ],
   "source": [
    "knn = KNeighborsClassifier(n_neighbors = 35)\n",
    "knn.fit(X_train, Y_train)\n",
    "\n",
    "acc_knn = round(knn.score(X_train, Y_train) * 100, 2)\n",
    "Y_pred = knn.predict(X_test)\n",
    "Y_pred = Y_pred.astype(int)\n",
    "acc_knn"
   ]
  },
  {
   "cell_type": "code",
   "execution_count": 581,
   "metadata": {},
   "outputs": [
    {
     "output_type": "execute_result",
     "data": {
      "text/plain": [
       "76.43"
      ]
     },
     "metadata": {},
     "execution_count": 581
    }
   ],
   "source": [
    "gaussian = GaussianNB()\n",
    "gaussian.fit(X_train, Y_train)\n",
    "Y_pred = gaussian.predict(X_test)\n",
    "acc_gaussian = round(gaussian.score(X_train, Y_train) * 100, 2)\n",
    "acc_gaussian"
   ]
  },
  {
   "cell_type": "code",
   "execution_count": 582,
   "metadata": {},
   "outputs": [
    {
     "output_type": "execute_result",
     "data": {
      "text/plain": [
       "78.11"
      ]
     },
     "metadata": {},
     "execution_count": 582
    }
   ],
   "source": [
    "perceptron = Perceptron()\n",
    "perceptron.fit(X_train, Y_train)\n",
    "Y_pred = perceptron.predict(X_test)\n",
    "acc_perceptron = round(perceptron.score(X_train, Y_train) * 100, 2)\n",
    "acc_perceptron"
   ]
  },
  {
   "cell_type": "code",
   "execution_count": 583,
   "metadata": {},
   "outputs": [
    {
     "output_type": "execute_result",
     "data": {
      "text/plain": [
       "79.57"
      ]
     },
     "metadata": {},
     "execution_count": 583
    }
   ],
   "source": [
    "linear_svc = LinearSVC()\n",
    "linear_svc.fit(X_train, Y_train)\n",
    "Y_pred = linear_svc.predict(X_test)\n",
    "acc_linear_svc = round(linear_svc.score(X_train, Y_train) * 100, 2)\n",
    "acc_linear_svc"
   ]
  },
  {
   "cell_type": "code",
   "execution_count": 584,
   "metadata": {},
   "outputs": [
    {
     "output_type": "execute_result",
     "data": {
      "text/plain": [
       "80.47"
      ]
     },
     "metadata": {},
     "execution_count": 584
    }
   ],
   "source": [
    "sgd = SGDClassifier()\n",
    "sgd.fit(X_train, Y_train)\n",
    "Y_pred = sgd.predict(X_test)\n",
    "acc_sgd = round(sgd.score(X_train, Y_train) * 100, 2)\n",
    "acc_sgd"
   ]
  },
  {
   "cell_type": "code",
   "execution_count": 585,
   "metadata": {},
   "outputs": [
    {
     "output_type": "execute_result",
     "data": {
      "text/plain": [
       "98.09"
      ]
     },
     "metadata": {},
     "execution_count": 585
    }
   ],
   "source": [
    "decision_tree = DecisionTreeClassifier()\n",
    "decision_tree.fit(X_train, Y_train)\n",
    "Y_pred = decision_tree.predict(X_test)\n",
    "Y_pred = Y_pred.astype(int)\n",
    "acc_decision_tree = round(decision_tree.score(X_train, Y_train) * 100, 2)\n",
    "acc_decision_tree"
   ]
  },
  {
   "cell_type": "code",
   "execution_count": 586,
   "metadata": {},
   "outputs": [
    {
     "output_type": "execute_result",
     "data": {
      "text/plain": [
       "98.09"
      ]
     },
     "metadata": {},
     "execution_count": 586
    }
   ],
   "source": [
    "random_forest = RandomForestClassifier(n_estimators=100)\n",
    "random_forest.fit(X_train, Y_train)\n",
    "Y_pred = random_forest.predict(X_test)\n",
    "Y_pred = Y_pred.astype(int)\n",
    "random_forest.score(X_train, Y_train)\n",
    "acc_random_forest = round(random_forest.score(X_train, Y_train) * 100, 2)\n",
    "acc_random_forest"
   ]
  },
  {
   "cell_type": "code",
   "execution_count": 587,
   "metadata": {},
   "outputs": [
    {
     "output_type": "execute_result",
     "data": {
      "text/plain": [
       "84.06"
      ]
     },
     "metadata": {},
     "execution_count": 587
    }
   ],
   "source": [
    "MLP = MLPClassifier(random_state=1, max_iter=300 )\n",
    "MLP.fit(X_train, Y_train)\n",
    "Y_pred = MLP.predict(X_test)\n",
    "Y_pred = Y_pred.astype(int)\n",
    "MLP.score(X_train, Y_train)\n",
    "acc_MLP = round(MLP.score(X_train, Y_train) * 100, 2)\n",
    "acc_MLP"
   ]
  },
  {
   "cell_type": "code",
   "execution_count": 588,
   "metadata": {},
   "outputs": [
    {
     "output_type": "execute_result",
     "data": {
      "text/plain": [
       "                        Model  Score\n",
       "3               Random Forest  98.09\n",
       "8               Decision Tree  98.09\n",
       "9                         MLP  84.06\n",
       "0     Support Vector Machines  83.95\n",
       "1                         KNN  81.71\n",
       "6  Stochastic Gradient Decent  80.47\n",
       "2         Logistic Regression  79.57\n",
       "7                  Linear SVC  79.57\n",
       "5                  Perceptron  78.11\n",
       "4                 Naive Bayes  76.43"
      ],
      "text/html": "<div>\n<style scoped>\n    .dataframe tbody tr th:only-of-type {\n        vertical-align: middle;\n    }\n\n    .dataframe tbody tr th {\n        vertical-align: top;\n    }\n\n    .dataframe thead th {\n        text-align: right;\n    }\n</style>\n<table border=\"1\" class=\"dataframe\">\n  <thead>\n    <tr style=\"text-align: right;\">\n      <th></th>\n      <th>Model</th>\n      <th>Score</th>\n    </tr>\n  </thead>\n  <tbody>\n    <tr>\n      <th>3</th>\n      <td>Random Forest</td>\n      <td>98.09</td>\n    </tr>\n    <tr>\n      <th>8</th>\n      <td>Decision Tree</td>\n      <td>98.09</td>\n    </tr>\n    <tr>\n      <th>9</th>\n      <td>MLP</td>\n      <td>84.06</td>\n    </tr>\n    <tr>\n      <th>0</th>\n      <td>Support Vector Machines</td>\n      <td>83.95</td>\n    </tr>\n    <tr>\n      <th>1</th>\n      <td>KNN</td>\n      <td>81.71</td>\n    </tr>\n    <tr>\n      <th>6</th>\n      <td>Stochastic Gradient Decent</td>\n      <td>80.47</td>\n    </tr>\n    <tr>\n      <th>2</th>\n      <td>Logistic Regression</td>\n      <td>79.57</td>\n    </tr>\n    <tr>\n      <th>7</th>\n      <td>Linear SVC</td>\n      <td>79.57</td>\n    </tr>\n    <tr>\n      <th>5</th>\n      <td>Perceptron</td>\n      <td>78.11</td>\n    </tr>\n    <tr>\n      <th>4</th>\n      <td>Naive Bayes</td>\n      <td>76.43</td>\n    </tr>\n  </tbody>\n</table>\n</div>"
     },
     "metadata": {},
     "execution_count": 588
    }
   ],
   "source": [
    "    models = pd.DataFrame({'Model': ['Support Vector Machines', 'KNN', 'Logistic Regression', \n",
    "              'Random Forest', 'Naive Bayes', 'Perceptron', \n",
    "              'Stochastic Gradient Decent', 'Linear SVC', \n",
    "              'Decision Tree', 'MLP'],\n",
    "    'Score': [acc_svc, acc_knn, acc_log, \n",
    "              acc_random_forest, acc_gaussian, acc_perceptron, \n",
    "              acc_sgd, acc_linear_svc, acc_decision_tree, acc_MLP]})\n",
    "models.sort_values(by='Score', ascending=False)"
   ]
  },
  {
   "cell_type": "code",
   "execution_count": 589,
   "metadata": {},
   "outputs": [],
   "source": [
    "submission = pd.DataFrame({\n",
    "        \"PassengerId\": pass_temp,\n",
    "        \"Survived\": Y_pred\n",
    "    })\n",
    "submission.to_csv('../out/submission.csv', index=False)"
   ]
  },
  {
   "cell_type": "code",
   "execution_count": 590,
   "metadata": {},
   "outputs": [
    {
     "output_type": "stream",
     "name": "stdout",
     "text": [
      "Train on 891 samples\n",
      "Epoch 1/25\n",
      "891/891 [==============================] - 0s 166us/sample - loss: 0.5035 - accuracy: 0.7778\n",
      "Epoch 2/25\n",
      "891/891 [==============================] - 0s 69us/sample - loss: 0.4368 - accuracy: 0.8058\n",
      "Epoch 3/25\n",
      "891/891 [==============================] - 0s 60us/sample - loss: 0.4313 - accuracy: 0.8182\n",
      "Epoch 4/25\n",
      "891/891 [==============================] - 0s 77us/sample - loss: 0.4046 - accuracy: 0.8305\n",
      "Epoch 5/25\n",
      "891/891 [==============================] - 0s 72us/sample - loss: 0.3999 - accuracy: 0.8182\n",
      "Epoch 6/25\n",
      "891/891 [==============================] - 0s 75us/sample - loss: 0.3922 - accuracy: 0.8238\n",
      "Epoch 7/25\n",
      "891/891 [==============================] - 0s 83us/sample - loss: 0.3940 - accuracy: 0.8215\n",
      "Epoch 8/25\n",
      "891/891 [==============================] - 0s 67us/sample - loss: 0.3890 - accuracy: 0.8294\n",
      "Epoch 9/25\n",
      "891/891 [==============================] - 0s 68us/sample - loss: 0.3891 - accuracy: 0.8373\n",
      "Epoch 10/25\n",
      "891/891 [==============================] - 0s 73us/sample - loss: 0.3809 - accuracy: 0.8440\n",
      "Epoch 11/25\n",
      "891/891 [==============================] - 0s 67us/sample - loss: 0.3766 - accuracy: 0.8429\n",
      "Epoch 12/25\n",
      "891/891 [==============================] - 0s 65us/sample - loss: 0.3749 - accuracy: 0.8440\n",
      "Epoch 13/25\n",
      "891/891 [==============================] - 0s 68us/sample - loss: 0.3726 - accuracy: 0.8395\n",
      "Epoch 14/25\n",
      "891/891 [==============================] - 0s 55us/sample - loss: 0.3720 - accuracy: 0.8328\n",
      "Epoch 15/25\n",
      "891/891 [==============================] - 0s 52us/sample - loss: 0.3746 - accuracy: 0.8395\n",
      "Epoch 16/25\n",
      "891/891 [==============================] - 0s 52us/sample - loss: 0.3807 - accuracy: 0.8429\n",
      "Epoch 17/25\n",
      "891/891 [==============================] - 0s 52us/sample - loss: 0.3665 - accuracy: 0.8507\n",
      "Epoch 18/25\n",
      "891/891 [==============================] - 0s 52us/sample - loss: 0.3619 - accuracy: 0.8563\n",
      "Epoch 19/25\n",
      "891/891 [==============================] - 0s 52us/sample - loss: 0.3636 - accuracy: 0.8474\n",
      "Epoch 20/25\n",
      "891/891 [==============================] - 0s 54us/sample - loss: 0.3616 - accuracy: 0.8586\n",
      "Epoch 21/25\n",
      "891/891 [==============================] - 0s 71us/sample - loss: 0.3585 - accuracy: 0.8552\n",
      "Epoch 22/25\n",
      "891/891 [==============================] - 0s 96us/sample - loss: 0.3629 - accuracy: 0.8406\n",
      "Epoch 23/25\n",
      "891/891 [==============================] - 0s 95us/sample - loss: 0.3594 - accuracy: 0.8474\n",
      "Epoch 24/25\n",
      "891/891 [==============================] - 0s 96us/sample - loss: 0.3579 - accuracy: 0.8485\n",
      "Epoch 25/25\n",
      "891/891 [==============================] - 0s 89us/sample - loss: 0.3539 - accuracy: 0.8597\n"
     ]
    },
    {
     "output_type": "execute_result",
     "data": {
      "text/plain": [
       "<tensorflow.python.keras.callbacks.History at 0x7fb4162b1f50>"
      ]
     },
     "metadata": {},
     "execution_count": 590
    }
   ],
   "source": [
    "import tensorflow as tf\n",
    "from tensorflow.keras.models import Model\n",
    "from tensorflow.keras import layers, losses\n",
    "\n",
    "model = tf.keras.Sequential([\n",
    "    tf.keras.layers.Dense(128, activation='relu'),\n",
    "    tf.keras.layers.Dense(256, activation='relu'),\n",
    "    tf.keras.layers.Dense(512, activation='relu'),\n",
    "    tf.keras.layers.Dense(2)\n",
    "])\n",
    "X_train = X_train.astype(float)\n",
    "model.compile(optimizer='adam',\n",
    "              loss=tf.keras.losses.SparseCategoricalCrossentropy(from_logits=True),\n",
    "              metrics=['accuracy'])\n",
    "model.fit(X_train.values, Y_train.values, epochs=25)              "
   ]
  },
  {
   "cell_type": "code",
   "execution_count": 591,
   "metadata": {},
   "outputs": [],
   "source": [
    "Y_pred_r = model.predict(X_test)\n",
    "Y_pred = np.zeros(len(Y_pred_r))\n",
    "for  index, x in enumerate(Y_pred_r):\n",
    "    if x[0] < x[1]:\n",
    "        Y_pred[index] = 1\n",
    "Y_pred = Y_pred.astype(int)"
   ]
  }
 ]
}