{
 "metadata": {
  "language_info": {
   "codemirror_mode": {
    "name": "ipython",
    "version": 3
   },
   "file_extension": ".py",
   "mimetype": "text/x-python",
   "name": "python",
   "nbconvert_exporter": "python",
   "pygments_lexer": "ipython3",
   "version": "3.7.6-final"
  },
  "orig_nbformat": 2,
  "kernelspec": {
   "name": "python37364bitanaconda3virtualenv17c84ce56901433a85eef3c70d4c4b9d",
   "display_name": "Python 3.7.3 64-bit ('anaconda3': virtualenv)"
  }
 },
 "nbformat": 4,
 "nbformat_minor": 2,
 "cells": [
  {
   "source": [
    "# data analysis and wrangling\n"
   ],
   "cell_type": "markdown",
   "metadata": {}
  },
  {
   "source": [
    "## Imports"
   ],
   "cell_type": "markdown",
   "metadata": {}
  },
  {
   "source": [
    "import pandas as pd\n",
    "import numpy as np\n",
    "import random as rnd\n",
    "\n",
    "# visualization\n",
    "import seaborn as sns\n",
    "import matplotlib.pyplot as plt\n",
    "%matplotlib inline\n",
    "\n",
    "# preprocessing\n",
    "from sklearn import preprocessing\n",
    "from sklearn.preprocessing import LabelEncoder\n",
    "from sklearn.preprocessing import OneHotEncoder\n",
    "import ppscore as pps\n",
    "\n",
    "# machine learning\n",
    "from sklearn.linear_model import LogisticRegression\n",
    "from sklearn.svm import SVC, LinearSVC\n",
    "from sklearn.ensemble import RandomForestClassifier\n",
    "from sklearn.neighbors import KNeighborsClassifier\n",
    "from sklearn.naive_bayes import GaussianNB\n",
    "from sklearn.linear_model import Perceptron\n",
    "from sklearn.linear_model import SGDClassifier\n",
    "from sklearn.tree import DecisionTreeClassifier\n",
    "from sklearn.neural_network import MLPClassifier\n"
   ],
   "cell_type": "code",
   "metadata": {},
   "execution_count": 823,
   "outputs": []
  },
  {
   "source": [
    "## Load Data"
   ],
   "cell_type": "markdown",
   "metadata": {}
  },
  {
   "cell_type": "code",
   "execution_count": 824,
   "metadata": {},
   "outputs": [
    {
     "output_type": "stream",
     "name": "stdout",
     "text": [
      "['PassengerId' 'Survived' 'Pclass' 'Name' 'Sex' 'Age' 'SibSp' 'Parch'\n 'Ticket' 'Fare' 'Cabin' 'Embarked']\n"
     ]
    }
   ],
   "source": [
    "train_df = pd.read_csv('../dataset/train.csv')\n",
    "test_df = pd.read_csv('../dataset/test.csv')\n",
    "print(train_df.columns.values)"
   ]
  },
  {
   "cell_type": "code",
   "execution_count": 825,
   "metadata": {},
   "outputs": [],
   "source": [
    "all_df = pd.concat((train_df.loc[:,'Pclass':'Embarked'], test_df.loc[:,'Pclass':'Embarked'])).reset_index(drop=True)"
   ]
  },
  {
   "cell_type": "code",
   "execution_count": 826,
   "metadata": {},
   "outputs": [],
   "source": [
    "pd.crosstab(all_df['SibSp'], all_df['Parch'])\n",
    "ga = all_df[['Parch', 'SibSp', 'Age']].groupby(['Parch','SibSp'], as_index=False).mean()\n",
    "for x in ga:\n",
    "    all_df.loc[(all_df.Age.isnull()) & (all_df.Parch == x[0] ) & ( all_df.SibSp == x[1]), 'Age'] = x[2]\n",
    "\n"
   ]
  },
  {
   "cell_type": "code",
   "execution_count": 827,
   "metadata": {},
   "outputs": [
    {
     "output_type": "execute_result",
     "data": {
      "text/plain": [
       "Sex       female  male\n",
       "Title                 \n",
       "Capt           0     1\n",
       "Col            0     4\n",
       "Countess       1     0\n",
       "Don            0     1\n",
       "Dona           1     0\n",
       "Dr             1     7\n",
       "Jonkheer       0     1\n",
       "Lady           1     0\n",
       "Major          0     2\n",
       "Master         0    61\n",
       "Miss         260     0\n",
       "Mlle           2     0\n",
       "Mme            1     0\n",
       "Mr             0   757\n",
       "Mrs          197     0\n",
       "Ms             2     0\n",
       "Rev            0     8\n",
       "Sir            0     1"
      ],
      "text/html": "<div>\n<style scoped>\n    .dataframe tbody tr th:only-of-type {\n        vertical-align: middle;\n    }\n\n    .dataframe tbody tr th {\n        vertical-align: top;\n    }\n\n    .dataframe thead th {\n        text-align: right;\n    }\n</style>\n<table border=\"1\" class=\"dataframe\">\n  <thead>\n    <tr style=\"text-align: right;\">\n      <th>Sex</th>\n      <th>female</th>\n      <th>male</th>\n    </tr>\n    <tr>\n      <th>Title</th>\n      <th></th>\n      <th></th>\n    </tr>\n  </thead>\n  <tbody>\n    <tr>\n      <th>Capt</th>\n      <td>0</td>\n      <td>1</td>\n    </tr>\n    <tr>\n      <th>Col</th>\n      <td>0</td>\n      <td>4</td>\n    </tr>\n    <tr>\n      <th>Countess</th>\n      <td>1</td>\n      <td>0</td>\n    </tr>\n    <tr>\n      <th>Don</th>\n      <td>0</td>\n      <td>1</td>\n    </tr>\n    <tr>\n      <th>Dona</th>\n      <td>1</td>\n      <td>0</td>\n    </tr>\n    <tr>\n      <th>Dr</th>\n      <td>1</td>\n      <td>7</td>\n    </tr>\n    <tr>\n      <th>Jonkheer</th>\n      <td>0</td>\n      <td>1</td>\n    </tr>\n    <tr>\n      <th>Lady</th>\n      <td>1</td>\n      <td>0</td>\n    </tr>\n    <tr>\n      <th>Major</th>\n      <td>0</td>\n      <td>2</td>\n    </tr>\n    <tr>\n      <th>Master</th>\n      <td>0</td>\n      <td>61</td>\n    </tr>\n    <tr>\n      <th>Miss</th>\n      <td>260</td>\n      <td>0</td>\n    </tr>\n    <tr>\n      <th>Mlle</th>\n      <td>2</td>\n      <td>0</td>\n    </tr>\n    <tr>\n      <th>Mme</th>\n      <td>1</td>\n      <td>0</td>\n    </tr>\n    <tr>\n      <th>Mr</th>\n      <td>0</td>\n      <td>757</td>\n    </tr>\n    <tr>\n      <th>Mrs</th>\n      <td>197</td>\n      <td>0</td>\n    </tr>\n    <tr>\n      <th>Ms</th>\n      <td>2</td>\n      <td>0</td>\n    </tr>\n    <tr>\n      <th>Rev</th>\n      <td>0</td>\n      <td>8</td>\n    </tr>\n    <tr>\n      <th>Sir</th>\n      <td>0</td>\n      <td>1</td>\n    </tr>\n  </tbody>\n</table>\n</div>"
     },
     "metadata": {},
     "execution_count": 827
    }
   ],
   "source": [
    "all_df['Title'] = all_df.Name.str.extract(' ([A-Za-z]+)\\.', expand=False)\n",
    "pd.crosstab(all_df['Title'], all_df['Sex'])"
   ]
  },
  {
   "cell_type": "code",
   "execution_count": 828,
   "metadata": {},
   "outputs": [],
   "source": [
    "all_df['Title'] = all_df['Title'].replace(['Mlle', 'Lady', 'Ms', 'Countess', 'Dona'], 'Miss')\n",
    "all_df['Title'] = all_df['Title'].replace('Mme', 'Mrs')\n",
    "all_df['Title'] = all_df['Title'].replace(['Sir', 'Major', 'Rev', 'Don', 'Jonkheer'], 'Mr')\n",
    "all_df['Title'] = all_df['Title'].replace('^(?!.*(Miss|Mrs|Mr|Master)).*$', 'Rare',regex=True)"
   ]
  },
  {
   "cell_type": "code",
   "execution_count": 829,
   "metadata": {},
   "outputs": [
    {
     "output_type": "execute_result",
     "data": {
      "text/plain": [
       "   Pclass                                               Name     Sex Age  \\\n",
       "0       3                            Braund, Mr. Owen Harris    male  22   \n",
       "1       1  Cumings, Mrs. John Bradley (Florence Briggs Th...  female  38   \n",
       "2       3                             Heikkinen, Miss. Laina  female  26   \n",
       "3       1       Futrelle, Mrs. Jacques Heath (Lily May Peel)  female  35   \n",
       "4       3                           Allen, Mr. William Henry    male  35   \n",
       "\n",
       "   SibSp  Parch            Ticket     Fare Cabin Embarked  Title  \n",
       "0      1      0         A/5 21171   7.2500   NaN        S      1  \n",
       "1      1      0          PC 17599  71.2833   C85        C      2  \n",
       "2      0      0  STON/O2. 3101282   7.9250   NaN        S      4  \n",
       "3      1      0            113803  53.1000  C123        S      2  \n",
       "4      0      0            373450   8.0500   NaN        S      1  "
      ],
      "text/html": "<div>\n<style scoped>\n    .dataframe tbody tr th:only-of-type {\n        vertical-align: middle;\n    }\n\n    .dataframe tbody tr th {\n        vertical-align: top;\n    }\n\n    .dataframe thead th {\n        text-align: right;\n    }\n</style>\n<table border=\"1\" class=\"dataframe\">\n  <thead>\n    <tr style=\"text-align: right;\">\n      <th></th>\n      <th>Pclass</th>\n      <th>Name</th>\n      <th>Sex</th>\n      <th>Age</th>\n      <th>SibSp</th>\n      <th>Parch</th>\n      <th>Ticket</th>\n      <th>Fare</th>\n      <th>Cabin</th>\n      <th>Embarked</th>\n      <th>Title</th>\n    </tr>\n  </thead>\n  <tbody>\n    <tr>\n      <th>0</th>\n      <td>3</td>\n      <td>Braund, Mr. Owen Harris</td>\n      <td>male</td>\n      <td>22</td>\n      <td>1</td>\n      <td>0</td>\n      <td>A/5 21171</td>\n      <td>7.2500</td>\n      <td>NaN</td>\n      <td>S</td>\n      <td>1</td>\n    </tr>\n    <tr>\n      <th>1</th>\n      <td>1</td>\n      <td>Cumings, Mrs. John Bradley (Florence Briggs Th...</td>\n      <td>female</td>\n      <td>38</td>\n      <td>1</td>\n      <td>0</td>\n      <td>PC 17599</td>\n      <td>71.2833</td>\n      <td>C85</td>\n      <td>C</td>\n      <td>2</td>\n    </tr>\n    <tr>\n      <th>2</th>\n      <td>3</td>\n      <td>Heikkinen, Miss. Laina</td>\n      <td>female</td>\n      <td>26</td>\n      <td>0</td>\n      <td>0</td>\n      <td>STON/O2. 3101282</td>\n      <td>7.9250</td>\n      <td>NaN</td>\n      <td>S</td>\n      <td>4</td>\n    </tr>\n    <tr>\n      <th>3</th>\n      <td>1</td>\n      <td>Futrelle, Mrs. Jacques Heath (Lily May Peel)</td>\n      <td>female</td>\n      <td>35</td>\n      <td>1</td>\n      <td>0</td>\n      <td>113803</td>\n      <td>53.1000</td>\n      <td>C123</td>\n      <td>S</td>\n      <td>2</td>\n    </tr>\n    <tr>\n      <th>4</th>\n      <td>3</td>\n      <td>Allen, Mr. William Henry</td>\n      <td>male</td>\n      <td>35</td>\n      <td>0</td>\n      <td>0</td>\n      <td>373450</td>\n      <td>8.0500</td>\n      <td>NaN</td>\n      <td>S</td>\n      <td>1</td>\n    </tr>\n  </tbody>\n</table>\n</div>"
     },
     "metadata": {},
     "execution_count": 829
    }
   ],
   "source": [
    "title_mapping = {\"Mr\": 1, \"Miss\": 4, \"Mrs\": 2, \"Master\": 3, \"Rare\": 0}\n",
    "\n",
    "all_df['Title'] = all_df['Title'].map(title_mapping)\n",
    "all_df['Title'] = all_df['Title'].fillna(0)\n",
    "\n",
    "all_df.head()"
   ]
  },
  {
   "cell_type": "code",
   "execution_count": 830,
   "metadata": {},
   "outputs": [],
   "source": [
    "# arr = all_df.pivot_table(index=['Ticket'], aggfunc='size')\n",
    "# for x in arr.index:\n",
    "#      all_df.loc[ all_df['Ticket'] == x, 'Mu1'] = arr.get(x)\n",
    "    \n",
    "\n",
    "# all_df['Mu'] = 0\n",
    "# all_df.loc[(all_df.Ticket.duplicated(keep= False)) , 'Mu'] = 1\n",
    "# all_df['Mu'] = all_df['Mu'].astype(int)\n",
    "    \n",
    "all_df = all_df.drop(['Ticket'], axis=1)\n",
    "# all_df.head()"
   ]
  },
  {
   "cell_type": "code",
   "execution_count": 831,
   "metadata": {},
   "outputs": [],
   "source": [
    "all_df = all_df.drop(['Name'], axis=1)"
   ]
  },
  {
   "cell_type": "code",
   "execution_count": 832,
   "metadata": {},
   "outputs": [
    {
     "output_type": "execute_result",
     "data": {
      "text/plain": [
       "   Pclass  Sex Age  SibSp  Parch     Fare Cabin Embarked  Title\n",
       "0       3    0  22      1      0   7.2500   NaN        S      1\n",
       "1       1    1  38      1      0  71.2833   C85        C      2\n",
       "2       3    1  26      0      0   7.9250   NaN        S      4\n",
       "3       1    1  35      1      0  53.1000  C123        S      2\n",
       "4       3    0  35      0      0   8.0500   NaN        S      1"
      ],
      "text/html": "<div>\n<style scoped>\n    .dataframe tbody tr th:only-of-type {\n        vertical-align: middle;\n    }\n\n    .dataframe tbody tr th {\n        vertical-align: top;\n    }\n\n    .dataframe thead th {\n        text-align: right;\n    }\n</style>\n<table border=\"1\" class=\"dataframe\">\n  <thead>\n    <tr style=\"text-align: right;\">\n      <th></th>\n      <th>Pclass</th>\n      <th>Sex</th>\n      <th>Age</th>\n      <th>SibSp</th>\n      <th>Parch</th>\n      <th>Fare</th>\n      <th>Cabin</th>\n      <th>Embarked</th>\n      <th>Title</th>\n    </tr>\n  </thead>\n  <tbody>\n    <tr>\n      <th>0</th>\n      <td>3</td>\n      <td>0</td>\n      <td>22</td>\n      <td>1</td>\n      <td>0</td>\n      <td>7.2500</td>\n      <td>NaN</td>\n      <td>S</td>\n      <td>1</td>\n    </tr>\n    <tr>\n      <th>1</th>\n      <td>1</td>\n      <td>1</td>\n      <td>38</td>\n      <td>1</td>\n      <td>0</td>\n      <td>71.2833</td>\n      <td>C85</td>\n      <td>C</td>\n      <td>2</td>\n    </tr>\n    <tr>\n      <th>2</th>\n      <td>3</td>\n      <td>1</td>\n      <td>26</td>\n      <td>0</td>\n      <td>0</td>\n      <td>7.9250</td>\n      <td>NaN</td>\n      <td>S</td>\n      <td>4</td>\n    </tr>\n    <tr>\n      <th>3</th>\n      <td>1</td>\n      <td>1</td>\n      <td>35</td>\n      <td>1</td>\n      <td>0</td>\n      <td>53.1000</td>\n      <td>C123</td>\n      <td>S</td>\n      <td>2</td>\n    </tr>\n    <tr>\n      <th>4</th>\n      <td>3</td>\n      <td>0</td>\n      <td>35</td>\n      <td>0</td>\n      <td>0</td>\n      <td>8.0500</td>\n      <td>NaN</td>\n      <td>S</td>\n      <td>1</td>\n    </tr>\n  </tbody>\n</table>\n</div>"
     },
     "metadata": {},
     "execution_count": 832
    }
   ],
   "source": [
    "all_df['Sex'] = all_df['Sex'].map( {'female': 1, 'male': 0} ).astype(int)\n",
    "all_df.head()"
   ]
  },
  {
   "source": [
    "## Completing a numerical continuous feature¶\n"
   ],
   "cell_type": "markdown",
   "metadata": {}
  },
  {
   "cell_type": "code",
   "execution_count": 833,
   "metadata": {},
   "outputs": [],
   "source": [
    "# grid = sns.FacetGrid(train_df, row='Title', col='Sex', size=2.2, aspect=1.6)\n",
    "# grid.map(plt.hist, 'Age', alpha=.5, bins=20)\n",
    "# grid.add_legend()"
   ]
  },
  {
   "cell_type": "code",
   "execution_count": 834,
   "metadata": {},
   "outputs": [
    {
     "output_type": "execute_result",
     "data": {
      "text/plain": [
       "array([[0., 0., 0., 0., 0.],\n",
       "       [0., 0., 0., 0., 0.]])"
      ]
     },
     "metadata": {},
     "execution_count": 834
    }
   ],
   "source": [
    "guess_ages = np.zeros((2,5))\n",
    "guess_ages"
   ]
  },
  {
   "cell_type": "code",
   "execution_count": 835,
   "metadata": {},
   "outputs": [
    {
     "output_type": "execute_result",
     "data": {
      "text/plain": [
       "   Pclass  Sex Age  SibSp  Parch     Fare Cabin Embarked  Title\n",
       "0       3    0  22      1      0   7.2500   NaN        S      1\n",
       "1       1    1  38      1      0  71.2833   C85        C      2\n",
       "2       3    1  26      0      0   7.9250   NaN        S      4\n",
       "3       1    1  35      1      0  53.1000  C123        S      2\n",
       "4       3    0  35      0      0   8.0500   NaN        S      1"
      ],
      "text/html": "<div>\n<style scoped>\n    .dataframe tbody tr th:only-of-type {\n        vertical-align: middle;\n    }\n\n    .dataframe tbody tr th {\n        vertical-align: top;\n    }\n\n    .dataframe thead th {\n        text-align: right;\n    }\n</style>\n<table border=\"1\" class=\"dataframe\">\n  <thead>\n    <tr style=\"text-align: right;\">\n      <th></th>\n      <th>Pclass</th>\n      <th>Sex</th>\n      <th>Age</th>\n      <th>SibSp</th>\n      <th>Parch</th>\n      <th>Fare</th>\n      <th>Cabin</th>\n      <th>Embarked</th>\n      <th>Title</th>\n    </tr>\n  </thead>\n  <tbody>\n    <tr>\n      <th>0</th>\n      <td>3</td>\n      <td>0</td>\n      <td>22</td>\n      <td>1</td>\n      <td>0</td>\n      <td>7.2500</td>\n      <td>NaN</td>\n      <td>S</td>\n      <td>1</td>\n    </tr>\n    <tr>\n      <th>1</th>\n      <td>1</td>\n      <td>1</td>\n      <td>38</td>\n      <td>1</td>\n      <td>0</td>\n      <td>71.2833</td>\n      <td>C85</td>\n      <td>C</td>\n      <td>2</td>\n    </tr>\n    <tr>\n      <th>2</th>\n      <td>3</td>\n      <td>1</td>\n      <td>26</td>\n      <td>0</td>\n      <td>0</td>\n      <td>7.9250</td>\n      <td>NaN</td>\n      <td>S</td>\n      <td>4</td>\n    </tr>\n    <tr>\n      <th>3</th>\n      <td>1</td>\n      <td>1</td>\n      <td>35</td>\n      <td>1</td>\n      <td>0</td>\n      <td>53.1000</td>\n      <td>C123</td>\n      <td>S</td>\n      <td>2</td>\n    </tr>\n    <tr>\n      <th>4</th>\n      <td>3</td>\n      <td>0</td>\n      <td>35</td>\n      <td>0</td>\n      <td>0</td>\n      <td>8.0500</td>\n      <td>NaN</td>\n      <td>S</td>\n      <td>1</td>\n    </tr>\n  </tbody>\n</table>\n</div>"
     },
     "metadata": {},
     "execution_count": 835
    }
   ],
   "source": [
    "all_df.head()"
   ]
  },
  {
   "source": [
    "for i in range(0,2):\n",
    "    for j in range(0,5):\n",
    "        guss_df = all_df[(all_df['Sex'] == i) & (all_df['Title'] == j )]['Age'].dropna()\n",
    "        guss_age = guss_df.median()\n",
    "        if guss_age != guss_age:\n",
    "            guss_age = 0\n",
    "        guess_ages[i,j] = int(guss_age/0.5 + 0.5) * 0.5\n",
    "for i in range(0,2):\n",
    "    for j in range(0,5):\n",
    "        all_df.loc[(all_df.Age.isnull()) & (all_df.Sex == i ) & ( all_df.Title == j), 'Age'] = guess_ages[i,j]\n",
    "\n",
    "all_df['Age'] = all_df['Age'].astype(int)\n",
    "all_df.head()"
   ],
   "cell_type": "code",
   "metadata": {},
   "execution_count": 836,
   "outputs": [
    {
     "output_type": "execute_result",
     "data": {
      "text/plain": [
       "   Pclass  Sex  Age  SibSp  Parch     Fare Cabin Embarked  Title\n",
       "0       3    0   22      1      0   7.2500   NaN        S      1\n",
       "1       1    1   38      1      0  71.2833   C85        C      2\n",
       "2       3    1   26      0      0   7.9250   NaN        S      4\n",
       "3       1    1   35      1      0  53.1000  C123        S      2\n",
       "4       3    0   35      0      0   8.0500   NaN        S      1"
      ],
      "text/html": "<div>\n<style scoped>\n    .dataframe tbody tr th:only-of-type {\n        vertical-align: middle;\n    }\n\n    .dataframe tbody tr th {\n        vertical-align: top;\n    }\n\n    .dataframe thead th {\n        text-align: right;\n    }\n</style>\n<table border=\"1\" class=\"dataframe\">\n  <thead>\n    <tr style=\"text-align: right;\">\n      <th></th>\n      <th>Pclass</th>\n      <th>Sex</th>\n      <th>Age</th>\n      <th>SibSp</th>\n      <th>Parch</th>\n      <th>Fare</th>\n      <th>Cabin</th>\n      <th>Embarked</th>\n      <th>Title</th>\n    </tr>\n  </thead>\n  <tbody>\n    <tr>\n      <th>0</th>\n      <td>3</td>\n      <td>0</td>\n      <td>22</td>\n      <td>1</td>\n      <td>0</td>\n      <td>7.2500</td>\n      <td>NaN</td>\n      <td>S</td>\n      <td>1</td>\n    </tr>\n    <tr>\n      <th>1</th>\n      <td>1</td>\n      <td>1</td>\n      <td>38</td>\n      <td>1</td>\n      <td>0</td>\n      <td>71.2833</td>\n      <td>C85</td>\n      <td>C</td>\n      <td>2</td>\n    </tr>\n    <tr>\n      <th>2</th>\n      <td>3</td>\n      <td>1</td>\n      <td>26</td>\n      <td>0</td>\n      <td>0</td>\n      <td>7.9250</td>\n      <td>NaN</td>\n      <td>S</td>\n      <td>4</td>\n    </tr>\n    <tr>\n      <th>3</th>\n      <td>1</td>\n      <td>1</td>\n      <td>35</td>\n      <td>1</td>\n      <td>0</td>\n      <td>53.1000</td>\n      <td>C123</td>\n      <td>S</td>\n      <td>2</td>\n    </tr>\n    <tr>\n      <th>4</th>\n      <td>3</td>\n      <td>0</td>\n      <td>35</td>\n      <td>0</td>\n      <td>0</td>\n      <td>8.0500</td>\n      <td>NaN</td>\n      <td>S</td>\n      <td>1</td>\n    </tr>\n  </tbody>\n</table>\n</div>"
     },
     "metadata": {},
     "execution_count": 836
    }
   ]
  },
  {
   "cell_type": "code",
   "execution_count": 837,
   "metadata": {},
   "outputs": [],
   "source": [
    "all_df.loc[ (all_df['Title'] == 0) & (all_df['Age'] <= 18)& (all_df['Sex'] <= 0), 'Title'] = 3\n",
    "all_df.loc[ (all_df['Title'] == 0) & (all_df['Age'] <= 18)& (all_df['Sex'] <= 1), 'Title'] = 4\n",
    "all_df.loc[ (all_df['Title'] == 0) & (all_df['Age'] > 18)& (all_df['Sex'] <= 1), 'Title'] = 2\n",
    "all_df.loc[ (all_df['Title'] == 0) & (all_df['Age'] > 18)& (all_df['Sex'] <= 0), 'Title'] = 1\n",
    "\n",
    "# all_df = all_df.drop(['Title'], axis=1)"
   ]
  },
  {
   "cell_type": "code",
   "execution_count": 838,
   "metadata": {},
   "outputs": [],
   "source": [
    "# cabin_category = {'A':9, 'B':8, 'C':7, 'D':6, 'E':5, 'F':4, 'G':3, 'T':2}\n",
    "\n",
    "# all_df['Cabin'] = all_df['Cabin'].fillna('U')\n",
    "# all_df['Cabin'] = all_df['Cabin'].replace('([0-9]+)', '',regex=True).str.slice(0, 1)\n",
    "# all_df['Cabin'] = all_df['Cabin'].map(cabin_category)\n",
    "    \n",
    "all_df = all_df.drop(['Cabin'], axis=1)"
   ]
  },
  {
   "cell_type": "code",
   "execution_count": 839,
   "metadata": {},
   "outputs": [],
   "source": [
    "freq_port = train_df.Embarked.dropna().mode()[0]\n",
    "all_df['Embarked'] = all_df['Embarked'].fillna(freq_port)\n",
    "all_df['Embarked'] = all_df['Embarked'].map( {'S': 0, 'C': 2, 'Q': 1} ).astype(int)\n",
    "\n",
    "all_df['Pclass'] = all_df['Pclass'].fillna(freq_port)\n",
    "all_df['Pclass'] = all_df['Pclass'].map( {3: 0, 2: 1, 1: 2} ).astype(int)"
   ]
  },
  {
   "cell_type": "code",
   "execution_count": 840,
   "metadata": {},
   "outputs": [],
   "source": [
    "# guess_cabins = np.zeros((3,3))\n",
    "# for i in range(0,3):\n",
    "#     for j in range(0,3):\n",
    "#         guess_df = all_df[(all_df['Pclass'] == i) & (all_df['Embarked'] == j)]['Cabin'].dropna()\n",
    "#         guess_cabin = guess_df.median()\n",
    "#         guess_cabins[i,j] = int(guess_cabin/0.5 + 0.5) * 0.5\n",
    "# for i in range(0,3):\n",
    "#     for j in range(0,3):\n",
    "#         all_df.loc[(all_df.Cabin.isnull()) & (all_df.Pclass == i ) & ( all_df.Embarked == j), 'Cabin'] = guess_cabins[i,j]"
   ]
  },
  {
   "cell_type": "code",
   "execution_count": 841,
   "metadata": {},
   "outputs": [],
   "source": [
    "# train_df['AgeBand'] = pd.cut(train_df['Age'], 5)\n",
    "# train_df[['AgeBand', 'Survived']].groupby(['AgeBand'], as_index=False).mean().sort_values(by='AgeBand', ascending=True)"
   ]
  },
  {
   "cell_type": "code",
   "execution_count": 842,
   "metadata": {},
   "outputs": [],
   "source": [
    "all_df.loc[ all_df['Age'] <= 16, 'Age'] = 4\n",
    "all_df.loc[(all_df['Age'] > 16) & (all_df['Age'] <= 32), 'Age'] = 3\n",
    "all_df.loc[(all_df['Age'] > 32) & (all_df['Age'] <= 48), 'Age'] = 2\n",
    "all_df.loc[(all_df['Age'] > 48) & (all_df['Age'] <= 64), 'Age'] = 1\n",
    "all_df.loc[ all_df['Age'] > 64, 'Age'] = 0"
   ]
  },
  {
   "cell_type": "code",
   "execution_count": 843,
   "metadata": {},
   "outputs": [],
   "source": [
    "# train_df = train_df.drop(['AgeBand'], axis=1)\n",
    "# combine = [train_df, test_df]\n",
    "# train_df.head()"
   ]
  },
  {
   "cell_type": "code",
   "execution_count": 844,
   "metadata": {},
   "outputs": [],
   "source": [
    "all_df['FamilySize'] = all_df['SibSp'] + all_df['Parch'] + 1\n",
    "\n",
    "# train_df[['FamilySize', 'Survived']].groupby(['FamilySize'], as_index=False).mean().sort_values(by='Survived', ascending=False)"
   ]
  },
  {
   "cell_type": "code",
   "execution_count": 845,
   "metadata": {},
   "outputs": [],
   "source": [
    "# for dataset in combine:\n",
    "#     dataset['IsAlone'] = 0\n",
    "#     dataset.loc[dataset['FamilySize'] == 1, 'IsAlone'] = 1\n",
    "\n",
    "# train_df[['IsAlone', 'Survived']].groupby(['IsAlone'], as_index=False).mean()"
   ]
  },
  {
   "cell_type": "code",
   "execution_count": 846,
   "metadata": {},
   "outputs": [],
   "source": [
    "all_df = all_df.drop(['Parch', 'SibSp'], axis=1)"
   ]
  },
  {
   "cell_type": "code",
   "execution_count": 847,
   "metadata": {},
   "outputs": [],
   "source": [
    "all_df['Age*Class'] = all_df.Sex + all_df.Pclass + 1"
   ]
  },
  {
   "cell_type": "code",
   "execution_count": 848,
   "metadata": {},
   "outputs": [],
   "source": [
    "freq_port = train_df.Embarked.dropna().mode()[0]"
   ]
  },
  {
   "cell_type": "code",
   "execution_count": 849,
   "metadata": {},
   "outputs": [],
   "source": [
    "all_df['E*P'] =  all_df.Pclass + all_df.Embarked + 1"
   ]
  },
  {
   "cell_type": "code",
   "execution_count": 850,
   "metadata": {},
   "outputs": [],
   "source": [
    "all_df['Fare'].fillna(all_df['Fare'].dropna().median(), inplace=True)\n",
    "# all_df = all_df.drop(['Fare'], axis=1)"
   ]
  },
  {
   "cell_type": "code",
   "execution_count": 851,
   "metadata": {},
   "outputs": [],
   "source": [
    "# train_df['FareBand'] = pd.qcut(train_df['Fare'], 4)\n",
    "# train_df[['FareBand', 'Survived']].groupby(['FareBand'], as_index=False).mean().sort_values(by='FareBand', ascending=True)"
   ]
  },
  {
   "cell_type": "code",
   "execution_count": 852,
   "metadata": {},
   "outputs": [],
   "source": [
    "all_df.loc[ all_df['Fare'] <= 7.91, 'Fare'] = 0\n",
    "all_df.loc[(all_df['Fare'] > 7.91) & (all_df['Fare'] <= 14.454), 'Fare'] = 1\n",
    "all_df.loc[(all_df['Fare'] > 14.454) & (all_df['Fare'] <= 31), 'Fare']   = 2\n",
    "all_df.loc[ all_df['Fare'] > 31, 'Fare'] = 3\n",
    "all_df['Fare'] = all_df['Fare'].astype(int)\n",
    "\n",
    "# all_df = all_df.drop(['Fare'], axis=1)"
   ]
  },
  {
   "cell_type": "code",
   "execution_count": 853,
   "metadata": {},
   "outputs": [],
   "source": [
    "all_df['Sex*Fare'] = all_df.Sex + all_df.Fare + 1"
   ]
  },
  {
   "cell_type": "code",
   "execution_count": 854,
   "metadata": {},
   "outputs": [
    {
     "output_type": "execute_result",
     "data": {
      "text/plain": [
       "<matplotlib.axes._subplots.AxesSubplot at 0x7f8657117810>"
      ]
     },
     "metadata": {},
     "execution_count": 854
    },
    {
     "output_type": "display_data",
     "data": {
      "text/plain": "<Figure size 432x288 with 2 Axes>",
      "image/svg+xml": "<?xml version=\"1.0\" encoding=\"utf-8\" standalone=\"no\"?>\n<!DOCTYPE svg PUBLIC \"-//W3C//DTD SVG 1.1//EN\"\n  \"http://www.w3.org/Graphics/SVG/1.1/DTD/svg11.dtd\">\n<!-- Created with matplotlib (https://matplotlib.org/) -->\n<svg height=\"309.926719pt\" version=\"1.1\" viewBox=\"0 0 407.042625 309.926719\" width=\"407.042625pt\" xmlns=\"http://www.w3.org/2000/svg\" xmlns:xlink=\"http://www.w3.org/1999/xlink\">\n <defs>\n  <style type=\"text/css\">\n*{stroke-linecap:butt;stroke-linejoin:round;}\n  </style>\n </defs>\n <g id=\"figure_1\">\n  <g id=\"patch_1\">\n   <path d=\"M 0 309.926719 \nL 407.042625 309.926719 \nL 407.042625 0 \nL 0 0 \nz\n\" style=\"fill:none;\"/>\n  </g>\n  <g id=\"axes_1\">\n   <g id=\"patch_2\">\n    <path d=\"M 81.4875 228.439219 \nL 349.3275 228.439219 \nL 349.3275 10.999219 \nL 81.4875 10.999219 \nz\n\" style=\"fill:#ffffff;\"/>\n   </g>\n   <g id=\"QuadMesh_1\">\n    <path clip-path=\"url(#pc9ca0efebb)\" d=\"M 81.4875 10.999219 \nL 108.2715 10.999219 \nL 108.2715 32.743219 \nL 81.4875 32.743219 \nL 81.4875 10.999219 \n\" style=\"fill:#ffd4ac;stroke:#ffffff;stroke-width:0.75;\"/>\n    <path clip-path=\"url(#pc9ca0efebb)\" d=\"M 108.2715 10.999219 \nL 135.0555 10.999219 \nL 135.0555 32.743219 \nL 108.2715 32.743219 \nL 108.2715 10.999219 \n\" style=\"fill:#bde7db;stroke:#ffffff;stroke-width:0.75;\"/>\n    <path clip-path=\"url(#pc9ca0efebb)\" d=\"M 135.0555 10.999219 \nL 161.8395 10.999219 \nL 161.8395 32.743219 \nL 135.0555 32.743219 \nL 135.0555 10.999219 \n\" style=\"fill:#bde7db;stroke:#ffffff;stroke-width:0.75;\"/>\n    <path clip-path=\"url(#pc9ca0efebb)\" d=\"M 161.8395 10.999219 \nL 188.6235 10.999219 \nL 188.6235 32.743219 \nL 161.8395 32.743219 \nL 161.8395 10.999219 \n\" style=\"fill:#bde7db;stroke:#ffffff;stroke-width:0.75;\"/>\n    <path clip-path=\"url(#pc9ca0efebb)\" d=\"M 188.6235 10.999219 \nL 215.4075 10.999219 \nL 215.4075 32.743219 \nL 188.6235 32.743219 \nL 188.6235 10.999219 \n\" style=\"fill:#bde7db;stroke:#ffffff;stroke-width:0.75;\"/>\n    <path clip-path=\"url(#pc9ca0efebb)\" d=\"M 215.4075 10.999219 \nL 242.1915 10.999219 \nL 242.1915 32.743219 \nL 215.4075 32.743219 \nL 215.4075 10.999219 \n\" style=\"fill:#bde7db;stroke:#ffffff;stroke-width:0.75;\"/>\n    <path clip-path=\"url(#pc9ca0efebb)\" d=\"M 242.1915 10.999219 \nL 268.9755 10.999219 \nL 268.9755 32.743219 \nL 242.1915 32.743219 \nL 242.1915 10.999219 \n\" style=\"fill:#bde7db;stroke:#ffffff;stroke-width:0.75;\"/>\n    <path clip-path=\"url(#pc9ca0efebb)\" d=\"M 268.9755 10.999219 \nL 295.7595 10.999219 \nL 295.7595 32.743219 \nL 268.9755 32.743219 \nL 268.9755 10.999219 \n\" style=\"fill:#bde7db;stroke:#ffffff;stroke-width:0.75;\"/>\n    <path clip-path=\"url(#pc9ca0efebb)\" d=\"M 295.7595 10.999219 \nL 322.5435 10.999219 \nL 322.5435 32.743219 \nL 295.7595 32.743219 \nL 295.7595 10.999219 \n\" style=\"fill:#bde7db;stroke:#ffffff;stroke-width:0.75;\"/>\n    <path clip-path=\"url(#pc9ca0efebb)\" d=\"M 322.5435 10.999219 \nL 349.3275 10.999219 \nL 349.3275 32.743219 \nL 322.5435 32.743219 \nL 322.5435 10.999219 \n\" style=\"fill:#bde7db;stroke:#ffffff;stroke-width:0.75;\"/>\n    <path clip-path=\"url(#pc9ca0efebb)\" d=\"M 81.4875 32.743219 \nL 108.2715 32.743219 \nL 108.2715 54.487219 \nL 81.4875 54.487219 \nL 81.4875 32.743219 \n\" style=\"fill:#afddd7;stroke:#ffffff;stroke-width:0.75;\"/>\n    <path clip-path=\"url(#pc9ca0efebb)\" d=\"M 108.2715 32.743219 \nL 135.0555 32.743219 \nL 135.0555 54.487219 \nL 108.2715 54.487219 \nL 108.2715 32.743219 \n\" style=\"fill:#ffd4ac;stroke:#ffffff;stroke-width:0.75;\"/>\n    <path clip-path=\"url(#pc9ca0efebb)\" d=\"M 135.0555 32.743219 \nL 161.8395 32.743219 \nL 161.8395 54.487219 \nL 135.0555 54.487219 \nL 135.0555 32.743219 \n\" style=\"fill:#474792;stroke:#ffffff;stroke-width:0.75;\"/>\n    <path clip-path=\"url(#pc9ca0efebb)\" d=\"M 161.8395 32.743219 \nL 188.6235 32.743219 \nL 188.6235 54.487219 \nL 161.8395 54.487219 \nL 161.8395 32.743219 \n\" style=\"fill:#b7e3d9;stroke:#ffffff;stroke-width:0.75;\"/>\n    <path clip-path=\"url(#pc9ca0efebb)\" d=\"M 188.6235 32.743219 \nL 215.4075 32.743219 \nL 215.4075 54.487219 \nL 188.6235 54.487219 \nL 188.6235 32.743219 \n\" style=\"fill:#bde7db;stroke:#ffffff;stroke-width:0.75;\"/>\n    <path clip-path=\"url(#pc9ca0efebb)\" d=\"M 215.4075 32.743219 \nL 242.1915 32.743219 \nL 242.1915 54.487219 \nL 215.4075 54.487219 \nL 215.4075 32.743219 \n\" style=\"fill:#4167c7;stroke:#ffffff;stroke-width:0.75;\"/>\n    <path clip-path=\"url(#pc9ca0efebb)\" d=\"M 242.1915 32.743219 \nL 268.9755 32.743219 \nL 268.9755 54.487219 \nL 242.1915 54.487219 \nL 242.1915 32.743219 \n\" style=\"fill:#252532;stroke:#ffffff;stroke-width:0.75;\"/>\n    <path clip-path=\"url(#pc9ca0efebb)\" d=\"M 268.9755 32.743219 \nL 295.7595 32.743219 \nL 295.7595 54.487219 \nL 268.9755 54.487219 \nL 268.9755 32.743219 \n\" style=\"fill:#84c1cf;stroke:#ffffff;stroke-width:0.75;\"/>\n    <path clip-path=\"url(#pc9ca0efebb)\" d=\"M 295.7595 32.743219 \nL 322.5435 32.743219 \nL 322.5435 54.487219 \nL 295.7595 54.487219 \nL 295.7595 32.743219 \n\" style=\"fill:#363459;stroke:#ffffff;stroke-width:0.75;\"/>\n    <path clip-path=\"url(#pc9ca0efebb)\" d=\"M 322.5435 32.743219 \nL 349.3275 32.743219 \nL 349.3275 54.487219 \nL 322.5435 54.487219 \nL 322.5435 32.743219 \n\" style=\"fill:#6bb2cd;stroke:#ffffff;stroke-width:0.75;\"/>\n    <path clip-path=\"url(#pc9ca0efebb)\" d=\"M 81.4875 54.487219 \nL 108.2715 54.487219 \nL 108.2715 76.231219 \nL 81.4875 76.231219 \nL 81.4875 54.487219 \n\" style=\"fill:#b7e3d9;stroke:#ffffff;stroke-width:0.75;\"/>\n    <path clip-path=\"url(#pc9ca0efebb)\" d=\"M 108.2715 54.487219 \nL 135.0555 54.487219 \nL 135.0555 76.231219 \nL 108.2715 76.231219 \nL 108.2715 54.487219 \n\" style=\"fill:#475cbc;stroke:#ffffff;stroke-width:0.75;\"/>\n    <path clip-path=\"url(#pc9ca0efebb)\" d=\"M 135.0555 54.487219 \nL 161.8395 54.487219 \nL 161.8395 76.231219 \nL 135.0555 76.231219 \nL 135.0555 54.487219 \n\" style=\"fill:#ffd4ac;stroke:#ffffff;stroke-width:0.75;\"/>\n    <path clip-path=\"url(#pc9ca0efebb)\" d=\"M 161.8395 54.487219 \nL 188.6235 54.487219 \nL 188.6235 76.231219 \nL 161.8395 76.231219 \nL 161.8395 54.487219 \n\" style=\"fill:#4858b6;stroke:#ffffff;stroke-width:0.75;\"/>\n    <path clip-path=\"url(#pc9ca0efebb)\" d=\"M 188.6235 54.487219 \nL 215.4075 54.487219 \nL 215.4075 76.231219 \nL 188.6235 76.231219 \nL 188.6235 54.487219 \n\" style=\"fill:#b7e3d9;stroke:#ffffff;stroke-width:0.75;\"/>\n    <path clip-path=\"url(#pc9ca0efebb)\" d=\"M 215.4075 54.487219 \nL 242.1915 54.487219 \nL 242.1915 76.231219 \nL 215.4075 76.231219 \nL 215.4075 54.487219 \n\" style=\"fill:#75b8ce;stroke:#ffffff;stroke-width:0.75;\"/>\n    <path clip-path=\"url(#pc9ca0efebb)\" d=\"M 242.1915 54.487219 \nL 268.9755 54.487219 \nL 268.9755 76.231219 \nL 242.1915 76.231219 \nL 242.1915 54.487219 \n\" style=\"fill:#474792;stroke:#ffffff;stroke-width:0.75;\"/>\n    <path clip-path=\"url(#pc9ca0efebb)\" d=\"M 268.9755 54.487219 \nL 295.7595 54.487219 \nL 295.7595 76.231219 \nL 268.9755 76.231219 \nL 268.9755 54.487219 \n\" style=\"fill:#bde7db;stroke:#ffffff;stroke-width:0.75;\"/>\n    <path clip-path=\"url(#pc9ca0efebb)\" d=\"M 295.7595 54.487219 \nL 322.5435 54.487219 \nL 322.5435 76.231219 \nL 295.7595 76.231219 \nL 295.7595 54.487219 \n\" style=\"fill:#8dc6d0;stroke:#ffffff;stroke-width:0.75;\"/>\n    <path clip-path=\"url(#pc9ca0efebb)\" d=\"M 322.5435 54.487219 \nL 349.3275 54.487219 \nL 349.3275 76.231219 \nL 322.5435 76.231219 \nL 322.5435 54.487219 \n\" style=\"fill:#bde7db;stroke:#ffffff;stroke-width:0.75;\"/>\n    <path clip-path=\"url(#pc9ca0efebb)\" d=\"M 81.4875 76.231219 \nL 108.2715 76.231219 \nL 108.2715 97.975219 \nL 81.4875 97.975219 \nL 81.4875 76.231219 \n\" style=\"fill:#bde7db;stroke:#ffffff;stroke-width:0.75;\"/>\n    <path clip-path=\"url(#pc9ca0efebb)\" d=\"M 108.2715 76.231219 \nL 135.0555 76.231219 \nL 135.0555 97.975219 \nL 108.2715 97.975219 \nL 108.2715 76.231219 \n\" style=\"fill:#bde7db;stroke:#ffffff;stroke-width:0.75;\"/>\n    <path clip-path=\"url(#pc9ca0efebb)\" d=\"M 135.0555 76.231219 \nL 161.8395 76.231219 \nL 161.8395 97.975219 \nL 135.0555 97.975219 \nL 135.0555 76.231219 \n\" style=\"fill:#393763;stroke:#ffffff;stroke-width:0.75;\"/>\n    <path clip-path=\"url(#pc9ca0efebb)\" d=\"M 161.8395 76.231219 \nL 188.6235 76.231219 \nL 188.6235 97.975219 \nL 161.8395 97.975219 \nL 161.8395 76.231219 \n\" style=\"fill:#ffd4ac;stroke:#ffffff;stroke-width:0.75;\"/>\n    <path clip-path=\"url(#pc9ca0efebb)\" d=\"M 188.6235 76.231219 \nL 215.4075 76.231219 \nL 215.4075 97.975219 \nL 188.6235 97.975219 \nL 188.6235 76.231219 \n\" style=\"fill:#bde7db;stroke:#ffffff;stroke-width:0.75;\"/>\n    <path clip-path=\"url(#pc9ca0efebb)\" d=\"M 215.4075 76.231219 \nL 242.1915 76.231219 \nL 242.1915 97.975219 \nL 215.4075 97.975219 \nL 215.4075 76.231219 \n\" style=\"fill:#bde7db;stroke:#ffffff;stroke-width:0.75;\"/>\n    <path clip-path=\"url(#pc9ca0efebb)\" d=\"M 242.1915 76.231219 \nL 268.9755 76.231219 \nL 268.9755 97.975219 \nL 242.1915 97.975219 \nL 242.1915 76.231219 \n\" style=\"fill:#bde7db;stroke:#ffffff;stroke-width:0.75;\"/>\n    <path clip-path=\"url(#pc9ca0efebb)\" d=\"M 268.9755 76.231219 \nL 295.7595 76.231219 \nL 295.7595 97.975219 \nL 268.9755 97.975219 \nL 268.9755 76.231219 \n\" style=\"fill:#bde7db;stroke:#ffffff;stroke-width:0.75;\"/>\n    <path clip-path=\"url(#pc9ca0efebb)\" d=\"M 295.7595 76.231219 \nL 322.5435 76.231219 \nL 322.5435 97.975219 \nL 295.7595 97.975219 \nL 295.7595 76.231219 \n\" style=\"fill:#bde7db;stroke:#ffffff;stroke-width:0.75;\"/>\n    <path clip-path=\"url(#pc9ca0efebb)\" d=\"M 322.5435 76.231219 \nL 349.3275 76.231219 \nL 349.3275 97.975219 \nL 322.5435 97.975219 \nL 322.5435 76.231219 \n\" style=\"fill:#bde7db;stroke:#ffffff;stroke-width:0.75;\"/>\n    <path clip-path=\"url(#pc9ca0efebb)\" d=\"M 81.4875 97.975219 \nL 108.2715 97.975219 \nL 108.2715 119.719219 \nL 81.4875 119.719219 \nL 81.4875 97.975219 \n\" style=\"fill:#bde7db;stroke:#ffffff;stroke-width:0.75;\"/>\n    <path clip-path=\"url(#pc9ca0efebb)\" d=\"M 108.2715 97.975219 \nL 135.0555 97.975219 \nL 135.0555 119.719219 \nL 108.2715 119.719219 \nL 108.2715 97.975219 \n\" style=\"fill:#bde7db;stroke:#ffffff;stroke-width:0.75;\"/>\n    <path clip-path=\"url(#pc9ca0efebb)\" d=\"M 135.0555 97.975219 \nL 161.8395 97.975219 \nL 161.8395 119.719219 \nL 135.0555 119.719219 \nL 135.0555 97.975219 \n\" style=\"fill:#bde7db;stroke:#ffffff;stroke-width:0.75;\"/>\n    <path clip-path=\"url(#pc9ca0efebb)\" d=\"M 161.8395 97.975219 \nL 188.6235 97.975219 \nL 188.6235 119.719219 \nL 161.8395 119.719219 \nL 161.8395 97.975219 \n\" style=\"fill:#bde7db;stroke:#ffffff;stroke-width:0.75;\"/>\n    <path clip-path=\"url(#pc9ca0efebb)\" d=\"M 188.6235 97.975219 \nL 215.4075 97.975219 \nL 215.4075 119.719219 \nL 188.6235 119.719219 \nL 188.6235 97.975219 \n\" style=\"fill:#ffd4ac;stroke:#ffffff;stroke-width:0.75;\"/>\n    <path clip-path=\"url(#pc9ca0efebb)\" d=\"M 215.4075 97.975219 \nL 242.1915 97.975219 \nL 242.1915 119.719219 \nL 215.4075 119.719219 \nL 215.4075 97.975219 \n\" style=\"fill:#9bcfd3;stroke:#ffffff;stroke-width:0.75;\"/>\n    <path clip-path=\"url(#pc9ca0efebb)\" d=\"M 242.1915 97.975219 \nL 268.9755 97.975219 \nL 268.9755 119.719219 \nL 242.1915 119.719219 \nL 242.1915 97.975219 \n\" style=\"fill:#bde7db;stroke:#ffffff;stroke-width:0.75;\"/>\n    <path clip-path=\"url(#pc9ca0efebb)\" d=\"M 268.9755 97.975219 \nL 295.7595 97.975219 \nL 295.7595 119.719219 \nL 268.9755 119.719219 \nL 268.9755 97.975219 \n\" style=\"fill:#bde7db;stroke:#ffffff;stroke-width:0.75;\"/>\n    <path clip-path=\"url(#pc9ca0efebb)\" d=\"M 295.7595 97.975219 \nL 322.5435 97.975219 \nL 322.5435 119.719219 \nL 295.7595 119.719219 \nL 295.7595 97.975219 \n\" style=\"fill:#84c1cf;stroke:#ffffff;stroke-width:0.75;\"/>\n    <path clip-path=\"url(#pc9ca0efebb)\" d=\"M 322.5435 97.975219 \nL 349.3275 97.975219 \nL 349.3275 119.719219 \nL 322.5435 119.719219 \nL 322.5435 97.975219 \n\" style=\"fill:#bde7db;stroke:#ffffff;stroke-width:0.75;\"/>\n    <path clip-path=\"url(#pc9ca0efebb)\" d=\"M 81.4875 119.719219 \nL 108.2715 119.719219 \nL 108.2715 141.463219 \nL 81.4875 141.463219 \nL 81.4875 119.719219 \n\" style=\"fill:#65afcd;stroke:#ffffff;stroke-width:0.75;\"/>\n    <path clip-path=\"url(#pc9ca0efebb)\" d=\"M 108.2715 119.719219 \nL 135.0555 119.719219 \nL 135.0555 141.463219 \nL 108.2715 141.463219 \nL 108.2715 119.719219 \n\" style=\"fill:#494a9a;stroke:#ffffff;stroke-width:0.75;\"/>\n    <path clip-path=\"url(#pc9ca0efebb)\" d=\"M 135.0555 119.719219 \nL 161.8395 119.719219 \nL 161.8395 141.463219 \nL 135.0555 141.463219 \nL 135.0555 119.719219 \n\" style=\"fill:#3975cf;stroke:#ffffff;stroke-width:0.75;\"/>\n    <path clip-path=\"url(#pc9ca0efebb)\" d=\"M 161.8395 119.719219 \nL 188.6235 119.719219 \nL 188.6235 141.463219 \nL 161.8395 141.463219 \nL 161.8395 119.719219 \n\" style=\"fill:#7bbbce;stroke:#ffffff;stroke-width:0.75;\"/>\n    <path clip-path=\"url(#pc9ca0efebb)\" d=\"M 188.6235 119.719219 \nL 215.4075 119.719219 \nL 215.4075 141.463219 \nL 188.6235 141.463219 \nL 188.6235 119.719219 \n\" style=\"fill:#4858b6;stroke:#ffffff;stroke-width:0.75;\"/>\n    <path clip-path=\"url(#pc9ca0efebb)\" d=\"M 215.4075 119.719219 \nL 242.1915 119.719219 \nL 242.1915 141.463219 \nL 215.4075 141.463219 \nL 215.4075 119.719219 \n\" style=\"fill:#ffd4ac;stroke:#ffffff;stroke-width:0.75;\"/>\n    <path clip-path=\"url(#pc9ca0efebb)\" d=\"M 242.1915 119.719219 \nL 268.9755 119.719219 \nL 268.9755 141.463219 \nL 242.1915 141.463219 \nL 242.1915 119.719219 \n\" style=\"fill:#4a4fa5;stroke:#ffffff;stroke-width:0.75;\"/>\n    <path clip-path=\"url(#pc9ca0efebb)\" d=\"M 268.9755 119.719219 \nL 295.7595 119.719219 \nL 295.7595 141.463219 \nL 268.9755 141.463219 \nL 268.9755 119.719219 \n\" style=\"fill:#9bcfd3;stroke:#ffffff;stroke-width:0.75;\"/>\n    <path clip-path=\"url(#pc9ca0efebb)\" d=\"M 295.7595 119.719219 \nL 322.5435 119.719219 \nL 322.5435 141.463219 \nL 295.7595 141.463219 \nL 295.7595 119.719219 \n\" style=\"fill:#992e44;stroke:#ffffff;stroke-width:0.75;\"/>\n    <path clip-path=\"url(#pc9ca0efebb)\" d=\"M 322.5435 119.719219 \nL 349.3275 119.719219 \nL 349.3275 141.463219 \nL 322.5435 141.463219 \nL 322.5435 119.719219 \n\" style=\"fill:#7bbbce;stroke:#ffffff;stroke-width:0.75;\"/>\n    <path clip-path=\"url(#pc9ca0efebb)\" d=\"M 81.4875 141.463219 \nL 108.2715 141.463219 \nL 108.2715 163.207219 \nL 81.4875 163.207219 \nL 81.4875 141.463219 \n\" style=\"fill:#9bcfd3;stroke:#ffffff;stroke-width:0.75;\"/>\n    <path clip-path=\"url(#pc9ca0efebb)\" d=\"M 108.2715 141.463219 \nL 135.0555 141.463219 \nL 135.0555 163.207219 \nL 108.2715 163.207219 \nL 108.2715 141.463219 \n\" style=\"fill:#6d2b3b;stroke:#ffffff;stroke-width:0.75;\"/>\n    <path clip-path=\"url(#pc9ca0efebb)\" d=\"M 135.0555 141.463219 \nL 161.8395 141.463219 \nL 161.8395 163.207219 \nL 135.0555 163.207219 \nL 135.0555 141.463219 \n\" style=\"fill:#2c1e21;stroke:#ffffff;stroke-width:0.75;\"/>\n    <path clip-path=\"url(#pc9ca0efebb)\" d=\"M 161.8395 141.463219 \nL 188.6235 141.463219 \nL 188.6235 163.207219 \nL 161.8395 163.207219 \nL 161.8395 141.463219 \n\" style=\"fill:#b7e3d9;stroke:#ffffff;stroke-width:0.75;\"/>\n    <path clip-path=\"url(#pc9ca0efebb)\" d=\"M 188.6235 141.463219 \nL 215.4075 141.463219 \nL 215.4075 163.207219 \nL 188.6235 163.207219 \nL 188.6235 141.463219 \n\" style=\"fill:#bde7db;stroke:#ffffff;stroke-width:0.75;\"/>\n    <path clip-path=\"url(#pc9ca0efebb)\" d=\"M 215.4075 141.463219 \nL 242.1915 141.463219 \nL 242.1915 163.207219 \nL 215.4075 163.207219 \nL 215.4075 141.463219 \n\" style=\"fill:#494a9a;stroke:#ffffff;stroke-width:0.75;\"/>\n    <path clip-path=\"url(#pc9ca0efebb)\" d=\"M 242.1915 141.463219 \nL 268.9755 141.463219 \nL 268.9755 163.207219 \nL 242.1915 163.207219 \nL 242.1915 141.463219 \n\" style=\"fill:#ffd4ac;stroke:#ffffff;stroke-width:0.75;\"/>\n    <path clip-path=\"url(#pc9ca0efebb)\" d=\"M 268.9755 141.463219 \nL 295.7595 141.463219 \nL 295.7595 163.207219 \nL 268.9755 163.207219 \nL 268.9755 141.463219 \n\" style=\"fill:#bde7db;stroke:#ffffff;stroke-width:0.75;\"/>\n    <path clip-path=\"url(#pc9ca0efebb)\" d=\"M 295.7595 141.463219 \nL 322.5435 141.463219 \nL 322.5435 163.207219 \nL 295.7595 163.207219 \nL 295.7595 141.463219 \n\" style=\"fill:#4167c7;stroke:#ffffff;stroke-width:0.75;\"/>\n    <path clip-path=\"url(#pc9ca0efebb)\" d=\"M 322.5435 141.463219 \nL 349.3275 141.463219 \nL 349.3275 163.207219 \nL 322.5435 163.207219 \nL 322.5435 141.463219 \n\" style=\"fill:#bde7db;stroke:#ffffff;stroke-width:0.75;\"/>\n    <path clip-path=\"url(#pc9ca0efebb)\" d=\"M 81.4875 163.207219 \nL 108.2715 163.207219 \nL 108.2715 184.951219 \nL 81.4875 184.951219 \nL 81.4875 163.207219 \n\" style=\"fill:#bde7db;stroke:#ffffff;stroke-width:0.75;\"/>\n    <path clip-path=\"url(#pc9ca0efebb)\" d=\"M 108.2715 163.207219 \nL 135.0555 163.207219 \nL 135.0555 184.951219 \nL 108.2715 184.951219 \nL 108.2715 163.207219 \n\" style=\"fill:#4a4fa5;stroke:#ffffff;stroke-width:0.75;\"/>\n    <path clip-path=\"url(#pc9ca0efebb)\" d=\"M 135.0555 163.207219 \nL 161.8395 163.207219 \nL 161.8395 184.951219 \nL 135.0555 184.951219 \nL 135.0555 163.207219 \n\" style=\"fill:#bde7db;stroke:#ffffff;stroke-width:0.75;\"/>\n    <path clip-path=\"url(#pc9ca0efebb)\" d=\"M 161.8395 163.207219 \nL 188.6235 163.207219 \nL 188.6235 184.951219 \nL 161.8395 184.951219 \nL 161.8395 163.207219 \n\" style=\"fill:#bde7db;stroke:#ffffff;stroke-width:0.75;\"/>\n    <path clip-path=\"url(#pc9ca0efebb)\" d=\"M 188.6235 163.207219 \nL 215.4075 163.207219 \nL 215.4075 184.951219 \nL 188.6235 184.951219 \nL 188.6235 163.207219 \n\" style=\"fill:#bde7db;stroke:#ffffff;stroke-width:0.75;\"/>\n    <path clip-path=\"url(#pc9ca0efebb)\" d=\"M 215.4075 163.207219 \nL 242.1915 163.207219 \nL 242.1915 184.951219 \nL 215.4075 184.951219 \nL 215.4075 163.207219 \n\" style=\"fill:#bde7db;stroke:#ffffff;stroke-width:0.75;\"/>\n    <path clip-path=\"url(#pc9ca0efebb)\" d=\"M 242.1915 163.207219 \nL 268.9755 163.207219 \nL 268.9755 184.951219 \nL 242.1915 184.951219 \nL 242.1915 163.207219 \n\" style=\"fill:#bde7db;stroke:#ffffff;stroke-width:0.75;\"/>\n    <path clip-path=\"url(#pc9ca0efebb)\" d=\"M 268.9755 163.207219 \nL 295.7595 163.207219 \nL 295.7595 184.951219 \nL 268.9755 184.951219 \nL 268.9755 163.207219 \n\" style=\"fill:#ffd4ac;stroke:#ffffff;stroke-width:0.75;\"/>\n    <path clip-path=\"url(#pc9ca0efebb)\" d=\"M 295.7595 163.207219 \nL 322.5435 163.207219 \nL 322.5435 184.951219 \nL 295.7595 184.951219 \nL 295.7595 163.207219 \n\" style=\"fill:#3f90ce;stroke:#ffffff;stroke-width:0.75;\"/>\n    <path clip-path=\"url(#pc9ca0efebb)\" d=\"M 322.5435 163.207219 \nL 349.3275 163.207219 \nL 349.3275 184.951219 \nL 322.5435 184.951219 \nL 322.5435 163.207219 \n\" style=\"fill:#f8b380;stroke:#ffffff;stroke-width:0.75;\"/>\n    <path clip-path=\"url(#pc9ca0efebb)\" d=\"M 81.4875 184.951219 \nL 108.2715 184.951219 \nL 108.2715 206.695219 \nL 81.4875 206.695219 \nL 81.4875 184.951219 \n\" style=\"fill:#a1d3d4;stroke:#ffffff;stroke-width:0.75;\"/>\n    <path clip-path=\"url(#pc9ca0efebb)\" d=\"M 108.2715 184.951219 \nL 135.0555 184.951219 \nL 135.0555 206.695219 \nL 108.2715 206.695219 \nL 108.2715 184.951219 \n\" style=\"fill:#363459;stroke:#ffffff;stroke-width:0.75;\"/>\n    <path clip-path=\"url(#pc9ca0efebb)\" d=\"M 135.0555 184.951219 \nL 161.8395 184.951219 \nL 161.8395 206.695219 \nL 135.0555 206.695219 \nL 135.0555 184.951219 \n\" style=\"fill:#65afcd;stroke:#ffffff;stroke-width:0.75;\"/>\n    <path clip-path=\"url(#pc9ca0efebb)\" d=\"M 161.8395 184.951219 \nL 188.6235 184.951219 \nL 188.6235 206.695219 \nL 161.8395 206.695219 \nL 161.8395 184.951219 \n\" style=\"fill:#a9d9d6;stroke:#ffffff;stroke-width:0.75;\"/>\n    <path clip-path=\"url(#pc9ca0efebb)\" d=\"M 188.6235 184.951219 \nL 215.4075 184.951219 \nL 215.4075 206.695219 \nL 188.6235 206.695219 \nL 188.6235 184.951219 \n\" style=\"fill:#3975cf;stroke:#ffffff;stroke-width:0.75;\"/>\n    <path clip-path=\"url(#pc9ca0efebb)\" d=\"M 215.4075 184.951219 \nL 242.1915 184.951219 \nL 242.1915 206.695219 \nL 215.4075 206.695219 \nL 215.4075 184.951219 \n\" style=\"fill:#522731;stroke:#ffffff;stroke-width:0.75;\"/>\n    <path clip-path=\"url(#pc9ca0efebb)\" d=\"M 242.1915 184.951219 \nL 268.9755 184.951219 \nL 268.9755 206.695219 \nL 242.1915 206.695219 \nL 242.1915 184.951219 \n\" style=\"fill:#377ad0;stroke:#ffffff;stroke-width:0.75;\"/>\n    <path clip-path=\"url(#pc9ca0efebb)\" d=\"M 268.9755 184.951219 \nL 295.7595 184.951219 \nL 295.7595 206.695219 \nL 268.9755 206.695219 \nL 268.9755 184.951219 \n\" style=\"fill:#50a0cd;stroke:#ffffff;stroke-width:0.75;\"/>\n    <path clip-path=\"url(#pc9ca0efebb)\" d=\"M 295.7595 184.951219 \nL 322.5435 184.951219 \nL 322.5435 206.695219 \nL 295.7595 206.695219 \nL 295.7595 184.951219 \n\" style=\"fill:#ffd4ac;stroke:#ffffff;stroke-width:0.75;\"/>\n    <path clip-path=\"url(#pc9ca0efebb)\" d=\"M 322.5435 184.951219 \nL 349.3275 184.951219 \nL 349.3275 206.695219 \nL 322.5435 206.695219 \nL 322.5435 184.951219 \n\" style=\"fill:#3c8ccf;stroke:#ffffff;stroke-width:0.75;\"/>\n    <path clip-path=\"url(#pc9ca0efebb)\" d=\"M 81.4875 206.695219 \nL 108.2715 206.695219 \nL 108.2715 228.439219 \nL 81.4875 228.439219 \nL 81.4875 206.695219 \n\" style=\"fill:#bde7db;stroke:#ffffff;stroke-width:0.75;\"/>\n    <path clip-path=\"url(#pc9ca0efebb)\" d=\"M 108.2715 206.695219 \nL 135.0555 206.695219 \nL 135.0555 228.439219 \nL 108.2715 228.439219 \nL 108.2715 206.695219 \n\" style=\"fill:#93cad1;stroke:#ffffff;stroke-width:0.75;\"/>\n    <path clip-path=\"url(#pc9ca0efebb)\" d=\"M 135.0555 206.695219 \nL 161.8395 206.695219 \nL 161.8395 228.439219 \nL 135.0555 228.439219 \nL 135.0555 206.695219 \n\" style=\"fill:#bde7db;stroke:#ffffff;stroke-width:0.75;\"/>\n    <path clip-path=\"url(#pc9ca0efebb)\" d=\"M 161.8395 206.695219 \nL 188.6235 206.695219 \nL 188.6235 228.439219 \nL 161.8395 228.439219 \nL 161.8395 206.695219 \n\" style=\"fill:#bde7db;stroke:#ffffff;stroke-width:0.75;\"/>\n    <path clip-path=\"url(#pc9ca0efebb)\" d=\"M 188.6235 206.695219 \nL 215.4075 206.695219 \nL 215.4075 228.439219 \nL 188.6235 228.439219 \nL 188.6235 206.695219 \n\" style=\"fill:#bde7db;stroke:#ffffff;stroke-width:0.75;\"/>\n    <path clip-path=\"url(#pc9ca0efebb)\" d=\"M 215.4075 206.695219 \nL 242.1915 206.695219 \nL 242.1915 228.439219 \nL 215.4075 228.439219 \nL 215.4075 206.695219 \n\" style=\"fill:#bde7db;stroke:#ffffff;stroke-width:0.75;\"/>\n    <path clip-path=\"url(#pc9ca0efebb)\" d=\"M 242.1915 206.695219 \nL 268.9755 206.695219 \nL 268.9755 228.439219 \nL 242.1915 228.439219 \nL 242.1915 206.695219 \n\" style=\"fill:#bde7db;stroke:#ffffff;stroke-width:0.75;\"/>\n    <path clip-path=\"url(#pc9ca0efebb)\" d=\"M 268.9755 206.695219 \nL 295.7595 206.695219 \nL 295.7595 228.439219 \nL 268.9755 228.439219 \nL 268.9755 206.695219 \n\" style=\"fill:#363459;stroke:#ffffff;stroke-width:0.75;\"/>\n    <path clip-path=\"url(#pc9ca0efebb)\" d=\"M 295.7595 206.695219 \nL 322.5435 206.695219 \nL 322.5435 228.439219 \nL 295.7595 228.439219 \nL 295.7595 206.695219 \n\" style=\"fill:#a1d3d4;stroke:#ffffff;stroke-width:0.75;\"/>\n    <path clip-path=\"url(#pc9ca0efebb)\" d=\"M 322.5435 206.695219 \nL 349.3275 206.695219 \nL 349.3275 228.439219 \nL 322.5435 228.439219 \nL 322.5435 206.695219 \n\" style=\"fill:#ffd4ac;stroke:#ffffff;stroke-width:0.75;\"/>\n   </g>\n   <g id=\"matplotlib.axis_1\">\n    <g id=\"xtick_1\">\n     <g id=\"line2d_1\">\n      <defs>\n       <path d=\"M 0 0 \nL 0 3.5 \n\" id=\"ma94f07d662\" style=\"stroke:#000000;stroke-width:0.8;\"/>\n      </defs>\n      <g>\n       <use style=\"stroke:#000000;stroke-width:0.8;\" x=\"94.8795\" xlink:href=\"#ma94f07d662\" y=\"228.439219\"/>\n      </g>\n     </g>\n     <g id=\"text_1\">\n      <!-- Age -->\n      <defs>\n       <path d=\"M 34.1875 63.1875 \nL 20.796875 26.90625 \nL 47.609375 26.90625 \nz\nM 28.609375 72.90625 \nL 39.796875 72.90625 \nL 67.578125 0 \nL 57.328125 0 \nL 50.6875 18.703125 \nL 17.828125 18.703125 \nL 11.1875 0 \nL 0.78125 0 \nz\n\" id=\"DejaVuSans-65\"/>\n       <path d=\"M 45.40625 27.984375 \nQ 45.40625 37.75 41.375 43.109375 \nQ 37.359375 48.484375 30.078125 48.484375 \nQ 22.859375 48.484375 18.828125 43.109375 \nQ 14.796875 37.75 14.796875 27.984375 \nQ 14.796875 18.265625 18.828125 12.890625 \nQ 22.859375 7.515625 30.078125 7.515625 \nQ 37.359375 7.515625 41.375 12.890625 \nQ 45.40625 18.265625 45.40625 27.984375 \nz\nM 54.390625 6.78125 \nQ 54.390625 -7.171875 48.1875 -13.984375 \nQ 42 -20.796875 29.203125 -20.796875 \nQ 24.46875 -20.796875 20.265625 -20.09375 \nQ 16.0625 -19.390625 12.109375 -17.921875 \nL 12.109375 -9.1875 \nQ 16.0625 -11.328125 19.921875 -12.34375 \nQ 23.78125 -13.375 27.78125 -13.375 \nQ 36.625 -13.375 41.015625 -8.765625 \nQ 45.40625 -4.15625 45.40625 5.171875 \nL 45.40625 9.625 \nQ 42.625 4.78125 38.28125 2.390625 \nQ 33.9375 0 27.875 0 \nQ 17.828125 0 11.671875 7.65625 \nQ 5.515625 15.328125 5.515625 27.984375 \nQ 5.515625 40.671875 11.671875 48.328125 \nQ 17.828125 56 27.875 56 \nQ 33.9375 56 38.28125 53.609375 \nQ 42.625 51.21875 45.40625 46.390625 \nL 45.40625 54.6875 \nL 54.390625 54.6875 \nz\n\" id=\"DejaVuSans-103\"/>\n       <path d=\"M 56.203125 29.59375 \nL 56.203125 25.203125 \nL 14.890625 25.203125 \nQ 15.484375 15.921875 20.484375 11.0625 \nQ 25.484375 6.203125 34.421875 6.203125 \nQ 39.59375 6.203125 44.453125 7.46875 \nQ 49.3125 8.734375 54.109375 11.28125 \nL 54.109375 2.78125 \nQ 49.265625 0.734375 44.1875 -0.34375 \nQ 39.109375 -1.421875 33.890625 -1.421875 \nQ 20.796875 -1.421875 13.15625 6.1875 \nQ 5.515625 13.8125 5.515625 26.8125 \nQ 5.515625 40.234375 12.765625 48.109375 \nQ 20.015625 56 32.328125 56 \nQ 43.359375 56 49.78125 48.890625 \nQ 56.203125 41.796875 56.203125 29.59375 \nz\nM 47.21875 32.234375 \nQ 47.125 39.59375 43.09375 43.984375 \nQ 39.0625 48.390625 32.421875 48.390625 \nQ 24.90625 48.390625 20.390625 44.140625 \nQ 15.875 39.890625 15.1875 32.171875 \nz\n\" id=\"DejaVuSans-101\"/>\n      </defs>\n      <g transform=\"translate(97.638875 254.781406)rotate(-90)scale(0.1 -0.1)\">\n       <use xlink:href=\"#DejaVuSans-65\"/>\n       <use x=\"68.408203\" xlink:href=\"#DejaVuSans-103\"/>\n       <use x=\"131.884766\" xlink:href=\"#DejaVuSans-101\"/>\n      </g>\n     </g>\n    </g>\n    <g id=\"xtick_2\">\n     <g id=\"line2d_2\">\n      <g>\n       <use style=\"stroke:#000000;stroke-width:0.8;\" x=\"121.6635\" xlink:href=\"#ma94f07d662\" y=\"228.439219\"/>\n      </g>\n     </g>\n     <g id=\"text_2\">\n      <!-- Age*Class -->\n      <defs>\n       <path d=\"M 47.015625 60.890625 \nL 29.5 51.421875 \nL 47.015625 41.890625 \nL 44.1875 37.109375 \nL 27.78125 47.015625 \nL 27.78125 28.609375 \nL 22.21875 28.609375 \nL 22.21875 47.015625 \nL 5.8125 37.109375 \nL 2.984375 41.890625 \nL 20.515625 51.421875 \nL 2.984375 60.890625 \nL 5.8125 65.71875 \nL 22.21875 55.8125 \nL 22.21875 74.21875 \nL 27.78125 74.21875 \nL 27.78125 55.8125 \nL 44.1875 65.71875 \nz\n\" id=\"DejaVuSans-42\"/>\n       <path d=\"M 64.40625 67.28125 \nL 64.40625 56.890625 \nQ 59.421875 61.53125 53.78125 63.8125 \nQ 48.140625 66.109375 41.796875 66.109375 \nQ 29.296875 66.109375 22.65625 58.46875 \nQ 16.015625 50.828125 16.015625 36.375 \nQ 16.015625 21.96875 22.65625 14.328125 \nQ 29.296875 6.6875 41.796875 6.6875 \nQ 48.140625 6.6875 53.78125 8.984375 \nQ 59.421875 11.28125 64.40625 15.921875 \nL 64.40625 5.609375 \nQ 59.234375 2.09375 53.4375 0.328125 \nQ 47.65625 -1.421875 41.21875 -1.421875 \nQ 24.65625 -1.421875 15.125 8.703125 \nQ 5.609375 18.84375 5.609375 36.375 \nQ 5.609375 53.953125 15.125 64.078125 \nQ 24.65625 74.21875 41.21875 74.21875 \nQ 47.75 74.21875 53.53125 72.484375 \nQ 59.328125 70.75 64.40625 67.28125 \nz\n\" id=\"DejaVuSans-67\"/>\n       <path d=\"M 9.421875 75.984375 \nL 18.40625 75.984375 \nL 18.40625 0 \nL 9.421875 0 \nz\n\" id=\"DejaVuSans-108\"/>\n       <path d=\"M 34.28125 27.484375 \nQ 23.390625 27.484375 19.1875 25 \nQ 14.984375 22.515625 14.984375 16.5 \nQ 14.984375 11.71875 18.140625 8.90625 \nQ 21.296875 6.109375 26.703125 6.109375 \nQ 34.1875 6.109375 38.703125 11.40625 \nQ 43.21875 16.703125 43.21875 25.484375 \nL 43.21875 27.484375 \nz\nM 52.203125 31.203125 \nL 52.203125 0 \nL 43.21875 0 \nL 43.21875 8.296875 \nQ 40.140625 3.328125 35.546875 0.953125 \nQ 30.953125 -1.421875 24.3125 -1.421875 \nQ 15.921875 -1.421875 10.953125 3.296875 \nQ 6 8.015625 6 15.921875 \nQ 6 25.140625 12.171875 29.828125 \nQ 18.359375 34.515625 30.609375 34.515625 \nL 43.21875 34.515625 \nL 43.21875 35.40625 \nQ 43.21875 41.609375 39.140625 45 \nQ 35.0625 48.390625 27.6875 48.390625 \nQ 23 48.390625 18.546875 47.265625 \nQ 14.109375 46.140625 10.015625 43.890625 \nL 10.015625 52.203125 \nQ 14.9375 54.109375 19.578125 55.046875 \nQ 24.21875 56 28.609375 56 \nQ 40.484375 56 46.34375 49.84375 \nQ 52.203125 43.703125 52.203125 31.203125 \nz\n\" id=\"DejaVuSans-97\"/>\n       <path d=\"M 44.28125 53.078125 \nL 44.28125 44.578125 \nQ 40.484375 46.53125 36.375 47.5 \nQ 32.28125 48.484375 27.875 48.484375 \nQ 21.1875 48.484375 17.84375 46.4375 \nQ 14.5 44.390625 14.5 40.28125 \nQ 14.5 37.15625 16.890625 35.375 \nQ 19.28125 33.59375 26.515625 31.984375 \nL 29.59375 31.296875 \nQ 39.15625 29.25 43.1875 25.515625 \nQ 47.21875 21.78125 47.21875 15.09375 \nQ 47.21875 7.46875 41.1875 3.015625 \nQ 35.15625 -1.421875 24.609375 -1.421875 \nQ 20.21875 -1.421875 15.453125 -0.5625 \nQ 10.6875 0.296875 5.421875 2 \nL 5.421875 11.28125 \nQ 10.40625 8.6875 15.234375 7.390625 \nQ 20.0625 6.109375 24.8125 6.109375 \nQ 31.15625 6.109375 34.5625 8.28125 \nQ 37.984375 10.453125 37.984375 14.40625 \nQ 37.984375 18.0625 35.515625 20.015625 \nQ 33.0625 21.96875 24.703125 23.78125 \nL 21.578125 24.515625 \nQ 13.234375 26.265625 9.515625 29.90625 \nQ 5.8125 33.546875 5.8125 39.890625 \nQ 5.8125 47.609375 11.28125 51.796875 \nQ 16.75 56 26.8125 56 \nQ 31.78125 56 36.171875 55.265625 \nQ 40.578125 54.546875 44.28125 53.078125 \nz\n\" id=\"DejaVuSans-115\"/>\n      </defs>\n      <g transform=\"translate(124.422875 286.089219)rotate(-90)scale(0.1 -0.1)\">\n       <use xlink:href=\"#DejaVuSans-65\"/>\n       <use x=\"68.408203\" xlink:href=\"#DejaVuSans-103\"/>\n       <use x=\"131.884766\" xlink:href=\"#DejaVuSans-101\"/>\n       <use x=\"193.408203\" xlink:href=\"#DejaVuSans-42\"/>\n       <use x=\"243.408203\" xlink:href=\"#DejaVuSans-67\"/>\n       <use x=\"313.232422\" xlink:href=\"#DejaVuSans-108\"/>\n       <use x=\"341.015625\" xlink:href=\"#DejaVuSans-97\"/>\n       <use x=\"402.294922\" xlink:href=\"#DejaVuSans-115\"/>\n       <use x=\"454.394531\" xlink:href=\"#DejaVuSans-115\"/>\n      </g>\n     </g>\n    </g>\n    <g id=\"xtick_3\">\n     <g id=\"line2d_3\">\n      <g>\n       <use style=\"stroke:#000000;stroke-width:0.8;\" x=\"148.4475\" xlink:href=\"#ma94f07d662\" y=\"228.439219\"/>\n      </g>\n     </g>\n     <g id=\"text_3\">\n      <!-- E*P -->\n      <defs>\n       <path d=\"M 9.8125 72.90625 \nL 55.90625 72.90625 \nL 55.90625 64.59375 \nL 19.671875 64.59375 \nL 19.671875 43.015625 \nL 54.390625 43.015625 \nL 54.390625 34.71875 \nL 19.671875 34.71875 \nL 19.671875 8.296875 \nL 56.78125 8.296875 \nL 56.78125 0 \nL 9.8125 0 \nz\n\" id=\"DejaVuSans-69\"/>\n       <path d=\"M 19.671875 64.796875 \nL 19.671875 37.40625 \nL 32.078125 37.40625 \nQ 38.96875 37.40625 42.71875 40.96875 \nQ 46.484375 44.53125 46.484375 51.125 \nQ 46.484375 57.671875 42.71875 61.234375 \nQ 38.96875 64.796875 32.078125 64.796875 \nz\nM 9.8125 72.90625 \nL 32.078125 72.90625 \nQ 44.34375 72.90625 50.609375 67.359375 \nQ 56.890625 61.8125 56.890625 51.125 \nQ 56.890625 40.328125 50.609375 34.8125 \nQ 44.34375 29.296875 32.078125 29.296875 \nL 19.671875 29.296875 \nL 19.671875 0 \nL 9.8125 0 \nz\n\" id=\"DejaVuSans-80\"/>\n      </defs>\n      <g transform=\"translate(151.206875 252.787656)rotate(-90)scale(0.1 -0.1)\">\n       <use xlink:href=\"#DejaVuSans-69\"/>\n       <use x=\"63.183594\" xlink:href=\"#DejaVuSans-42\"/>\n       <use x=\"113.183594\" xlink:href=\"#DejaVuSans-80\"/>\n      </g>\n     </g>\n    </g>\n    <g id=\"xtick_4\">\n     <g id=\"line2d_4\">\n      <g>\n       <use style=\"stroke:#000000;stroke-width:0.8;\" x=\"175.2315\" xlink:href=\"#ma94f07d662\" y=\"228.439219\"/>\n      </g>\n     </g>\n     <g id=\"text_4\">\n      <!-- Embarked -->\n      <defs>\n       <path d=\"M 52 44.1875 \nQ 55.375 50.25 60.0625 53.125 \nQ 64.75 56 71.09375 56 \nQ 79.640625 56 84.28125 50.015625 \nQ 88.921875 44.046875 88.921875 33.015625 \nL 88.921875 0 \nL 79.890625 0 \nL 79.890625 32.71875 \nQ 79.890625 40.578125 77.09375 44.375 \nQ 74.3125 48.1875 68.609375 48.1875 \nQ 61.625 48.1875 57.5625 43.546875 \nQ 53.515625 38.921875 53.515625 30.90625 \nL 53.515625 0 \nL 44.484375 0 \nL 44.484375 32.71875 \nQ 44.484375 40.625 41.703125 44.40625 \nQ 38.921875 48.1875 33.109375 48.1875 \nQ 26.21875 48.1875 22.15625 43.53125 \nQ 18.109375 38.875 18.109375 30.90625 \nL 18.109375 0 \nL 9.078125 0 \nL 9.078125 54.6875 \nL 18.109375 54.6875 \nL 18.109375 46.1875 \nQ 21.1875 51.21875 25.484375 53.609375 \nQ 29.78125 56 35.6875 56 \nQ 41.65625 56 45.828125 52.96875 \nQ 50 49.953125 52 44.1875 \nz\n\" id=\"DejaVuSans-109\"/>\n       <path d=\"M 48.6875 27.296875 \nQ 48.6875 37.203125 44.609375 42.84375 \nQ 40.53125 48.484375 33.40625 48.484375 \nQ 26.265625 48.484375 22.1875 42.84375 \nQ 18.109375 37.203125 18.109375 27.296875 \nQ 18.109375 17.390625 22.1875 11.75 \nQ 26.265625 6.109375 33.40625 6.109375 \nQ 40.53125 6.109375 44.609375 11.75 \nQ 48.6875 17.390625 48.6875 27.296875 \nz\nM 18.109375 46.390625 \nQ 20.953125 51.265625 25.265625 53.625 \nQ 29.59375 56 35.59375 56 \nQ 45.5625 56 51.78125 48.09375 \nQ 58.015625 40.1875 58.015625 27.296875 \nQ 58.015625 14.40625 51.78125 6.484375 \nQ 45.5625 -1.421875 35.59375 -1.421875 \nQ 29.59375 -1.421875 25.265625 0.953125 \nQ 20.953125 3.328125 18.109375 8.203125 \nL 18.109375 0 \nL 9.078125 0 \nL 9.078125 75.984375 \nL 18.109375 75.984375 \nz\n\" id=\"DejaVuSans-98\"/>\n       <path d=\"M 41.109375 46.296875 \nQ 39.59375 47.171875 37.8125 47.578125 \nQ 36.03125 48 33.890625 48 \nQ 26.265625 48 22.1875 43.046875 \nQ 18.109375 38.09375 18.109375 28.8125 \nL 18.109375 0 \nL 9.078125 0 \nL 9.078125 54.6875 \nL 18.109375 54.6875 \nL 18.109375 46.1875 \nQ 20.953125 51.171875 25.484375 53.578125 \nQ 30.03125 56 36.53125 56 \nQ 37.453125 56 38.578125 55.875 \nQ 39.703125 55.765625 41.0625 55.515625 \nz\n\" id=\"DejaVuSans-114\"/>\n       <path d=\"M 9.078125 75.984375 \nL 18.109375 75.984375 \nL 18.109375 31.109375 \nL 44.921875 54.6875 \nL 56.390625 54.6875 \nL 27.390625 29.109375 \nL 57.625 0 \nL 45.90625 0 \nL 18.109375 26.703125 \nL 18.109375 0 \nL 9.078125 0 \nz\n\" id=\"DejaVuSans-107\"/>\n       <path d=\"M 45.40625 46.390625 \nL 45.40625 75.984375 \nL 54.390625 75.984375 \nL 54.390625 0 \nL 45.40625 0 \nL 45.40625 8.203125 \nQ 42.578125 3.328125 38.25 0.953125 \nQ 33.9375 -1.421875 27.875 -1.421875 \nQ 17.96875 -1.421875 11.734375 6.484375 \nQ 5.515625 14.40625 5.515625 27.296875 \nQ 5.515625 40.1875 11.734375 48.09375 \nQ 17.96875 56 27.875 56 \nQ 33.9375 56 38.25 53.625 \nQ 42.578125 51.265625 45.40625 46.390625 \nz\nM 14.796875 27.296875 \nQ 14.796875 17.390625 18.875 11.75 \nQ 22.953125 6.109375 30.078125 6.109375 \nQ 37.203125 6.109375 41.296875 11.75 \nQ 45.40625 17.390625 45.40625 27.296875 \nQ 45.40625 37.203125 41.296875 42.84375 \nQ 37.203125 48.484375 30.078125 48.484375 \nQ 22.953125 48.484375 18.875 42.84375 \nQ 14.796875 37.203125 14.796875 27.296875 \nz\n\" id=\"DejaVuSans-100\"/>\n      </defs>\n      <g transform=\"translate(177.990875 286.373594)rotate(-90)scale(0.1 -0.1)\">\n       <use xlink:href=\"#DejaVuSans-69\"/>\n       <use x=\"63.183594\" xlink:href=\"#DejaVuSans-109\"/>\n       <use x=\"160.595703\" xlink:href=\"#DejaVuSans-98\"/>\n       <use x=\"224.072266\" xlink:href=\"#DejaVuSans-97\"/>\n       <use x=\"285.351562\" xlink:href=\"#DejaVuSans-114\"/>\n       <use x=\"326.464844\" xlink:href=\"#DejaVuSans-107\"/>\n       <use x=\"384.328125\" xlink:href=\"#DejaVuSans-101\"/>\n       <use x=\"445.851562\" xlink:href=\"#DejaVuSans-100\"/>\n      </g>\n     </g>\n    </g>\n    <g id=\"xtick_5\">\n     <g id=\"line2d_5\">\n      <g>\n       <use style=\"stroke:#000000;stroke-width:0.8;\" x=\"202.0155\" xlink:href=\"#ma94f07d662\" y=\"228.439219\"/>\n      </g>\n     </g>\n     <g id=\"text_5\">\n      <!-- FamilySize -->\n      <defs>\n       <path d=\"M 9.8125 72.90625 \nL 51.703125 72.90625 \nL 51.703125 64.59375 \nL 19.671875 64.59375 \nL 19.671875 43.109375 \nL 48.578125 43.109375 \nL 48.578125 34.8125 \nL 19.671875 34.8125 \nL 19.671875 0 \nL 9.8125 0 \nz\n\" id=\"DejaVuSans-70\"/>\n       <path d=\"M 9.421875 54.6875 \nL 18.40625 54.6875 \nL 18.40625 0 \nL 9.421875 0 \nz\nM 9.421875 75.984375 \nL 18.40625 75.984375 \nL 18.40625 64.59375 \nL 9.421875 64.59375 \nz\n\" id=\"DejaVuSans-105\"/>\n       <path d=\"M 32.171875 -5.078125 \nQ 28.375 -14.84375 24.75 -17.8125 \nQ 21.140625 -20.796875 15.09375 -20.796875 \nL 7.90625 -20.796875 \nL 7.90625 -13.28125 \nL 13.1875 -13.28125 \nQ 16.890625 -13.28125 18.9375 -11.515625 \nQ 21 -9.765625 23.484375 -3.21875 \nL 25.09375 0.875 \nL 2.984375 54.6875 \nL 12.5 54.6875 \nL 29.59375 11.921875 \nL 46.6875 54.6875 \nL 56.203125 54.6875 \nz\n\" id=\"DejaVuSans-121\"/>\n       <path d=\"M 53.515625 70.515625 \nL 53.515625 60.890625 \nQ 47.90625 63.578125 42.921875 64.890625 \nQ 37.9375 66.21875 33.296875 66.21875 \nQ 25.25 66.21875 20.875 63.09375 \nQ 16.5 59.96875 16.5 54.203125 \nQ 16.5 49.359375 19.40625 46.890625 \nQ 22.3125 44.4375 30.421875 42.921875 \nL 36.375 41.703125 \nQ 47.40625 39.59375 52.65625 34.296875 \nQ 57.90625 29 57.90625 20.125 \nQ 57.90625 9.515625 50.796875 4.046875 \nQ 43.703125 -1.421875 29.984375 -1.421875 \nQ 24.8125 -1.421875 18.96875 -0.25 \nQ 13.140625 0.921875 6.890625 3.21875 \nL 6.890625 13.375 \nQ 12.890625 10.015625 18.65625 8.296875 \nQ 24.421875 6.59375 29.984375 6.59375 \nQ 38.421875 6.59375 43.015625 9.90625 \nQ 47.609375 13.234375 47.609375 19.390625 \nQ 47.609375 24.75 44.3125 27.78125 \nQ 41.015625 30.8125 33.5 32.328125 \nL 27.484375 33.5 \nQ 16.453125 35.6875 11.515625 40.375 \nQ 6.59375 45.0625 6.59375 53.421875 \nQ 6.59375 63.09375 13.40625 68.65625 \nQ 20.21875 74.21875 32.171875 74.21875 \nQ 37.3125 74.21875 42.625 73.28125 \nQ 47.953125 72.359375 53.515625 70.515625 \nz\n\" id=\"DejaVuSans-83\"/>\n       <path d=\"M 5.515625 54.6875 \nL 48.1875 54.6875 \nL 48.1875 46.484375 \nL 14.40625 7.171875 \nL 48.1875 7.171875 \nL 48.1875 0 \nL 4.296875 0 \nL 4.296875 8.203125 \nL 38.09375 47.515625 \nL 5.515625 47.515625 \nz\n\" id=\"DejaVuSans-122\"/>\n      </defs>\n      <g transform=\"translate(204.774875 289.048594)rotate(-90)scale(0.1 -0.1)\">\n       <use xlink:href=\"#DejaVuSans-70\"/>\n       <use x=\"57.378906\" xlink:href=\"#DejaVuSans-97\"/>\n       <use x=\"118.658203\" xlink:href=\"#DejaVuSans-109\"/>\n       <use x=\"216.070312\" xlink:href=\"#DejaVuSans-105\"/>\n       <use x=\"243.853516\" xlink:href=\"#DejaVuSans-108\"/>\n       <use x=\"271.636719\" xlink:href=\"#DejaVuSans-121\"/>\n       <use x=\"330.816406\" xlink:href=\"#DejaVuSans-83\"/>\n       <use x=\"394.292969\" xlink:href=\"#DejaVuSans-105\"/>\n       <use x=\"422.076172\" xlink:href=\"#DejaVuSans-122\"/>\n       <use x=\"474.566406\" xlink:href=\"#DejaVuSans-101\"/>\n      </g>\n     </g>\n    </g>\n    <g id=\"xtick_6\">\n     <g id=\"line2d_6\">\n      <g>\n       <use style=\"stroke:#000000;stroke-width:0.8;\" x=\"228.7995\" xlink:href=\"#ma94f07d662\" y=\"228.439219\"/>\n      </g>\n     </g>\n     <g id=\"text_6\">\n      <!-- Fare -->\n      <g transform=\"translate(231.558875 257.565781)rotate(-90)scale(0.1 -0.1)\">\n       <use xlink:href=\"#DejaVuSans-70\"/>\n       <use x=\"57.378906\" xlink:href=\"#DejaVuSans-97\"/>\n       <use x=\"118.658203\" xlink:href=\"#DejaVuSans-114\"/>\n       <use x=\"159.740234\" xlink:href=\"#DejaVuSans-101\"/>\n      </g>\n     </g>\n    </g>\n    <g id=\"xtick_7\">\n     <g id=\"line2d_7\">\n      <g>\n       <use style=\"stroke:#000000;stroke-width:0.8;\" x=\"255.5835\" xlink:href=\"#ma94f07d662\" y=\"228.439219\"/>\n      </g>\n     </g>\n     <g id=\"text_7\">\n      <!-- Pclass -->\n      <defs>\n       <path d=\"M 48.78125 52.59375 \nL 48.78125 44.1875 \nQ 44.96875 46.296875 41.140625 47.34375 \nQ 37.3125 48.390625 33.40625 48.390625 \nQ 24.65625 48.390625 19.8125 42.84375 \nQ 14.984375 37.3125 14.984375 27.296875 \nQ 14.984375 17.28125 19.8125 11.734375 \nQ 24.65625 6.203125 33.40625 6.203125 \nQ 37.3125 6.203125 41.140625 7.25 \nQ 44.96875 8.296875 48.78125 10.40625 \nL 48.78125 2.09375 \nQ 45.015625 0.34375 40.984375 -0.53125 \nQ 36.96875 -1.421875 32.421875 -1.421875 \nQ 20.0625 -1.421875 12.78125 6.34375 \nQ 5.515625 14.109375 5.515625 27.296875 \nQ 5.515625 40.671875 12.859375 48.328125 \nQ 20.21875 56 33.015625 56 \nQ 37.15625 56 41.109375 55.140625 \nQ 45.0625 54.296875 48.78125 52.59375 \nz\n\" id=\"DejaVuSans-99\"/>\n      </defs>\n      <g transform=\"translate(258.342875 266.292344)rotate(-90)scale(0.1 -0.1)\">\n       <use xlink:href=\"#DejaVuSans-80\"/>\n       <use x=\"60.302734\" xlink:href=\"#DejaVuSans-99\"/>\n       <use x=\"115.283203\" xlink:href=\"#DejaVuSans-108\"/>\n       <use x=\"143.066406\" xlink:href=\"#DejaVuSans-97\"/>\n       <use x=\"204.345703\" xlink:href=\"#DejaVuSans-115\"/>\n       <use x=\"256.445312\" xlink:href=\"#DejaVuSans-115\"/>\n      </g>\n     </g>\n    </g>\n    <g id=\"xtick_8\">\n     <g id=\"line2d_8\">\n      <g>\n       <use style=\"stroke:#000000;stroke-width:0.8;\" x=\"282.3675\" xlink:href=\"#ma94f07d662\" y=\"228.439219\"/>\n      </g>\n     </g>\n     <g id=\"text_8\">\n      <!-- Sex -->\n      <defs>\n       <path d=\"M 54.890625 54.6875 \nL 35.109375 28.078125 \nL 55.90625 0 \nL 45.3125 0 \nL 29.390625 21.484375 \nL 13.484375 0 \nL 2.875 0 \nL 24.125 28.609375 \nL 4.6875 54.6875 \nL 15.28125 54.6875 \nL 29.78125 35.203125 \nL 44.28125 54.6875 \nz\n\" id=\"DejaVuSans-120\"/>\n      </defs>\n      <g transform=\"translate(285.126875 253.857969)rotate(-90)scale(0.1 -0.1)\">\n       <use xlink:href=\"#DejaVuSans-83\"/>\n       <use x=\"63.476562\" xlink:href=\"#DejaVuSans-101\"/>\n       <use x=\"124.984375\" xlink:href=\"#DejaVuSans-120\"/>\n      </g>\n     </g>\n    </g>\n    <g id=\"xtick_9\">\n     <g id=\"line2d_9\">\n      <g>\n       <use style=\"stroke:#000000;stroke-width:0.8;\" x=\"309.1515\" xlink:href=\"#ma94f07d662\" y=\"228.439219\"/>\n      </g>\n     </g>\n     <g id=\"text_9\">\n      <!-- Sex*Fare -->\n      <g transform=\"translate(311.910875 280.984531)rotate(-90)scale(0.1 -0.1)\">\n       <use xlink:href=\"#DejaVuSans-83\"/>\n       <use x=\"63.476562\" xlink:href=\"#DejaVuSans-101\"/>\n       <use x=\"124.984375\" xlink:href=\"#DejaVuSans-120\"/>\n       <use x=\"184.164062\" xlink:href=\"#DejaVuSans-42\"/>\n       <use x=\"234.164062\" xlink:href=\"#DejaVuSans-70\"/>\n       <use x=\"291.542969\" xlink:href=\"#DejaVuSans-97\"/>\n       <use x=\"352.822266\" xlink:href=\"#DejaVuSans-114\"/>\n       <use x=\"393.904297\" xlink:href=\"#DejaVuSans-101\"/>\n      </g>\n     </g>\n    </g>\n    <g id=\"xtick_10\">\n     <g id=\"line2d_10\">\n      <g>\n       <use style=\"stroke:#000000;stroke-width:0.8;\" x=\"335.9355\" xlink:href=\"#ma94f07d662\" y=\"228.439219\"/>\n      </g>\n     </g>\n     <g id=\"text_10\">\n      <!-- Title -->\n      <defs>\n       <path d=\"M -0.296875 72.90625 \nL 61.375 72.90625 \nL 61.375 64.59375 \nL 35.5 64.59375 \nL 35.5 0 \nL 25.59375 0 \nL 25.59375 64.59375 \nL -0.296875 64.59375 \nz\n\" id=\"DejaVuSans-84\"/>\n       <path d=\"M 18.3125 70.21875 \nL 18.3125 54.6875 \nL 36.8125 54.6875 \nL 36.8125 47.703125 \nL 18.3125 47.703125 \nL 18.3125 18.015625 \nQ 18.3125 11.328125 20.140625 9.421875 \nQ 21.96875 7.515625 27.59375 7.515625 \nL 36.8125 7.515625 \nL 36.8125 0 \nL 27.59375 0 \nQ 17.1875 0 13.234375 3.875 \nQ 9.28125 7.765625 9.28125 18.015625 \nL 9.28125 47.703125 \nL 2.6875 47.703125 \nL 2.6875 54.6875 \nL 9.28125 54.6875 \nL 9.28125 70.21875 \nz\n\" id=\"DejaVuSans-116\"/>\n      </defs>\n      <g transform=\"translate(338.694875 257.172031)rotate(-90)scale(0.1 -0.1)\">\n       <use xlink:href=\"#DejaVuSans-84\"/>\n       <use x=\"61.037109\" xlink:href=\"#DejaVuSans-105\"/>\n       <use x=\"88.820312\" xlink:href=\"#DejaVuSans-116\"/>\n       <use x=\"128.029297\" xlink:href=\"#DejaVuSans-108\"/>\n       <use x=\"155.8125\" xlink:href=\"#DejaVuSans-101\"/>\n      </g>\n     </g>\n    </g>\n    <g id=\"text_11\">\n     <!-- x -->\n     <g transform=\"translate(212.448125 300.647031)scale(0.1 -0.1)\">\n      <use xlink:href=\"#DejaVuSans-120\"/>\n     </g>\n    </g>\n   </g>\n   <g id=\"matplotlib.axis_2\">\n    <g id=\"ytick_1\">\n     <g id=\"line2d_11\">\n      <defs>\n       <path d=\"M 0 0 \nL -3.5 0 \n\" id=\"mb12008490b\" style=\"stroke:#000000;stroke-width:0.8;\"/>\n      </defs>\n      <g>\n       <use style=\"stroke:#000000;stroke-width:0.8;\" x=\"81.4875\" xlink:href=\"#mb12008490b\" y=\"21.871219\"/>\n      </g>\n     </g>\n     <g id=\"text_12\">\n      <!-- Age -->\n      <g transform=\"translate(55.145313 25.670437)scale(0.1 -0.1)\">\n       <use xlink:href=\"#DejaVuSans-65\"/>\n       <use x=\"68.408203\" xlink:href=\"#DejaVuSans-103\"/>\n       <use x=\"131.884766\" xlink:href=\"#DejaVuSans-101\"/>\n      </g>\n     </g>\n    </g>\n    <g id=\"ytick_2\">\n     <g id=\"line2d_12\">\n      <g>\n       <use style=\"stroke:#000000;stroke-width:0.8;\" x=\"81.4875\" xlink:href=\"#mb12008490b\" y=\"43.615219\"/>\n      </g>\n     </g>\n     <g id=\"text_13\">\n      <!-- Age*Class -->\n      <g transform=\"translate(23.8375 47.414437)scale(0.1 -0.1)\">\n       <use xlink:href=\"#DejaVuSans-65\"/>\n       <use x=\"68.408203\" xlink:href=\"#DejaVuSans-103\"/>\n       <use x=\"131.884766\" xlink:href=\"#DejaVuSans-101\"/>\n       <use x=\"193.408203\" xlink:href=\"#DejaVuSans-42\"/>\n       <use x=\"243.408203\" xlink:href=\"#DejaVuSans-67\"/>\n       <use x=\"313.232422\" xlink:href=\"#DejaVuSans-108\"/>\n       <use x=\"341.015625\" xlink:href=\"#DejaVuSans-97\"/>\n       <use x=\"402.294922\" xlink:href=\"#DejaVuSans-115\"/>\n       <use x=\"454.394531\" xlink:href=\"#DejaVuSans-115\"/>\n      </g>\n     </g>\n    </g>\n    <g id=\"ytick_3\">\n     <g id=\"line2d_13\">\n      <g>\n       <use style=\"stroke:#000000;stroke-width:0.8;\" x=\"81.4875\" xlink:href=\"#mb12008490b\" y=\"65.359219\"/>\n      </g>\n     </g>\n     <g id=\"text_14\">\n      <!-- E*P -->\n      <g transform=\"translate(57.139063 69.158437)scale(0.1 -0.1)\">\n       <use xlink:href=\"#DejaVuSans-69\"/>\n       <use x=\"63.183594\" xlink:href=\"#DejaVuSans-42\"/>\n       <use x=\"113.183594\" xlink:href=\"#DejaVuSans-80\"/>\n      </g>\n     </g>\n    </g>\n    <g id=\"ytick_4\">\n     <g id=\"line2d_14\">\n      <g>\n       <use style=\"stroke:#000000;stroke-width:0.8;\" x=\"81.4875\" xlink:href=\"#mb12008490b\" y=\"87.103219\"/>\n      </g>\n     </g>\n     <g id=\"text_15\">\n      <!-- Embarked -->\n      <g transform=\"translate(23.553125 90.902437)scale(0.1 -0.1)\">\n       <use xlink:href=\"#DejaVuSans-69\"/>\n       <use x=\"63.183594\" xlink:href=\"#DejaVuSans-109\"/>\n       <use x=\"160.595703\" xlink:href=\"#DejaVuSans-98\"/>\n       <use x=\"224.072266\" xlink:href=\"#DejaVuSans-97\"/>\n       <use x=\"285.351562\" xlink:href=\"#DejaVuSans-114\"/>\n       <use x=\"326.464844\" xlink:href=\"#DejaVuSans-107\"/>\n       <use x=\"384.328125\" xlink:href=\"#DejaVuSans-101\"/>\n       <use x=\"445.851562\" xlink:href=\"#DejaVuSans-100\"/>\n      </g>\n     </g>\n    </g>\n    <g id=\"ytick_5\">\n     <g id=\"line2d_15\">\n      <g>\n       <use style=\"stroke:#000000;stroke-width:0.8;\" x=\"81.4875\" xlink:href=\"#mb12008490b\" y=\"108.847219\"/>\n      </g>\n     </g>\n     <g id=\"text_16\">\n      <!-- FamilySize -->\n      <g transform=\"translate(20.878125 112.646437)scale(0.1 -0.1)\">\n       <use xlink:href=\"#DejaVuSans-70\"/>\n       <use x=\"57.378906\" xlink:href=\"#DejaVuSans-97\"/>\n       <use x=\"118.658203\" xlink:href=\"#DejaVuSans-109\"/>\n       <use x=\"216.070312\" xlink:href=\"#DejaVuSans-105\"/>\n       <use x=\"243.853516\" xlink:href=\"#DejaVuSans-108\"/>\n       <use x=\"271.636719\" xlink:href=\"#DejaVuSans-121\"/>\n       <use x=\"330.816406\" xlink:href=\"#DejaVuSans-83\"/>\n       <use x=\"394.292969\" xlink:href=\"#DejaVuSans-105\"/>\n       <use x=\"422.076172\" xlink:href=\"#DejaVuSans-122\"/>\n       <use x=\"474.566406\" xlink:href=\"#DejaVuSans-101\"/>\n      </g>\n     </g>\n    </g>\n    <g id=\"ytick_6\">\n     <g id=\"line2d_16\">\n      <g>\n       <use style=\"stroke:#000000;stroke-width:0.8;\" x=\"81.4875\" xlink:href=\"#mb12008490b\" y=\"130.591219\"/>\n      </g>\n     </g>\n     <g id=\"text_17\">\n      <!-- Fare -->\n      <g transform=\"translate(52.360938 134.390437)scale(0.1 -0.1)\">\n       <use xlink:href=\"#DejaVuSans-70\"/>\n       <use x=\"57.378906\" xlink:href=\"#DejaVuSans-97\"/>\n       <use x=\"118.658203\" xlink:href=\"#DejaVuSans-114\"/>\n       <use x=\"159.740234\" xlink:href=\"#DejaVuSans-101\"/>\n      </g>\n     </g>\n    </g>\n    <g id=\"ytick_7\">\n     <g id=\"line2d_17\">\n      <g>\n       <use style=\"stroke:#000000;stroke-width:0.8;\" x=\"81.4875\" xlink:href=\"#mb12008490b\" y=\"152.335219\"/>\n      </g>\n     </g>\n     <g id=\"text_18\">\n      <!-- Pclass -->\n      <g transform=\"translate(43.634375 156.134437)scale(0.1 -0.1)\">\n       <use xlink:href=\"#DejaVuSans-80\"/>\n       <use x=\"60.302734\" xlink:href=\"#DejaVuSans-99\"/>\n       <use x=\"115.283203\" xlink:href=\"#DejaVuSans-108\"/>\n       <use x=\"143.066406\" xlink:href=\"#DejaVuSans-97\"/>\n       <use x=\"204.345703\" xlink:href=\"#DejaVuSans-115\"/>\n       <use x=\"256.445312\" xlink:href=\"#DejaVuSans-115\"/>\n      </g>\n     </g>\n    </g>\n    <g id=\"ytick_8\">\n     <g id=\"line2d_18\">\n      <g>\n       <use style=\"stroke:#000000;stroke-width:0.8;\" x=\"81.4875\" xlink:href=\"#mb12008490b\" y=\"174.079219\"/>\n      </g>\n     </g>\n     <g id=\"text_19\">\n      <!-- Sex -->\n      <g transform=\"translate(56.06875 177.878437)scale(0.1 -0.1)\">\n       <use xlink:href=\"#DejaVuSans-83\"/>\n       <use x=\"63.476562\" xlink:href=\"#DejaVuSans-101\"/>\n       <use x=\"124.984375\" xlink:href=\"#DejaVuSans-120\"/>\n      </g>\n     </g>\n    </g>\n    <g id=\"ytick_9\">\n     <g id=\"line2d_19\">\n      <g>\n       <use style=\"stroke:#000000;stroke-width:0.8;\" x=\"81.4875\" xlink:href=\"#mb12008490b\" y=\"195.823219\"/>\n      </g>\n     </g>\n     <g id=\"text_20\">\n      <!-- Sex*Fare -->\n      <g transform=\"translate(28.942188 199.622437)scale(0.1 -0.1)\">\n       <use xlink:href=\"#DejaVuSans-83\"/>\n       <use x=\"63.476562\" xlink:href=\"#DejaVuSans-101\"/>\n       <use x=\"124.984375\" xlink:href=\"#DejaVuSans-120\"/>\n       <use x=\"184.164062\" xlink:href=\"#DejaVuSans-42\"/>\n       <use x=\"234.164062\" xlink:href=\"#DejaVuSans-70\"/>\n       <use x=\"291.542969\" xlink:href=\"#DejaVuSans-97\"/>\n       <use x=\"352.822266\" xlink:href=\"#DejaVuSans-114\"/>\n       <use x=\"393.904297\" xlink:href=\"#DejaVuSans-101\"/>\n      </g>\n     </g>\n    </g>\n    <g id=\"ytick_10\">\n     <g id=\"line2d_20\">\n      <g>\n       <use style=\"stroke:#000000;stroke-width:0.8;\" x=\"81.4875\" xlink:href=\"#mb12008490b\" y=\"217.567219\"/>\n      </g>\n     </g>\n     <g id=\"text_21\">\n      <!-- Title -->\n      <g transform=\"translate(52.754688 221.366437)scale(0.1 -0.1)\">\n       <use xlink:href=\"#DejaVuSans-84\"/>\n       <use x=\"61.037109\" xlink:href=\"#DejaVuSans-105\"/>\n       <use x=\"88.820312\" xlink:href=\"#DejaVuSans-116\"/>\n       <use x=\"128.029297\" xlink:href=\"#DejaVuSans-108\"/>\n       <use x=\"155.8125\" xlink:href=\"#DejaVuSans-101\"/>\n      </g>\n     </g>\n    </g>\n    <g id=\"text_22\">\n     <!-- y -->\n     <g transform=\"translate(14.798438 122.678594)rotate(-90)scale(0.1 -0.1)\">\n      <use xlink:href=\"#DejaVuSans-121\"/>\n     </g>\n    </g>\n   </g>\n   <g id=\"text_23\">\n    <!-- 1 -->\n    <defs>\n     <path d=\"M 12.40625 8.296875 \nL 28.515625 8.296875 \nL 28.515625 63.921875 \nL 10.984375 60.40625 \nL 10.984375 69.390625 \nL 28.421875 72.90625 \nL 38.28125 72.90625 \nL 38.28125 8.296875 \nL 54.390625 8.296875 \nL 54.390625 0 \nL 12.40625 0 \nz\n\" id=\"DejaVuSans-49\"/>\n    </defs>\n    <g style=\"fill:#262626;\" transform=\"translate(91.69825 24.630594)scale(0.1 -0.1)\">\n     <use xlink:href=\"#DejaVuSans-49\"/>\n    </g>\n   </g>\n   <g id=\"text_24\">\n    <!-- 0 -->\n    <defs>\n     <path d=\"M 31.78125 66.40625 \nQ 24.171875 66.40625 20.328125 58.90625 \nQ 16.5 51.421875 16.5 36.375 \nQ 16.5 21.390625 20.328125 13.890625 \nQ 24.171875 6.390625 31.78125 6.390625 \nQ 39.453125 6.390625 43.28125 13.890625 \nQ 47.125 21.390625 47.125 36.375 \nQ 47.125 51.421875 43.28125 58.90625 \nQ 39.453125 66.40625 31.78125 66.40625 \nz\nM 31.78125 74.21875 \nQ 44.046875 74.21875 50.515625 64.515625 \nQ 56.984375 54.828125 56.984375 36.375 \nQ 56.984375 17.96875 50.515625 8.265625 \nQ 44.046875 -1.421875 31.78125 -1.421875 \nQ 19.53125 -1.421875 13.0625 8.265625 \nQ 6.59375 17.96875 6.59375 36.375 \nQ 6.59375 54.828125 13.0625 64.515625 \nQ 19.53125 74.21875 31.78125 74.21875 \nz\n\" id=\"DejaVuSans-48\"/>\n    </defs>\n    <g style=\"fill:#262626;\" transform=\"translate(118.48225 24.630594)scale(0.1 -0.1)\">\n     <use xlink:href=\"#DejaVuSans-48\"/>\n    </g>\n   </g>\n   <g id=\"text_25\">\n    <!-- 0 -->\n    <g style=\"fill:#262626;\" transform=\"translate(145.26625 24.630594)scale(0.1 -0.1)\">\n     <use xlink:href=\"#DejaVuSans-48\"/>\n    </g>\n   </g>\n   <g id=\"text_26\">\n    <!-- 0 -->\n    <g style=\"fill:#262626;\" transform=\"translate(172.05025 24.630594)scale(0.1 -0.1)\">\n     <use xlink:href=\"#DejaVuSans-48\"/>\n    </g>\n   </g>\n   <g id=\"text_27\">\n    <!-- 0 -->\n    <g style=\"fill:#262626;\" transform=\"translate(198.83425 24.630594)scale(0.1 -0.1)\">\n     <use xlink:href=\"#DejaVuSans-48\"/>\n    </g>\n   </g>\n   <g id=\"text_28\">\n    <!-- 0 -->\n    <g style=\"fill:#262626;\" transform=\"translate(225.61825 24.630594)scale(0.1 -0.1)\">\n     <use xlink:href=\"#DejaVuSans-48\"/>\n    </g>\n   </g>\n   <g id=\"text_29\">\n    <!-- 0 -->\n    <g style=\"fill:#262626;\" transform=\"translate(252.40225 24.630594)scale(0.1 -0.1)\">\n     <use xlink:href=\"#DejaVuSans-48\"/>\n    </g>\n   </g>\n   <g id=\"text_30\">\n    <!-- 0 -->\n    <g style=\"fill:#262626;\" transform=\"translate(279.18625 24.630594)scale(0.1 -0.1)\">\n     <use xlink:href=\"#DejaVuSans-48\"/>\n    </g>\n   </g>\n   <g id=\"text_31\">\n    <!-- 0 -->\n    <g style=\"fill:#262626;\" transform=\"translate(305.97025 24.630594)scale(0.1 -0.1)\">\n     <use xlink:href=\"#DejaVuSans-48\"/>\n    </g>\n   </g>\n   <g id=\"text_32\">\n    <!-- 0 -->\n    <g style=\"fill:#262626;\" transform=\"translate(332.75425 24.630594)scale(0.1 -0.1)\">\n     <use xlink:href=\"#DejaVuSans-48\"/>\n    </g>\n   </g>\n   <g id=\"text_33\">\n    <!-- 0.02 -->\n    <defs>\n     <path d=\"M 10.6875 12.40625 \nL 21 12.40625 \nL 21 0 \nL 10.6875 0 \nz\n\" id=\"DejaVuSans-46\"/>\n     <path d=\"M 19.1875 8.296875 \nL 53.609375 8.296875 \nL 53.609375 0 \nL 7.328125 0 \nL 7.328125 8.296875 \nQ 12.9375 14.109375 22.625 23.890625 \nQ 32.328125 33.6875 34.8125 36.53125 \nQ 39.546875 41.84375 41.421875 45.53125 \nQ 43.3125 49.21875 43.3125 52.78125 \nQ 43.3125 58.59375 39.234375 62.25 \nQ 35.15625 65.921875 28.609375 65.921875 \nQ 23.96875 65.921875 18.8125 64.3125 \nQ 13.671875 62.703125 7.8125 59.421875 \nL 7.8125 69.390625 \nQ 13.765625 71.78125 18.9375 73 \nQ 24.125 74.21875 28.421875 74.21875 \nQ 39.75 74.21875 46.484375 68.546875 \nQ 53.21875 62.890625 53.21875 53.421875 \nQ 53.21875 48.921875 51.53125 44.890625 \nQ 49.859375 40.875 45.40625 35.40625 \nQ 44.1875 33.984375 37.640625 27.21875 \nQ 31.109375 20.453125 19.1875 8.296875 \nz\n\" id=\"DejaVuSans-50\"/>\n    </defs>\n    <g style=\"fill:#262626;\" transform=\"translate(83.746688 46.374594)scale(0.1 -0.1)\">\n     <use xlink:href=\"#DejaVuSans-48\"/>\n     <use x=\"63.623047\" xlink:href=\"#DejaVuSans-46\"/>\n     <use x=\"95.410156\" xlink:href=\"#DejaVuSans-48\"/>\n     <use x=\"159.033203\" xlink:href=\"#DejaVuSans-50\"/>\n    </g>\n   </g>\n   <g id=\"text_34\">\n    <!-- 1 -->\n    <g style=\"fill:#262626;\" transform=\"translate(118.48225 46.374594)scale(0.1 -0.1)\">\n     <use xlink:href=\"#DejaVuSans-49\"/>\n    </g>\n   </g>\n   <g id=\"text_35\">\n    <!-- 0.32 -->\n    <defs>\n     <path d=\"M 40.578125 39.3125 \nQ 47.65625 37.796875 51.625 33 \nQ 55.609375 28.21875 55.609375 21.1875 \nQ 55.609375 10.40625 48.1875 4.484375 \nQ 40.765625 -1.421875 27.09375 -1.421875 \nQ 22.515625 -1.421875 17.65625 -0.515625 \nQ 12.796875 0.390625 7.625 2.203125 \nL 7.625 11.71875 \nQ 11.71875 9.328125 16.59375 8.109375 \nQ 21.484375 6.890625 26.8125 6.890625 \nQ 36.078125 6.890625 40.9375 10.546875 \nQ 45.796875 14.203125 45.796875 21.1875 \nQ 45.796875 27.640625 41.28125 31.265625 \nQ 36.765625 34.90625 28.71875 34.90625 \nL 20.21875 34.90625 \nL 20.21875 43.015625 \nL 29.109375 43.015625 \nQ 36.375 43.015625 40.234375 45.921875 \nQ 44.09375 48.828125 44.09375 54.296875 \nQ 44.09375 59.90625 40.109375 62.90625 \nQ 36.140625 65.921875 28.71875 65.921875 \nQ 24.65625 65.921875 20.015625 65.03125 \nQ 15.375 64.15625 9.8125 62.3125 \nL 9.8125 71.09375 \nQ 15.4375 72.65625 20.34375 73.4375 \nQ 25.25 74.21875 29.59375 74.21875 \nQ 40.828125 74.21875 47.359375 69.109375 \nQ 53.90625 64.015625 53.90625 55.328125 \nQ 53.90625 49.265625 50.4375 45.09375 \nQ 46.96875 40.921875 40.578125 39.3125 \nz\n\" id=\"DejaVuSans-51\"/>\n    </defs>\n    <g style=\"fill:#ffffff;\" transform=\"translate(137.314688 46.374594)scale(0.1 -0.1)\">\n     <use xlink:href=\"#DejaVuSans-48\"/>\n     <use x=\"63.623047\" xlink:href=\"#DejaVuSans-46\"/>\n     <use x=\"95.410156\" xlink:href=\"#DejaVuSans-51\"/>\n     <use x=\"159.033203\" xlink:href=\"#DejaVuSans-50\"/>\n    </g>\n   </g>\n   <g id=\"text_36\">\n    <!-- 0.01 -->\n    <g style=\"fill:#262626;\" transform=\"translate(164.098688 46.374594)scale(0.1 -0.1)\">\n     <use xlink:href=\"#DejaVuSans-48\"/>\n     <use x=\"63.623047\" xlink:href=\"#DejaVuSans-46\"/>\n     <use x=\"95.410156\" xlink:href=\"#DejaVuSans-48\"/>\n     <use x=\"159.033203\" xlink:href=\"#DejaVuSans-49\"/>\n    </g>\n   </g>\n   <g id=\"text_37\">\n    <!-- 0 -->\n    <g style=\"fill:#262626;\" transform=\"translate(198.83425 46.374594)scale(0.1 -0.1)\">\n     <use xlink:href=\"#DejaVuSans-48\"/>\n    </g>\n   </g>\n   <g id=\"text_38\">\n    <!-- 0.25 -->\n    <defs>\n     <path d=\"M 10.796875 72.90625 \nL 49.515625 72.90625 \nL 49.515625 64.59375 \nL 19.828125 64.59375 \nL 19.828125 46.734375 \nQ 21.96875 47.46875 24.109375 47.828125 \nQ 26.265625 48.1875 28.421875 48.1875 \nQ 40.625 48.1875 47.75 41.5 \nQ 54.890625 34.8125 54.890625 23.390625 \nQ 54.890625 11.625 47.5625 5.09375 \nQ 40.234375 -1.421875 26.90625 -1.421875 \nQ 22.3125 -1.421875 17.546875 -0.640625 \nQ 12.796875 0.140625 7.71875 1.703125 \nL 7.71875 11.625 \nQ 12.109375 9.234375 16.796875 8.0625 \nQ 21.484375 6.890625 26.703125 6.890625 \nQ 35.15625 6.890625 40.078125 11.328125 \nQ 45.015625 15.765625 45.015625 23.390625 \nQ 45.015625 31 40.078125 35.4375 \nQ 35.15625 39.890625 26.703125 39.890625 \nQ 22.75 39.890625 18.8125 39.015625 \nQ 14.890625 38.140625 10.796875 36.28125 \nz\n\" id=\"DejaVuSans-53\"/>\n    </defs>\n    <g style=\"fill:#ffffff;\" transform=\"translate(217.666688 46.374594)scale(0.1 -0.1)\">\n     <use xlink:href=\"#DejaVuSans-48\"/>\n     <use x=\"63.623047\" xlink:href=\"#DejaVuSans-46\"/>\n     <use x=\"95.410156\" xlink:href=\"#DejaVuSans-50\"/>\n     <use x=\"159.033203\" xlink:href=\"#DejaVuSans-53\"/>\n    </g>\n   </g>\n   <g id=\"text_39\">\n    <!-- 0.44 -->\n    <defs>\n     <path d=\"M 37.796875 64.3125 \nL 12.890625 25.390625 \nL 37.796875 25.390625 \nz\nM 35.203125 72.90625 \nL 47.609375 72.90625 \nL 47.609375 25.390625 \nL 58.015625 25.390625 \nL 58.015625 17.1875 \nL 47.609375 17.1875 \nL 47.609375 0 \nL 37.796875 0 \nL 37.796875 17.1875 \nL 4.890625 17.1875 \nL 4.890625 26.703125 \nz\n\" id=\"DejaVuSans-52\"/>\n    </defs>\n    <g style=\"fill:#ffffff;\" transform=\"translate(244.450688 46.374594)scale(0.1 -0.1)\">\n     <use xlink:href=\"#DejaVuSans-48\"/>\n     <use x=\"63.623047\" xlink:href=\"#DejaVuSans-46\"/>\n     <use x=\"95.410156\" xlink:href=\"#DejaVuSans-52\"/>\n     <use x=\"159.033203\" xlink:href=\"#DejaVuSans-52\"/>\n    </g>\n   </g>\n   <g id=\"text_40\">\n    <!-- 0.08 -->\n    <defs>\n     <path d=\"M 31.78125 34.625 \nQ 24.75 34.625 20.71875 30.859375 \nQ 16.703125 27.09375 16.703125 20.515625 \nQ 16.703125 13.921875 20.71875 10.15625 \nQ 24.75 6.390625 31.78125 6.390625 \nQ 38.8125 6.390625 42.859375 10.171875 \nQ 46.921875 13.96875 46.921875 20.515625 \nQ 46.921875 27.09375 42.890625 30.859375 \nQ 38.875 34.625 31.78125 34.625 \nz\nM 21.921875 38.8125 \nQ 15.578125 40.375 12.03125 44.71875 \nQ 8.5 49.078125 8.5 55.328125 \nQ 8.5 64.0625 14.71875 69.140625 \nQ 20.953125 74.21875 31.78125 74.21875 \nQ 42.671875 74.21875 48.875 69.140625 \nQ 55.078125 64.0625 55.078125 55.328125 \nQ 55.078125 49.078125 51.53125 44.71875 \nQ 48 40.375 41.703125 38.8125 \nQ 48.828125 37.15625 52.796875 32.3125 \nQ 56.78125 27.484375 56.78125 20.515625 \nQ 56.78125 9.90625 50.3125 4.234375 \nQ 43.84375 -1.421875 31.78125 -1.421875 \nQ 19.734375 -1.421875 13.25 4.234375 \nQ 6.78125 9.90625 6.78125 20.515625 \nQ 6.78125 27.484375 10.78125 32.3125 \nQ 14.796875 37.15625 21.921875 38.8125 \nz\nM 18.3125 54.390625 \nQ 18.3125 48.734375 21.84375 45.5625 \nQ 25.390625 42.390625 31.78125 42.390625 \nQ 38.140625 42.390625 41.71875 45.5625 \nQ 45.3125 48.734375 45.3125 54.390625 \nQ 45.3125 60.0625 41.71875 63.234375 \nQ 38.140625 66.40625 31.78125 66.40625 \nQ 25.390625 66.40625 21.84375 63.234375 \nQ 18.3125 60.0625 18.3125 54.390625 \nz\n\" id=\"DejaVuSans-56\"/>\n    </defs>\n    <g style=\"fill:#262626;\" transform=\"translate(271.234688 46.374594)scale(0.1 -0.1)\">\n     <use xlink:href=\"#DejaVuSans-48\"/>\n     <use x=\"63.623047\" xlink:href=\"#DejaVuSans-46\"/>\n     <use x=\"95.410156\" xlink:href=\"#DejaVuSans-48\"/>\n     <use x=\"159.033203\" xlink:href=\"#DejaVuSans-56\"/>\n    </g>\n   </g>\n   <g id=\"text_41\">\n    <!-- 0.38 -->\n    <g style=\"fill:#ffffff;\" transform=\"translate(298.018688 46.374594)scale(0.1 -0.1)\">\n     <use xlink:href=\"#DejaVuSans-48\"/>\n     <use x=\"63.623047\" xlink:href=\"#DejaVuSans-46\"/>\n     <use x=\"95.410156\" xlink:href=\"#DejaVuSans-51\"/>\n     <use x=\"159.033203\" xlink:href=\"#DejaVuSans-56\"/>\n    </g>\n   </g>\n   <g id=\"text_42\">\n    <!-- 0.11 -->\n    <g style=\"fill:#ffffff;\" transform=\"translate(324.802688 46.374594)scale(0.1 -0.1)\">\n     <use xlink:href=\"#DejaVuSans-48\"/>\n     <use x=\"63.623047\" xlink:href=\"#DejaVuSans-46\"/>\n     <use x=\"95.410156\" xlink:href=\"#DejaVuSans-49\"/>\n     <use x=\"159.033203\" xlink:href=\"#DejaVuSans-49\"/>\n    </g>\n   </g>\n   <g id=\"text_43\">\n    <!-- 0.01 -->\n    <g style=\"fill:#262626;\" transform=\"translate(83.746688 68.118594)scale(0.1 -0.1)\">\n     <use xlink:href=\"#DejaVuSans-48\"/>\n     <use x=\"63.623047\" xlink:href=\"#DejaVuSans-46\"/>\n     <use x=\"95.410156\" xlink:href=\"#DejaVuSans-48\"/>\n     <use x=\"159.033203\" xlink:href=\"#DejaVuSans-49\"/>\n    </g>\n   </g>\n   <g id=\"text_44\">\n    <!-- 0.27 -->\n    <defs>\n     <path d=\"M 8.203125 72.90625 \nL 55.078125 72.90625 \nL 55.078125 68.703125 \nL 28.609375 0 \nL 18.3125 0 \nL 43.21875 64.59375 \nL 8.203125 64.59375 \nz\n\" id=\"DejaVuSans-55\"/>\n    </defs>\n    <g style=\"fill:#ffffff;\" transform=\"translate(110.530688 68.118594)scale(0.1 -0.1)\">\n     <use xlink:href=\"#DejaVuSans-48\"/>\n     <use x=\"63.623047\" xlink:href=\"#DejaVuSans-46\"/>\n     <use x=\"95.410156\" xlink:href=\"#DejaVuSans-50\"/>\n     <use x=\"159.033203\" xlink:href=\"#DejaVuSans-55\"/>\n    </g>\n   </g>\n   <g id=\"text_45\">\n    <!-- 1 -->\n    <g style=\"fill:#262626;\" transform=\"translate(145.26625 68.118594)scale(0.1 -0.1)\">\n     <use xlink:href=\"#DejaVuSans-49\"/>\n    </g>\n   </g>\n   <g id=\"text_46\">\n    <!-- 0.28 -->\n    <g style=\"fill:#ffffff;\" transform=\"translate(164.098688 68.118594)scale(0.1 -0.1)\">\n     <use xlink:href=\"#DejaVuSans-48\"/>\n     <use x=\"63.623047\" xlink:href=\"#DejaVuSans-46\"/>\n     <use x=\"95.410156\" xlink:href=\"#DejaVuSans-50\"/>\n     <use x=\"159.033203\" xlink:href=\"#DejaVuSans-56\"/>\n    </g>\n   </g>\n   <g id=\"text_47\">\n    <!-- 0.01 -->\n    <g style=\"fill:#262626;\" transform=\"translate(190.882688 68.118594)scale(0.1 -0.1)\">\n     <use xlink:href=\"#DejaVuSans-48\"/>\n     <use x=\"63.623047\" xlink:href=\"#DejaVuSans-46\"/>\n     <use x=\"95.410156\" xlink:href=\"#DejaVuSans-48\"/>\n     <use x=\"159.033203\" xlink:href=\"#DejaVuSans-49\"/>\n    </g>\n   </g>\n   <g id=\"text_48\">\n    <!-- 0.1 -->\n    <g style=\"fill:#262626;\" transform=\"translate(220.847938 68.118594)scale(0.1 -0.1)\">\n     <use xlink:href=\"#DejaVuSans-48\"/>\n     <use x=\"63.623047\" xlink:href=\"#DejaVuSans-46\"/>\n     <use x=\"95.410156\" xlink:href=\"#DejaVuSans-49\"/>\n    </g>\n   </g>\n   <g id=\"text_49\">\n    <!-- 0.32 -->\n    <g style=\"fill:#ffffff;\" transform=\"translate(244.450688 68.118594)scale(0.1 -0.1)\">\n     <use xlink:href=\"#DejaVuSans-48\"/>\n     <use x=\"63.623047\" xlink:href=\"#DejaVuSans-46\"/>\n     <use x=\"95.410156\" xlink:href=\"#DejaVuSans-51\"/>\n     <use x=\"159.033203\" xlink:href=\"#DejaVuSans-50\"/>\n    </g>\n   </g>\n   <g id=\"text_50\">\n    <!-- 0 -->\n    <g style=\"fill:#262626;\" transform=\"translate(279.18625 68.118594)scale(0.1 -0.1)\">\n     <use xlink:href=\"#DejaVuSans-48\"/>\n    </g>\n   </g>\n   <g id=\"text_51\">\n    <!-- 0.07 -->\n    <g style=\"fill:#262626;\" transform=\"translate(298.018688 68.118594)scale(0.1 -0.1)\">\n     <use xlink:href=\"#DejaVuSans-48\"/>\n     <use x=\"63.623047\" xlink:href=\"#DejaVuSans-46\"/>\n     <use x=\"95.410156\" xlink:href=\"#DejaVuSans-48\"/>\n     <use x=\"159.033203\" xlink:href=\"#DejaVuSans-55\"/>\n    </g>\n   </g>\n   <g id=\"text_52\">\n    <!-- 0 -->\n    <g style=\"fill:#262626;\" transform=\"translate(332.75425 68.118594)scale(0.1 -0.1)\">\n     <use xlink:href=\"#DejaVuSans-48\"/>\n    </g>\n   </g>\n   <g id=\"text_53\">\n    <!-- 0 -->\n    <g style=\"fill:#262626;\" transform=\"translate(91.69825 89.862594)scale(0.1 -0.1)\">\n     <use xlink:href=\"#DejaVuSans-48\"/>\n    </g>\n   </g>\n   <g id=\"text_54\">\n    <!-- 0 -->\n    <g style=\"fill:#262626;\" transform=\"translate(118.48225 89.862594)scale(0.1 -0.1)\">\n     <use xlink:href=\"#DejaVuSans-48\"/>\n    </g>\n   </g>\n   <g id=\"text_55\">\n    <!-- 0.37 -->\n    <g style=\"fill:#ffffff;\" transform=\"translate(137.314688 89.862594)scale(0.1 -0.1)\">\n     <use xlink:href=\"#DejaVuSans-48\"/>\n     <use x=\"63.623047\" xlink:href=\"#DejaVuSans-46\"/>\n     <use x=\"95.410156\" xlink:href=\"#DejaVuSans-51\"/>\n     <use x=\"159.033203\" xlink:href=\"#DejaVuSans-55\"/>\n    </g>\n   </g>\n   <g id=\"text_56\">\n    <!-- 1 -->\n    <g style=\"fill:#262626;\" transform=\"translate(172.05025 89.862594)scale(0.1 -0.1)\">\n     <use xlink:href=\"#DejaVuSans-49\"/>\n    </g>\n   </g>\n   <g id=\"text_57\">\n    <!-- 0 -->\n    <g style=\"fill:#262626;\" transform=\"translate(198.83425 89.862594)scale(0.1 -0.1)\">\n     <use xlink:href=\"#DejaVuSans-48\"/>\n    </g>\n   </g>\n   <g id=\"text_58\">\n    <!-- 0 -->\n    <g style=\"fill:#262626;\" transform=\"translate(225.61825 89.862594)scale(0.1 -0.1)\">\n     <use xlink:href=\"#DejaVuSans-48\"/>\n    </g>\n   </g>\n   <g id=\"text_59\">\n    <!-- 0 -->\n    <g style=\"fill:#262626;\" transform=\"translate(252.40225 89.862594)scale(0.1 -0.1)\">\n     <use xlink:href=\"#DejaVuSans-48\"/>\n    </g>\n   </g>\n   <g id=\"text_60\">\n    <!-- 0 -->\n    <g style=\"fill:#262626;\" transform=\"translate(279.18625 89.862594)scale(0.1 -0.1)\">\n     <use xlink:href=\"#DejaVuSans-48\"/>\n    </g>\n   </g>\n   <g id=\"text_61\">\n    <!-- 0 -->\n    <g style=\"fill:#262626;\" transform=\"translate(305.97025 89.862594)scale(0.1 -0.1)\">\n     <use xlink:href=\"#DejaVuSans-48\"/>\n    </g>\n   </g>\n   <g id=\"text_62\">\n    <!-- 0 -->\n    <g style=\"fill:#262626;\" transform=\"translate(332.75425 89.862594)scale(0.1 -0.1)\">\n     <use xlink:href=\"#DejaVuSans-48\"/>\n    </g>\n   </g>\n   <g id=\"text_63\">\n    <!-- 0 -->\n    <g style=\"fill:#262626;\" transform=\"translate(91.69825 111.606594)scale(0.1 -0.1)\">\n     <use xlink:href=\"#DejaVuSans-48\"/>\n    </g>\n   </g>\n   <g id=\"text_64\">\n    <!-- 0 -->\n    <g style=\"fill:#262626;\" transform=\"translate(118.48225 111.606594)scale(0.1 -0.1)\">\n     <use xlink:href=\"#DejaVuSans-48\"/>\n    </g>\n   </g>\n   <g id=\"text_65\">\n    <!-- 0 -->\n    <g style=\"fill:#262626;\" transform=\"translate(145.26625 111.606594)scale(0.1 -0.1)\">\n     <use xlink:href=\"#DejaVuSans-48\"/>\n    </g>\n   </g>\n   <g id=\"text_66\">\n    <!-- 0 -->\n    <g style=\"fill:#262626;\" transform=\"translate(172.05025 111.606594)scale(0.1 -0.1)\">\n     <use xlink:href=\"#DejaVuSans-48\"/>\n    </g>\n   </g>\n   <g id=\"text_67\">\n    <!-- 1 -->\n    <g style=\"fill:#262626;\" transform=\"translate(198.83425 111.606594)scale(0.1 -0.1)\">\n     <use xlink:href=\"#DejaVuSans-49\"/>\n    </g>\n   </g>\n   <g id=\"text_68\">\n    <!-- 0.05 -->\n    <g style=\"fill:#262626;\" transform=\"translate(217.666688 111.606594)scale(0.1 -0.1)\">\n     <use xlink:href=\"#DejaVuSans-48\"/>\n     <use x=\"63.623047\" xlink:href=\"#DejaVuSans-46\"/>\n     <use x=\"95.410156\" xlink:href=\"#DejaVuSans-48\"/>\n     <use x=\"159.033203\" xlink:href=\"#DejaVuSans-53\"/>\n    </g>\n   </g>\n   <g id=\"text_69\">\n    <!-- 0 -->\n    <g style=\"fill:#262626;\" transform=\"translate(252.40225 111.606594)scale(0.1 -0.1)\">\n     <use xlink:href=\"#DejaVuSans-48\"/>\n    </g>\n   </g>\n   <g id=\"text_70\">\n    <!-- 0 -->\n    <g style=\"fill:#262626;\" transform=\"translate(279.18625 111.606594)scale(0.1 -0.1)\">\n     <use xlink:href=\"#DejaVuSans-48\"/>\n    </g>\n   </g>\n   <g id=\"text_71\">\n    <!-- 0.08 -->\n    <g style=\"fill:#262626;\" transform=\"translate(298.018688 111.606594)scale(0.1 -0.1)\">\n     <use xlink:href=\"#DejaVuSans-48\"/>\n     <use x=\"63.623047\" xlink:href=\"#DejaVuSans-46\"/>\n     <use x=\"95.410156\" xlink:href=\"#DejaVuSans-48\"/>\n     <use x=\"159.033203\" xlink:href=\"#DejaVuSans-56\"/>\n    </g>\n   </g>\n   <g id=\"text_72\">\n    <!-- 0 -->\n    <g style=\"fill:#262626;\" transform=\"translate(332.75425 111.606594)scale(0.1 -0.1)\">\n     <use xlink:href=\"#DejaVuSans-48\"/>\n    </g>\n   </g>\n   <g id=\"text_73\">\n    <!-- 0.12 -->\n    <g style=\"fill:#ffffff;\" transform=\"translate(83.746688 133.350594)scale(0.1 -0.1)\">\n     <use xlink:href=\"#DejaVuSans-48\"/>\n     <use x=\"63.623047\" xlink:href=\"#DejaVuSans-46\"/>\n     <use x=\"95.410156\" xlink:href=\"#DejaVuSans-49\"/>\n     <use x=\"159.033203\" xlink:href=\"#DejaVuSans-50\"/>\n    </g>\n   </g>\n   <g id=\"text_74\">\n    <!-- 0.31 -->\n    <g style=\"fill:#ffffff;\" transform=\"translate(110.530688 133.350594)scale(0.1 -0.1)\">\n     <use xlink:href=\"#DejaVuSans-48\"/>\n     <use x=\"63.623047\" xlink:href=\"#DejaVuSans-46\"/>\n     <use x=\"95.410156\" xlink:href=\"#DejaVuSans-51\"/>\n     <use x=\"159.033203\" xlink:href=\"#DejaVuSans-49\"/>\n    </g>\n   </g>\n   <g id=\"text_75\">\n    <!-- 0.23 -->\n    <g style=\"fill:#ffffff;\" transform=\"translate(137.314688 133.350594)scale(0.1 -0.1)\">\n     <use xlink:href=\"#DejaVuSans-48\"/>\n     <use x=\"63.623047\" xlink:href=\"#DejaVuSans-46\"/>\n     <use x=\"95.410156\" xlink:href=\"#DejaVuSans-50\"/>\n     <use x=\"159.033203\" xlink:href=\"#DejaVuSans-51\"/>\n    </g>\n   </g>\n   <g id=\"text_76\">\n    <!-- 0.09 -->\n    <defs>\n     <path d=\"M 10.984375 1.515625 \nL 10.984375 10.5 \nQ 14.703125 8.734375 18.5 7.8125 \nQ 22.3125 6.890625 25.984375 6.890625 \nQ 35.75 6.890625 40.890625 13.453125 \nQ 46.046875 20.015625 46.78125 33.40625 \nQ 43.953125 29.203125 39.59375 26.953125 \nQ 35.25 24.703125 29.984375 24.703125 \nQ 19.046875 24.703125 12.671875 31.3125 \nQ 6.296875 37.9375 6.296875 49.421875 \nQ 6.296875 60.640625 12.9375 67.421875 \nQ 19.578125 74.21875 30.609375 74.21875 \nQ 43.265625 74.21875 49.921875 64.515625 \nQ 56.59375 54.828125 56.59375 36.375 \nQ 56.59375 19.140625 48.40625 8.859375 \nQ 40.234375 -1.421875 26.421875 -1.421875 \nQ 22.703125 -1.421875 18.890625 -0.6875 \nQ 15.09375 0.046875 10.984375 1.515625 \nz\nM 30.609375 32.421875 \nQ 37.25 32.421875 41.125 36.953125 \nQ 45.015625 41.5 45.015625 49.421875 \nQ 45.015625 57.28125 41.125 61.84375 \nQ 37.25 66.40625 30.609375 66.40625 \nQ 23.96875 66.40625 20.09375 61.84375 \nQ 16.21875 57.28125 16.21875 49.421875 \nQ 16.21875 41.5 20.09375 36.953125 \nQ 23.96875 32.421875 30.609375 32.421875 \nz\n\" id=\"DejaVuSans-57\"/>\n    </defs>\n    <g style=\"fill:#262626;\" transform=\"translate(164.098688 133.350594)scale(0.1 -0.1)\">\n     <use xlink:href=\"#DejaVuSans-48\"/>\n     <use x=\"63.623047\" xlink:href=\"#DejaVuSans-46\"/>\n     <use x=\"95.410156\" xlink:href=\"#DejaVuSans-48\"/>\n     <use x=\"159.033203\" xlink:href=\"#DejaVuSans-57\"/>\n    </g>\n   </g>\n   <g id=\"text_77\">\n    <!-- 0.28 -->\n    <g style=\"fill:#ffffff;\" transform=\"translate(190.882688 133.350594)scale(0.1 -0.1)\">\n     <use xlink:href=\"#DejaVuSans-48\"/>\n     <use x=\"63.623047\" xlink:href=\"#DejaVuSans-46\"/>\n     <use x=\"95.410156\" xlink:href=\"#DejaVuSans-50\"/>\n     <use x=\"159.033203\" xlink:href=\"#DejaVuSans-56\"/>\n    </g>\n   </g>\n   <g id=\"text_78\">\n    <!-- 1 -->\n    <g style=\"fill:#262626;\" transform=\"translate(225.61825 133.350594)scale(0.1 -0.1)\">\n     <use xlink:href=\"#DejaVuSans-49\"/>\n    </g>\n   </g>\n   <g id=\"text_79\">\n    <!-- 0.3 -->\n    <g style=\"fill:#ffffff;\" transform=\"translate(247.631938 133.350594)scale(0.1 -0.1)\">\n     <use xlink:href=\"#DejaVuSans-48\"/>\n     <use x=\"63.623047\" xlink:href=\"#DejaVuSans-46\"/>\n     <use x=\"95.410156\" xlink:href=\"#DejaVuSans-51\"/>\n    </g>\n   </g>\n   <g id=\"text_80\">\n    <!-- 0.05 -->\n    <g style=\"fill:#262626;\" transform=\"translate(271.234688 133.350594)scale(0.1 -0.1)\">\n     <use xlink:href=\"#DejaVuSans-48\"/>\n     <use x=\"63.623047\" xlink:href=\"#DejaVuSans-46\"/>\n     <use x=\"95.410156\" xlink:href=\"#DejaVuSans-48\"/>\n     <use x=\"159.033203\" xlink:href=\"#DejaVuSans-53\"/>\n    </g>\n   </g>\n   <g id=\"text_81\">\n    <!-- 0.71 -->\n    <g style=\"fill:#ffffff;\" transform=\"translate(298.018688 133.350594)scale(0.1 -0.1)\">\n     <use xlink:href=\"#DejaVuSans-48\"/>\n     <use x=\"63.623047\" xlink:href=\"#DejaVuSans-46\"/>\n     <use x=\"95.410156\" xlink:href=\"#DejaVuSans-55\"/>\n     <use x=\"159.033203\" xlink:href=\"#DejaVuSans-49\"/>\n    </g>\n   </g>\n   <g id=\"text_82\">\n    <!-- 0.09 -->\n    <g style=\"fill:#262626;\" transform=\"translate(324.802688 133.350594)scale(0.1 -0.1)\">\n     <use xlink:href=\"#DejaVuSans-48\"/>\n     <use x=\"63.623047\" xlink:href=\"#DejaVuSans-46\"/>\n     <use x=\"95.410156\" xlink:href=\"#DejaVuSans-48\"/>\n     <use x=\"159.033203\" xlink:href=\"#DejaVuSans-57\"/>\n    </g>\n   </g>\n   <g id=\"text_83\">\n    <!-- 0.05 -->\n    <g style=\"fill:#262626;\" transform=\"translate(83.746688 155.094594)scale(0.1 -0.1)\">\n     <use xlink:href=\"#DejaVuSans-48\"/>\n     <use x=\"63.623047\" xlink:href=\"#DejaVuSans-46\"/>\n     <use x=\"95.410156\" xlink:href=\"#DejaVuSans-48\"/>\n     <use x=\"159.033203\" xlink:href=\"#DejaVuSans-53\"/>\n    </g>\n   </g>\n   <g id=\"text_84\">\n    <!-- 0.65 -->\n    <defs>\n     <path d=\"M 33.015625 40.375 \nQ 26.375 40.375 22.484375 35.828125 \nQ 18.609375 31.296875 18.609375 23.390625 \nQ 18.609375 15.53125 22.484375 10.953125 \nQ 26.375 6.390625 33.015625 6.390625 \nQ 39.65625 6.390625 43.53125 10.953125 \nQ 47.40625 15.53125 47.40625 23.390625 \nQ 47.40625 31.296875 43.53125 35.828125 \nQ 39.65625 40.375 33.015625 40.375 \nz\nM 52.59375 71.296875 \nL 52.59375 62.3125 \nQ 48.875 64.0625 45.09375 64.984375 \nQ 41.3125 65.921875 37.59375 65.921875 \nQ 27.828125 65.921875 22.671875 59.328125 \nQ 17.53125 52.734375 16.796875 39.40625 \nQ 19.671875 43.65625 24.015625 45.921875 \nQ 28.375 48.1875 33.59375 48.1875 \nQ 44.578125 48.1875 50.953125 41.515625 \nQ 57.328125 34.859375 57.328125 23.390625 \nQ 57.328125 12.15625 50.6875 5.359375 \nQ 44.046875 -1.421875 33.015625 -1.421875 \nQ 20.359375 -1.421875 13.671875 8.265625 \nQ 6.984375 17.96875 6.984375 36.375 \nQ 6.984375 53.65625 15.1875 63.9375 \nQ 23.390625 74.21875 37.203125 74.21875 \nQ 40.921875 74.21875 44.703125 73.484375 \nQ 48.484375 72.75 52.59375 71.296875 \nz\n\" id=\"DejaVuSans-54\"/>\n    </defs>\n    <g style=\"fill:#ffffff;\" transform=\"translate(110.530688 155.094594)scale(0.1 -0.1)\">\n     <use xlink:href=\"#DejaVuSans-48\"/>\n     <use x=\"63.623047\" xlink:href=\"#DejaVuSans-46\"/>\n     <use x=\"95.410156\" xlink:href=\"#DejaVuSans-54\"/>\n     <use x=\"159.033203\" xlink:href=\"#DejaVuSans-53\"/>\n    </g>\n   </g>\n   <g id=\"text_85\">\n    <!-- 0.54 -->\n    <g style=\"fill:#ffffff;\" transform=\"translate(137.314688 155.094594)scale(0.1 -0.1)\">\n     <use xlink:href=\"#DejaVuSans-48\"/>\n     <use x=\"63.623047\" xlink:href=\"#DejaVuSans-46\"/>\n     <use x=\"95.410156\" xlink:href=\"#DejaVuSans-53\"/>\n     <use x=\"159.033203\" xlink:href=\"#DejaVuSans-52\"/>\n    </g>\n   </g>\n   <g id=\"text_86\">\n    <!-- 0.01 -->\n    <g style=\"fill:#262626;\" transform=\"translate(164.098688 155.094594)scale(0.1 -0.1)\">\n     <use xlink:href=\"#DejaVuSans-48\"/>\n     <use x=\"63.623047\" xlink:href=\"#DejaVuSans-46\"/>\n     <use x=\"95.410156\" xlink:href=\"#DejaVuSans-48\"/>\n     <use x=\"159.033203\" xlink:href=\"#DejaVuSans-49\"/>\n    </g>\n   </g>\n   <g id=\"text_87\">\n    <!-- 0 -->\n    <g style=\"fill:#262626;\" transform=\"translate(198.83425 155.094594)scale(0.1 -0.1)\">\n     <use xlink:href=\"#DejaVuSans-48\"/>\n    </g>\n   </g>\n   <g id=\"text_88\">\n    <!-- 0.31 -->\n    <g style=\"fill:#ffffff;\" transform=\"translate(217.666688 155.094594)scale(0.1 -0.1)\">\n     <use xlink:href=\"#DejaVuSans-48\"/>\n     <use x=\"63.623047\" xlink:href=\"#DejaVuSans-46\"/>\n     <use x=\"95.410156\" xlink:href=\"#DejaVuSans-51\"/>\n     <use x=\"159.033203\" xlink:href=\"#DejaVuSans-49\"/>\n    </g>\n   </g>\n   <g id=\"text_89\">\n    <!-- 1 -->\n    <g style=\"fill:#262626;\" transform=\"translate(252.40225 155.094594)scale(0.1 -0.1)\">\n     <use xlink:href=\"#DejaVuSans-49\"/>\n    </g>\n   </g>\n   <g id=\"text_90\">\n    <!-- 0 -->\n    <g style=\"fill:#262626;\" transform=\"translate(279.18625 155.094594)scale(0.1 -0.1)\">\n     <use xlink:href=\"#DejaVuSans-48\"/>\n    </g>\n   </g>\n   <g id=\"text_91\">\n    <!-- 0.25 -->\n    <g style=\"fill:#ffffff;\" transform=\"translate(298.018688 155.094594)scale(0.1 -0.1)\">\n     <use xlink:href=\"#DejaVuSans-48\"/>\n     <use x=\"63.623047\" xlink:href=\"#DejaVuSans-46\"/>\n     <use x=\"95.410156\" xlink:href=\"#DejaVuSans-50\"/>\n     <use x=\"159.033203\" xlink:href=\"#DejaVuSans-53\"/>\n    </g>\n   </g>\n   <g id=\"text_92\">\n    <!-- 0 -->\n    <g style=\"fill:#262626;\" transform=\"translate(332.75425 155.094594)scale(0.1 -0.1)\">\n     <use xlink:href=\"#DejaVuSans-48\"/>\n    </g>\n   </g>\n   <g id=\"text_93\">\n    <!-- 0 -->\n    <g style=\"fill:#262626;\" transform=\"translate(91.69825 176.838594)scale(0.1 -0.1)\">\n     <use xlink:href=\"#DejaVuSans-48\"/>\n    </g>\n   </g>\n   <g id=\"text_94\">\n    <!-- 0.3 -->\n    <g style=\"fill:#ffffff;\" transform=\"translate(113.711938 176.838594)scale(0.1 -0.1)\">\n     <use xlink:href=\"#DejaVuSans-48\"/>\n     <use x=\"63.623047\" xlink:href=\"#DejaVuSans-46\"/>\n     <use x=\"95.410156\" xlink:href=\"#DejaVuSans-51\"/>\n    </g>\n   </g>\n   <g id=\"text_95\">\n    <!-- 0 -->\n    <g style=\"fill:#262626;\" transform=\"translate(145.26625 176.838594)scale(0.1 -0.1)\">\n     <use xlink:href=\"#DejaVuSans-48\"/>\n    </g>\n   </g>\n   <g id=\"text_96\">\n    <!-- 0 -->\n    <g style=\"fill:#262626;\" transform=\"translate(172.05025 176.838594)scale(0.1 -0.1)\">\n     <use xlink:href=\"#DejaVuSans-48\"/>\n    </g>\n   </g>\n   <g id=\"text_97\">\n    <!-- 0 -->\n    <g style=\"fill:#262626;\" transform=\"translate(198.83425 176.838594)scale(0.1 -0.1)\">\n     <use xlink:href=\"#DejaVuSans-48\"/>\n    </g>\n   </g>\n   <g id=\"text_98\">\n    <!-- 0 -->\n    <g style=\"fill:#262626;\" transform=\"translate(225.61825 176.838594)scale(0.1 -0.1)\">\n     <use xlink:href=\"#DejaVuSans-48\"/>\n    </g>\n   </g>\n   <g id=\"text_99\">\n    <!-- 0 -->\n    <g style=\"fill:#262626;\" transform=\"translate(252.40225 176.838594)scale(0.1 -0.1)\">\n     <use xlink:href=\"#DejaVuSans-48\"/>\n    </g>\n   </g>\n   <g id=\"text_100\">\n    <!-- 1 -->\n    <g style=\"fill:#262626;\" transform=\"translate(279.18625 176.838594)scale(0.1 -0.1)\">\n     <use xlink:href=\"#DejaVuSans-49\"/>\n    </g>\n   </g>\n   <g id=\"text_101\">\n    <!-- 0.18 -->\n    <g style=\"fill:#ffffff;\" transform=\"translate(298.018688 176.838594)scale(0.1 -0.1)\">\n     <use xlink:href=\"#DejaVuSans-48\"/>\n     <use x=\"63.623047\" xlink:href=\"#DejaVuSans-46\"/>\n     <use x=\"95.410156\" xlink:href=\"#DejaVuSans-49\"/>\n     <use x=\"159.033203\" xlink:href=\"#DejaVuSans-56\"/>\n    </g>\n   </g>\n   <g id=\"text_102\">\n    <!-- 0.95 -->\n    <g style=\"fill:#262626;\" transform=\"translate(324.802688 176.838594)scale(0.1 -0.1)\">\n     <use xlink:href=\"#DejaVuSans-48\"/>\n     <use x=\"63.623047\" xlink:href=\"#DejaVuSans-46\"/>\n     <use x=\"95.410156\" xlink:href=\"#DejaVuSans-57\"/>\n     <use x=\"159.033203\" xlink:href=\"#DejaVuSans-53\"/>\n    </g>\n   </g>\n   <g id=\"text_103\">\n    <!-- 0.04 -->\n    <g style=\"fill:#262626;\" transform=\"translate(83.746688 198.582594)scale(0.1 -0.1)\">\n     <use xlink:href=\"#DejaVuSans-48\"/>\n     <use x=\"63.623047\" xlink:href=\"#DejaVuSans-46\"/>\n     <use x=\"95.410156\" xlink:href=\"#DejaVuSans-48\"/>\n     <use x=\"159.033203\" xlink:href=\"#DejaVuSans-52\"/>\n    </g>\n   </g>\n   <g id=\"text_104\">\n    <!-- 0.38 -->\n    <g style=\"fill:#ffffff;\" transform=\"translate(110.530688 198.582594)scale(0.1 -0.1)\">\n     <use xlink:href=\"#DejaVuSans-48\"/>\n     <use x=\"63.623047\" xlink:href=\"#DejaVuSans-46\"/>\n     <use x=\"95.410156\" xlink:href=\"#DejaVuSans-51\"/>\n     <use x=\"159.033203\" xlink:href=\"#DejaVuSans-56\"/>\n    </g>\n   </g>\n   <g id=\"text_105\">\n    <!-- 0.12 -->\n    <g style=\"fill:#ffffff;\" transform=\"translate(137.314688 198.582594)scale(0.1 -0.1)\">\n     <use xlink:href=\"#DejaVuSans-48\"/>\n     <use x=\"63.623047\" xlink:href=\"#DejaVuSans-46\"/>\n     <use x=\"95.410156\" xlink:href=\"#DejaVuSans-49\"/>\n     <use x=\"159.033203\" xlink:href=\"#DejaVuSans-50\"/>\n    </g>\n   </g>\n   <g id=\"text_106\">\n    <!-- 0.03 -->\n    <g style=\"fill:#262626;\" transform=\"translate(164.098688 198.582594)scale(0.1 -0.1)\">\n     <use xlink:href=\"#DejaVuSans-48\"/>\n     <use x=\"63.623047\" xlink:href=\"#DejaVuSans-46\"/>\n     <use x=\"95.410156\" xlink:href=\"#DejaVuSans-48\"/>\n     <use x=\"159.033203\" xlink:href=\"#DejaVuSans-51\"/>\n    </g>\n   </g>\n   <g id=\"text_107\">\n    <!-- 0.23 -->\n    <g style=\"fill:#ffffff;\" transform=\"translate(190.882688 198.582594)scale(0.1 -0.1)\">\n     <use xlink:href=\"#DejaVuSans-48\"/>\n     <use x=\"63.623047\" xlink:href=\"#DejaVuSans-46\"/>\n     <use x=\"95.410156\" xlink:href=\"#DejaVuSans-50\"/>\n     <use x=\"159.033203\" xlink:href=\"#DejaVuSans-51\"/>\n    </g>\n   </g>\n   <g id=\"text_108\">\n    <!-- 0.61 -->\n    <g style=\"fill:#ffffff;\" transform=\"translate(217.666688 198.582594)scale(0.1 -0.1)\">\n     <use xlink:href=\"#DejaVuSans-48\"/>\n     <use x=\"63.623047\" xlink:href=\"#DejaVuSans-46\"/>\n     <use x=\"95.410156\" xlink:href=\"#DejaVuSans-54\"/>\n     <use x=\"159.033203\" xlink:href=\"#DejaVuSans-49\"/>\n    </g>\n   </g>\n   <g id=\"text_109\">\n    <!-- 0.22 -->\n    <g style=\"fill:#ffffff;\" transform=\"translate(244.450688 198.582594)scale(0.1 -0.1)\">\n     <use xlink:href=\"#DejaVuSans-48\"/>\n     <use x=\"63.623047\" xlink:href=\"#DejaVuSans-46\"/>\n     <use x=\"95.410156\" xlink:href=\"#DejaVuSans-50\"/>\n     <use x=\"159.033203\" xlink:href=\"#DejaVuSans-50\"/>\n    </g>\n   </g>\n   <g id=\"text_110\">\n    <!-- 0.15 -->\n    <g style=\"fill:#ffffff;\" transform=\"translate(271.234688 198.582594)scale(0.1 -0.1)\">\n     <use xlink:href=\"#DejaVuSans-48\"/>\n     <use x=\"63.623047\" xlink:href=\"#DejaVuSans-46\"/>\n     <use x=\"95.410156\" xlink:href=\"#DejaVuSans-49\"/>\n     <use x=\"159.033203\" xlink:href=\"#DejaVuSans-53\"/>\n    </g>\n   </g>\n   <g id=\"text_111\">\n    <!-- 1 -->\n    <g style=\"fill:#262626;\" transform=\"translate(305.97025 198.582594)scale(0.1 -0.1)\">\n     <use xlink:href=\"#DejaVuSans-49\"/>\n    </g>\n   </g>\n   <g id=\"text_112\">\n    <!-- 0.19 -->\n    <g style=\"fill:#ffffff;\" transform=\"translate(324.802688 198.582594)scale(0.1 -0.1)\">\n     <use xlink:href=\"#DejaVuSans-48\"/>\n     <use x=\"63.623047\" xlink:href=\"#DejaVuSans-46\"/>\n     <use x=\"95.410156\" xlink:href=\"#DejaVuSans-49\"/>\n     <use x=\"159.033203\" xlink:href=\"#DejaVuSans-57\"/>\n    </g>\n   </g>\n   <g id=\"text_113\">\n    <!-- 0 -->\n    <g style=\"fill:#262626;\" transform=\"translate(91.69825 220.326594)scale(0.1 -0.1)\">\n     <use xlink:href=\"#DejaVuSans-48\"/>\n    </g>\n   </g>\n   <g id=\"text_114\">\n    <!-- 0.06 -->\n    <g style=\"fill:#262626;\" transform=\"translate(110.530688 220.326594)scale(0.1 -0.1)\">\n     <use xlink:href=\"#DejaVuSans-48\"/>\n     <use x=\"63.623047\" xlink:href=\"#DejaVuSans-46\"/>\n     <use x=\"95.410156\" xlink:href=\"#DejaVuSans-48\"/>\n     <use x=\"159.033203\" xlink:href=\"#DejaVuSans-54\"/>\n    </g>\n   </g>\n   <g id=\"text_115\">\n    <!-- 0 -->\n    <g style=\"fill:#262626;\" transform=\"translate(145.26625 220.326594)scale(0.1 -0.1)\">\n     <use xlink:href=\"#DejaVuSans-48\"/>\n    </g>\n   </g>\n   <g id=\"text_116\">\n    <!-- 0 -->\n    <g style=\"fill:#262626;\" transform=\"translate(172.05025 220.326594)scale(0.1 -0.1)\">\n     <use xlink:href=\"#DejaVuSans-48\"/>\n    </g>\n   </g>\n   <g id=\"text_117\">\n    <!-- 0 -->\n    <g style=\"fill:#262626;\" transform=\"translate(198.83425 220.326594)scale(0.1 -0.1)\">\n     <use xlink:href=\"#DejaVuSans-48\"/>\n    </g>\n   </g>\n   <g id=\"text_118\">\n    <!-- 0 -->\n    <g style=\"fill:#262626;\" transform=\"translate(225.61825 220.326594)scale(0.1 -0.1)\">\n     <use xlink:href=\"#DejaVuSans-48\"/>\n    </g>\n   </g>\n   <g id=\"text_119\">\n    <!-- 0 -->\n    <g style=\"fill:#262626;\" transform=\"translate(252.40225 220.326594)scale(0.1 -0.1)\">\n     <use xlink:href=\"#DejaVuSans-48\"/>\n    </g>\n   </g>\n   <g id=\"text_120\">\n    <!-- 0.38 -->\n    <g style=\"fill:#ffffff;\" transform=\"translate(271.234688 220.326594)scale(0.1 -0.1)\">\n     <use xlink:href=\"#DejaVuSans-48\"/>\n     <use x=\"63.623047\" xlink:href=\"#DejaVuSans-46\"/>\n     <use x=\"95.410156\" xlink:href=\"#DejaVuSans-51\"/>\n     <use x=\"159.033203\" xlink:href=\"#DejaVuSans-56\"/>\n    </g>\n   </g>\n   <g id=\"text_121\">\n    <!-- 0.04 -->\n    <g style=\"fill:#262626;\" transform=\"translate(298.018688 220.326594)scale(0.1 -0.1)\">\n     <use xlink:href=\"#DejaVuSans-48\"/>\n     <use x=\"63.623047\" xlink:href=\"#DejaVuSans-46\"/>\n     <use x=\"95.410156\" xlink:href=\"#DejaVuSans-48\"/>\n     <use x=\"159.033203\" xlink:href=\"#DejaVuSans-52\"/>\n    </g>\n   </g>\n   <g id=\"text_122\">\n    <!-- 1 -->\n    <g style=\"fill:#262626;\" transform=\"translate(332.75425 220.326594)scale(0.1 -0.1)\">\n     <use xlink:href=\"#DejaVuSans-49\"/>\n    </g>\n   </g>\n  </g>\n  <g id=\"axes_2\">\n   <g id=\"patch_3\">\n    <path clip-path=\"url(#pff9025b230)\" d=\"M 366.0675 228.439219 \nL 366.0675 227.589844 \nL 366.0675 11.848594 \nL 366.0675 10.999219 \nL 376.9395 10.999219 \nL 376.9395 11.848594 \nL 376.9395 227.589844 \nL 376.9395 228.439219 \nz\n\" style=\"fill:#ffffff;stroke:#ffffff;stroke-linejoin:miter;stroke-width:0.01;\"/>\n   </g>\n   <image height=\"218\" id=\"image7ea1f2dc3b\" transform=\"scale(1 -1)translate(0 -218)\" width=\"11\" x=\"366\" xlink:href=\"data:image/png;base64,\niVBORw0KGgoAAAANSUhEUgAAAAsAAADaCAYAAABwzrisAAAABHNCSVQICAgIfAhkiAAAAbtJREFUaIHV2MtxxCAURFFASM4/IEfiAJyCrQ84Bc6iq2Stu27d12KAUf38/ppl8enPWM5i+LpT5GcsZ5E8JHz+wwGJPGauDdCwAdezSY3zFnLM+Y6tjfOB8LCeXxEm50vayGlgzzVEvmXx5wacsQGfK6UxRaPkwrKeq+z8lciyfVG4wZ5r5O1aX/29wrKzcINdptex/lZ6vddXP5IlXGLhOuANzucHNCY5i8aUMJEHDGhkcpbqcm0841c0cs5AHjGNMc6UhgyIPUP4GbDX5TQmXAuC5GFtiDPcToxcrDo46HH7AnKhNoqQaUC4BXawKL2QcyrclpOllC7pvn7j13Ar8G8ip7GJhjmDh5EpLB6o8Rby+tN7XY/3LTigaAh5b0AmZ2rDflYx8h7rOddGrroDTgodcP0JtnG8xZnIqfAhB1DQ2TTkC5WQ9wZ3UXOu8r1OwkTeN/mqBqemObcmA0qYyL3Ld9GYRoOfipGrkK0Nc4YwkSm87XIzNw0hN9KA45jC7ejr4RLTqNt60b1IuO1HiFw3qo7I0kYDjXZ8AFkGrLB/Idl6FvIObZDGS9qgAZMvRRa/rGd0Xtf4A0yVEvGy4pl3AAAAAElFTkSuQmCC\" y=\"-10\"/>\n   <g id=\"matplotlib.axis_3\"/>\n   <g id=\"matplotlib.axis_4\">\n    <g id=\"ytick_11\">\n     <g id=\"line2d_21\">\n      <defs>\n       <path d=\"M 0 0 \nL 3.5 0 \n\" id=\"m44b793c01e\" style=\"stroke:#000000;stroke-width:0.8;\"/>\n      </defs>\n      <g>\n       <use style=\"stroke:#000000;stroke-width:0.8;\" x=\"376.9395\" xlink:href=\"#m44b793c01e\" y=\"228.439219\"/>\n      </g>\n     </g>\n     <g id=\"text_123\">\n      <!-- 0.0 -->\n      <g transform=\"translate(383.9395 232.238437)scale(0.1 -0.1)\">\n       <use xlink:href=\"#DejaVuSans-48\"/>\n       <use x=\"63.623047\" xlink:href=\"#DejaVuSans-46\"/>\n       <use x=\"95.410156\" xlink:href=\"#DejaVuSans-48\"/>\n      </g>\n     </g>\n    </g>\n    <g id=\"ytick_12\">\n     <g id=\"line2d_22\">\n      <g>\n       <use style=\"stroke:#000000;stroke-width:0.8;\" x=\"376.9395\" xlink:href=\"#m44b793c01e\" y=\"184.951219\"/>\n      </g>\n     </g>\n     <g id=\"text_124\">\n      <!-- 0.2 -->\n      <g transform=\"translate(383.9395 188.750437)scale(0.1 -0.1)\">\n       <use xlink:href=\"#DejaVuSans-48\"/>\n       <use x=\"63.623047\" xlink:href=\"#DejaVuSans-46\"/>\n       <use x=\"95.410156\" xlink:href=\"#DejaVuSans-50\"/>\n      </g>\n     </g>\n    </g>\n    <g id=\"ytick_13\">\n     <g id=\"line2d_23\">\n      <g>\n       <use style=\"stroke:#000000;stroke-width:0.8;\" x=\"376.9395\" xlink:href=\"#m44b793c01e\" y=\"141.463219\"/>\n      </g>\n     </g>\n     <g id=\"text_125\">\n      <!-- 0.4 -->\n      <g transform=\"translate(383.9395 145.262437)scale(0.1 -0.1)\">\n       <use xlink:href=\"#DejaVuSans-48\"/>\n       <use x=\"63.623047\" xlink:href=\"#DejaVuSans-46\"/>\n       <use x=\"95.410156\" xlink:href=\"#DejaVuSans-52\"/>\n      </g>\n     </g>\n    </g>\n    <g id=\"ytick_14\">\n     <g id=\"line2d_24\">\n      <g>\n       <use style=\"stroke:#000000;stroke-width:0.8;\" x=\"376.9395\" xlink:href=\"#m44b793c01e\" y=\"97.975219\"/>\n      </g>\n     </g>\n     <g id=\"text_126\">\n      <!-- 0.6 -->\n      <g transform=\"translate(383.9395 101.774437)scale(0.1 -0.1)\">\n       <use xlink:href=\"#DejaVuSans-48\"/>\n       <use x=\"63.623047\" xlink:href=\"#DejaVuSans-46\"/>\n       <use x=\"95.410156\" xlink:href=\"#DejaVuSans-54\"/>\n      </g>\n     </g>\n    </g>\n    <g id=\"ytick_15\">\n     <g id=\"line2d_25\">\n      <g>\n       <use style=\"stroke:#000000;stroke-width:0.8;\" x=\"376.9395\" xlink:href=\"#m44b793c01e\" y=\"54.487219\"/>\n      </g>\n     </g>\n     <g id=\"text_127\">\n      <!-- 0.8 -->\n      <g transform=\"translate(383.9395 58.286437)scale(0.1 -0.1)\">\n       <use xlink:href=\"#DejaVuSans-48\"/>\n       <use x=\"63.623047\" xlink:href=\"#DejaVuSans-46\"/>\n       <use x=\"95.410156\" xlink:href=\"#DejaVuSans-56\"/>\n      </g>\n     </g>\n    </g>\n    <g id=\"ytick_16\">\n     <g id=\"line2d_26\">\n      <g>\n       <use style=\"stroke:#000000;stroke-width:0.8;\" x=\"376.9395\" xlink:href=\"#m44b793c01e\" y=\"10.999219\"/>\n      </g>\n     </g>\n     <g id=\"text_128\">\n      <!-- 1.0 -->\n      <g transform=\"translate(383.9395 14.798437)scale(0.1 -0.1)\">\n       <use xlink:href=\"#DejaVuSans-49\"/>\n       <use x=\"63.623047\" xlink:href=\"#DejaVuSans-46\"/>\n       <use x=\"95.410156\" xlink:href=\"#DejaVuSans-48\"/>\n      </g>\n     </g>\n    </g>\n   </g>\n   <g id=\"patch_4\">\n    <path d=\"M 366.0675 228.439219 \nL 366.0675 227.589844 \nL 366.0675 11.848594 \nL 366.0675 10.999219 \nL 376.9395 10.999219 \nL 376.9395 11.848594 \nL 376.9395 227.589844 \nL 376.9395 228.439219 \nz\n\" style=\"fill:none;\"/>\n   </g>\n  </g>\n </g>\n <defs>\n  <clipPath id=\"pc9ca0efebb\">\n   <rect height=\"217.44\" width=\"267.84\" x=\"81.4875\" y=\"10.999219\"/>\n  </clipPath>\n  <clipPath id=\"pff9025b230\">\n   <rect height=\"217.44\" width=\"10.872\" x=\"366.0675\" y=\"10.999219\"/>\n  </clipPath>\n </defs>\n</svg>\n",
      "image/png": "[encoded data removed]"
     },
     "metadata": {
      "needs_background": "light"
     }
    }
   ],
   "source": [
    "matrix_pps = pps.matrix(all_df)[['x', 'y', 'ppscore']].pivot(columns='x', index='y', values='ppscore')\n",
    "matrix_pps = matrix_pps.apply(lambda x: round(x, 2))\n",
    "\n",
    "sns.heatmap(matrix_pps, vmin=0, vmax=1, cmap=\"icefire\", linewidths=0.75, annot=True)"
   ]
  },
  {
   "cell_type": "code",
   "execution_count": 855,
   "metadata": {},
   "outputs": [],
   "source": [
    "# dummy_col=[ 'Age', 'Embarked', 'Pclass',  'Fare', 'FamilySize', 'Title', 'E*P', 'Age*Class']\n",
    "\n",
    "# dummy = pd.get_dummies(all_df[dummy_col], columns=dummy_col, drop_first=False)\n",
    "# all_df = pd.concat([dummy,  all_df['Sex']], axis = 1)\n",
    "# all_df = dummy\n",
    "# all_df"
   ]
  },
  {
   "cell_type": "code",
   "execution_count": 856,
   "metadata": {},
   "outputs": [],
   "source": [
    "Y_train = train_df[\"Survived\"]\n",
    "pass_temp = test_df['PassengerId']\n",
    "train_df = all_df[:train_df.shape[0]]\n",
    "test_df = all_df[train_df.shape[0]:] "
   ]
  },
  {
   "cell_type": "code",
   "execution_count": 857,
   "metadata": {},
   "outputs": [
    {
     "output_type": "execute_result",
     "data": {
      "text/plain": [
       "   Pclass  Sex   Age      Fare  Embarked     Title  FamilySize  Age*Class  \\\n",
       "0     0.0  0.0  0.75  0.000000       0.0  0.000000         0.1   0.000000   \n",
       "1     1.0  1.0  0.50  1.000000       1.0  0.333333         0.1   1.000000   \n",
       "2     0.0  1.0  0.75  0.333333       0.0  1.000000         0.0   0.333333   \n",
       "3     1.0  1.0  0.50  1.000000       0.0  0.333333         0.1   1.000000   \n",
       "4     0.0  0.0  0.50  0.333333       0.0  0.000000         0.0   0.000000   \n",
       "\n",
       "   E*P  Sex*Fare  \n",
       "0  0.0      0.00  \n",
       "1  1.0      1.00  \n",
       "2  0.0      0.50  \n",
       "3  0.5      1.00  \n",
       "4  0.0      0.25  "
      ],
      "text/html": "<div>\n<style scoped>\n    .dataframe tbody tr th:only-of-type {\n        vertical-align: middle;\n    }\n\n    .dataframe tbody tr th {\n        vertical-align: top;\n    }\n\n    .dataframe thead th {\n        text-align: right;\n    }\n</style>\n<table border=\"1\" class=\"dataframe\">\n  <thead>\n    <tr style=\"text-align: right;\">\n      <th></th>\n      <th>Pclass</th>\n      <th>Sex</th>\n      <th>Age</th>\n      <th>Fare</th>\n      <th>Embarked</th>\n      <th>Title</th>\n      <th>FamilySize</th>\n      <th>Age*Class</th>\n      <th>E*P</th>\n      <th>Sex*Fare</th>\n    </tr>\n  </thead>\n  <tbody>\n    <tr>\n      <th>0</th>\n      <td>0.0</td>\n      <td>0.0</td>\n      <td>0.75</td>\n      <td>0.000000</td>\n      <td>0.0</td>\n      <td>0.000000</td>\n      <td>0.1</td>\n      <td>0.000000</td>\n      <td>0.0</td>\n      <td>0.00</td>\n    </tr>\n    <tr>\n      <th>1</th>\n      <td>1.0</td>\n      <td>1.0</td>\n      <td>0.50</td>\n      <td>1.000000</td>\n      <td>1.0</td>\n      <td>0.333333</td>\n      <td>0.1</td>\n      <td>1.000000</td>\n      <td>1.0</td>\n      <td>1.00</td>\n    </tr>\n    <tr>\n      <th>2</th>\n      <td>0.0</td>\n      <td>1.0</td>\n      <td>0.75</td>\n      <td>0.333333</td>\n      <td>0.0</td>\n      <td>1.000000</td>\n      <td>0.0</td>\n      <td>0.333333</td>\n      <td>0.0</td>\n      <td>0.50</td>\n    </tr>\n    <tr>\n      <th>3</th>\n      <td>1.0</td>\n      <td>1.0</td>\n      <td>0.50</td>\n      <td>1.000000</td>\n      <td>0.0</td>\n      <td>0.333333</td>\n      <td>0.1</td>\n      <td>1.000000</td>\n      <td>0.5</td>\n      <td>1.00</td>\n    </tr>\n    <tr>\n      <th>4</th>\n      <td>0.0</td>\n      <td>0.0</td>\n      <td>0.50</td>\n      <td>0.333333</td>\n      <td>0.0</td>\n      <td>0.000000</td>\n      <td>0.0</td>\n      <td>0.000000</td>\n      <td>0.0</td>\n      <td>0.25</td>\n    </tr>\n  </tbody>\n</table>\n</div>"
     },
     "metadata": {},
     "execution_count": 857
    }
   ],
   "source": [
    "x = train_df.values #returns a numpy array\n",
    "min_max_scaler = preprocessing.MinMaxScaler()\n",
    "x_scaled = min_max_scaler.fit_transform(x)\n",
    "train_df[:] = x_scaled\n",
    "\n",
    "x = test_df.values \n",
    "\n",
    "min_max_scaler = preprocessing.MinMaxScaler()\n",
    "x_scaled = min_max_scaler.fit_transform(x)\n",
    "test_df[:] = x_scaled\n",
    "train_df.head()"
   ]
  },
  {
   "source": [
    "## Model, predict and solve\n"
   ],
   "cell_type": "markdown",
   "metadata": {}
  },
  {
   "cell_type": "code",
   "execution_count": 858,
   "metadata": {},
   "outputs": [
    {
     "output_type": "execute_result",
     "data": {
      "text/plain": [
       "((891, 10), (891,), (418, 10))"
      ]
     },
     "metadata": {},
     "execution_count": 858
    }
   ],
   "source": [
    "X_train = train_df\n",
    "X_test  = test_df\n",
    "X_train.shape, Y_train.shape, X_test.shape\n"
   ]
  },
  {
   "cell_type": "code",
   "execution_count": 859,
   "metadata": {},
   "outputs": [
    {
     "output_type": "execute_result",
     "data": {
      "text/plain": [
       "78.79"
      ]
     },
     "metadata": {},
     "execution_count": 859
    }
   ],
   "source": [
    "logreg = LogisticRegression()\n",
    "logreg.fit(X_train, Y_train)\n",
    "Y_pred_logreg = logreg.predict(X_test)\n",
    "Y_pred_logreg.astype(int)\n",
    "acc_log = round(logreg.score(X_train, Y_train) * 100, 2)\n",
    "acc_log"
   ]
  },
  {
   "cell_type": "code",
   "execution_count": 860,
   "metadata": {},
   "outputs": [
    {
     "output_type": "execute_result",
     "data": {
      "text/plain": [
       "      Feature  Correlation\n",
       "1         Age     1.585307\n",
       "2        Fare     1.356449\n",
       "7         E*P     1.077567\n",
       "5  FamilySize     0.858309\n",
       "0         Sex     0.823697\n",
       "8    Sex*Fare     0.512644\n",
       "4       Title     0.201591\n",
       "3    Embarked     0.185637\n",
       "6   Age*Class    -1.897520"
      ],
      "text/html": "<div>\n<style scoped>\n    .dataframe tbody tr th:only-of-type {\n        vertical-align: middle;\n    }\n\n    .dataframe tbody tr th {\n        vertical-align: top;\n    }\n\n    .dataframe thead th {\n        text-align: right;\n    }\n</style>\n<table border=\"1\" class=\"dataframe\">\n  <thead>\n    <tr style=\"text-align: right;\">\n      <th></th>\n      <th>Feature</th>\n      <th>Correlation</th>\n    </tr>\n  </thead>\n  <tbody>\n    <tr>\n      <th>1</th>\n      <td>Age</td>\n      <td>1.585307</td>\n    </tr>\n    <tr>\n      <th>2</th>\n      <td>Fare</td>\n      <td>1.356449</td>\n    </tr>\n    <tr>\n      <th>7</th>\n      <td>E*P</td>\n      <td>1.077567</td>\n    </tr>\n    <tr>\n      <th>5</th>\n      <td>FamilySize</td>\n      <td>0.858309</td>\n    </tr>\n    <tr>\n      <th>0</th>\n      <td>Sex</td>\n      <td>0.823697</td>\n    </tr>\n    <tr>\n      <th>8</th>\n      <td>Sex*Fare</td>\n      <td>0.512644</td>\n    </tr>\n    <tr>\n      <th>4</th>\n      <td>Title</td>\n      <td>0.201591</td>\n    </tr>\n    <tr>\n      <th>3</th>\n      <td>Embarked</td>\n      <td>0.185637</td>\n    </tr>\n    <tr>\n      <th>6</th>\n      <td>Age*Class</td>\n      <td>-1.897520</td>\n    </tr>\n  </tbody>\n</table>\n</div>"
     },
     "metadata": {},
     "execution_count": 860
    }
   ],
   "source": [
    "coeff_df = pd.DataFrame(train_df.columns.delete(0))\n",
    "coeff_df.columns = ['Feature']\n",
    "coeff_df[\"Correlation\"] = pd.Series(logreg.coef_[0])\n",
    "\n",
    "coeff_df.sort_values(by='Correlation', ascending=False)"
   ]
  },
  {
   "cell_type": "code",
   "execution_count": 861,
   "metadata": {},
   "outputs": [
    {
     "output_type": "execute_result",
     "data": {
      "text/plain": [
       "83.16"
      ]
     },
     "metadata": {},
     "execution_count": 861
    }
   ],
   "source": [
    "svc = SVC()\n",
    "svc.fit(X_train, Y_train)\n",
    "Y_pred = svc.predict(X_test)\n",
    "Y_pred_svc = Y_pred.astype(int)\n",
    "\n",
    "acc_svc = round(svc.score(X_train, Y_train) * 100, 2)\n",
    "acc_svc"
   ]
  },
  {
   "cell_type": "code",
   "execution_count": 862,
   "metadata": {},
   "outputs": [
    {
     "output_type": "execute_result",
     "data": {
      "text/plain": [
       "81.82"
      ]
     },
     "metadata": {},
     "execution_count": 862
    }
   ],
   "source": [
    "knn = KNeighborsClassifier(n_neighbors = 35)\n",
    "knn.fit(X_train, Y_train)\n",
    "\n",
    "acc_knn = round(knn.score(X_train, Y_train) * 100, 2)\n",
    "Y_pred = knn.predict(X_test)\n",
    "Y_pred_knn = Y_pred.astype(int)\n",
    "acc_knn"
   ]
  },
  {
   "cell_type": "code",
   "execution_count": 863,
   "metadata": {},
   "outputs": [
    {
     "output_type": "execute_result",
     "data": {
      "text/plain": [
       "76.21"
      ]
     },
     "metadata": {},
     "execution_count": 863
    }
   ],
   "source": [
    "gaussian = GaussianNB()\n",
    "gaussian.fit(X_train, Y_train)\n",
    "Y_pred = gaussian.predict(X_test)\n",
    "Y_pred_gaussian = Y_pred.astype(int)\n",
    "acc_gaussian = round(gaussian.score(X_train, Y_train) * 100, 2)\n",
    "acc_gaussian"
   ]
  },
  {
   "cell_type": "code",
   "execution_count": 864,
   "metadata": {},
   "outputs": [
    {
     "output_type": "execute_result",
     "data": {
      "text/plain": [
       "79.91"
      ]
     },
     "metadata": {},
     "execution_count": 864
    }
   ],
   "source": [
    "perceptron = Perceptron()\n",
    "perceptron.fit(X_train, Y_train)\n",
    "Y_pred = perceptron.predict(X_test)\n",
    "Y_pred_perceptron = Y_pred.astype(int)\n",
    "acc_perceptron = round(perceptron.score(X_train, Y_train) * 100, 2)\n",
    "acc_perceptron"
   ]
  },
  {
   "cell_type": "code",
   "execution_count": 865,
   "metadata": {},
   "outputs": [
    {
     "output_type": "execute_result",
     "data": {
      "text/plain": [
       "79.01"
      ]
     },
     "metadata": {},
     "execution_count": 865
    }
   ],
   "source": [
    "linear_svc = LinearSVC()\n",
    "linear_svc.fit(X_train, Y_train)\n",
    "Y_pred = linear_svc.predict(X_test)\n",
    "Y_pred_linear_svc = Y_pred.astype(int)\n",
    "acc_linear_svc = round(linear_svc.score(X_train, Y_train) * 100, 2)\n",
    "acc_linear_svc"
   ]
  },
  {
   "cell_type": "code",
   "execution_count": 866,
   "metadata": {},
   "outputs": [
    {
     "output_type": "execute_result",
     "data": {
      "text/plain": [
       "79.69"
      ]
     },
     "metadata": {},
     "execution_count": 866
    }
   ],
   "source": [
    "sgd = SGDClassifier()\n",
    "sgd.fit(X_train, Y_train)\n",
    "Y_pred = sgd.predict(X_test)\n",
    "Y_pred_sgd = Y_pred.astype(int)\n",
    "\n",
    "acc_sgd = round(sgd.score(X_train, Y_train) * 100, 2)\n",
    "acc_sgd"
   ]
  },
  {
   "cell_type": "code",
   "execution_count": 867,
   "metadata": {},
   "outputs": [
    {
     "output_type": "execute_result",
     "data": {
      "text/plain": [
       "88.66"
      ]
     },
     "metadata": {},
     "execution_count": 867
    }
   ],
   "source": [
    "decision_tree = DecisionTreeClassifier()\n",
    "decision_tree.fit(X_train, Y_train)\n",
    "Y_pred = decision_tree.predict(X_test)\n",
    "Y_pred_decision_tree = Y_pred.astype(int)\n",
    "acc_decision_tree = round(decision_tree.score(X_train, Y_train) * 100, 2)\n",
    "acc_decision_tree"
   ]
  },
  {
   "cell_type": "code",
   "execution_count": 868,
   "metadata": {},
   "outputs": [
    {
     "output_type": "execute_result",
     "data": {
      "text/plain": [
       "88.66"
      ]
     },
     "metadata": {},
     "execution_count": 868
    }
   ],
   "source": [
    "random_forest = RandomForestClassifier(n_estimators=100)\n",
    "random_forest.fit(X_train, Y_train)\n",
    "Y_pred = random_forest.predict(X_test)\n",
    "Y_pred = Y_pred.astype(int)\n",
    "random_forest.score(X_train, Y_train)\n",
    "acc_random_forest = round(random_forest.score(X_train, Y_train) * 100, 2)\n",
    "acc_random_forest"
   ]
  },
  {
   "cell_type": "code",
   "execution_count": 869,
   "metadata": {},
   "outputs": [
    {
     "output_type": "execute_result",
     "data": {
      "text/plain": [
       "83.39"
      ]
     },
     "metadata": {},
     "execution_count": 869
    }
   ],
   "source": [
    "MLP = MLPClassifier(random_state=1, max_iter=300 )\n",
    "MLP.fit(X_train, Y_train)\n",
    "Y_pred = MLP.predict(X_test)\n",
    "Y_pred_MLP = Y_pred.astype(int)\n",
    "MLP.score(X_train, Y_train)\n",
    "acc_MLP = round(MLP.score(X_train, Y_train) * 100, 2)\n",
    "acc_MLP"
   ]
  },
  {
   "cell_type": "code",
   "execution_count": 870,
   "metadata": {},
   "outputs": [
    {
     "output_type": "stream",
     "name": "stdout",
     "text": [
      "Train on 891 samples\n",
      "Epoch 1/25\n",
      "891/891 [==============================] - 0s 341us/sample - loss: 0.5249 - accuracy: 0.7666\n",
      "Epoch 2/25\n",
      "891/891 [==============================] - 0s 95us/sample - loss: 0.4518 - accuracy: 0.7980\n",
      "Epoch 3/25\n",
      "891/891 [==============================] - 0s 95us/sample - loss: 0.4255 - accuracy: 0.8193\n",
      "Epoch 4/25\n",
      "891/891 [==============================] - 0s 98us/sample - loss: 0.4199 - accuracy: 0.8294\n",
      "Epoch 5/25\n",
      "891/891 [==============================] - 0s 92us/sample - loss: 0.4181 - accuracy: 0.8260\n",
      "Epoch 6/25\n",
      "891/891 [==============================] - 0s 91us/sample - loss: 0.4092 - accuracy: 0.8238\n",
      "Epoch 7/25\n",
      "891/891 [==============================] - 0s 92us/sample - loss: 0.4099 - accuracy: 0.8316\n",
      "Epoch 8/25\n",
      "891/891 [==============================] - 0s 93us/sample - loss: 0.4044 - accuracy: 0.8283\n",
      "Epoch 9/25\n",
      "891/891 [==============================] - 0s 80us/sample - loss: 0.3856 - accuracy: 0.8316\n",
      "Epoch 10/25\n",
      "891/891 [==============================] - 0s 95us/sample - loss: 0.3910 - accuracy: 0.8272\n",
      "Epoch 11/25\n",
      "891/891 [==============================] - 0s 88us/sample - loss: 0.3857 - accuracy: 0.8373\n",
      "Epoch 12/25\n",
      "891/891 [==============================] - 0s 85us/sample - loss: 0.3878 - accuracy: 0.8328\n",
      "Epoch 13/25\n",
      "891/891 [==============================] - 0s 93us/sample - loss: 0.3804 - accuracy: 0.8283\n",
      "Epoch 14/25\n",
      "891/891 [==============================] - 0s 90us/sample - loss: 0.3871 - accuracy: 0.8373\n",
      "Epoch 15/25\n",
      "891/891 [==============================] - 0s 87us/sample - loss: 0.3845 - accuracy: 0.8294\n",
      "Epoch 16/25\n",
      "891/891 [==============================] - 0s 89us/sample - loss: 0.3819 - accuracy: 0.8283\n",
      "Epoch 17/25\n",
      "891/891 [==============================] - 0s 79us/sample - loss: 0.3739 - accuracy: 0.8339\n",
      "Epoch 18/25\n",
      "891/891 [==============================] - 0s 83us/sample - loss: 0.3736 - accuracy: 0.8451\n",
      "Epoch 19/25\n",
      "891/891 [==============================] - 0s 78us/sample - loss: 0.3737 - accuracy: 0.8474\n",
      "Epoch 20/25\n",
      "891/891 [==============================] - 0s 86us/sample - loss: 0.3779 - accuracy: 0.8328\n",
      "Epoch 21/25\n",
      "891/891 [==============================] - 0s 79us/sample - loss: 0.3682 - accuracy: 0.8440\n",
      "Epoch 22/25\n",
      "891/891 [==============================] - 0s 87us/sample - loss: 0.3738 - accuracy: 0.8373\n",
      "Epoch 23/25\n",
      "891/891 [==============================] - 0s 78us/sample - loss: 0.3673 - accuracy: 0.8373\n",
      "Epoch 24/25\n",
      "891/891 [==============================] - 0s 86us/sample - loss: 0.3626 - accuracy: 0.8485\n",
      "Epoch 25/25\n",
      "891/891 [==============================] - 0s 107us/sample - loss: 0.3621 - accuracy: 0.8406\n"
     ]
    }
   ],
   "source": [
    "import tensorflow as tf\n",
    "from tensorflow.keras.models import Model\n",
    "from tensorflow.keras import layers, losses\n",
    "\n",
    "model = tf.keras.Sequential([\n",
    "    tf.keras.layers.Dense(128, activation='relu'),\n",
    "    tf.keras.layers.Dense(256, activation='relu'),\n",
    "    tf.keras.layers.Dense(512, activation='relu'),\n",
    "    tf.keras.layers.Dense(2)\n",
    "])\n",
    "X_train = X_train.astype(float)\n",
    "model.compile(optimizer='adam',\n",
    "              loss=tf.keras.losses.SparseCategoricalCrossentropy(from_logits=True),\n",
    "              metrics=['accuracy'])\n",
    "model.fit(X_train.values, Y_train.values, epochs=25) \n",
    "Y_pred_r = model.predict(X_test)\n",
    "Y_pred_kr = Y_pred_r.astype(int)             "
   ]
  },
  {
   "cell_type": "code",
   "execution_count": 871,
   "metadata": {},
   "outputs": [],
   "source": [
    "# \n",
    "Y_pred_r = np.zeros(len(Y_pred_r))\n",
    "Y_pred_all = np.array([Y_pred_MLP,  Y_pred_svc, Y_pred_knn, Y_pred_decision_tree, Y_pred_sgd ]).transpose()\n",
    "for  index, x in enumerate(Y_pred_all):\n",
    "    Y_pred_r[index] = np.bincount(x).argmax()\n",
    "Y_pred_r = Y_pred_r.astype(int)\n",
    "# Y_pred_all.shape"
   ]
  },
  {
   "cell_type": "code",
   "execution_count": 872,
   "metadata": {},
   "outputs": [
    {
     "output_type": "execute_result",
     "data": {
      "text/plain": [
       "                        Model  Score\n",
       "3               Random Forest  88.66\n",
       "8               Decision Tree  88.66\n",
       "9                         MLP  83.39\n",
       "0     Support Vector Machines  83.16\n",
       "1                         KNN  81.82\n",
       "5                  Perceptron  79.91\n",
       "6  Stochastic Gradient Decent  79.69\n",
       "7                  Linear SVC  79.01\n",
       "2         Logistic Regression  78.79\n",
       "4                 Naive Bayes  76.21"
      ],
      "text/html": "<div>\n<style scoped>\n    .dataframe tbody tr th:only-of-type {\n        vertical-align: middle;\n    }\n\n    .dataframe tbody tr th {\n        vertical-align: top;\n    }\n\n    .dataframe thead th {\n        text-align: right;\n    }\n</style>\n<table border=\"1\" class=\"dataframe\">\n  <thead>\n    <tr style=\"text-align: right;\">\n      <th></th>\n      <th>Model</th>\n      <th>Score</th>\n    </tr>\n  </thead>\n  <tbody>\n    <tr>\n      <th>3</th>\n      <td>Random Forest</td>\n      <td>88.66</td>\n    </tr>\n    <tr>\n      <th>8</th>\n      <td>Decision Tree</td>\n      <td>88.66</td>\n    </tr>\n    <tr>\n      <th>9</th>\n      <td>MLP</td>\n      <td>83.39</td>\n    </tr>\n    <tr>\n      <th>0</th>\n      <td>Support Vector Machines</td>\n      <td>83.16</td>\n    </tr>\n    <tr>\n      <th>1</th>\n      <td>KNN</td>\n      <td>81.82</td>\n    </tr>\n    <tr>\n      <th>5</th>\n      <td>Perceptron</td>\n      <td>79.91</td>\n    </tr>\n    <tr>\n      <th>6</th>\n      <td>Stochastic Gradient Decent</td>\n      <td>79.69</td>\n    </tr>\n    <tr>\n      <th>7</th>\n      <td>Linear SVC</td>\n      <td>79.01</td>\n    </tr>\n    <tr>\n      <th>2</th>\n      <td>Logistic Regression</td>\n      <td>78.79</td>\n    </tr>\n    <tr>\n      <th>4</th>\n      <td>Naive Bayes</td>\n      <td>76.21</td>\n    </tr>\n  </tbody>\n</table>\n</div>"
     },
     "metadata": {},
     "execution_count": 872
    }
   ],
   "source": [
    "    models = pd.DataFrame({'Model': ['Support Vector Machines', 'KNN', 'Logistic Regression', \n",
    "              'Random Forest', 'Naive Bayes', 'Perceptron', \n",
    "              'Stochastic Gradient Decent', 'Linear SVC', \n",
    "              'Decision Tree', 'MLP'],\n",
    "    'Score': [acc_svc, acc_knn, acc_log, \n",
    "              acc_random_forest, acc_gaussian, acc_perceptron, \n",
    "              acc_sgd, acc_linear_svc, acc_decision_tree, acc_MLP]})\n",
    "models.sort_values(by='Score', ascending=False)"
   ]
  },
  {
   "cell_type": "code",
   "execution_count": null,
   "metadata": {},
   "outputs": [],
   "source": []
  },
  {
   "cell_type": "code",
   "execution_count": 873,
   "metadata": {},
   "outputs": [],
   "source": [
    "submission = pd.DataFrame({\n",
    "        \"PassengerId\": pass_temp,\n",
    "        \"Survived\": Y_pred_r\n",
    "    })\n",
    "submission.to_csv('../out/submission.csv', index=False)"
   ]
  },
  {
   "cell_type": "code",
   "execution_count": null,
   "metadata": {},
   "outputs": [],
   "source": []
  }
 ]
}