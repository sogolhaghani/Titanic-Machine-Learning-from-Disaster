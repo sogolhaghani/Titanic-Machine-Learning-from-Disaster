{
 "metadata": {
  "language_info": {
   "codemirror_mode": {
    "name": "ipython",
    "version": 3
   },
   "file_extension": ".py",
   "mimetype": "text/x-python",
   "name": "python",
   "nbconvert_exporter": "python",
   "pygments_lexer": "ipython3",
   "version": "3.7.6-final"
  },
  "orig_nbformat": 2,
  "kernelspec": {
   "name": "python37364bitanaconda3virtualenv17c84ce56901433a85eef3c70d4c4b9d",
   "display_name": "Python 3.7.3 64-bit ('anaconda3': virtualenv)"
  }
 },
 "nbformat": 4,
 "nbformat_minor": 2,
 "cells": [
  {
   "source": [
    "# data analysis and wrangling\n"
   ],
   "cell_type": "markdown",
   "metadata": {}
  },
  {
   "source": [
    "## Imports"
   ],
   "cell_type": "markdown",
   "metadata": {}
  },
  {
   "source": [
    "import pandas as pd\n",
    "import numpy as np\n",
    "import random as rnd\n",
    "\n",
    "# visualization\n",
    "import seaborn as sns\n",
    "import matplotlib.pyplot as plt\n",
    "%matplotlib inline\n",
    "\n",
    "# preprocessing\n",
    "from sklearn import preprocessing\n",
    "\n",
    "# machine learning\n",
    "from sklearn.linear_model import LogisticRegression\n",
    "from sklearn.svm import SVC, LinearSVC\n",
    "from sklearn.ensemble import RandomForestClassifier\n",
    "from sklearn.neighbors import KNeighborsClassifier\n",
    "from sklearn.naive_bayes import GaussianNB\n",
    "from sklearn.linear_model import Perceptron\n",
    "from sklearn.linear_model import SGDClassifier\n",
    "from sklearn.tree import DecisionTreeClassifier\n",
    "from sklearn.neural_network import MLPClassifier\n",
    "\n",
    "from sklearn.metrics import accuracy_score\n"
   ],
   "cell_type": "code",
   "metadata": {},
   "execution_count": 58,
   "outputs": []
  },
  {
   "source": [
    "## Load Data"
   ],
   "cell_type": "markdown",
   "metadata": {}
  },
  {
   "cell_type": "code",
   "execution_count": 59,
   "metadata": {},
   "outputs": [
    {
     "output_type": "stream",
     "name": "stdout",
     "text": [
      "['PassengerId' 'Survived' 'Pclass' 'Name' 'Sex' 'Age' 'SibSp' 'Parch'\n 'Ticket' 'Fare' 'Cabin' 'Embarked']\n"
     ]
    }
   ],
   "source": [
    "train_df = pd.read_csv('../dataset/train.csv')\n",
    "test_df = pd.read_csv('../dataset/test.csv')\n",
    "result_df = pd.read_csv('../dataset/gender_submission.csv')\n",
    "combine = [train_df , test_df]\n",
    "print(train_df.columns.values)"
   ]
  },
  {
   "cell_type": "code",
   "execution_count": 60,
   "metadata": {},
   "outputs": [],
   "source": [
    "# for dataset in combine:\n",
    "#     dataset['Mu'] = 1\n",
    "#     dataset.loc[(dataset.Ticket.duplicated(keep= False)) , 'Mu'] = 0\n",
    "#     dataset['Mu'] = dataset['Mu'].astype(int)\n",
    "# train_df[['Mu', 'Survived']].groupby(['Mu'], as_index=False).mean()"
   ]
  },
  {
   "cell_type": "code",
   "execution_count": 61,
   "metadata": {},
   "outputs": [
    {
     "output_type": "stream",
     "name": "stdout",
     "text": [
      "Before (891, 12) (418, 11) (891, 12) (418, 11)\n"
     ]
    },
    {
     "output_type": "execute_result",
     "data": {
      "text/plain": [
       "('After', (891, 10), (418, 9), (891, 10), (418, 9))"
      ]
     },
     "metadata": {},
     "execution_count": 61
    }
   ],
   "source": [
    "print(\"Before\", train_df.shape, test_df.shape, combine[0].shape, combine[1].shape)\n",
    "\n",
    "train_df = train_df.drop(['Cabin', 'Ticket'], axis=1)\n",
    "test_df = test_df.drop([ 'Cabin', 'Ticket'], axis=1)\n",
    "combine = [train_df, test_df]\n",
    "\n",
    "\"After\", train_df.shape, test_df.shape, combine[0].shape, combine[1].shape"
   ]
  },
  {
   "cell_type": "code",
   "execution_count": 62,
   "metadata": {},
   "outputs": [
    {
     "output_type": "execute_result",
     "data": {
      "text/plain": [
       "Sex       female  male\n",
       "Title                 \n",
       "Capt           0     1\n",
       "Col            0     2\n",
       "Countess       1     0\n",
       "Don            0     1\n",
       "Dr             1     6\n",
       "Jonkheer       0     1\n",
       "Lady           1     0\n",
       "Major          0     2\n",
       "Master         0    40\n",
       "Miss         182     0\n",
       "Mlle           2     0\n",
       "Mme            1     0\n",
       "Mr             0   517\n",
       "Mrs          125     0\n",
       "Ms             1     0\n",
       "Rev            0     6\n",
       "Sir            0     1"
      ],
      "text/html": "<div>\n<style scoped>\n    .dataframe tbody tr th:only-of-type {\n        vertical-align: middle;\n    }\n\n    .dataframe tbody tr th {\n        vertical-align: top;\n    }\n\n    .dataframe thead th {\n        text-align: right;\n    }\n</style>\n<table border=\"1\" class=\"dataframe\">\n  <thead>\n    <tr style=\"text-align: right;\">\n      <th>Sex</th>\n      <th>female</th>\n      <th>male</th>\n    </tr>\n    <tr>\n      <th>Title</th>\n      <th></th>\n      <th></th>\n    </tr>\n  </thead>\n  <tbody>\n    <tr>\n      <th>Capt</th>\n      <td>0</td>\n      <td>1</td>\n    </tr>\n    <tr>\n      <th>Col</th>\n      <td>0</td>\n      <td>2</td>\n    </tr>\n    <tr>\n      <th>Countess</th>\n      <td>1</td>\n      <td>0</td>\n    </tr>\n    <tr>\n      <th>Don</th>\n      <td>0</td>\n      <td>1</td>\n    </tr>\n    <tr>\n      <th>Dr</th>\n      <td>1</td>\n      <td>6</td>\n    </tr>\n    <tr>\n      <th>Jonkheer</th>\n      <td>0</td>\n      <td>1</td>\n    </tr>\n    <tr>\n      <th>Lady</th>\n      <td>1</td>\n      <td>0</td>\n    </tr>\n    <tr>\n      <th>Major</th>\n      <td>0</td>\n      <td>2</td>\n    </tr>\n    <tr>\n      <th>Master</th>\n      <td>0</td>\n      <td>40</td>\n    </tr>\n    <tr>\n      <th>Miss</th>\n      <td>182</td>\n      <td>0</td>\n    </tr>\n    <tr>\n      <th>Mlle</th>\n      <td>2</td>\n      <td>0</td>\n    </tr>\n    <tr>\n      <th>Mme</th>\n      <td>1</td>\n      <td>0</td>\n    </tr>\n    <tr>\n      <th>Mr</th>\n      <td>0</td>\n      <td>517</td>\n    </tr>\n    <tr>\n      <th>Mrs</th>\n      <td>125</td>\n      <td>0</td>\n    </tr>\n    <tr>\n      <th>Ms</th>\n      <td>1</td>\n      <td>0</td>\n    </tr>\n    <tr>\n      <th>Rev</th>\n      <td>0</td>\n      <td>6</td>\n    </tr>\n    <tr>\n      <th>Sir</th>\n      <td>0</td>\n      <td>1</td>\n    </tr>\n  </tbody>\n</table>\n</div>"
     },
     "metadata": {},
     "execution_count": 62
    }
   ],
   "source": [
    "for dataset in combine:\n",
    "    dataset['Title'] = dataset.Name.str.extract(' ([A-Za-z]+)\\.', expand=False)\n",
    "    \n",
    "pd.crosstab(train_df['Title'], train_df['Sex'])"
   ]
  },
  {
   "cell_type": "code",
   "execution_count": 63,
   "metadata": {},
   "outputs": [
    {
     "output_type": "execute_result",
     "data": {
      "text/plain": [
       "    Title  Survived\n",
       "0  Master  0.575000\n",
       "1    Miss  0.705882\n",
       "2      Mr  0.159615\n",
       "3     Mrs  0.793651\n",
       "4    Rare  0.222222"
      ],
      "text/html": "<div>\n<style scoped>\n    .dataframe tbody tr th:only-of-type {\n        vertical-align: middle;\n    }\n\n    .dataframe tbody tr th {\n        vertical-align: top;\n    }\n\n    .dataframe thead th {\n        text-align: right;\n    }\n</style>\n<table border=\"1\" class=\"dataframe\">\n  <thead>\n    <tr style=\"text-align: right;\">\n      <th></th>\n      <th>Title</th>\n      <th>Survived</th>\n    </tr>\n  </thead>\n  <tbody>\n    <tr>\n      <th>0</th>\n      <td>Master</td>\n      <td>0.575000</td>\n    </tr>\n    <tr>\n      <th>1</th>\n      <td>Miss</td>\n      <td>0.705882</td>\n    </tr>\n    <tr>\n      <th>2</th>\n      <td>Mr</td>\n      <td>0.159615</td>\n    </tr>\n    <tr>\n      <th>3</th>\n      <td>Mrs</td>\n      <td>0.793651</td>\n    </tr>\n    <tr>\n      <th>4</th>\n      <td>Rare</td>\n      <td>0.222222</td>\n    </tr>\n  </tbody>\n</table>\n</div>"
     },
     "metadata": {},
     "execution_count": 63
    }
   ],
   "source": [
    "for dataset in combine:\n",
    "    dataset['Title'] = dataset['Title'].replace(['Mlle', 'Lady', 'Ms', 'Countess'], 'Miss')\n",
    "    dataset['Title'] = dataset['Title'].replace('Mme', 'Mrs')\n",
    "    dataset['Title'] = dataset['Title'].replace(['Sir', 'Major'], 'Mr')\n",
    "    dataset['Title'] = dataset['Title'].replace('^(?!.*(Miss|Mrs|Mr|Master)).*$', 'Rare',regex=True)\n",
    "    \n",
    "train_df[['Title', 'Survived']].groupby(['Title'], as_index=False).mean()"
   ]
  },
  {
   "cell_type": "code",
   "execution_count": 64,
   "metadata": {},
   "outputs": [
    {
     "output_type": "execute_result",
     "data": {
      "text/plain": [
       "   PassengerId  Survived  Pclass  \\\n",
       "0            1         0       3   \n",
       "1            2         1       1   \n",
       "2            3         1       3   \n",
       "3            4         1       1   \n",
       "4            5         0       3   \n",
       "\n",
       "                                                Name     Sex   Age  SibSp  \\\n",
       "0                            Braund, Mr. Owen Harris    male  22.0      1   \n",
       "1  Cumings, Mrs. John Bradley (Florence Briggs Th...  female  38.0      1   \n",
       "2                             Heikkinen, Miss. Laina  female  26.0      0   \n",
       "3       Futrelle, Mrs. Jacques Heath (Lily May Peel)  female  35.0      1   \n",
       "4                           Allen, Mr. William Henry    male  35.0      0   \n",
       "\n",
       "   Parch     Fare Embarked  Title  \n",
       "0      0   7.2500        S      1  \n",
       "1      0  71.2833        C      2  \n",
       "2      0   7.9250        S      4  \n",
       "3      0  53.1000        S      2  \n",
       "4      0   8.0500        S      1  "
      ],
      "text/html": "<div>\n<style scoped>\n    .dataframe tbody tr th:only-of-type {\n        vertical-align: middle;\n    }\n\n    .dataframe tbody tr th {\n        vertical-align: top;\n    }\n\n    .dataframe thead th {\n        text-align: right;\n    }\n</style>\n<table border=\"1\" class=\"dataframe\">\n  <thead>\n    <tr style=\"text-align: right;\">\n      <th></th>\n      <th>PassengerId</th>\n      <th>Survived</th>\n      <th>Pclass</th>\n      <th>Name</th>\n      <th>Sex</th>\n      <th>Age</th>\n      <th>SibSp</th>\n      <th>Parch</th>\n      <th>Fare</th>\n      <th>Embarked</th>\n      <th>Title</th>\n    </tr>\n  </thead>\n  <tbody>\n    <tr>\n      <th>0</th>\n      <td>1</td>\n      <td>0</td>\n      <td>3</td>\n      <td>Braund, Mr. Owen Harris</td>\n      <td>male</td>\n      <td>22.0</td>\n      <td>1</td>\n      <td>0</td>\n      <td>7.2500</td>\n      <td>S</td>\n      <td>1</td>\n    </tr>\n    <tr>\n      <th>1</th>\n      <td>2</td>\n      <td>1</td>\n      <td>1</td>\n      <td>Cumings, Mrs. John Bradley (Florence Briggs Th...</td>\n      <td>female</td>\n      <td>38.0</td>\n      <td>1</td>\n      <td>0</td>\n      <td>71.2833</td>\n      <td>C</td>\n      <td>2</td>\n    </tr>\n    <tr>\n      <th>2</th>\n      <td>3</td>\n      <td>1</td>\n      <td>3</td>\n      <td>Heikkinen, Miss. Laina</td>\n      <td>female</td>\n      <td>26.0</td>\n      <td>0</td>\n      <td>0</td>\n      <td>7.9250</td>\n      <td>S</td>\n      <td>4</td>\n    </tr>\n    <tr>\n      <th>3</th>\n      <td>4</td>\n      <td>1</td>\n      <td>1</td>\n      <td>Futrelle, Mrs. Jacques Heath (Lily May Peel)</td>\n      <td>female</td>\n      <td>35.0</td>\n      <td>1</td>\n      <td>0</td>\n      <td>53.1000</td>\n      <td>S</td>\n      <td>2</td>\n    </tr>\n    <tr>\n      <th>4</th>\n      <td>5</td>\n      <td>0</td>\n      <td>3</td>\n      <td>Allen, Mr. William Henry</td>\n      <td>male</td>\n      <td>35.0</td>\n      <td>0</td>\n      <td>0</td>\n      <td>8.0500</td>\n      <td>S</td>\n      <td>1</td>\n    </tr>\n  </tbody>\n</table>\n</div>"
     },
     "metadata": {},
     "execution_count": 64
    }
   ],
   "source": [
    "title_mapping = {\"Mr\": 1, \"Miss\": 4, \"Mrs\": 2, \"Master\": 3, \"Rare\": 0}\n",
    "for dataset in combine:\n",
    "    dataset['Title'] = dataset['Title'].map(title_mapping)\n",
    "    dataset['Title'] = dataset['Title'].fillna(0)\n",
    "\n",
    "train_df.head()"
   ]
  },
  {
   "cell_type": "code",
   "execution_count": 65,
   "metadata": {},
   "outputs": [
    {
     "output_type": "execute_result",
     "data": {
      "text/plain": [
       "((891, 9), (418, 9))"
      ]
     },
     "metadata": {},
     "execution_count": 65
    }
   ],
   "source": [
    "train_df = train_df.drop(['Name', 'PassengerId'], axis=1)\n",
    "test_df = test_df.drop(['Name'], axis=1)\n",
    "combine = [train_df, test_df]\n",
    "train_df.shape, test_df.shape"
   ]
  },
  {
   "cell_type": "code",
   "execution_count": 66,
   "metadata": {},
   "outputs": [
    {
     "output_type": "execute_result",
     "data": {
      "text/plain": [
       "   Survived  Pclass  Sex   Age  SibSp  Parch     Fare Embarked  Title\n",
       "0         0       3    0  22.0      1      0   7.2500        S      1\n",
       "1         1       1    1  38.0      1      0  71.2833        C      2\n",
       "2         1       3    1  26.0      0      0   7.9250        S      4\n",
       "3         1       1    1  35.0      1      0  53.1000        S      2\n",
       "4         0       3    0  35.0      0      0   8.0500        S      1"
      ],
      "text/html": "<div>\n<style scoped>\n    .dataframe tbody tr th:only-of-type {\n        vertical-align: middle;\n    }\n\n    .dataframe tbody tr th {\n        vertical-align: top;\n    }\n\n    .dataframe thead th {\n        text-align: right;\n    }\n</style>\n<table border=\"1\" class=\"dataframe\">\n  <thead>\n    <tr style=\"text-align: right;\">\n      <th></th>\n      <th>Survived</th>\n      <th>Pclass</th>\n      <th>Sex</th>\n      <th>Age</th>\n      <th>SibSp</th>\n      <th>Parch</th>\n      <th>Fare</th>\n      <th>Embarked</th>\n      <th>Title</th>\n    </tr>\n  </thead>\n  <tbody>\n    <tr>\n      <th>0</th>\n      <td>0</td>\n      <td>3</td>\n      <td>0</td>\n      <td>22.0</td>\n      <td>1</td>\n      <td>0</td>\n      <td>7.2500</td>\n      <td>S</td>\n      <td>1</td>\n    </tr>\n    <tr>\n      <th>1</th>\n      <td>1</td>\n      <td>1</td>\n      <td>1</td>\n      <td>38.0</td>\n      <td>1</td>\n      <td>0</td>\n      <td>71.2833</td>\n      <td>C</td>\n      <td>2</td>\n    </tr>\n    <tr>\n      <th>2</th>\n      <td>1</td>\n      <td>3</td>\n      <td>1</td>\n      <td>26.0</td>\n      <td>0</td>\n      <td>0</td>\n      <td>7.9250</td>\n      <td>S</td>\n      <td>4</td>\n    </tr>\n    <tr>\n      <th>3</th>\n      <td>1</td>\n      <td>1</td>\n      <td>1</td>\n      <td>35.0</td>\n      <td>1</td>\n      <td>0</td>\n      <td>53.1000</td>\n      <td>S</td>\n      <td>2</td>\n    </tr>\n    <tr>\n      <th>4</th>\n      <td>0</td>\n      <td>3</td>\n      <td>0</td>\n      <td>35.0</td>\n      <td>0</td>\n      <td>0</td>\n      <td>8.0500</td>\n      <td>S</td>\n      <td>1</td>\n    </tr>\n  </tbody>\n</table>\n</div>"
     },
     "metadata": {},
     "execution_count": 66
    }
   ],
   "source": [
    "for dataset in combine:\n",
    "    dataset['Sex'] = dataset['Sex'].map( {'female': 1, 'male': 0} ).astype(int)\n",
    "\n",
    "train_df.head()"
   ]
  },
  {
   "source": [
    "## Completing a numerical continuous feature¶\n"
   ],
   "cell_type": "markdown",
   "metadata": {}
  },
  {
   "cell_type": "code",
   "execution_count": 67,
   "metadata": {},
   "outputs": [
    {
     "output_type": "execute_result",
     "data": {
      "text/plain": [
       "array([[0., 0., 0., 0., 0.],\n",
       "       [0., 0., 0., 0., 0.]])"
      ]
     },
     "metadata": {},
     "execution_count": 67
    }
   ],
   "source": [
    "guess_ages = np.zeros((2,5))\n",
    "guess_ages"
   ]
  },
  {
   "cell_type": "code",
   "execution_count": 68,
   "metadata": {},
   "outputs": [
    {
     "output_type": "execute_result",
     "data": {
      "text/plain": [
       "   Survived  Pclass  Sex  Age  SibSp  Parch     Fare Embarked  Title\n",
       "0         0       3    0   22      1      0   7.2500        S      1\n",
       "1         1       1    1   38      1      0  71.2833        C      2\n",
       "2         1       3    1   26      0      0   7.9250        S      4\n",
       "3         1       1    1   35      1      0  53.1000        S      2\n",
       "4         0       3    0   35      0      0   8.0500        S      1"
      ],
      "text/html": "<div>\n<style scoped>\n    .dataframe tbody tr th:only-of-type {\n        vertical-align: middle;\n    }\n\n    .dataframe tbody tr th {\n        vertical-align: top;\n    }\n\n    .dataframe thead th {\n        text-align: right;\n    }\n</style>\n<table border=\"1\" class=\"dataframe\">\n  <thead>\n    <tr style=\"text-align: right;\">\n      <th></th>\n      <th>Survived</th>\n      <th>Pclass</th>\n      <th>Sex</th>\n      <th>Age</th>\n      <th>SibSp</th>\n      <th>Parch</th>\n      <th>Fare</th>\n      <th>Embarked</th>\n      <th>Title</th>\n    </tr>\n  </thead>\n  <tbody>\n    <tr>\n      <th>0</th>\n      <td>0</td>\n      <td>3</td>\n      <td>0</td>\n      <td>22</td>\n      <td>1</td>\n      <td>0</td>\n      <td>7.2500</td>\n      <td>S</td>\n      <td>1</td>\n    </tr>\n    <tr>\n      <th>1</th>\n      <td>1</td>\n      <td>1</td>\n      <td>1</td>\n      <td>38</td>\n      <td>1</td>\n      <td>0</td>\n      <td>71.2833</td>\n      <td>C</td>\n      <td>2</td>\n    </tr>\n    <tr>\n      <th>2</th>\n      <td>1</td>\n      <td>3</td>\n      <td>1</td>\n      <td>26</td>\n      <td>0</td>\n      <td>0</td>\n      <td>7.9250</td>\n      <td>S</td>\n      <td>4</td>\n    </tr>\n    <tr>\n      <th>3</th>\n      <td>1</td>\n      <td>1</td>\n      <td>1</td>\n      <td>35</td>\n      <td>1</td>\n      <td>0</td>\n      <td>53.1000</td>\n      <td>S</td>\n      <td>2</td>\n    </tr>\n    <tr>\n      <th>4</th>\n      <td>0</td>\n      <td>3</td>\n      <td>0</td>\n      <td>35</td>\n      <td>0</td>\n      <td>0</td>\n      <td>8.0500</td>\n      <td>S</td>\n      <td>1</td>\n    </tr>\n  </tbody>\n</table>\n</div>"
     },
     "metadata": {},
     "execution_count": 68
    }
   ],
   "source": [
    "for dataset in combine:\n",
    "    for i in range(0,2):\n",
    "        for j in range(0,5):\n",
    "            guss_df = dataset[(dataset['Sex'] == i) & (dataset['Title'] == j +1)]['Age'].dropna()\n",
    "            guss_age = guss_df.median()\n",
    "            if guss_age != guss_age:\n",
    "                guss_age = -5 #dataset[(dataset['Sex'] == i)]['Age'].dropna().median()\n",
    "            guess_ages[i,j] = int(guss_age/0.5 + 0.5) * 0.5\n",
    "    for i in range(0,2):\n",
    "        for j in range(0,5):\n",
    "            dataset.loc[(dataset.Age.isnull()) & (dataset.Sex == i ) & ( dataset.Title == j+1), 'Age'] = guess_ages[i,j]\n",
    "    \n",
    "    dataset.loc[(dataset.Age.isnull()), 'Age'] = dataset[(dataset['Sex'] == i)]['Age'].dropna().median()           \n",
    "    dataset['Age'] = dataset['Age'].astype(int)\n",
    "train_df.head()"
   ]
  },
  {
   "cell_type": "code",
   "execution_count": 69,
   "metadata": {},
   "outputs": [
    {
     "output_type": "execute_result",
     "data": {
      "text/plain": [
       "         AgeBand  Survived\n",
       "0  (-0.08, 16.0]  0.548077\n",
       "1   (16.0, 32.0]  0.327381\n",
       "2   (32.0, 48.0]  0.438424\n",
       "3   (48.0, 64.0]  0.434783\n",
       "4   (64.0, 80.0]  0.090909"
      ],
      "text/html": "<div>\n<style scoped>\n    .dataframe tbody tr th:only-of-type {\n        vertical-align: middle;\n    }\n\n    .dataframe tbody tr th {\n        vertical-align: top;\n    }\n\n    .dataframe thead th {\n        text-align: right;\n    }\n</style>\n<table border=\"1\" class=\"dataframe\">\n  <thead>\n    <tr style=\"text-align: right;\">\n      <th></th>\n      <th>AgeBand</th>\n      <th>Survived</th>\n    </tr>\n  </thead>\n  <tbody>\n    <tr>\n      <th>0</th>\n      <td>(-0.08, 16.0]</td>\n      <td>0.548077</td>\n    </tr>\n    <tr>\n      <th>1</th>\n      <td>(16.0, 32.0]</td>\n      <td>0.327381</td>\n    </tr>\n    <tr>\n      <th>2</th>\n      <td>(32.0, 48.0]</td>\n      <td>0.438424</td>\n    </tr>\n    <tr>\n      <th>3</th>\n      <td>(48.0, 64.0]</td>\n      <td>0.434783</td>\n    </tr>\n    <tr>\n      <th>4</th>\n      <td>(64.0, 80.0]</td>\n      <td>0.090909</td>\n    </tr>\n  </tbody>\n</table>\n</div>"
     },
     "metadata": {},
     "execution_count": 69
    }
   ],
   "source": [
    "train_df['AgeBand'] = pd.cut(train_df['Age'], 5)\n",
    "train_df[['AgeBand', 'Survived']].groupby(['AgeBand'], as_index=False).mean().sort_values(by='AgeBand', ascending=True)"
   ]
  },
  {
   "cell_type": "code",
   "execution_count": 70,
   "metadata": {},
   "outputs": [
    {
     "output_type": "execute_result",
     "data": {
      "text/plain": [
       "   Survived  Pclass  Sex  Age  SibSp  Parch     Fare Embarked  Title  \\\n",
       "0         0       3    0    3      1      0   7.2500        S      1   \n",
       "1         1       1    1    2      1      0  71.2833        C      2   \n",
       "2         1       3    1    3      0      0   7.9250        S      4   \n",
       "3         1       1    1    2      1      0  53.1000        S      2   \n",
       "4         0       3    0    2      0      0   8.0500        S      1   \n",
       "\n",
       "        AgeBand  \n",
       "0  (16.0, 32.0]  \n",
       "1  (32.0, 48.0]  \n",
       "2  (16.0, 32.0]  \n",
       "3  (32.0, 48.0]  \n",
       "4  (32.0, 48.0]  "
      ],
      "text/html": "<div>\n<style scoped>\n    .dataframe tbody tr th:only-of-type {\n        vertical-align: middle;\n    }\n\n    .dataframe tbody tr th {\n        vertical-align: top;\n    }\n\n    .dataframe thead th {\n        text-align: right;\n    }\n</style>\n<table border=\"1\" class=\"dataframe\">\n  <thead>\n    <tr style=\"text-align: right;\">\n      <th></th>\n      <th>Survived</th>\n      <th>Pclass</th>\n      <th>Sex</th>\n      <th>Age</th>\n      <th>SibSp</th>\n      <th>Parch</th>\n      <th>Fare</th>\n      <th>Embarked</th>\n      <th>Title</th>\n      <th>AgeBand</th>\n    </tr>\n  </thead>\n  <tbody>\n    <tr>\n      <th>0</th>\n      <td>0</td>\n      <td>3</td>\n      <td>0</td>\n      <td>3</td>\n      <td>1</td>\n      <td>0</td>\n      <td>7.2500</td>\n      <td>S</td>\n      <td>1</td>\n      <td>(16.0, 32.0]</td>\n    </tr>\n    <tr>\n      <th>1</th>\n      <td>1</td>\n      <td>1</td>\n      <td>1</td>\n      <td>2</td>\n      <td>1</td>\n      <td>0</td>\n      <td>71.2833</td>\n      <td>C</td>\n      <td>2</td>\n      <td>(32.0, 48.0]</td>\n    </tr>\n    <tr>\n      <th>2</th>\n      <td>1</td>\n      <td>3</td>\n      <td>1</td>\n      <td>3</td>\n      <td>0</td>\n      <td>0</td>\n      <td>7.9250</td>\n      <td>S</td>\n      <td>4</td>\n      <td>(16.0, 32.0]</td>\n    </tr>\n    <tr>\n      <th>3</th>\n      <td>1</td>\n      <td>1</td>\n      <td>1</td>\n      <td>2</td>\n      <td>1</td>\n      <td>0</td>\n      <td>53.1000</td>\n      <td>S</td>\n      <td>2</td>\n      <td>(32.0, 48.0]</td>\n    </tr>\n    <tr>\n      <th>4</th>\n      <td>0</td>\n      <td>3</td>\n      <td>0</td>\n      <td>2</td>\n      <td>0</td>\n      <td>0</td>\n      <td>8.0500</td>\n      <td>S</td>\n      <td>1</td>\n      <td>(32.0, 48.0]</td>\n    </tr>\n  </tbody>\n</table>\n</div>"
     },
     "metadata": {},
     "execution_count": 70
    }
   ],
   "source": [
    "for dataset in combine:    \n",
    "    dataset.loc[ dataset['Age'] <= 16, 'Age'] = 4\n",
    "    dataset.loc[(dataset['Age'] > 16) & (dataset['Age'] <= 32), 'Age'] = 3\n",
    "    dataset.loc[(dataset['Age'] > 32) & (dataset['Age'] <= 48), 'Age'] = 2\n",
    "    dataset.loc[(dataset['Age'] > 48) & (dataset['Age'] <= 64), 'Age'] = 1\n",
    "    dataset.loc[ dataset['Age'] > 64, 'Age'] = 0\n",
    "train_df.head()"
   ]
  },
  {
   "cell_type": "code",
   "execution_count": 71,
   "metadata": {},
   "outputs": [
    {
     "output_type": "execute_result",
     "data": {
      "text/plain": [
       "   Survived  Pclass  Sex  Age  SibSp  Parch     Fare Embarked  Title\n",
       "0         0       3    0    3      1      0   7.2500        S      1\n",
       "1         1       1    1    2      1      0  71.2833        C      2\n",
       "2         1       3    1    3      0      0   7.9250        S      4\n",
       "3         1       1    1    2      1      0  53.1000        S      2\n",
       "4         0       3    0    2      0      0   8.0500        S      1"
      ],
      "text/html": "<div>\n<style scoped>\n    .dataframe tbody tr th:only-of-type {\n        vertical-align: middle;\n    }\n\n    .dataframe tbody tr th {\n        vertical-align: top;\n    }\n\n    .dataframe thead th {\n        text-align: right;\n    }\n</style>\n<table border=\"1\" class=\"dataframe\">\n  <thead>\n    <tr style=\"text-align: right;\">\n      <th></th>\n      <th>Survived</th>\n      <th>Pclass</th>\n      <th>Sex</th>\n      <th>Age</th>\n      <th>SibSp</th>\n      <th>Parch</th>\n      <th>Fare</th>\n      <th>Embarked</th>\n      <th>Title</th>\n    </tr>\n  </thead>\n  <tbody>\n    <tr>\n      <th>0</th>\n      <td>0</td>\n      <td>3</td>\n      <td>0</td>\n      <td>3</td>\n      <td>1</td>\n      <td>0</td>\n      <td>7.2500</td>\n      <td>S</td>\n      <td>1</td>\n    </tr>\n    <tr>\n      <th>1</th>\n      <td>1</td>\n      <td>1</td>\n      <td>1</td>\n      <td>2</td>\n      <td>1</td>\n      <td>0</td>\n      <td>71.2833</td>\n      <td>C</td>\n      <td>2</td>\n    </tr>\n    <tr>\n      <th>2</th>\n      <td>1</td>\n      <td>3</td>\n      <td>1</td>\n      <td>3</td>\n      <td>0</td>\n      <td>0</td>\n      <td>7.9250</td>\n      <td>S</td>\n      <td>4</td>\n    </tr>\n    <tr>\n      <th>3</th>\n      <td>1</td>\n      <td>1</td>\n      <td>1</td>\n      <td>2</td>\n      <td>1</td>\n      <td>0</td>\n      <td>53.1000</td>\n      <td>S</td>\n      <td>2</td>\n    </tr>\n    <tr>\n      <th>4</th>\n      <td>0</td>\n      <td>3</td>\n      <td>0</td>\n      <td>2</td>\n      <td>0</td>\n      <td>0</td>\n      <td>8.0500</td>\n      <td>S</td>\n      <td>1</td>\n    </tr>\n  </tbody>\n</table>\n</div>"
     },
     "metadata": {},
     "execution_count": 71
    }
   ],
   "source": [
    "train_df = train_df.drop(['AgeBand'], axis=1)\n",
    "combine = [train_df, test_df]\n",
    "train_df.head()"
   ]
  },
  {
   "cell_type": "code",
   "execution_count": 72,
   "metadata": {},
   "outputs": [
    {
     "output_type": "execute_result",
     "data": {
      "text/plain": [
       "   FamilySize  Survived\n",
       "3           3  0.724138\n",
       "2           2  0.578431\n",
       "1           1  0.552795\n",
       "6           6  0.333333\n",
       "0           0  0.303538\n",
       "4           4  0.200000\n",
       "5           5  0.136364\n",
       "7           7  0.000000\n",
       "8          10  0.000000"
      ],
      "text/html": "<div>\n<style scoped>\n    .dataframe tbody tr th:only-of-type {\n        vertical-align: middle;\n    }\n\n    .dataframe tbody tr th {\n        vertical-align: top;\n    }\n\n    .dataframe thead th {\n        text-align: right;\n    }\n</style>\n<table border=\"1\" class=\"dataframe\">\n  <thead>\n    <tr style=\"text-align: right;\">\n      <th></th>\n      <th>FamilySize</th>\n      <th>Survived</th>\n    </tr>\n  </thead>\n  <tbody>\n    <tr>\n      <th>3</th>\n      <td>3</td>\n      <td>0.724138</td>\n    </tr>\n    <tr>\n      <th>2</th>\n      <td>2</td>\n      <td>0.578431</td>\n    </tr>\n    <tr>\n      <th>1</th>\n      <td>1</td>\n      <td>0.552795</td>\n    </tr>\n    <tr>\n      <th>6</th>\n      <td>6</td>\n      <td>0.333333</td>\n    </tr>\n    <tr>\n      <th>0</th>\n      <td>0</td>\n      <td>0.303538</td>\n    </tr>\n    <tr>\n      <th>4</th>\n      <td>4</td>\n      <td>0.200000</td>\n    </tr>\n    <tr>\n      <th>5</th>\n      <td>5</td>\n      <td>0.136364</td>\n    </tr>\n    <tr>\n      <th>7</th>\n      <td>7</td>\n      <td>0.000000</td>\n    </tr>\n    <tr>\n      <th>8</th>\n      <td>10</td>\n      <td>0.000000</td>\n    </tr>\n  </tbody>\n</table>\n</div>"
     },
     "metadata": {},
     "execution_count": 72
    }
   ],
   "source": [
    "for dataset in combine:\n",
    "    dataset['FamilySize'] = dataset['SibSp'] + dataset['Parch']\n",
    "\n",
    "train_df[['FamilySize', 'Survived']].groupby(['FamilySize'], as_index=False).mean().sort_values(by='Survived', ascending=False)"
   ]
  },
  {
   "cell_type": "code",
   "execution_count": 73,
   "metadata": {},
   "outputs": [],
   "source": [
    "# for dataset in combine:\n",
    "#     dataset['IsAlone'] = 0\n",
    "#     dataset.loc[dataset['FamilySize'] == 1, 'IsAlone'] = 1\n",
    "\n",
    "# train_df[['IsAlone', 'Survived']].groupby(['IsAlone'], as_index=False).mean()"
   ]
  },
  {
   "cell_type": "code",
   "execution_count": 74,
   "metadata": {},
   "outputs": [],
   "source": [
    "# for dataset in combine:\n",
    "#     dataset['IsAlone'] = 0\n",
    "#     dataset.loc[dataset['FamilySize'] == 1, 'IsAlone'] = 1\n",
    "\n",
    "# train_df[['IsAlone', 'Survived']].groupby(['IsAlone'], as_index=False).mean()\n"
   ]
  },
  {
   "cell_type": "code",
   "execution_count": 75,
   "metadata": {},
   "outputs": [
    {
     "output_type": "execute_result",
     "data": {
      "text/plain": [
       "   Survived  Pclass  Sex  Age     Fare Embarked  Title  FamilySize\n",
       "0         0       3    0    3   7.2500        S      1           1\n",
       "1         1       1    1    2  71.2833        C      2           1\n",
       "2         1       3    1    3   7.9250        S      4           0\n",
       "3         1       1    1    2  53.1000        S      2           1\n",
       "4         0       3    0    2   8.0500        S      1           0"
      ],
      "text/html": "<div>\n<style scoped>\n    .dataframe tbody tr th:only-of-type {\n        vertical-align: middle;\n    }\n\n    .dataframe tbody tr th {\n        vertical-align: top;\n    }\n\n    .dataframe thead th {\n        text-align: right;\n    }\n</style>\n<table border=\"1\" class=\"dataframe\">\n  <thead>\n    <tr style=\"text-align: right;\">\n      <th></th>\n      <th>Survived</th>\n      <th>Pclass</th>\n      <th>Sex</th>\n      <th>Age</th>\n      <th>Fare</th>\n      <th>Embarked</th>\n      <th>Title</th>\n      <th>FamilySize</th>\n    </tr>\n  </thead>\n  <tbody>\n    <tr>\n      <th>0</th>\n      <td>0</td>\n      <td>3</td>\n      <td>0</td>\n      <td>3</td>\n      <td>7.2500</td>\n      <td>S</td>\n      <td>1</td>\n      <td>1</td>\n    </tr>\n    <tr>\n      <th>1</th>\n      <td>1</td>\n      <td>1</td>\n      <td>1</td>\n      <td>2</td>\n      <td>71.2833</td>\n      <td>C</td>\n      <td>2</td>\n      <td>1</td>\n    </tr>\n    <tr>\n      <th>2</th>\n      <td>1</td>\n      <td>3</td>\n      <td>1</td>\n      <td>3</td>\n      <td>7.9250</td>\n      <td>S</td>\n      <td>4</td>\n      <td>0</td>\n    </tr>\n    <tr>\n      <th>3</th>\n      <td>1</td>\n      <td>1</td>\n      <td>1</td>\n      <td>2</td>\n      <td>53.1000</td>\n      <td>S</td>\n      <td>2</td>\n      <td>1</td>\n    </tr>\n    <tr>\n      <th>4</th>\n      <td>0</td>\n      <td>3</td>\n      <td>0</td>\n      <td>2</td>\n      <td>8.0500</td>\n      <td>S</td>\n      <td>1</td>\n      <td>0</td>\n    </tr>\n  </tbody>\n</table>\n</div>"
     },
     "metadata": {},
     "execution_count": 75
    }
   ],
   "source": [
    "train_df = train_df.drop(['Parch', 'SibSp'], axis=1)\n",
    "test_df = test_df.drop(['Parch', 'SibSp'], axis=1)\n",
    "combine = [train_df, test_df]\n",
    "\n",
    "train_df.head()\n",
    "\n",
    "# train_df = train_df.drop([ 'FamilySize'], axis=1)\n",
    "# test_df = test_df.drop([ 'FamilySize'], axis=1)\n",
    "# combine = [train_df, test_df]\n",
    "\n",
    "# train_df.head()"
   ]
  },
  {
   "cell_type": "code",
   "execution_count": 76,
   "metadata": {},
   "outputs": [],
   "source": [
    "# for dataset in combine:\n",
    "#     dataset['Age*Class'] = dataset.Age * dataset.Pclass\n",
    "\n",
    "# train_df.loc[:, ['Age*Class', 'Age', 'Pclass']].head(10)"
   ]
  },
  {
   "cell_type": "code",
   "execution_count": 77,
   "metadata": {},
   "outputs": [
    {
     "output_type": "execute_result",
     "data": {
      "text/plain": [
       "'S'"
      ]
     },
     "metadata": {},
     "execution_count": 77
    }
   ],
   "source": [
    "freq_port = train_df.Embarked.dropna().mode()[0]\n",
    "freq_port"
   ]
  },
  {
   "cell_type": "code",
   "execution_count": 78,
   "metadata": {},
   "outputs": [
    {
     "output_type": "execute_result",
     "data": {
      "text/plain": [
       "  Embarked  Survived\n",
       "0        C  0.553571\n",
       "1        Q  0.389610\n",
       "2        S  0.339009"
      ],
      "text/html": "<div>\n<style scoped>\n    .dataframe tbody tr th:only-of-type {\n        vertical-align: middle;\n    }\n\n    .dataframe tbody tr th {\n        vertical-align: top;\n    }\n\n    .dataframe thead th {\n        text-align: right;\n    }\n</style>\n<table border=\"1\" class=\"dataframe\">\n  <thead>\n    <tr style=\"text-align: right;\">\n      <th></th>\n      <th>Embarked</th>\n      <th>Survived</th>\n    </tr>\n  </thead>\n  <tbody>\n    <tr>\n      <th>0</th>\n      <td>C</td>\n      <td>0.553571</td>\n    </tr>\n    <tr>\n      <th>1</th>\n      <td>Q</td>\n      <td>0.389610</td>\n    </tr>\n    <tr>\n      <th>2</th>\n      <td>S</td>\n      <td>0.339009</td>\n    </tr>\n  </tbody>\n</table>\n</div>"
     },
     "metadata": {},
     "execution_count": 78
    }
   ],
   "source": [
    "for dataset in combine:\n",
    "    dataset['Embarked'] = dataset['Embarked'].fillna(freq_port)\n",
    "    \n",
    "train_df[['Embarked', 'Survived']].groupby(['Embarked'], as_index=False).mean().sort_values(by='Survived', ascending=False)"
   ]
  },
  {
   "cell_type": "code",
   "execution_count": 79,
   "metadata": {},
   "outputs": [
    {
     "output_type": "execute_result",
     "data": {
      "text/plain": [
       "   Survived  Pclass  Sex  Age     Fare  Embarked  Title  FamilySize\n",
       "0         0       3    0    3   7.2500         0      1           1\n",
       "1         1       1    1    2  71.2833         2      2           1\n",
       "2         1       3    1    3   7.9250         0      4           0\n",
       "3         1       1    1    2  53.1000         0      2           1\n",
       "4         0       3    0    2   8.0500         0      1           0"
      ],
      "text/html": "<div>\n<style scoped>\n    .dataframe tbody tr th:only-of-type {\n        vertical-align: middle;\n    }\n\n    .dataframe tbody tr th {\n        vertical-align: top;\n    }\n\n    .dataframe thead th {\n        text-align: right;\n    }\n</style>\n<table border=\"1\" class=\"dataframe\">\n  <thead>\n    <tr style=\"text-align: right;\">\n      <th></th>\n      <th>Survived</th>\n      <th>Pclass</th>\n      <th>Sex</th>\n      <th>Age</th>\n      <th>Fare</th>\n      <th>Embarked</th>\n      <th>Title</th>\n      <th>FamilySize</th>\n    </tr>\n  </thead>\n  <tbody>\n    <tr>\n      <th>0</th>\n      <td>0</td>\n      <td>3</td>\n      <td>0</td>\n      <td>3</td>\n      <td>7.2500</td>\n      <td>0</td>\n      <td>1</td>\n      <td>1</td>\n    </tr>\n    <tr>\n      <th>1</th>\n      <td>1</td>\n      <td>1</td>\n      <td>1</td>\n      <td>2</td>\n      <td>71.2833</td>\n      <td>2</td>\n      <td>2</td>\n      <td>1</td>\n    </tr>\n    <tr>\n      <th>2</th>\n      <td>1</td>\n      <td>3</td>\n      <td>1</td>\n      <td>3</td>\n      <td>7.9250</td>\n      <td>0</td>\n      <td>4</td>\n      <td>0</td>\n    </tr>\n    <tr>\n      <th>3</th>\n      <td>1</td>\n      <td>1</td>\n      <td>1</td>\n      <td>2</td>\n      <td>53.1000</td>\n      <td>0</td>\n      <td>2</td>\n      <td>1</td>\n    </tr>\n    <tr>\n      <th>4</th>\n      <td>0</td>\n      <td>3</td>\n      <td>0</td>\n      <td>2</td>\n      <td>8.0500</td>\n      <td>0</td>\n      <td>1</td>\n      <td>0</td>\n    </tr>\n  </tbody>\n</table>\n</div>"
     },
     "metadata": {},
     "execution_count": 79
    }
   ],
   "source": [
    "for dataset in combine:\n",
    "    dataset['Embarked'] = dataset['Embarked'].map( {'S': 0, 'C': 2, 'Q': 1} ).astype(int)\n",
    "\n",
    "train_df.head()"
   ]
  },
  {
   "cell_type": "code",
   "execution_count": 80,
   "metadata": {},
   "outputs": [
    {
     "output_type": "execute_result",
     "data": {
      "text/plain": [
       "   Pclass  Survived\n",
       "0       1  0.629630\n",
       "1       2  0.472826\n",
       "2       3  0.242363"
      ],
      "text/html": "<div>\n<style scoped>\n    .dataframe tbody tr th:only-of-type {\n        vertical-align: middle;\n    }\n\n    .dataframe tbody tr th {\n        vertical-align: top;\n    }\n\n    .dataframe thead th {\n        text-align: right;\n    }\n</style>\n<table border=\"1\" class=\"dataframe\">\n  <thead>\n    <tr style=\"text-align: right;\">\n      <th></th>\n      <th>Pclass</th>\n      <th>Survived</th>\n    </tr>\n  </thead>\n  <tbody>\n    <tr>\n      <th>0</th>\n      <td>1</td>\n      <td>0.629630</td>\n    </tr>\n    <tr>\n      <th>1</th>\n      <td>2</td>\n      <td>0.472826</td>\n    </tr>\n    <tr>\n      <th>2</th>\n      <td>3</td>\n      <td>0.242363</td>\n    </tr>\n  </tbody>\n</table>\n</div>"
     },
     "metadata": {},
     "execution_count": 80
    }
   ],
   "source": [
    "for dataset in combine:\n",
    "    dataset['Pclass'] = dataset['Pclass'].fillna(freq_port)\n",
    "    \n",
    "train_df[['Pclass', 'Survived']].groupby(['Pclass'], as_index=False).mean().sort_values(by='Survived', ascending=False)"
   ]
  },
  {
   "cell_type": "code",
   "execution_count": 81,
   "metadata": {},
   "outputs": [
    {
     "output_type": "execute_result",
     "data": {
      "text/plain": [
       "   Survived  Pclass  Sex  Age     Fare  Embarked  Title  FamilySize\n",
       "0         0       0    0    3   7.2500         0      1           1\n",
       "1         1       2    1    2  71.2833         2      2           1\n",
       "2         1       0    1    3   7.9250         0      4           0\n",
       "3         1       2    1    2  53.1000         0      2           1\n",
       "4         0       0    0    2   8.0500         0      1           0"
      ],
      "text/html": "<div>\n<style scoped>\n    .dataframe tbody tr th:only-of-type {\n        vertical-align: middle;\n    }\n\n    .dataframe tbody tr th {\n        vertical-align: top;\n    }\n\n    .dataframe thead th {\n        text-align: right;\n    }\n</style>\n<table border=\"1\" class=\"dataframe\">\n  <thead>\n    <tr style=\"text-align: right;\">\n      <th></th>\n      <th>Survived</th>\n      <th>Pclass</th>\n      <th>Sex</th>\n      <th>Age</th>\n      <th>Fare</th>\n      <th>Embarked</th>\n      <th>Title</th>\n      <th>FamilySize</th>\n    </tr>\n  </thead>\n  <tbody>\n    <tr>\n      <th>0</th>\n      <td>0</td>\n      <td>0</td>\n      <td>0</td>\n      <td>3</td>\n      <td>7.2500</td>\n      <td>0</td>\n      <td>1</td>\n      <td>1</td>\n    </tr>\n    <tr>\n      <th>1</th>\n      <td>1</td>\n      <td>2</td>\n      <td>1</td>\n      <td>2</td>\n      <td>71.2833</td>\n      <td>2</td>\n      <td>2</td>\n      <td>1</td>\n    </tr>\n    <tr>\n      <th>2</th>\n      <td>1</td>\n      <td>0</td>\n      <td>1</td>\n      <td>3</td>\n      <td>7.9250</td>\n      <td>0</td>\n      <td>4</td>\n      <td>0</td>\n    </tr>\n    <tr>\n      <th>3</th>\n      <td>1</td>\n      <td>2</td>\n      <td>1</td>\n      <td>2</td>\n      <td>53.1000</td>\n      <td>0</td>\n      <td>2</td>\n      <td>1</td>\n    </tr>\n    <tr>\n      <th>4</th>\n      <td>0</td>\n      <td>0</td>\n      <td>0</td>\n      <td>2</td>\n      <td>8.0500</td>\n      <td>0</td>\n      <td>1</td>\n      <td>0</td>\n    </tr>\n  </tbody>\n</table>\n</div>"
     },
     "metadata": {},
     "execution_count": 81
    }
   ],
   "source": [
    "for dataset in combine:\n",
    "    dataset['Pclass'] = dataset['Pclass'].map( {3: 0, 2: 1, 1: 2} ).astype(int)\n",
    "\n",
    "train_df.head()"
   ]
  },
  {
   "cell_type": "code",
   "execution_count": 82,
   "metadata": {},
   "outputs": [
    {
     "output_type": "execute_result",
     "data": {
      "text/plain": [
       "   PassengerId  Pclass  Sex  Age     Fare  Embarked  Title  FamilySize\n",
       "0          892       0    0    2   7.8292         1      1           0\n",
       "1          893       0    1    2   7.0000         0      2           1\n",
       "2          894       1    0    1   9.6875         1      1           0\n",
       "3          895       0    0    3   8.6625         0      1           0\n",
       "4          896       0    1    3  12.2875         0      2           2"
      ],
      "text/html": "<div>\n<style scoped>\n    .dataframe tbody tr th:only-of-type {\n        vertical-align: middle;\n    }\n\n    .dataframe tbody tr th {\n        vertical-align: top;\n    }\n\n    .dataframe thead th {\n        text-align: right;\n    }\n</style>\n<table border=\"1\" class=\"dataframe\">\n  <thead>\n    <tr style=\"text-align: right;\">\n      <th></th>\n      <th>PassengerId</th>\n      <th>Pclass</th>\n      <th>Sex</th>\n      <th>Age</th>\n      <th>Fare</th>\n      <th>Embarked</th>\n      <th>Title</th>\n      <th>FamilySize</th>\n    </tr>\n  </thead>\n  <tbody>\n    <tr>\n      <th>0</th>\n      <td>892</td>\n      <td>0</td>\n      <td>0</td>\n      <td>2</td>\n      <td>7.8292</td>\n      <td>1</td>\n      <td>1</td>\n      <td>0</td>\n    </tr>\n    <tr>\n      <th>1</th>\n      <td>893</td>\n      <td>0</td>\n      <td>1</td>\n      <td>2</td>\n      <td>7.0000</td>\n      <td>0</td>\n      <td>2</td>\n      <td>1</td>\n    </tr>\n    <tr>\n      <th>2</th>\n      <td>894</td>\n      <td>1</td>\n      <td>0</td>\n      <td>1</td>\n      <td>9.6875</td>\n      <td>1</td>\n      <td>1</td>\n      <td>0</td>\n    </tr>\n    <tr>\n      <th>3</th>\n      <td>895</td>\n      <td>0</td>\n      <td>0</td>\n      <td>3</td>\n      <td>8.6625</td>\n      <td>0</td>\n      <td>1</td>\n      <td>0</td>\n    </tr>\n    <tr>\n      <th>4</th>\n      <td>896</td>\n      <td>0</td>\n      <td>1</td>\n      <td>3</td>\n      <td>12.2875</td>\n      <td>0</td>\n      <td>2</td>\n      <td>2</td>\n    </tr>\n  </tbody>\n</table>\n</div>"
     },
     "metadata": {},
     "execution_count": 82
    }
   ],
   "source": [
    "test_df['Fare'].fillna(test_df['Fare'].dropna().median(), inplace=True)\n",
    "test_df.head()"
   ]
  },
  {
   "cell_type": "code",
   "execution_count": 83,
   "metadata": {},
   "outputs": [
    {
     "output_type": "execute_result",
     "data": {
      "text/plain": [
       "          FareBand  Survived\n",
       "0   (-0.001, 7.91]  0.197309\n",
       "1   (7.91, 14.454]  0.303571\n",
       "2   (14.454, 31.0]  0.454955\n",
       "3  (31.0, 512.329]  0.581081"
      ],
      "text/html": "<div>\n<style scoped>\n    .dataframe tbody tr th:only-of-type {\n        vertical-align: middle;\n    }\n\n    .dataframe tbody tr th {\n        vertical-align: top;\n    }\n\n    .dataframe thead th {\n        text-align: right;\n    }\n</style>\n<table border=\"1\" class=\"dataframe\">\n  <thead>\n    <tr style=\"text-align: right;\">\n      <th></th>\n      <th>FareBand</th>\n      <th>Survived</th>\n    </tr>\n  </thead>\n  <tbody>\n    <tr>\n      <th>0</th>\n      <td>(-0.001, 7.91]</td>\n      <td>0.197309</td>\n    </tr>\n    <tr>\n      <th>1</th>\n      <td>(7.91, 14.454]</td>\n      <td>0.303571</td>\n    </tr>\n    <tr>\n      <th>2</th>\n      <td>(14.454, 31.0]</td>\n      <td>0.454955</td>\n    </tr>\n    <tr>\n      <th>3</th>\n      <td>(31.0, 512.329]</td>\n      <td>0.581081</td>\n    </tr>\n  </tbody>\n</table>\n</div>"
     },
     "metadata": {},
     "execution_count": 83
    }
   ],
   "source": [
    "train_df['FareBand'] = pd.qcut(train_df['Fare'], 4)\n",
    "train_df[['FareBand', 'Survived']].groupby(['FareBand'], as_index=False).mean().sort_values(by='FareBand', ascending=True)"
   ]
  },
  {
   "cell_type": "code",
   "execution_count": 84,
   "metadata": {},
   "outputs": [
    {
     "output_type": "execute_result",
     "data": {
      "text/plain": [
       "   Survived  Pclass  Sex  Age  Fare  Embarked  Title  FamilySize\n",
       "0         0       0    0    3     0         0      1           1\n",
       "1         1       2    1    2     3         2      2           1\n",
       "2         1       0    1    3     1         0      4           0\n",
       "3         1       2    1    2     3         0      2           1\n",
       "4         0       0    0    2     1         0      1           0\n",
       "5         0       0    0    3     1         1      1           0\n",
       "6         0       2    0    1     3         0      1           0\n",
       "7         0       0    0    4     2         0      3           4\n",
       "8         1       0    1    3     1         0      2           2\n",
       "9         1       1    1    4     2         2      2           1"
      ],
      "text/html": "<div>\n<style scoped>\n    .dataframe tbody tr th:only-of-type {\n        vertical-align: middle;\n    }\n\n    .dataframe tbody tr th {\n        vertical-align: top;\n    }\n\n    .dataframe thead th {\n        text-align: right;\n    }\n</style>\n<table border=\"1\" class=\"dataframe\">\n  <thead>\n    <tr style=\"text-align: right;\">\n      <th></th>\n      <th>Survived</th>\n      <th>Pclass</th>\n      <th>Sex</th>\n      <th>Age</th>\n      <th>Fare</th>\n      <th>Embarked</th>\n      <th>Title</th>\n      <th>FamilySize</th>\n    </tr>\n  </thead>\n  <tbody>\n    <tr>\n      <th>0</th>\n      <td>0</td>\n      <td>0</td>\n      <td>0</td>\n      <td>3</td>\n      <td>0</td>\n      <td>0</td>\n      <td>1</td>\n      <td>1</td>\n    </tr>\n    <tr>\n      <th>1</th>\n      <td>1</td>\n      <td>2</td>\n      <td>1</td>\n      <td>2</td>\n      <td>3</td>\n      <td>2</td>\n      <td>2</td>\n      <td>1</td>\n    </tr>\n    <tr>\n      <th>2</th>\n      <td>1</td>\n      <td>0</td>\n      <td>1</td>\n      <td>3</td>\n      <td>1</td>\n      <td>0</td>\n      <td>4</td>\n      <td>0</td>\n    </tr>\n    <tr>\n      <th>3</th>\n      <td>1</td>\n      <td>2</td>\n      <td>1</td>\n      <td>2</td>\n      <td>3</td>\n      <td>0</td>\n      <td>2</td>\n      <td>1</td>\n    </tr>\n    <tr>\n      <th>4</th>\n      <td>0</td>\n      <td>0</td>\n      <td>0</td>\n      <td>2</td>\n      <td>1</td>\n      <td>0</td>\n      <td>1</td>\n      <td>0</td>\n    </tr>\n    <tr>\n      <th>5</th>\n      <td>0</td>\n      <td>0</td>\n      <td>0</td>\n      <td>3</td>\n      <td>1</td>\n      <td>1</td>\n      <td>1</td>\n      <td>0</td>\n    </tr>\n    <tr>\n      <th>6</th>\n      <td>0</td>\n      <td>2</td>\n      <td>0</td>\n      <td>1</td>\n      <td>3</td>\n      <td>0</td>\n      <td>1</td>\n      <td>0</td>\n    </tr>\n    <tr>\n      <th>7</th>\n      <td>0</td>\n      <td>0</td>\n      <td>0</td>\n      <td>4</td>\n      <td>2</td>\n      <td>0</td>\n      <td>3</td>\n      <td>4</td>\n    </tr>\n    <tr>\n      <th>8</th>\n      <td>1</td>\n      <td>0</td>\n      <td>1</td>\n      <td>3</td>\n      <td>1</td>\n      <td>0</td>\n      <td>2</td>\n      <td>2</td>\n    </tr>\n    <tr>\n      <th>9</th>\n      <td>1</td>\n      <td>1</td>\n      <td>1</td>\n      <td>4</td>\n      <td>2</td>\n      <td>2</td>\n      <td>2</td>\n      <td>1</td>\n    </tr>\n  </tbody>\n</table>\n</div>"
     },
     "metadata": {},
     "execution_count": 84
    }
   ],
   "source": [
    "for dataset in combine:\n",
    "    dataset.loc[ dataset['Fare'] <= 7.91, 'Fare'] = 0\n",
    "    dataset.loc[(dataset['Fare'] > 7.91) & (dataset['Fare'] <= 14.454), 'Fare'] = 1\n",
    "    dataset.loc[(dataset['Fare'] > 14.454) & (dataset['Fare'] <= 31), 'Fare']   = 2\n",
    "    dataset.loc[ dataset['Fare'] > 31, 'Fare'] = 3\n",
    "    dataset['Fare'] = dataset['Fare'].astype(int)\n",
    "\n",
    "train_df = train_df.drop(['FareBand'], axis=1)\n",
    "combine = [train_df, test_df]\n",
    "    \n",
    "train_df.head(10)"
   ]
  },
  {
   "cell_type": "code",
   "execution_count": 85,
   "metadata": {},
   "outputs": [
    {
     "output_type": "execute_result",
     "data": {
      "text/plain": [
       "   Survived  Pclass  Sex  Age  Fare  Embarked  Title  FamilySize\n",
       "0         0       0    0    3     0         0      1           1\n",
       "1         1       2    1    2     3         2      2           1\n",
       "2         1       0    1    3     1         0      4           0\n",
       "3         1       2    1    2     3         0      2           1\n",
       "4         0       0    0    2     1         0      1           0\n",
       "5         0       0    0    3     1         1      1           0\n",
       "6         0       2    0    1     3         0      1           0\n",
       "7         0       0    0    4     2         0      3           4\n",
       "8         1       0    1    3     1         0      2           2\n",
       "9         1       1    1    4     2         2      2           1"
      ],
      "text/html": "<div>\n<style scoped>\n    .dataframe tbody tr th:only-of-type {\n        vertical-align: middle;\n    }\n\n    .dataframe tbody tr th {\n        vertical-align: top;\n    }\n\n    .dataframe thead th {\n        text-align: right;\n    }\n</style>\n<table border=\"1\" class=\"dataframe\">\n  <thead>\n    <tr style=\"text-align: right;\">\n      <th></th>\n      <th>Survived</th>\n      <th>Pclass</th>\n      <th>Sex</th>\n      <th>Age</th>\n      <th>Fare</th>\n      <th>Embarked</th>\n      <th>Title</th>\n      <th>FamilySize</th>\n    </tr>\n  </thead>\n  <tbody>\n    <tr>\n      <th>0</th>\n      <td>0</td>\n      <td>0</td>\n      <td>0</td>\n      <td>3</td>\n      <td>0</td>\n      <td>0</td>\n      <td>1</td>\n      <td>1</td>\n    </tr>\n    <tr>\n      <th>1</th>\n      <td>1</td>\n      <td>2</td>\n      <td>1</td>\n      <td>2</td>\n      <td>3</td>\n      <td>2</td>\n      <td>2</td>\n      <td>1</td>\n    </tr>\n    <tr>\n      <th>2</th>\n      <td>1</td>\n      <td>0</td>\n      <td>1</td>\n      <td>3</td>\n      <td>1</td>\n      <td>0</td>\n      <td>4</td>\n      <td>0</td>\n    </tr>\n    <tr>\n      <th>3</th>\n      <td>1</td>\n      <td>2</td>\n      <td>1</td>\n      <td>2</td>\n      <td>3</td>\n      <td>0</td>\n      <td>2</td>\n      <td>1</td>\n    </tr>\n    <tr>\n      <th>4</th>\n      <td>0</td>\n      <td>0</td>\n      <td>0</td>\n      <td>2</td>\n      <td>1</td>\n      <td>0</td>\n      <td>1</td>\n      <td>0</td>\n    </tr>\n    <tr>\n      <th>5</th>\n      <td>0</td>\n      <td>0</td>\n      <td>0</td>\n      <td>3</td>\n      <td>1</td>\n      <td>1</td>\n      <td>1</td>\n      <td>0</td>\n    </tr>\n    <tr>\n      <th>6</th>\n      <td>0</td>\n      <td>2</td>\n      <td>0</td>\n      <td>1</td>\n      <td>3</td>\n      <td>0</td>\n      <td>1</td>\n      <td>0</td>\n    </tr>\n    <tr>\n      <th>7</th>\n      <td>0</td>\n      <td>0</td>\n      <td>0</td>\n      <td>4</td>\n      <td>2</td>\n      <td>0</td>\n      <td>3</td>\n      <td>4</td>\n    </tr>\n    <tr>\n      <th>8</th>\n      <td>1</td>\n      <td>0</td>\n      <td>1</td>\n      <td>3</td>\n      <td>1</td>\n      <td>0</td>\n      <td>2</td>\n      <td>2</td>\n    </tr>\n    <tr>\n      <th>9</th>\n      <td>1</td>\n      <td>1</td>\n      <td>1</td>\n      <td>4</td>\n      <td>2</td>\n      <td>2</td>\n      <td>2</td>\n      <td>1</td>\n    </tr>\n  </tbody>\n</table>\n</div>"
     },
     "metadata": {},
     "execution_count": 85
    }
   ],
   "source": [
    "train_df.head(10)"
   ]
  },
  {
   "source": [
    "x = train_df.values #returns a numpy array\n",
    "min_max_scaler = preprocessing.MinMaxScaler()\n",
    "x_scaled = min_max_scaler.fit_transform(x)\n",
    "train_df[:] = x_scaled\n",
    "\n",
    "x = test_df.values \n",
    "min_max_scaler = preprocessing.MinMaxScaler()\n",
    "x_scaled = min_max_scaler.fit_transform(x)\n",
    "test_df[:] = x_scaled\n",
    "\n",
    "\n",
    "combine = [train_df, test_df]\n",
    "train_df.head(10)\n"
   ],
   "cell_type": "code",
   "metadata": {},
   "execution_count": 86,
   "outputs": [
    {
     "output_type": "execute_result",
     "data": {
      "text/plain": [
       "   Survived  Pclass  Sex   Age      Fare  Embarked  Title  FamilySize\n",
       "0       0.0     0.0  0.0  0.75  0.000000       0.0   0.25         0.1\n",
       "1       1.0     1.0  1.0  0.50  1.000000       1.0   0.50         0.1\n",
       "2       1.0     0.0  1.0  0.75  0.333333       0.0   1.00         0.0\n",
       "3       1.0     1.0  1.0  0.50  1.000000       0.0   0.50         0.1\n",
       "4       0.0     0.0  0.0  0.50  0.333333       0.0   0.25         0.0\n",
       "5       0.0     0.0  0.0  0.75  0.333333       0.5   0.25         0.0\n",
       "6       0.0     1.0  0.0  0.25  1.000000       0.0   0.25         0.0\n",
       "7       0.0     0.0  0.0  1.00  0.666667       0.0   0.75         0.4\n",
       "8       1.0     0.0  1.0  0.75  0.333333       0.0   0.50         0.2\n",
       "9       1.0     0.5  1.0  1.00  0.666667       1.0   0.50         0.1"
      ],
      "text/html": "<div>\n<style scoped>\n    .dataframe tbody tr th:only-of-type {\n        vertical-align: middle;\n    }\n\n    .dataframe tbody tr th {\n        vertical-align: top;\n    }\n\n    .dataframe thead th {\n        text-align: right;\n    }\n</style>\n<table border=\"1\" class=\"dataframe\">\n  <thead>\n    <tr style=\"text-align: right;\">\n      <th></th>\n      <th>Survived</th>\n      <th>Pclass</th>\n      <th>Sex</th>\n      <th>Age</th>\n      <th>Fare</th>\n      <th>Embarked</th>\n      <th>Title</th>\n      <th>FamilySize</th>\n    </tr>\n  </thead>\n  <tbody>\n    <tr>\n      <th>0</th>\n      <td>0.0</td>\n      <td>0.0</td>\n      <td>0.0</td>\n      <td>0.75</td>\n      <td>0.000000</td>\n      <td>0.0</td>\n      <td>0.25</td>\n      <td>0.1</td>\n    </tr>\n    <tr>\n      <th>1</th>\n      <td>1.0</td>\n      <td>1.0</td>\n      <td>1.0</td>\n      <td>0.50</td>\n      <td>1.000000</td>\n      <td>1.0</td>\n      <td>0.50</td>\n      <td>0.1</td>\n    </tr>\n    <tr>\n      <th>2</th>\n      <td>1.0</td>\n      <td>0.0</td>\n      <td>1.0</td>\n      <td>0.75</td>\n      <td>0.333333</td>\n      <td>0.0</td>\n      <td>1.00</td>\n      <td>0.0</td>\n    </tr>\n    <tr>\n      <th>3</th>\n      <td>1.0</td>\n      <td>1.0</td>\n      <td>1.0</td>\n      <td>0.50</td>\n      <td>1.000000</td>\n      <td>0.0</td>\n      <td>0.50</td>\n      <td>0.1</td>\n    </tr>\n    <tr>\n      <th>4</th>\n      <td>0.0</td>\n      <td>0.0</td>\n      <td>0.0</td>\n      <td>0.50</td>\n      <td>0.333333</td>\n      <td>0.0</td>\n      <td>0.25</td>\n      <td>0.0</td>\n    </tr>\n    <tr>\n      <th>5</th>\n      <td>0.0</td>\n      <td>0.0</td>\n      <td>0.0</td>\n      <td>0.75</td>\n      <td>0.333333</td>\n      <td>0.5</td>\n      <td>0.25</td>\n      <td>0.0</td>\n    </tr>\n    <tr>\n      <th>6</th>\n      <td>0.0</td>\n      <td>1.0</td>\n      <td>0.0</td>\n      <td>0.25</td>\n      <td>1.000000</td>\n      <td>0.0</td>\n      <td>0.25</td>\n      <td>0.0</td>\n    </tr>\n    <tr>\n      <th>7</th>\n      <td>0.0</td>\n      <td>0.0</td>\n      <td>0.0</td>\n      <td>1.00</td>\n      <td>0.666667</td>\n      <td>0.0</td>\n      <td>0.75</td>\n      <td>0.4</td>\n    </tr>\n    <tr>\n      <th>8</th>\n      <td>1.0</td>\n      <td>0.0</td>\n      <td>1.0</td>\n      <td>0.75</td>\n      <td>0.333333</td>\n      <td>0.0</td>\n      <td>0.50</td>\n      <td>0.2</td>\n    </tr>\n    <tr>\n      <th>9</th>\n      <td>1.0</td>\n      <td>0.5</td>\n      <td>1.0</td>\n      <td>1.00</td>\n      <td>0.666667</td>\n      <td>1.0</td>\n      <td>0.50</td>\n      <td>0.1</td>\n    </tr>\n  </tbody>\n</table>\n</div>"
     },
     "metadata": {},
     "execution_count": 86
    }
   ]
  },
  {
   "cell_type": "code",
   "execution_count": 87,
   "metadata": {},
   "outputs": [
    {
     "output_type": "execute_result",
     "data": {
      "text/plain": [
       "   Survived  Pclass  Sex   Age      Fare  Embarked  Title  FamilySize\n",
       "0       0.0     0.0  0.0  0.75  0.000000       0.0   0.25         0.1\n",
       "1       1.0     1.0  1.0  0.50  1.000000       1.0   0.50         0.1\n",
       "2       1.0     0.0  1.0  0.75  0.333333       0.0   1.00         0.0\n",
       "3       1.0     1.0  1.0  0.50  1.000000       0.0   0.50         0.1\n",
       "4       0.0     0.0  0.0  0.50  0.333333       0.0   0.25         0.0\n",
       "5       0.0     0.0  0.0  0.75  0.333333       0.5   0.25         0.0\n",
       "6       0.0     1.0  0.0  0.25  1.000000       0.0   0.25         0.0\n",
       "7       0.0     0.0  0.0  1.00  0.666667       0.0   0.75         0.4\n",
       "8       1.0     0.0  1.0  0.75  0.333333       0.0   0.50         0.2\n",
       "9       1.0     0.5  1.0  1.00  0.666667       1.0   0.50         0.1"
      ],
      "text/html": "<div>\n<style scoped>\n    .dataframe tbody tr th:only-of-type {\n        vertical-align: middle;\n    }\n\n    .dataframe tbody tr th {\n        vertical-align: top;\n    }\n\n    .dataframe thead th {\n        text-align: right;\n    }\n</style>\n<table border=\"1\" class=\"dataframe\">\n  <thead>\n    <tr style=\"text-align: right;\">\n      <th></th>\n      <th>Survived</th>\n      <th>Pclass</th>\n      <th>Sex</th>\n      <th>Age</th>\n      <th>Fare</th>\n      <th>Embarked</th>\n      <th>Title</th>\n      <th>FamilySize</th>\n    </tr>\n  </thead>\n  <tbody>\n    <tr>\n      <th>0</th>\n      <td>0.0</td>\n      <td>0.0</td>\n      <td>0.0</td>\n      <td>0.75</td>\n      <td>0.000000</td>\n      <td>0.0</td>\n      <td>0.25</td>\n      <td>0.1</td>\n    </tr>\n    <tr>\n      <th>1</th>\n      <td>1.0</td>\n      <td>1.0</td>\n      <td>1.0</td>\n      <td>0.50</td>\n      <td>1.000000</td>\n      <td>1.0</td>\n      <td>0.50</td>\n      <td>0.1</td>\n    </tr>\n    <tr>\n      <th>2</th>\n      <td>1.0</td>\n      <td>0.0</td>\n      <td>1.0</td>\n      <td>0.75</td>\n      <td>0.333333</td>\n      <td>0.0</td>\n      <td>1.00</td>\n      <td>0.0</td>\n    </tr>\n    <tr>\n      <th>3</th>\n      <td>1.0</td>\n      <td>1.0</td>\n      <td>1.0</td>\n      <td>0.50</td>\n      <td>1.000000</td>\n      <td>0.0</td>\n      <td>0.50</td>\n      <td>0.1</td>\n    </tr>\n    <tr>\n      <th>4</th>\n      <td>0.0</td>\n      <td>0.0</td>\n      <td>0.0</td>\n      <td>0.50</td>\n      <td>0.333333</td>\n      <td>0.0</td>\n      <td>0.25</td>\n      <td>0.0</td>\n    </tr>\n    <tr>\n      <th>5</th>\n      <td>0.0</td>\n      <td>0.0</td>\n      <td>0.0</td>\n      <td>0.75</td>\n      <td>0.333333</td>\n      <td>0.5</td>\n      <td>0.25</td>\n      <td>0.0</td>\n    </tr>\n    <tr>\n      <th>6</th>\n      <td>0.0</td>\n      <td>1.0</td>\n      <td>0.0</td>\n      <td>0.25</td>\n      <td>1.000000</td>\n      <td>0.0</td>\n      <td>0.25</td>\n      <td>0.0</td>\n    </tr>\n    <tr>\n      <th>7</th>\n      <td>0.0</td>\n      <td>0.0</td>\n      <td>0.0</td>\n      <td>1.00</td>\n      <td>0.666667</td>\n      <td>0.0</td>\n      <td>0.75</td>\n      <td>0.4</td>\n    </tr>\n    <tr>\n      <th>8</th>\n      <td>1.0</td>\n      <td>0.0</td>\n      <td>1.0</td>\n      <td>0.75</td>\n      <td>0.333333</td>\n      <td>0.0</td>\n      <td>0.50</td>\n      <td>0.2</td>\n    </tr>\n    <tr>\n      <th>9</th>\n      <td>1.0</td>\n      <td>0.5</td>\n      <td>1.0</td>\n      <td>1.00</td>\n      <td>0.666667</td>\n      <td>1.0</td>\n      <td>0.50</td>\n      <td>0.1</td>\n    </tr>\n  </tbody>\n</table>\n</div>"
     },
     "metadata": {},
     "execution_count": 87
    }
   ],
   "source": [
    "train_df.head(10)"
   ]
  },
  {
   "source": [
    "## Model, predict and solve\n"
   ],
   "cell_type": "markdown",
   "metadata": {}
  },
  {
   "cell_type": "code",
   "execution_count": 88,
   "metadata": {},
   "outputs": [
    {
     "output_type": "execute_result",
     "data": {
      "text/plain": [
       "((891, 7), (891,), (418, 7))"
      ]
     },
     "metadata": {},
     "execution_count": 88
    }
   ],
   "source": [
    "X_train = train_df.drop(\"Survived\", axis=1)\n",
    "Y_train = train_df[\"Survived\"]\n",
    "X_test  = test_df.drop(\"PassengerId\", axis=1).copy()\n",
    "X_train.shape, Y_train.shape, X_test.shape\n"
   ]
  },
  {
   "cell_type": "code",
   "execution_count": 89,
   "metadata": {},
   "outputs": [
    {
     "output_type": "execute_result",
     "data": {
      "text/plain": [
       "78.34"
      ]
     },
     "metadata": {},
     "execution_count": 89
    }
   ],
   "source": [
    "logreg = LogisticRegression()\n",
    "logreg.fit(X_train, Y_train)\n",
    "Y_pred = logreg.predict(X_test)\n",
    "acc_log = round(logreg.score(X_train, Y_train) * 100, 2)\n",
    "acc_log"
   ]
  },
  {
   "cell_type": "code",
   "execution_count": 90,
   "metadata": {},
   "outputs": [
    {
     "output_type": "execute_result",
     "data": {
      "text/plain": [
       "      Feature  Correlation\n",
       "1         Sex     2.029409\n",
       "0      Pclass     1.744950\n",
       "2         Age     1.220492\n",
       "5       Title     1.168602\n",
       "3        Fare     0.596717\n",
       "4    Embarked     0.452102\n",
       "6  FamilySize    -1.884110"
      ],
      "text/html": "<div>\n<style scoped>\n    .dataframe tbody tr th:only-of-type {\n        vertical-align: middle;\n    }\n\n    .dataframe tbody tr th {\n        vertical-align: top;\n    }\n\n    .dataframe thead th {\n        text-align: right;\n    }\n</style>\n<table border=\"1\" class=\"dataframe\">\n  <thead>\n    <tr style=\"text-align: right;\">\n      <th></th>\n      <th>Feature</th>\n      <th>Correlation</th>\n    </tr>\n  </thead>\n  <tbody>\n    <tr>\n      <th>1</th>\n      <td>Sex</td>\n      <td>2.029409</td>\n    </tr>\n    <tr>\n      <th>0</th>\n      <td>Pclass</td>\n      <td>1.744950</td>\n    </tr>\n    <tr>\n      <th>2</th>\n      <td>Age</td>\n      <td>1.220492</td>\n    </tr>\n    <tr>\n      <th>5</th>\n      <td>Title</td>\n      <td>1.168602</td>\n    </tr>\n    <tr>\n      <th>3</th>\n      <td>Fare</td>\n      <td>0.596717</td>\n    </tr>\n    <tr>\n      <th>4</th>\n      <td>Embarked</td>\n      <td>0.452102</td>\n    </tr>\n    <tr>\n      <th>6</th>\n      <td>FamilySize</td>\n      <td>-1.884110</td>\n    </tr>\n  </tbody>\n</table>\n</div>"
     },
     "metadata": {},
     "execution_count": 90
    }
   ],
   "source": [
    "coeff_df = pd.DataFrame(train_df.columns.delete(0))\n",
    "coeff_df.columns = ['Feature']\n",
    "coeff_df[\"Correlation\"] = pd.Series(logreg.coef_[0])\n",
    "\n",
    "coeff_df.sort_values(by='Correlation', ascending=False)"
   ]
  },
  {
   "cell_type": "code",
   "execution_count": 91,
   "metadata": {},
   "outputs": [
    {
     "output_type": "execute_result",
     "data": {
      "text/plain": [
       "83.16"
      ]
     },
     "metadata": {},
     "execution_count": 91
    }
   ],
   "source": [
    "svc = SVC()\n",
    "svc.fit(X_train, Y_train)\n",
    "Y_pred = svc.predict(X_test)\n",
    "acc_svc = round(svc.score(X_train, Y_train) * 100, 2)\n",
    "acc_svc"
   ]
  },
  {
   "cell_type": "code",
   "execution_count": 92,
   "metadata": {},
   "outputs": [
    {
     "output_type": "execute_result",
     "data": {
      "text/plain": [
       "85.86"
      ]
     },
     "metadata": {},
     "execution_count": 92
    }
   ],
   "source": [
    "knn = KNeighborsClassifier(n_neighbors = 3)\n",
    "knn.fit(X_train, Y_train)\n",
    "Y_pred = knn.predict(X_test)\n",
    "acc_knn = round(knn.score(X_train, Y_train) * 100, 2)\n",
    "acc_knn"
   ]
  },
  {
   "cell_type": "code",
   "execution_count": 93,
   "metadata": {},
   "outputs": [
    {
     "output_type": "execute_result",
     "data": {
      "text/plain": [
       "79.91"
      ]
     },
     "metadata": {},
     "execution_count": 93
    }
   ],
   "source": [
    "gaussian = GaussianNB()\n",
    "gaussian.fit(X_train, Y_train)\n",
    "Y_pred = gaussian.predict(X_test)\n",
    "acc_gaussian = round(gaussian.score(X_train, Y_train) * 100, 2)\n",
    "acc_gaussian"
   ]
  },
  {
   "cell_type": "code",
   "execution_count": 94,
   "metadata": {},
   "outputs": [
    {
     "output_type": "execute_result",
     "data": {
      "text/plain": [
       "74.97"
      ]
     },
     "metadata": {},
     "execution_count": 94
    }
   ],
   "source": [
    "perceptron = Perceptron()\n",
    "perceptron.fit(X_train, Y_train)\n",
    "Y_pred = perceptron.predict(X_test)\n",
    "acc_perceptron = round(perceptron.score(X_train, Y_train) * 100, 2)\n",
    "acc_perceptron"
   ]
  },
  {
   "cell_type": "code",
   "execution_count": 95,
   "metadata": {},
   "outputs": [
    {
     "output_type": "execute_result",
     "data": {
      "text/plain": [
       "78.68"
      ]
     },
     "metadata": {},
     "execution_count": 95
    }
   ],
   "source": [
    "linear_svc = LinearSVC()\n",
    "linear_svc.fit(X_train, Y_train)\n",
    "Y_pred = linear_svc.predict(X_test)\n",
    "acc_linear_svc = round(linear_svc.score(X_train, Y_train) * 100, 2)\n",
    "acc_linear_svc"
   ]
  },
  {
   "cell_type": "code",
   "execution_count": 96,
   "metadata": {},
   "outputs": [
    {
     "output_type": "execute_result",
     "data": {
      "text/plain": [
       "79.8"
      ]
     },
     "metadata": {},
     "execution_count": 96
    }
   ],
   "source": [
    "sgd = SGDClassifier()\n",
    "sgd.fit(X_train, Y_train)\n",
    "Y_pred = sgd.predict(X_test)\n",
    "acc_sgd = round(sgd.score(X_train, Y_train) * 100, 2)\n",
    "acc_sgd"
   ]
  },
  {
   "cell_type": "code",
   "execution_count": 97,
   "metadata": {},
   "outputs": [
    {
     "output_type": "execute_result",
     "data": {
      "text/plain": [
       "88.89"
      ]
     },
     "metadata": {},
     "execution_count": 97
    }
   ],
   "source": [
    "decision_tree = DecisionTreeClassifier()\n",
    "decision_tree.fit(X_train, Y_train)\n",
    "Y_pred = decision_tree.predict(X_test)\n",
    "acc_decision_tree = round(decision_tree.score(X_train, Y_train) * 100, 2)\n",
    "acc_decision_tree"
   ]
  },
  {
   "cell_type": "code",
   "execution_count": 98,
   "metadata": {},
   "outputs": [
    {
     "output_type": "execute_result",
     "data": {
      "text/plain": [
       "88.89"
      ]
     },
     "metadata": {},
     "execution_count": 98
    }
   ],
   "source": [
    "random_forest = RandomForestClassifier(n_estimators=100)\n",
    "random_forest.fit(X_train, Y_train)\n",
    "Y_pred = random_forest.predict(X_test)\n",
    "random_forest.score(X_train, Y_train)\n",
    "acc_random_forest = round(random_forest.score(X_train, Y_train) * 100, 2)\n",
    "acc_random_forest"
   ]
  },
  {
   "cell_type": "code",
   "execution_count": 99,
   "metadata": {},
   "outputs": [
    {
     "output_type": "execute_result",
     "data": {
      "text/plain": [
       "83.95"
      ]
     },
     "metadata": {},
     "execution_count": 99
    }
   ],
   "source": [
    "MLP = MLPClassifier(random_state=1, max_iter=300 )\n",
    "MLP.fit(X_train, Y_train)\n",
    "Y_pred = MLP.predict(X_test)\n",
    "MLP.score(X_train, Y_train)\n",
    "acc_MLP = round(MLP.score(X_train, Y_train) * 100, 2)\n",
    "acc_MLP"
   ]
  },
  {
   "cell_type": "code",
   "execution_count": 100,
   "metadata": {},
   "outputs": [
    {
     "output_type": "execute_result",
     "data": {
      "text/plain": [
       "                        Model  Score\n",
       "3               Random Forest  88.89\n",
       "8               Decision Tree  88.89\n",
       "1                         KNN  85.86\n",
       "9                         MLP  83.95\n",
       "0     Support Vector Machines  83.16\n",
       "4                 Naive Bayes  79.91\n",
       "6  Stochastic Gradient Decent  79.80\n",
       "7                  Linear SVC  78.68\n",
       "2         Logistic Regression  78.34\n",
       "5                  Perceptron  74.97"
      ],
      "text/html": "<div>\n<style scoped>\n    .dataframe tbody tr th:only-of-type {\n        vertical-align: middle;\n    }\n\n    .dataframe tbody tr th {\n        vertical-align: top;\n    }\n\n    .dataframe thead th {\n        text-align: right;\n    }\n</style>\n<table border=\"1\" class=\"dataframe\">\n  <thead>\n    <tr style=\"text-align: right;\">\n      <th></th>\n      <th>Model</th>\n      <th>Score</th>\n    </tr>\n  </thead>\n  <tbody>\n    <tr>\n      <th>3</th>\n      <td>Random Forest</td>\n      <td>88.89</td>\n    </tr>\n    <tr>\n      <th>8</th>\n      <td>Decision Tree</td>\n      <td>88.89</td>\n    </tr>\n    <tr>\n      <th>1</th>\n      <td>KNN</td>\n      <td>85.86</td>\n    </tr>\n    <tr>\n      <th>9</th>\n      <td>MLP</td>\n      <td>83.95</td>\n    </tr>\n    <tr>\n      <th>0</th>\n      <td>Support Vector Machines</td>\n      <td>83.16</td>\n    </tr>\n    <tr>\n      <th>4</th>\n      <td>Naive Bayes</td>\n      <td>79.91</td>\n    </tr>\n    <tr>\n      <th>6</th>\n      <td>Stochastic Gradient Decent</td>\n      <td>79.80</td>\n    </tr>\n    <tr>\n      <th>7</th>\n      <td>Linear SVC</td>\n      <td>78.68</td>\n    </tr>\n    <tr>\n      <th>2</th>\n      <td>Logistic Regression</td>\n      <td>78.34</td>\n    </tr>\n    <tr>\n      <th>5</th>\n      <td>Perceptron</td>\n      <td>74.97</td>\n    </tr>\n  </tbody>\n</table>\n</div>"
     },
     "metadata": {},
     "execution_count": 100
    }
   ],
   "source": [
    "    models = pd.DataFrame({'Model': ['Support Vector Machines', 'KNN', 'Logistic Regression', \n",
    "              'Random Forest', 'Naive Bayes', 'Perceptron', \n",
    "              'Stochastic Gradient Decent', 'Linear SVC', \n",
    "              'Decision Tree', 'MLP'],\n",
    "    'Score': [acc_svc, acc_knn, acc_log, \n",
    "              acc_random_forest, acc_gaussian, acc_perceptron, \n",
    "              acc_sgd, acc_linear_svc, acc_decision_tree, acc_MLP]})\n",
    "models.sort_values(by='Score', ascending=False)"
   ]
  },
  {
   "cell_type": "code",
   "execution_count": 101,
   "metadata": {},
   "outputs": [],
   "source": [
    "submission = pd.DataFrame({\n",
    "        \"PassengerId\": test_df[\"PassengerId\"],\n",
    "        \"Survived\": Y_pred\n",
    "    })\n",
    "submission.to_csv('../out/submission.csv', index=False)"
   ]
  },
  {
   "cell_type": "code",
   "execution_count": 102,
   "metadata": {},
   "outputs": [
    {
     "output_type": "execute_result",
     "data": {
      "text/plain": [
       "369"
      ]
     },
     "metadata": {},
     "execution_count": 102
    }
   ],
   "source": [
    "accuracy_score(result_df['Survived'], Y_pred, normalize=False)"
   ]
  },
  {
   "cell_type": "code",
   "execution_count": 145,
   "metadata": {},
   "outputs": [],
   "source": [
    "import tensorflow as tf\n",
    "from tensorflow.keras.models import Model\n",
    "from tensorflow.keras import layers, losses\n"
   ]
  },
  {
   "cell_type": "code",
   "execution_count": 169,
   "metadata": {},
   "outputs": [],
   "source": [
    "model = tf.keras.Sequential([\n",
    "    tf.keras.layers.Dense(64, activation='relu'),\n",
    "    tf.keras.layers.Dense(128, activation='relu'),\n",
    "    tf.keras.layers.Dense(128, activation='relu'),\n",
    "    tf.keras.layers.Dense(2)\n",
    "])"
   ]
  },
  {
   "cell_type": "code",
   "execution_count": 170,
   "metadata": {},
   "outputs": [],
   "source": [
    "model.compile(optimizer='adam',\n",
    "              loss=tf.keras.losses.SparseCategoricalCrossentropy(from_logits=True),\n",
    "              metrics=['accuracy'])"
   ]
  },
  {
   "cell_type": "code",
   "execution_count": 172,
   "metadata": {},
   "outputs": [
    {
     "output_type": "stream",
     "name": "stdout",
     "text": [
      "Train on 891 samples\n",
      "Epoch 1/20\n",
      "891/891 [==============================] - 0s 105us/sample - loss: 0.3992 - accuracy: 0.8159\n",
      "Epoch 2/20\n",
      "891/891 [==============================] - 0s 115us/sample - loss: 0.3967 - accuracy: 0.8249\n",
      "Epoch 3/20\n",
      "891/891 [==============================] - 0s 141us/sample - loss: 0.3914 - accuracy: 0.8361\n",
      "Epoch 4/20\n",
      "891/891 [==============================] - 0s 137us/sample - loss: 0.3911 - accuracy: 0.8339\n",
      "Epoch 5/20\n",
      "891/891 [==============================] - 0s 134us/sample - loss: 0.3854 - accuracy: 0.8316\n",
      "Epoch 6/20\n",
      "891/891 [==============================] - 0s 114us/sample - loss: 0.3824 - accuracy: 0.8384\n",
      "Epoch 7/20\n",
      "891/891 [==============================] - 0s 95us/sample - loss: 0.3881 - accuracy: 0.8272\n",
      "Epoch 8/20\n",
      "891/891 [==============================] - 0s 104us/sample - loss: 0.3996 - accuracy: 0.8283\n",
      "Epoch 9/20\n",
      "891/891 [==============================] - 0s 143us/sample - loss: 0.4053 - accuracy: 0.8373\n",
      "Epoch 10/20\n",
      "891/891 [==============================] - 0s 131us/sample - loss: 0.3909 - accuracy: 0.8260\n",
      "Epoch 11/20\n",
      "891/891 [==============================] - 0s 123us/sample - loss: 0.3778 - accuracy: 0.8373\n",
      "Epoch 12/20\n",
      "891/891 [==============================] - 0s 141us/sample - loss: 0.3767 - accuracy: 0.8406\n",
      "Epoch 13/20\n",
      "891/891 [==============================] - 0s 127us/sample - loss: 0.3768 - accuracy: 0.8429\n",
      "Epoch 14/20\n",
      "891/891 [==============================] - 0s 150us/sample - loss: 0.3727 - accuracy: 0.8429\n",
      "Epoch 15/20\n",
      "891/891 [==============================] - 0s 139us/sample - loss: 0.3828 - accuracy: 0.8305\n",
      "Epoch 16/20\n",
      "891/891 [==============================] - 0s 131us/sample - loss: 0.3805 - accuracy: 0.8373\n",
      "Epoch 17/20\n",
      "891/891 [==============================] - 0s 127us/sample - loss: 0.3734 - accuracy: 0.8451\n",
      "Epoch 18/20\n",
      "891/891 [==============================] - 0s 101us/sample - loss: 0.3732 - accuracy: 0.8361\n",
      "Epoch 19/20\n",
      "891/891 [==============================] - 0s 118us/sample - loss: 0.3686 - accuracy: 0.8361\n",
      "Epoch 20/20\n",
      "891/891 [==============================] - 0s 167us/sample - loss: 0.3706 - accuracy: 0.8339\n"
     ]
    },
    {
     "output_type": "execute_result",
     "data": {
      "text/plain": [
       "<tensorflow.python.keras.callbacks.History at 0x7f82c95f3490>"
      ]
     },
     "metadata": {},
     "execution_count": 172
    }
   ],
   "source": [
    "model.fit(X_train.values, Y_train.values, epochs=20)"
   ]
  },
  {
   "cell_type": "code",
   "execution_count": 167,
   "metadata": {},
   "outputs": [],
   "source": [
    "Y_pred = model.predict(X_test)\n"
   ]
  },
  {
   "cell_type": "code",
   "execution_count": 168,
   "metadata": {},
   "outputs": [
    {
     "output_type": "execute_result",
     "data": {
      "text/plain": [
       "array([[ 7.72662759e-01, -9.49271619e-01],\n",
       "       [-4.77854192e-01,  2.14862168e-01],\n",
       "       [ 5.67640245e-01, -5.96419334e-01],\n",
       "       [ 4.37227070e-01, -8.76711011e-01],\n",
       "       [-2.29029760e-01, -6.56734481e-02],\n",
       "       [ 2.93982655e-01, -8.44648898e-01],\n",
       "       [-8.69355977e-01,  8.19222867e-01],\n",
       "       [ 4.17080283e-01, -8.22601259e-01],\n",
       "       [-1.22475088e+00,  1.05164623e+00],\n",
       "       [ 8.37938607e-01, -1.18060923e+00],\n",
       "       [ 7.57746041e-01, -1.21387517e+00],\n",
       "       [-7.93308914e-02, -2.17302173e-01],\n",
       "       [-2.13883972e+00,  1.96316719e+00],\n",
       "       [ 6.97875202e-01, -9.55747664e-01],\n",
       "       [-2.11587405e+00,  1.96584749e+00],\n",
       "       [-1.86023200e+00,  1.63818562e+00],\n",
       "       [ 3.75999659e-01, -5.05438507e-01],\n",
       "       [ 5.32798171e-01, -7.32834816e-01],\n",
       "       [-1.44211069e-01, -6.38893619e-03],\n",
       "       [-1.04100645e+00,  9.20889616e-01],\n",
       "       [-3.24509256e-02, -7.03227371e-02],\n",
       "       [-6.67738974e-01,  1.53585106e-01],\n",
       "       [-2.14980960e+00,  2.00211954e+00],\n",
       "       [-3.32521260e-01,  1.58351243e-01],\n",
       "       [-2.23512340e+00,  2.07296419e+00],\n",
       "       [ 8.78430784e-01, -1.14392757e+00],\n",
       "       [-2.76375484e+00,  2.54806137e+00],\n",
       "       [ 5.32798171e-01, -7.32834816e-01],\n",
       "       [-7.93308914e-02, -2.17302173e-01],\n",
       "       [ 3.33706260e-01, -6.71598256e-01],\n",
       "       [ 6.97875261e-01, -9.55747604e-01],\n",
       "       [ 3.48927796e-01, -7.79528797e-01],\n",
       "       [-1.86577663e-01, -7.90881068e-02],\n",
       "       [-1.86577663e-01, -7.90881068e-02],\n",
       "       [-3.32521260e-01,  1.58351243e-01],\n",
       "       [ 5.32798171e-01, -7.32834816e-01],\n",
       "       [-3.25413406e-01,  1.79244235e-01],\n",
       "       [-3.25413406e-01,  1.79244235e-01],\n",
       "       [ 4.37227070e-01, -8.76711011e-01],\n",
       "       [-3.10685128e-01, -1.22724131e-01],\n",
       "       [ 7.68454194e-01, -9.58932579e-01],\n",
       "       [-1.45998836e-01, -2.27903128e-01],\n",
       "       [ 8.68927896e-01, -1.19105232e+00],\n",
       "       [-1.35329247e+00,  1.12887907e+00],\n",
       "       [-2.11587405e+00,  1.96584749e+00],\n",
       "       [ 4.37227070e-01, -8.76711011e-01],\n",
       "       [-6.52431697e-02,  1.77263804e-02],\n",
       "       [ 6.14352286e-01, -9.14189637e-01],\n",
       "       [-1.85285091e+00,  1.81495976e+00],\n",
       "       [-4.16865081e-01,  1.73386157e-01],\n",
       "       [-2.63754487e-01, -1.48384586e-01],\n",
       "       [ 9.44612920e-02, -2.61780202e-01],\n",
       "       [-1.49606574e+00,  1.36317611e+00],\n",
       "       [-2.31650066e+00,  2.21583724e+00],\n",
       "       [ 9.44612920e-02, -2.61780202e-01],\n",
       "       [-3.96431416e-01, -1.78749084e-01],\n",
       "       [ 8.68927896e-01, -1.19105232e+00],\n",
       "       [ 7.57746041e-01, -1.21387517e+00],\n",
       "       [ 4.91863221e-01, -8.50986302e-01],\n",
       "       [-2.40411997e+00,  2.26978493e+00],\n",
       "       [ 7.57746041e-01, -1.21387517e+00],\n",
       "       [ 5.28999090e-01, -9.39308941e-01],\n",
       "       [ 7.57745981e-01, -1.21387517e+00],\n",
       "       [-8.69356096e-01,  8.19222867e-01],\n",
       "       [-1.61617291e+00,  1.16583276e+00],\n",
       "       [-1.43874788e+00,  1.25565755e+00],\n",
       "       [-8.69355977e-01,  8.19222867e-01],\n",
       "       [ 4.83944677e-02, -3.79493356e-01],\n",
       "       [-2.67848581e-01,  1.45879328e-01],\n",
       "       [-1.85053909e+00,  1.69810724e+00],\n",
       "       [-8.69355977e-01,  8.19222867e-01],\n",
       "       [ 7.57746041e-01, -1.21387517e+00],\n",
       "       [-3.25413406e-01,  1.79244235e-01],\n",
       "       [-2.67848581e-01,  1.45879328e-01],\n",
       "       [-2.40411997e+00,  2.26978493e+00],\n",
       "       [-3.46895635e-01,  1.85854509e-01],\n",
       "       [ 4.37227070e-01, -8.76711011e-01],\n",
       "       [-1.92897058e+00,  1.81840372e+00],\n",
       "       [ 5.28999090e-01, -9.39308941e-01],\n",
       "       [-8.69355977e-01,  8.19222867e-01],\n",
       "       [-1.24197936e+00,  7.39318967e-01],\n",
       "       [ 5.08231997e-01, -7.22630858e-01],\n",
       "       [ 1.90804049e-01, -3.97189260e-01],\n",
       "       [ 7.57746041e-01, -1.21387517e+00],\n",
       "       [ 2.56248444e-01, -4.92380410e-01],\n",
       "       [ 2.54321039e-01, -5.67239344e-01],\n",
       "       [-8.69355977e-01,  8.19222867e-01],\n",
       "       [-3.25413406e-01,  1.79244235e-01],\n",
       "       [-8.69355977e-01,  8.19222867e-01],\n",
       "       [-1.50769818e+00,  9.85126317e-01],\n",
       "       [-4.11068201e-01,  1.26585588e-01],\n",
       "       [ 7.57746041e-01, -1.21387517e+00],\n",
       "       [-2.03275752e+00,  1.85185540e+00],\n",
       "       [ 4.37227070e-01, -8.76711011e-01],\n",
       "       [-2.67848432e-01,  1.45879328e-01],\n",
       "       [ 7.57745981e-01, -1.21387517e+00],\n",
       "       [-1.92458773e+00,  1.83979106e+00],\n",
       "       [ 4.37227070e-01, -8.76711011e-01],\n",
       "       [-4.38105941e-01,  3.27383906e-01],\n",
       "       [ 6.22554004e-01, -9.41933453e-01],\n",
       "       [-2.22201347e+00,  2.10553074e+00],\n",
       "       [ 2.60212690e-01, -6.52204096e-01],\n",
       "       [ 6.14352286e-01, -9.14189637e-01],\n",
       "       [ 7.57746041e-01, -1.21387517e+00],\n",
       "       [-1.11115563e+00,  9.19933975e-01],\n",
       "       [ 1.55075282e-01, -5.53733110e-01],\n",
       "       [ 6.14352286e-01, -9.14189637e-01],\n",
       "       [ 6.14352286e-01, -9.14189637e-01],\n",
       "       [ 4.37227070e-01, -8.76711011e-01],\n",
       "       [ 5.28999090e-01, -9.39308941e-01],\n",
       "       [ 2.86584437e-01, -3.91433269e-01],\n",
       "       [-8.69355977e-01,  8.19222867e-01],\n",
       "       [-2.40411997e+00,  2.26978493e+00],\n",
       "       [-8.69355977e-01,  8.19222867e-01],\n",
       "       [-2.03962874e+00,  1.91265070e+00],\n",
       "       [ 2.54321039e-01, -5.67239344e-01],\n",
       "       [ 5.32798171e-01, -7.32834816e-01],\n",
       "       [-3.34474385e-01,  2.56145410e-02],\n",
       "       [-2.35133156e-01,  1.19715229e-01],\n",
       "       [-1.39110601e+00,  1.18739045e+00],\n",
       "       [-1.80331647e+00,  1.60426283e+00],\n",
       "       [ 7.06936717e-01, -1.01720393e+00],\n",
       "       [-2.22201347e+00,  2.10553074e+00],\n",
       "       [ 7.57746041e-01, -1.21387517e+00],\n",
       "       [ 6.14352286e-01, -9.14189637e-01],\n",
       "       [-2.63308764e-01,  5.27475663e-02],\n",
       "       [ 7.57745981e-01, -1.21387517e+00],\n",
       "       [-4.93526876e-01,  3.66693377e-01],\n",
       "       [ 5.05272090e-01, -7.85112441e-01],\n",
       "       [ 4.37227070e-01, -8.76711011e-01],\n",
       "       [ 4.37227070e-01, -8.76711011e-01],\n",
       "       [ 7.93554306e-01, -7.32132375e-01],\n",
       "       [ 4.03757915e-02, -3.28804255e-01],\n",
       "       [ 5.71560502e-01, -8.13953996e-01],\n",
       "       [ 8.68927896e-01, -1.19105232e+00],\n",
       "       [ 7.57746041e-01, -1.21387517e+00],\n",
       "       [ 5.32798171e-01, -7.32834816e-01],\n",
       "       [ 5.28999090e-01, -9.39308941e-01],\n",
       "       [-3.25413406e-01,  1.79244235e-01],\n",
       "       [ 2.30603862e+00, -2.72219729e+00],\n",
       "       [ 3.42039436e-01, -8.13335061e-01],\n",
       "       [-2.24698639e+00,  2.17187905e+00],\n",
       "       [ 2.71202087e-01, -4.34241652e-01],\n",
       "       [ 2.41945565e-01, -6.40795708e-01],\n",
       "       [-7.93308914e-02, -2.17302173e-01],\n",
       "       [ 1.16172647e+00, -1.50863814e+00],\n",
       "       [-2.06169590e-01, -1.95623875e-01],\n",
       "       [ 4.37227070e-01, -8.76711011e-01],\n",
       "       [-1.45998836e-01, -2.27903128e-01],\n",
       "       [ 1.18548715e+00, -1.50222683e+00],\n",
       "       [-2.43913722e+00,  2.27501535e+00],\n",
       "       [ 5.32798171e-01, -7.32834816e-01],\n",
       "       [ 5.18640399e-01, -8.05869639e-01],\n",
       "       [-1.57983214e-01, -9.06461924e-02],\n",
       "       [ 3.44249845e-01, -9.56545711e-01],\n",
       "       [ 7.57746041e-01, -1.21387517e+00],\n",
       "       [-2.40305805e+00,  2.30033398e+00],\n",
       "       [-4.38105941e-01,  3.27383906e-01],\n",
       "       [-7.93307424e-02, -2.17302203e-01],\n",
       "       [-2.29029730e-01, -6.56735003e-02],\n",
       "       [-8.69355977e-01,  8.19222867e-01],\n",
       "       [-1.24197936e+00,  7.39318967e-01],\n",
       "       [-1.52016735e+00,  1.42184305e+00],\n",
       "       [ 7.57746041e-01, -1.21387517e+00],\n",
       "       [ 1.15586054e+00, -1.45141602e+00],\n",
       "       [-4.63837862e-01,  1.75909504e-01],\n",
       "       [-2.35133156e-01,  1.19715229e-01],\n",
       "       [ 1.30991256e+00, -1.68842459e+00],\n",
       "       [-1.99027526e+00,  1.93371868e+00],\n",
       "       [-3.25413406e-01,  1.79244235e-01],\n",
       "       [ 7.57746041e-01, -1.21387517e+00],\n",
       "       [ 5.32798171e-01, -7.32834816e-01],\n",
       "       [ 6.36415899e-01, -1.04048109e+00],\n",
       "       [ 5.32798171e-01, -7.32834816e-01],\n",
       "       [ 2.07582736e+00, -2.47102261e+00],\n",
       "       [-1.75030243e+00,  1.48804080e+00],\n",
       "       [-1.67699325e+00,  1.46930408e+00],\n",
       "       [-3.24509256e-02, -7.03227371e-02],\n",
       "       [-1.29777181e+00,  1.06312561e+00],\n",
       "       [-2.02328253e+00,  1.92339170e+00],\n",
       "       [ 5.28999090e-01, -9.39308941e-01],\n",
       "       [-1.88875735e-01,  3.11809517e-02],\n",
       "       [-2.13883972e+00,  1.96316719e+00],\n",
       "       [ 6.14352286e-01, -9.14189637e-01],\n",
       "       [-2.42286587e+00,  2.25372696e+00],\n",
       "       [ 3.69337320e-01, -6.72660172e-01],\n",
       "       [-1.60222077e+00,  1.47192311e+00],\n",
       "       [ 8.84992123e-01, -1.26822376e+00],\n",
       "       [ 1.03590953e+00, -1.58670044e+00],\n",
       "       [ 5.05272090e-01, -7.85112441e-01],\n",
       "       [ 4.38644350e-01, -7.51155555e-01],\n",
       "       [-1.45998716e-01, -2.27903008e-01],\n",
       "       [-9.04091835e-01,  3.98883581e-01],\n",
       "       [ 5.67640245e-01, -5.96419334e-01],\n",
       "       [-1.40687799e+00,  8.43998373e-01],\n",
       "       [ 8.68927896e-01, -1.19105232e+00],\n",
       "       [-1.72099173e+00,  1.31585014e+00],\n",
       "       [-4.38105941e-01,  3.27383906e-01],\n",
       "       [ 5.28999090e-01, -9.39308941e-01],\n",
       "       [-5.46511829e-01,  3.23720276e-01],\n",
       "       [-6.23209059e-01,  5.48251927e-01],\n",
       "       [-9.14585888e-01,  4.14296299e-01],\n",
       "       [ 2.21383676e-01, -3.10258031e-01],\n",
       "       [-1.71796393e+00,  1.53042948e+00],\n",
       "       [ 5.28999090e-01, -9.39308941e-01],\n",
       "       [-2.67848581e-01,  1.45879328e-01],\n",
       "       [-5.77179611e-01,  5.63971102e-01],\n",
       "       [ 5.28999090e-01, -9.39308941e-01],\n",
       "       [-2.25650930e+00,  2.17517281e+00],\n",
       "       [ 7.57746041e-01, -1.21387517e+00],\n",
       "       [ 1.55075282e-01, -5.53733110e-01],\n",
       "       [ 7.57746041e-01, -1.21387517e+00],\n",
       "       [ 1.06077254e-01, -5.30244708e-01],\n",
       "       [-1.37346971e+00,  1.19048750e+00],\n",
       "       [ 8.35769922e-02, -2.51049548e-01],\n",
       "       [ 4.83944677e-02, -3.79493356e-01],\n",
       "       [-8.69355977e-01,  8.19222867e-01],\n",
       "       [ 3.56638193e-01, -6.65103197e-01],\n",
       "       [-2.02328253e+00,  1.92339170e+00],\n",
       "       [ 4.37227070e-01, -8.76711011e-01],\n",
       "       [-1.91873395e+00,  1.75884700e+00],\n",
       "       [ 4.37227070e-01, -8.76711011e-01],\n",
       "       [-1.35329223e+00,  1.12887883e+00],\n",
       "       [ 7.57745981e-01, -1.21387517e+00],\n",
       "       [-1.70735276e+00,  1.72460294e+00],\n",
       "       [-2.79800773e-01,  1.90741330e-01],\n",
       "       [ 7.57746041e-01, -1.21387517e+00],\n",
       "       [-8.69355977e-01,  8.19222867e-01],\n",
       "       [ 2.49065146e-01, -5.67079723e-01],\n",
       "       [ 5.05272090e-01, -7.85112441e-01],\n",
       "       [-9.48649347e-02, -4.19420063e-01],\n",
       "       [-2.34725380e+00,  2.28913879e+00],\n",
       "       [ 8.90073419e-01, -1.33612597e+00],\n",
       "       [ 6.14352286e-01, -9.14189637e-01],\n",
       "       [-2.22766861e-01,  8.69927257e-02],\n",
       "       [ 7.57746041e-01, -1.21387517e+00],\n",
       "       [-3.24509256e-02, -7.03227371e-02],\n",
       "       [ 5.32798171e-01, -7.32834816e-01],\n",
       "       [-1.50091410e+00,  1.40588701e+00],\n",
       "       [-2.22201347e+00,  2.10553074e+00],\n",
       "       [-1.70735276e+00,  1.72460294e+00],\n",
       "       [-1.38318503e+00,  1.18678498e+00],\n",
       "       [-1.88875735e-01,  3.11809517e-02],\n",
       "       [ 7.57746041e-01, -1.21387517e+00],\n",
       "       [-6.37435555e-01,  9.44459140e-02],\n",
       "       [ 3.04005668e-03, -3.53382230e-01],\n",
       "       [-1.46717870e+00,  1.24968243e+00],\n",
       "       [ 6.05215371e-01, -9.94707227e-01],\n",
       "       [-1.39110601e+00,  1.18739045e+00],\n",
       "       [-3.20680439e-01,  2.51884282e-01],\n",
       "       [-1.67746389e+00,  1.48594034e+00],\n",
       "       [ 4.37227070e-01, -8.76711011e-01],\n",
       "       [-3.32521260e-01,  1.58351243e-01],\n",
       "       [ 4.37227070e-01, -8.76711011e-01],\n",
       "       [ 4.37227070e-01, -8.76710951e-01],\n",
       "       [ 7.57745981e-01, -1.21387517e+00],\n",
       "       [ 6.14352286e-01, -9.14189637e-01],\n",
       "       [ 4.37227070e-01, -8.76711011e-01],\n",
       "       [-1.52016735e+00,  1.42184305e+00],\n",
       "       [ 7.57746041e-01, -1.21387517e+00],\n",
       "       [ 6.48886502e-01, -9.36905503e-01],\n",
       "       [ 7.57746041e-01, -1.21387517e+00],\n",
       "       [-1.34434831e+00,  1.13917780e+00],\n",
       "       [-4.13461328e-01,  1.50933683e-01],\n",
       "       [ 1.18294120e-01, -2.46173680e-01],\n",
       "       [ 7.57746041e-01, -1.21387517e+00],\n",
       "       [ 6.52190149e-01, -1.07845759e+00],\n",
       "       [ 7.57746041e-01, -1.21387517e+00],\n",
       "       [-3.25413406e-01,  1.79244235e-01],\n",
       "       [ 4.37227070e-01, -8.76711011e-01],\n",
       "       [-2.35133156e-01,  1.19715229e-01],\n",
       "       [ 6.14352286e-01, -9.14189637e-01],\n",
       "       [-2.43913722e+00,  2.27501535e+00],\n",
       "       [-5.70347130e-01,  4.70601559e-01],\n",
       "       [ 5.32798171e-01, -7.32834816e-01],\n",
       "       [-1.60222077e+00,  1.47192311e+00],\n",
       "       [ 5.28999090e-01, -9.39308941e-01],\n",
       "       [ 4.38644201e-01, -7.51155615e-01],\n",
       "       [ 2.60212690e-01, -6.52204096e-01],\n",
       "       [ 5.28999090e-01, -9.39308941e-01],\n",
       "       [-3.25413406e-01,  1.79244235e-01],\n",
       "       [-9.14585888e-01,  4.14296299e-01],\n",
       "       [-8.69355977e-01,  8.19222867e-01],\n",
       "       [-1.13838577e+00,  9.06725585e-01],\n",
       "       [-3.34474385e-01,  2.56145410e-02],\n",
       "       [ 8.68927896e-01, -1.19105232e+00],\n",
       "       [ 7.57745981e-01, -1.21387517e+00],\n",
       "       [-2.63754368e-01, -1.48384452e-01],\n",
       "       [ 5.32798171e-01, -7.32834816e-01],\n",
       "       [ 4.37227070e-01, -8.76711011e-01],\n",
       "       [-2.06169590e-01, -1.95623875e-01],\n",
       "       [-8.69355977e-01,  8.19222867e-01],\n",
       "       [ 5.32798171e-01, -7.32834816e-01],\n",
       "       [ 6.66561782e-01, -9.19209301e-01],\n",
       "       [ 6.22554004e-01, -9.41933453e-01],\n",
       "       [ 7.57746041e-01, -1.21387517e+00],\n",
       "       [-2.28127480e+00,  1.97733402e+00],\n",
       "       [ 3.33706260e-01, -6.71598256e-01],\n",
       "       [-2.06169590e-01, -1.95623875e-01],\n",
       "       [ 7.57746041e-01, -1.21387517e+00],\n",
       "       [ 7.57746041e-01, -1.21387517e+00],\n",
       "       [ 9.44612920e-02, -2.61780202e-01],\n",
       "       [ 4.38644201e-01, -7.51155615e-01],\n",
       "       [ 4.37227070e-01, -8.76711011e-01],\n",
       "       [-8.69355977e-01,  8.19222867e-01],\n",
       "       [-1.92897058e+00,  1.81840372e+00],\n",
       "       [-1.01059929e-01, -3.49671304e-01],\n",
       "       [-1.00063014e+00,  4.93566573e-01],\n",
       "       [ 3.56638193e-01, -6.65103197e-01],\n",
       "       [-3.63140225e-01,  1.31545201e-01],\n",
       "       [ 4.37227070e-01, -8.76711011e-01],\n",
       "       [ 5.32798171e-01, -7.32834816e-01],\n",
       "       [ 7.57746041e-01, -1.21387517e+00],\n",
       "       [-5.77179611e-01,  5.63971102e-01],\n",
       "       [-1.85285091e+00,  1.81495976e+00],\n",
       "       [-8.69355977e-01,  8.19222867e-01],\n",
       "       [-3.24509256e-02, -7.03227371e-02],\n",
       "       [ 5.28999090e-01, -9.39308941e-01],\n",
       "       [ 7.57745981e-01, -1.21387517e+00],\n",
       "       [ 3.48927796e-01, -7.79528797e-01],\n",
       "       [ 7.57746041e-01, -1.21387517e+00],\n",
       "       [ 5.32798171e-01, -7.32834816e-01],\n",
       "       [ 5.28999090e-01, -9.39308941e-01],\n",
       "       [-7.93308914e-02, -2.17302173e-01],\n",
       "       [-2.24698639e+00,  2.17187905e+00],\n",
       "       [ 7.57746041e-01, -1.21387517e+00],\n",
       "       [-1.67089283e+00,  1.40059304e+00],\n",
       "       [-2.35133156e-01,  1.19715229e-01],\n",
       "       [ 2.60212690e-01, -6.52204096e-01],\n",
       "       [ 5.28999090e-01, -9.39308941e-01],\n",
       "       [-1.40746367e+00,  1.19947839e+00],\n",
       "       [-6.52431697e-02,  1.77263804e-02],\n",
       "       [ 5.32798171e-01, -7.32834816e-01],\n",
       "       [-7.02290833e-01,  5.54923236e-01],\n",
       "       [ 7.57746041e-01, -1.21387517e+00],\n",
       "       [-1.45998836e-01, -2.27903128e-01],\n",
       "       [ 5.28999090e-01, -9.39308941e-01],\n",
       "       [ 1.11750543e+00, -1.29670620e+00],\n",
       "       [ 1.06077254e-01, -5.30244708e-01],\n",
       "       [-1.23316658e+00,  8.49104643e-01],\n",
       "       [ 5.28999090e-01, -9.39308941e-01],\n",
       "       [ 7.57746041e-01, -1.21387517e+00],\n",
       "       [ 2.78725195e+00, -3.34464121e+00],\n",
       "       [-1.94163930e+00,  1.87257934e+00],\n",
       "       [-9.04091835e-01,  3.98883581e-01],\n",
       "       [-6.69933379e-01,  4.67170835e-01],\n",
       "       [ 5.28999090e-01, -9.39308941e-01],\n",
       "       [-1.04100645e+00,  9.20889616e-01],\n",
       "       [ 5.28999090e-01, -9.39308941e-01],\n",
       "       [-1.61801016e+00,  1.47836423e+00],\n",
       "       [-2.22201324e+00,  2.10553074e+00],\n",
       "       [ 5.28999209e-01, -9.39309061e-01],\n",
       "       [ 1.06077254e-01, -5.30244708e-01],\n",
       "       [ 1.00444031e+00, -1.38822174e+00],\n",
       "       [-1.60228685e-01, -1.48545966e-01],\n",
       "       [ 1.90804049e-01, -3.97189260e-01],\n",
       "       [-2.00603628e+00,  1.86926723e+00],\n",
       "       [ 7.57746041e-01, -1.21387517e+00],\n",
       "       [ 6.14352286e-01, -9.14189637e-01],\n",
       "       [-6.56228364e-01,  3.84370983e-01],\n",
       "       [ 1.46250784e+00, -2.18248892e+00],\n",
       "       [-1.83364308e+00,  1.62477231e+00],\n",
       "       [-1.46717870e+00,  1.24968243e+00],\n",
       "       [ 4.37227070e-01, -8.76711011e-01],\n",
       "       [-2.43913722e+00,  2.27501535e+00],\n",
       "       [ 1.21019197e+00, -1.72787702e+00],\n",
       "       [ 2.54321039e-01, -5.67239344e-01],\n",
       "       [-9.52559888e-01,  6.35818064e-01],\n",
       "       [-2.22201347e+00,  2.10553074e+00],\n",
       "       [ 1.18294120e-01, -2.46173680e-01],\n",
       "       [ 5.19133329e-01, -9.15379703e-01],\n",
       "       [-2.76109266e+00,  2.55065703e+00],\n",
       "       [ 4.93220091e-01, -6.87841177e-01],\n",
       "       [ 5.05272090e-01, -7.85112441e-01],\n",
       "       [-2.00603628e+00,  1.86926723e+00],\n",
       "       [-2.40411997e+00,  2.26978493e+00],\n",
       "       [-6.05634786e-02, -1.15875214e-01],\n",
       "       [ 5.28999090e-01, -9.39308941e-01],\n",
       "       [ 3.07753891e-01, -5.65299094e-01],\n",
       "       [ 3.44249845e-01, -9.56545711e-01],\n",
       "       [ 6.14352286e-01, -9.14189637e-01],\n",
       "       [ 6.14352286e-01, -9.14189637e-01],\n",
       "       [-8.20745766e-01,  5.92012942e-01],\n",
       "       [-6.56228244e-01,  3.84370774e-01],\n",
       "       [ 5.28999090e-01, -9.39308941e-01],\n",
       "       [-1.48641288e+00,  1.26450729e+00],\n",
       "       [ 7.57746041e-01, -1.21387517e+00],\n",
       "       [ 6.22138679e-01, -8.02595675e-01],\n",
       "       [ 6.14352286e-01, -9.14189637e-01],\n",
       "       [-3.43697160e-01, -2.23229945e-01],\n",
       "       [-2.06169590e-01, -1.95623875e-01],\n",
       "       [-2.03962874e+00,  1.91265070e+00],\n",
       "       [-9.04091835e-01,  3.98883581e-01],\n",
       "       [ 5.05272090e-01, -7.85112441e-01],\n",
       "       [ 1.42827725e+00, -1.79245913e+00],\n",
       "       [-2.13883972e+00,  1.96316719e+00],\n",
       "       [ 6.14352286e-01, -9.14189637e-01],\n",
       "       [-2.24641943e+00,  2.11486316e+00],\n",
       "       [ 7.57746041e-01, -1.21387517e+00],\n",
       "       [ 6.14352286e-01, -9.14189637e-01],\n",
       "       [-2.40305805e+00,  2.30033398e+00],\n",
       "       [ 4.38644201e-01, -7.51155615e-01],\n",
       "       [-2.76375484e+00,  2.54806137e+00],\n",
       "       [-2.06169590e-01, -1.95623875e-01],\n",
       "       [-6.61033243e-02, -1.68652460e-03],\n",
       "       [ 1.18294120e-01, -2.46173680e-01],\n",
       "       [ 5.19133329e-01, -9.15379703e-01],\n",
       "       [ 3.35627235e-02, -1.56369165e-01],\n",
       "       [-8.69355977e-01,  8.19222867e-01],\n",
       "       [-4.13461328e-01,  1.50933683e-01],\n",
       "       [-8.69355977e-01,  8.19222867e-01],\n",
       "       [-2.22023821e+00,  2.09569788e+00],\n",
       "       [-4.38105941e-01,  3.27383906e-01],\n",
       "       [ 4.37227070e-01, -8.76711011e-01],\n",
       "       [-1.76397431e+00,  1.69021225e+00],\n",
       "       [ 8.68927956e-01, -1.19105232e+00],\n",
       "       [ 4.37227070e-01, -8.76710951e-01],\n",
       "       [-1.24197936e+00,  7.39318907e-01]], dtype=float32)"
      ]
     },
     "metadata": {},
     "execution_count": 168
    }
   ],
   "source": [
    "Y_pred"
   ]
  },
  {
   "cell_type": "code",
   "execution_count": null,
   "metadata": {},
   "outputs": [],
   "source": []
  }
 ]
}