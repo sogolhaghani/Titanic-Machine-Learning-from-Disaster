{
 "metadata": {
  "language_info": {
   "codemirror_mode": {
    "name": "ipython",
    "version": 3
   },
   "file_extension": ".py",
   "mimetype": "text/x-python",
   "name": "python",
   "nbconvert_exporter": "python",
   "pygments_lexer": "ipython3",
   "version": "3.7.6-final"
  },
  "orig_nbformat": 2,
  "kernelspec": {
   "name": "python37364bitanaconda3virtualenv17c84ce56901433a85eef3c70d4c4b9d",
   "display_name": "Python 3.7.3 64-bit ('anaconda3': virtualenv)"
  }
 },
 "nbformat": 4,
 "nbformat_minor": 2,
 "cells": [
  {
   "source": [
    "# data analysis and wrangling\n"
   ],
   "cell_type": "markdown",
   "metadata": {}
  },
  {
   "source": [
    "## Imports"
   ],
   "cell_type": "markdown",
   "metadata": {}
  },
  {
   "source": [
    "import ppscore as pps # importing ppscore\n",
    "\n",
    "import pandas as pd\n",
    "import numpy as np\n",
    "import random as rnd\n",
    "\n",
    "# visualization\n",
    "import seaborn as sns\n",
    "import matplotlib.pyplot as plt\n",
    "%matplotlib inline\n",
    "\n",
    "\n",
    "# preprocessing\n",
    "from sklearn import preprocessing\n",
    "\n",
    "# machine learning\n",
    "from sklearn.linear_model import LogisticRegression\n",
    "from sklearn.svm import SVC, LinearSVC\n",
    "from sklearn.ensemble import RandomForestClassifier\n",
    "from sklearn.neighbors import KNeighborsClassifier\n",
    "from sklearn.naive_bayes import GaussianNB\n",
    "from sklearn.linear_model import Perceptron\n",
    "from sklearn.linear_model import SGDClassifier\n",
    "from sklearn.tree import DecisionTreeClassifier\n",
    "from sklearn.neural_network import MLPClassifier\n",
    "\n",
    "from sklearn.metrics import accuracy_score\n"
   ],
   "cell_type": "code",
   "metadata": {},
   "execution_count": 5,
   "outputs": []
  },
  {
   "source": [
    "## Load Data"
   ],
   "cell_type": "markdown",
   "metadata": {}
  },
  {
   "cell_type": "code",
   "execution_count": 6,
   "metadata": {},
   "outputs": [
    {
     "output_type": "stream",
     "name": "stdout",
     "text": [
      "['PassengerId' 'Survived' 'Pclass' 'Name' 'Sex' 'Age' 'SibSp' 'Parch'\n 'Ticket' 'Fare' 'Cabin' 'Embarked']\n"
     ]
    }
   ],
   "source": [
    "train_df = pd.read_csv('../dataset/train.csv')\n",
    "test_df = pd.read_csv('../dataset/test.csv')\n",
    "result_df = pd.read_csv('../dataset/gender_submission.csv')\n",
    "combine = [train_df , test_df]\n",
    "print(train_df.columns.values)"
   ]
  },
  {
   "cell_type": "code",
   "execution_count": 34,
   "metadata": {},
   "outputs": [],
   "source": [
    "for dataset in combine:\n",
    "    dataset['Mu'] = 1\n",
    "    dataset.loc[(dataset.Ticket.duplicated(keep= False)) , 'Mu'] = 0\n",
    "    dataset['Mu'] = dataset['Mu'].astype(int)\n",
    "train_df[['Mu', 'Survived']].groupby(['Mu'], as_index=False).mean()"
   ]
  },
  {
   "cell_type": "code",
   "execution_count": 7,
   "metadata": {},
   "outputs": [
    {
     "output_type": "stream",
     "name": "stdout",
     "text": [
      "Before (891, 12) (418, 11) (891, 12) (418, 11)\n"
     ]
    },
    {
     "output_type": "execute_result",
     "data": {
      "text/plain": [
       "('After', (891, 10), (418, 9), (891, 10), (418, 9))"
      ]
     },
     "metadata": {},
     "execution_count": 7
    }
   ],
   "source": [
    "print(\"Before\", train_df.shape, test_df.shape, combine[0].shape, combine[1].shape)\n",
    "\n",
    "train_df = train_df.drop(['Cabin', 'Ticket'], axis=1)\n",
    "test_df = test_df.drop([ 'Cabin', 'Ticket'], axis=1)\n",
    "combine = [train_df, test_df]\n",
    "\n",
    "\"After\", train_df.shape, test_df.shape, combine[0].shape, combine[1].shape"
   ]
  },
  {
   "cell_type": "code",
   "execution_count": 8,
   "metadata": {},
   "outputs": [
    {
     "output_type": "execute_result",
     "data": {
      "text/plain": [
       "Sex       female  male\n",
       "Title                 \n",
       "Capt           0     1\n",
       "Col            0     2\n",
       "Countess       1     0\n",
       "Don            0     1\n",
       "Dr             1     6\n",
       "Jonkheer       0     1\n",
       "Lady           1     0\n",
       "Major          0     2\n",
       "Master         0    40\n",
       "Miss         182     0\n",
       "Mlle           2     0\n",
       "Mme            1     0\n",
       "Mr             0   517\n",
       "Mrs          125     0\n",
       "Ms             1     0\n",
       "Rev            0     6\n",
       "Sir            0     1"
      ],
      "text/html": "<div>\n<style scoped>\n    .dataframe tbody tr th:only-of-type {\n        vertical-align: middle;\n    }\n\n    .dataframe tbody tr th {\n        vertical-align: top;\n    }\n\n    .dataframe thead th {\n        text-align: right;\n    }\n</style>\n<table border=\"1\" class=\"dataframe\">\n  <thead>\n    <tr style=\"text-align: right;\">\n      <th>Sex</th>\n      <th>female</th>\n      <th>male</th>\n    </tr>\n    <tr>\n      <th>Title</th>\n      <th></th>\n      <th></th>\n    </tr>\n  </thead>\n  <tbody>\n    <tr>\n      <th>Capt</th>\n      <td>0</td>\n      <td>1</td>\n    </tr>\n    <tr>\n      <th>Col</th>\n      <td>0</td>\n      <td>2</td>\n    </tr>\n    <tr>\n      <th>Countess</th>\n      <td>1</td>\n      <td>0</td>\n    </tr>\n    <tr>\n      <th>Don</th>\n      <td>0</td>\n      <td>1</td>\n    </tr>\n    <tr>\n      <th>Dr</th>\n      <td>1</td>\n      <td>6</td>\n    </tr>\n    <tr>\n      <th>Jonkheer</th>\n      <td>0</td>\n      <td>1</td>\n    </tr>\n    <tr>\n      <th>Lady</th>\n      <td>1</td>\n      <td>0</td>\n    </tr>\n    <tr>\n      <th>Major</th>\n      <td>0</td>\n      <td>2</td>\n    </tr>\n    <tr>\n      <th>Master</th>\n      <td>0</td>\n      <td>40</td>\n    </tr>\n    <tr>\n      <th>Miss</th>\n      <td>182</td>\n      <td>0</td>\n    </tr>\n    <tr>\n      <th>Mlle</th>\n      <td>2</td>\n      <td>0</td>\n    </tr>\n    <tr>\n      <th>Mme</th>\n      <td>1</td>\n      <td>0</td>\n    </tr>\n    <tr>\n      <th>Mr</th>\n      <td>0</td>\n      <td>517</td>\n    </tr>\n    <tr>\n      <th>Mrs</th>\n      <td>125</td>\n      <td>0</td>\n    </tr>\n    <tr>\n      <th>Ms</th>\n      <td>1</td>\n      <td>0</td>\n    </tr>\n    <tr>\n      <th>Rev</th>\n      <td>0</td>\n      <td>6</td>\n    </tr>\n    <tr>\n      <th>Sir</th>\n      <td>0</td>\n      <td>1</td>\n    </tr>\n  </tbody>\n</table>\n</div>"
     },
     "metadata": {},
     "execution_count": 8
    }
   ],
   "source": [
    "for dataset in combine:\n",
    "    dataset['Title'] = dataset.Name.str.extract(' ([A-Za-z]+)\\.', expand=False)\n",
    "    \n",
    "pd.crosstab(train_df['Title'], train_df['Sex'])"
   ]
  },
  {
   "cell_type": "code",
   "execution_count": 9,
   "metadata": {},
   "outputs": [
    {
     "output_type": "execute_result",
     "data": {
      "text/plain": [
       "    Title  Survived\n",
       "0  Master  0.575000\n",
       "1    Miss  0.705882\n",
       "2      Mr  0.159615\n",
       "3     Mrs  0.793651\n",
       "4    Rare  0.222222"
      ],
      "text/html": "<div>\n<style scoped>\n    .dataframe tbody tr th:only-of-type {\n        vertical-align: middle;\n    }\n\n    .dataframe tbody tr th {\n        vertical-align: top;\n    }\n\n    .dataframe thead th {\n        text-align: right;\n    }\n</style>\n<table border=\"1\" class=\"dataframe\">\n  <thead>\n    <tr style=\"text-align: right;\">\n      <th></th>\n      <th>Title</th>\n      <th>Survived</th>\n    </tr>\n  </thead>\n  <tbody>\n    <tr>\n      <th>0</th>\n      <td>Master</td>\n      <td>0.575000</td>\n    </tr>\n    <tr>\n      <th>1</th>\n      <td>Miss</td>\n      <td>0.705882</td>\n    </tr>\n    <tr>\n      <th>2</th>\n      <td>Mr</td>\n      <td>0.159615</td>\n    </tr>\n    <tr>\n      <th>3</th>\n      <td>Mrs</td>\n      <td>0.793651</td>\n    </tr>\n    <tr>\n      <th>4</th>\n      <td>Rare</td>\n      <td>0.222222</td>\n    </tr>\n  </tbody>\n</table>\n</div>"
     },
     "metadata": {},
     "execution_count": 9
    }
   ],
   "source": [
    "for dataset in combine:\n",
    "    dataset['Title'] = dataset['Title'].replace(['Mlle', 'Lady', 'Ms', 'Countess'], 'Miss')\n",
    "    dataset['Title'] = dataset['Title'].replace('Mme', 'Mrs')\n",
    "    dataset['Title'] = dataset['Title'].replace(['Sir', 'Major'], 'Mr')\n",
    "    dataset['Title'] = dataset['Title'].replace('^(?!.*(Miss|Mrs|Mr|Master)).*$', 'Rare',regex=True)\n",
    "    \n",
    "train_df[['Title', 'Survived']].groupby(['Title'], as_index=False).mean()"
   ]
  },
  {
   "cell_type": "code",
   "execution_count": 10,
   "metadata": {},
   "outputs": [
    {
     "output_type": "execute_result",
     "data": {
      "text/plain": [
       "   PassengerId  Survived  Pclass  \\\n",
       "0            1         0       3   \n",
       "1            2         1       1   \n",
       "2            3         1       3   \n",
       "3            4         1       1   \n",
       "4            5         0       3   \n",
       "\n",
       "                                                Name     Sex   Age  SibSp  \\\n",
       "0                            Braund, Mr. Owen Harris    male  22.0      1   \n",
       "1  Cumings, Mrs. John Bradley (Florence Briggs Th...  female  38.0      1   \n",
       "2                             Heikkinen, Miss. Laina  female  26.0      0   \n",
       "3       Futrelle, Mrs. Jacques Heath (Lily May Peel)  female  35.0      1   \n",
       "4                           Allen, Mr. William Henry    male  35.0      0   \n",
       "\n",
       "   Parch     Fare Embarked  Title  \n",
       "0      0   7.2500        S      1  \n",
       "1      0  71.2833        C      2  \n",
       "2      0   7.9250        S      4  \n",
       "3      0  53.1000        S      2  \n",
       "4      0   8.0500        S      1  "
      ],
      "text/html": "<div>\n<style scoped>\n    .dataframe tbody tr th:only-of-type {\n        vertical-align: middle;\n    }\n\n    .dataframe tbody tr th {\n        vertical-align: top;\n    }\n\n    .dataframe thead th {\n        text-align: right;\n    }\n</style>\n<table border=\"1\" class=\"dataframe\">\n  <thead>\n    <tr style=\"text-align: right;\">\n      <th></th>\n      <th>PassengerId</th>\n      <th>Survived</th>\n      <th>Pclass</th>\n      <th>Name</th>\n      <th>Sex</th>\n      <th>Age</th>\n      <th>SibSp</th>\n      <th>Parch</th>\n      <th>Fare</th>\n      <th>Embarked</th>\n      <th>Title</th>\n    </tr>\n  </thead>\n  <tbody>\n    <tr>\n      <th>0</th>\n      <td>1</td>\n      <td>0</td>\n      <td>3</td>\n      <td>Braund, Mr. Owen Harris</td>\n      <td>male</td>\n      <td>22.0</td>\n      <td>1</td>\n      <td>0</td>\n      <td>7.2500</td>\n      <td>S</td>\n      <td>1</td>\n    </tr>\n    <tr>\n      <th>1</th>\n      <td>2</td>\n      <td>1</td>\n      <td>1</td>\n      <td>Cumings, Mrs. John Bradley (Florence Briggs Th...</td>\n      <td>female</td>\n      <td>38.0</td>\n      <td>1</td>\n      <td>0</td>\n      <td>71.2833</td>\n      <td>C</td>\n      <td>2</td>\n    </tr>\n    <tr>\n      <th>2</th>\n      <td>3</td>\n      <td>1</td>\n      <td>3</td>\n      <td>Heikkinen, Miss. Laina</td>\n      <td>female</td>\n      <td>26.0</td>\n      <td>0</td>\n      <td>0</td>\n      <td>7.9250</td>\n      <td>S</td>\n      <td>4</td>\n    </tr>\n    <tr>\n      <th>3</th>\n      <td>4</td>\n      <td>1</td>\n      <td>1</td>\n      <td>Futrelle, Mrs. Jacques Heath (Lily May Peel)</td>\n      <td>female</td>\n      <td>35.0</td>\n      <td>1</td>\n      <td>0</td>\n      <td>53.1000</td>\n      <td>S</td>\n      <td>2</td>\n    </tr>\n    <tr>\n      <th>4</th>\n      <td>5</td>\n      <td>0</td>\n      <td>3</td>\n      <td>Allen, Mr. William Henry</td>\n      <td>male</td>\n      <td>35.0</td>\n      <td>0</td>\n      <td>0</td>\n      <td>8.0500</td>\n      <td>S</td>\n      <td>1</td>\n    </tr>\n  </tbody>\n</table>\n</div>"
     },
     "metadata": {},
     "execution_count": 10
    }
   ],
   "source": [
    "title_mapping = {\"Mr\": 1, \"Miss\": 4, \"Mrs\": 2, \"Master\": 3, \"Rare\": 0}\n",
    "for dataset in combine:\n",
    "    dataset['Title'] = dataset['Title'].map(title_mapping)\n",
    "    dataset['Title'] = dataset['Title'].fillna(0)\n",
    "\n",
    "train_df.head()"
   ]
  },
  {
   "cell_type": "code",
   "execution_count": 11,
   "metadata": {},
   "outputs": [
    {
     "output_type": "execute_result",
     "data": {
      "text/plain": [
       "((891, 9), (418, 9))"
      ]
     },
     "metadata": {},
     "execution_count": 11
    }
   ],
   "source": [
    "train_df = train_df.drop(['Name', 'PassengerId'], axis=1)\n",
    "test_df = test_df.drop(['Name'], axis=1)\n",
    "combine = [train_df, test_df]\n",
    "train_df.shape, test_df.shape"
   ]
  },
  {
   "cell_type": "code",
   "execution_count": 12,
   "metadata": {},
   "outputs": [
    {
     "output_type": "execute_result",
     "data": {
      "text/plain": [
       "   Survived  Pclass  Sex   Age  SibSp  Parch     Fare Embarked  Title\n",
       "0         0       3    0  22.0      1      0   7.2500        S      1\n",
       "1         1       1    1  38.0      1      0  71.2833        C      2\n",
       "2         1       3    1  26.0      0      0   7.9250        S      4\n",
       "3         1       1    1  35.0      1      0  53.1000        S      2\n",
       "4         0       3    0  35.0      0      0   8.0500        S      1"
      ],
      "text/html": "<div>\n<style scoped>\n    .dataframe tbody tr th:only-of-type {\n        vertical-align: middle;\n    }\n\n    .dataframe tbody tr th {\n        vertical-align: top;\n    }\n\n    .dataframe thead th {\n        text-align: right;\n    }\n</style>\n<table border=\"1\" class=\"dataframe\">\n  <thead>\n    <tr style=\"text-align: right;\">\n      <th></th>\n      <th>Survived</th>\n      <th>Pclass</th>\n      <th>Sex</th>\n      <th>Age</th>\n      <th>SibSp</th>\n      <th>Parch</th>\n      <th>Fare</th>\n      <th>Embarked</th>\n      <th>Title</th>\n    </tr>\n  </thead>\n  <tbody>\n    <tr>\n      <th>0</th>\n      <td>0</td>\n      <td>3</td>\n      <td>0</td>\n      <td>22.0</td>\n      <td>1</td>\n      <td>0</td>\n      <td>7.2500</td>\n      <td>S</td>\n      <td>1</td>\n    </tr>\n    <tr>\n      <th>1</th>\n      <td>1</td>\n      <td>1</td>\n      <td>1</td>\n      <td>38.0</td>\n      <td>1</td>\n      <td>0</td>\n      <td>71.2833</td>\n      <td>C</td>\n      <td>2</td>\n    </tr>\n    <tr>\n      <th>2</th>\n      <td>1</td>\n      <td>3</td>\n      <td>1</td>\n      <td>26.0</td>\n      <td>0</td>\n      <td>0</td>\n      <td>7.9250</td>\n      <td>S</td>\n      <td>4</td>\n    </tr>\n    <tr>\n      <th>3</th>\n      <td>1</td>\n      <td>1</td>\n      <td>1</td>\n      <td>35.0</td>\n      <td>1</td>\n      <td>0</td>\n      <td>53.1000</td>\n      <td>S</td>\n      <td>2</td>\n    </tr>\n    <tr>\n      <th>4</th>\n      <td>0</td>\n      <td>3</td>\n      <td>0</td>\n      <td>35.0</td>\n      <td>0</td>\n      <td>0</td>\n      <td>8.0500</td>\n      <td>S</td>\n      <td>1</td>\n    </tr>\n  </tbody>\n</table>\n</div>"
     },
     "metadata": {},
     "execution_count": 12
    }
   ],
   "source": [
    "for dataset in combine:\n",
    "    dataset['Sex'] = dataset['Sex'].map( {'female': 1, 'male': 0} ).astype(int)\n",
    "\n",
    "train_df.head()"
   ]
  },
  {
   "cell_type": "code",
   "execution_count": 14,
   "metadata": {},
   "outputs": [
    {
     "output_type": "execute_result",
     "data": {
      "text/plain": [
       "<matplotlib.axes._subplots.AxesSubplot at 0x7fa9b79c1ed0>"
      ]
     },
     "metadata": {},
     "execution_count": 14
    },
    {
     "output_type": "display_data",
     "data": {
      "text/plain": "<Figure size 432x288 with 2 Axes>",
      "image/svg+xml": "<?xml version=\"1.0\" encoding=\"utf-8\" standalone=\"no\"?>\n<!DOCTYPE svg PUBLIC \"-//W3C//DTD SVG 1.1//EN\"\n  \"http://www.w3.org/Graphics/SVG/1.1/DTD/svg11.dtd\">\n<!-- Created with matplotlib (https://matplotlib.org/) -->\n<svg height=\"307.251719pt\" version=\"1.1\" viewBox=\"0 0 404.367625 307.251719\" width=\"404.367625pt\" xmlns=\"http://www.w3.org/2000/svg\" xmlns:xlink=\"http://www.w3.org/1999/xlink\">\n <defs>\n  <style type=\"text/css\">\n*{stroke-linecap:butt;stroke-linejoin:round;}\n  </style>\n </defs>\n <g id=\"figure_1\">\n  <g id=\"patch_1\">\n   <path d=\"M 0 307.251719 \nL 404.367625 307.251719 \nL 404.367625 0 \nL 0 0 \nz\n\" style=\"fill:none;\"/>\n  </g>\n  <g id=\"axes_1\">\n   <g id=\"patch_2\">\n    <path d=\"M 78.8125 228.439219 \nL 346.6525 228.439219 \nL 346.6525 10.999219 \nL 78.8125 10.999219 \nz\n\" style=\"fill:#ffffff;\"/>\n   </g>\n   <g id=\"QuadMesh_1\">\n    <path clip-path=\"url(#p18c6e01adb)\" d=\"M 78.8125 10.999219 \nL 108.5725 10.999219 \nL 108.5725 35.159219 \nL 78.8125 35.159219 \nL 78.8125 10.999219 \n\" style=\"fill:#ffd4ac;stroke:#ffffff;stroke-width:0.75;\"/>\n    <path clip-path=\"url(#p18c6e01adb)\" d=\"M 108.5725 10.999219 \nL 138.3325 10.999219 \nL 138.3325 35.159219 \nL 108.5725 35.159219 \nL 108.5725 10.999219 \n\" style=\"fill:#bde7db;stroke:#ffffff;stroke-width:0.75;\"/>\n    <path clip-path=\"url(#p18c6e01adb)\" d=\"M 138.3325 10.999219 \nL 168.0925 10.999219 \nL 168.0925 35.159219 \nL 138.3325 35.159219 \nL 138.3325 10.999219 \n\" style=\"fill:#bde7db;stroke:#ffffff;stroke-width:0.75;\"/>\n    <path clip-path=\"url(#p18c6e01adb)\" d=\"M 168.0925 10.999219 \nL 197.8525 10.999219 \nL 197.8525 35.159219 \nL 168.0925 35.159219 \nL 168.0925 10.999219 \n\" style=\"fill:#a9d9d6;stroke:#ffffff;stroke-width:0.75;\"/>\n    <path clip-path=\"url(#p18c6e01adb)\" d=\"M 197.8525 10.999219 \nL 227.6125 10.999219 \nL 227.6125 35.159219 \nL 197.8525 35.159219 \nL 197.8525 10.999219 \n\" style=\"fill:#8dc6d0;stroke:#ffffff;stroke-width:0.75;\"/>\n    <path clip-path=\"url(#p18c6e01adb)\" d=\"M 227.6125 10.999219 \nL 257.3725 10.999219 \nL 257.3725 35.159219 \nL 227.6125 35.159219 \nL 227.6125 10.999219 \n\" style=\"fill:#bde7db;stroke:#ffffff;stroke-width:0.75;\"/>\n    <path clip-path=\"url(#p18c6e01adb)\" d=\"M 257.3725 10.999219 \nL 287.1325 10.999219 \nL 287.1325 35.159219 \nL 257.3725 35.159219 \nL 257.3725 10.999219 \n\" style=\"fill:#a1d3d4;stroke:#ffffff;stroke-width:0.75;\"/>\n    <path clip-path=\"url(#p18c6e01adb)\" d=\"M 287.1325 10.999219 \nL 316.8925 10.999219 \nL 316.8925 35.159219 \nL 287.1325 35.159219 \nL 287.1325 10.999219 \n\" style=\"fill:#bde7db;stroke:#ffffff;stroke-width:0.75;\"/>\n    <path clip-path=\"url(#p18c6e01adb)\" d=\"M 316.8925 10.999219 \nL 346.6525 10.999219 \nL 346.6525 35.159219 \nL 316.8925 35.159219 \nL 316.8925 10.999219 \n\" style=\"fill:#5da9cd;stroke:#ffffff;stroke-width:0.75;\"/>\n    <path clip-path=\"url(#p18c6e01adb)\" d=\"M 78.8125 35.159219 \nL 108.5725 35.159219 \nL 108.5725 59.319219 \nL 78.8125 59.319219 \nL 78.8125 35.159219 \n\" style=\"fill:#9bcfd3;stroke:#ffffff;stroke-width:0.75;\"/>\n    <path clip-path=\"url(#p18c6e01adb)\" d=\"M 108.5725 35.159219 \nL 138.3325 35.159219 \nL 138.3325 59.319219 \nL 108.5725 59.319219 \nL 108.5725 35.159219 \n\" style=\"fill:#ffd4ac;stroke:#ffffff;stroke-width:0.75;\"/>\n    <path clip-path=\"url(#p18c6e01adb)\" d=\"M 138.3325 35.159219 \nL 168.0925 35.159219 \nL 168.0925 59.319219 \nL 138.3325 59.319219 \nL 138.3325 35.159219 \n\" style=\"fill:#b13242;stroke:#ffffff;stroke-width:0.75;\"/>\n    <path clip-path=\"url(#p18c6e01adb)\" d=\"M 168.0925 35.159219 \nL 197.8525 35.159219 \nL 197.8525 59.319219 \nL 168.0925 59.319219 \nL 168.0925 35.159219 \n\" style=\"fill:#bde7db;stroke:#ffffff;stroke-width:0.75;\"/>\n    <path clip-path=\"url(#p18c6e01adb)\" d=\"M 197.8525 35.159219 \nL 227.6125 35.159219 \nL 227.6125 59.319219 \nL 197.8525 59.319219 \nL 197.8525 35.159219 \n\" style=\"fill:#bde7db;stroke:#ffffff;stroke-width:0.75;\"/>\n    <path clip-path=\"url(#p18c6e01adb)\" d=\"M 227.6125 35.159219 \nL 257.3725 35.159219 \nL 257.3725 59.319219 \nL 227.6125 59.319219 \nL 227.6125 35.159219 \n\" style=\"fill:#bde7db;stroke:#ffffff;stroke-width:0.75;\"/>\n    <path clip-path=\"url(#p18c6e01adb)\" d=\"M 257.3725 35.159219 \nL 287.1325 35.159219 \nL 287.1325 59.319219 \nL 257.3725 59.319219 \nL 257.3725 35.159219 \n\" style=\"fill:#bde7db;stroke:#ffffff;stroke-width:0.75;\"/>\n    <path clip-path=\"url(#p18c6e01adb)\" d=\"M 287.1325 35.159219 \nL 316.8925 35.159219 \nL 316.8925 59.319219 \nL 287.1325 59.319219 \nL 287.1325 35.159219 \n\" style=\"fill:#bde7db;stroke:#ffffff;stroke-width:0.75;\"/>\n    <path clip-path=\"url(#p18c6e01adb)\" d=\"M 316.8925 35.159219 \nL 346.6525 35.159219 \nL 346.6525 59.319219 \nL 316.8925 59.319219 \nL 316.8925 35.159219 \n\" style=\"fill:#bde7db;stroke:#ffffff;stroke-width:0.75;\"/>\n    <path clip-path=\"url(#p18c6e01adb)\" d=\"M 78.8125 59.319219 \nL 108.5725 59.319219 \nL 108.5725 83.479219 \nL 78.8125 83.479219 \nL 78.8125 59.319219 \n\" style=\"fill:#bde7db;stroke:#ffffff;stroke-width:0.75;\"/>\n    <path clip-path=\"url(#p18c6e01adb)\" d=\"M 108.5725 59.319219 \nL 138.3325 59.319219 \nL 138.3325 83.479219 \nL 108.5725 83.479219 \nL 108.5725 59.319219 \n\" style=\"fill:#bde7db;stroke:#ffffff;stroke-width:0.75;\"/>\n    <path clip-path=\"url(#p18c6e01adb)\" d=\"M 138.3325 59.319219 \nL 168.0925 59.319219 \nL 168.0925 83.479219 \nL 138.3325 83.479219 \nL 138.3325 59.319219 \n\" style=\"fill:#ffd4ac;stroke:#ffffff;stroke-width:0.75;\"/>\n    <path clip-path=\"url(#p18c6e01adb)\" d=\"M 168.0925 59.319219 \nL 197.8525 59.319219 \nL 197.8525 83.479219 \nL 168.0925 83.479219 \nL 168.0925 59.319219 \n\" style=\"fill:#bde7db;stroke:#ffffff;stroke-width:0.75;\"/>\n    <path clip-path=\"url(#p18c6e01adb)\" d=\"M 197.8525 59.319219 \nL 227.6125 59.319219 \nL 227.6125 83.479219 \nL 197.8525 83.479219 \nL 197.8525 59.319219 \n\" style=\"fill:#3c8ccf;stroke:#ffffff;stroke-width:0.75;\"/>\n    <path clip-path=\"url(#p18c6e01adb)\" d=\"M 227.6125 59.319219 \nL 257.3725 59.319219 \nL 257.3725 83.479219 \nL 227.6125 83.479219 \nL 227.6125 59.319219 \n\" style=\"fill:#bde7db;stroke:#ffffff;stroke-width:0.75;\"/>\n    <path clip-path=\"url(#p18c6e01adb)\" d=\"M 257.3725 59.319219 \nL 287.1325 59.319219 \nL 287.1325 83.479219 \nL 257.3725 83.479219 \nL 257.3725 59.319219 \n\" style=\"fill:#bde7db;stroke:#ffffff;stroke-width:0.75;\"/>\n    <path clip-path=\"url(#p18c6e01adb)\" d=\"M 287.1325 59.319219 \nL 316.8925 59.319219 \nL 316.8925 83.479219 \nL 287.1325 83.479219 \nL 287.1325 59.319219 \n\" style=\"fill:#bde7db;stroke:#ffffff;stroke-width:0.75;\"/>\n    <path clip-path=\"url(#p18c6e01adb)\" d=\"M 316.8925 59.319219 \nL 346.6525 59.319219 \nL 346.6525 83.479219 \nL 316.8925 83.479219 \nL 316.8925 59.319219 \n\" style=\"fill:#bde7db;stroke:#ffffff;stroke-width:0.75;\"/>\n    <path clip-path=\"url(#p18c6e01adb)\" d=\"M 78.8125 83.479219 \nL 108.5725 83.479219 \nL 108.5725 107.639219 \nL 78.8125 107.639219 \nL 78.8125 83.479219 \n\" style=\"fill:#bde7db;stroke:#ffffff;stroke-width:0.75;\"/>\n    <path clip-path=\"url(#p18c6e01adb)\" d=\"M 108.5725 83.479219 \nL 138.3325 83.479219 \nL 138.3325 107.639219 \nL 108.5725 107.639219 \nL 108.5725 83.479219 \n\" style=\"fill:#bde7db;stroke:#ffffff;stroke-width:0.75;\"/>\n    <path clip-path=\"url(#p18c6e01adb)\" d=\"M 138.3325 83.479219 \nL 168.0925 83.479219 \nL 168.0925 107.639219 \nL 138.3325 107.639219 \nL 138.3325 83.479219 \n\" style=\"fill:#3781d0;stroke:#ffffff;stroke-width:0.75;\"/>\n    <path clip-path=\"url(#p18c6e01adb)\" d=\"M 168.0925 83.479219 \nL 197.8525 83.479219 \nL 197.8525 107.639219 \nL 168.0925 107.639219 \nL 168.0925 83.479219 \n\" style=\"fill:#ffd4ac;stroke:#ffffff;stroke-width:0.75;\"/>\n    <path clip-path=\"url(#p18c6e01adb)\" d=\"M 197.8525 83.479219 \nL 227.6125 83.479219 \nL 227.6125 107.639219 \nL 197.8525 107.639219 \nL 197.8525 83.479219 \n\" style=\"fill:#bde7db;stroke:#ffffff;stroke-width:0.75;\"/>\n    <path clip-path=\"url(#p18c6e01adb)\" d=\"M 227.6125 83.479219 \nL 257.3725 83.479219 \nL 257.3725 107.639219 \nL 227.6125 107.639219 \nL 227.6125 83.479219 \n\" style=\"fill:#bde7db;stroke:#ffffff;stroke-width:0.75;\"/>\n    <path clip-path=\"url(#p18c6e01adb)\" d=\"M 257.3725 83.479219 \nL 287.1325 83.479219 \nL 287.1325 107.639219 \nL 257.3725 107.639219 \nL 257.3725 83.479219 \n\" style=\"fill:#bde7db;stroke:#ffffff;stroke-width:0.75;\"/>\n    <path clip-path=\"url(#p18c6e01adb)\" d=\"M 287.1325 83.479219 \nL 316.8925 83.479219 \nL 316.8925 107.639219 \nL 287.1325 107.639219 \nL 287.1325 83.479219 \n\" style=\"fill:#bde7db;stroke:#ffffff;stroke-width:0.75;\"/>\n    <path clip-path=\"url(#p18c6e01adb)\" d=\"M 316.8925 83.479219 \nL 346.6525 83.479219 \nL 346.6525 107.639219 \nL 316.8925 107.639219 \nL 316.8925 83.479219 \n\" style=\"fill:#bde7db;stroke:#ffffff;stroke-width:0.75;\"/>\n    <path clip-path=\"url(#p18c6e01adb)\" d=\"M 78.8125 107.639219 \nL 108.5725 107.639219 \nL 108.5725 131.799219 \nL 78.8125 131.799219 \nL 78.8125 107.639219 \n\" style=\"fill:#84c1cf;stroke:#ffffff;stroke-width:0.75;\"/>\n    <path clip-path=\"url(#p18c6e01adb)\" d=\"M 108.5725 107.639219 \nL 138.3325 107.639219 \nL 138.3325 131.799219 \nL 108.5725 131.799219 \nL 108.5725 107.639219 \n\" style=\"fill:#bde7db;stroke:#ffffff;stroke-width:0.75;\"/>\n    <path clip-path=\"url(#p18c6e01adb)\" d=\"M 138.3325 107.639219 \nL 168.0925 107.639219 \nL 168.0925 131.799219 \nL 138.3325 131.799219 \nL 138.3325 107.639219 \n\" style=\"fill:#f18f51;stroke:#ffffff;stroke-width:0.75;\"/>\n    <path clip-path=\"url(#p18c6e01adb)\" d=\"M 168.0925 107.639219 \nL 197.8525 107.639219 \nL 197.8525 131.799219 \nL 168.0925 131.799219 \nL 168.0925 107.639219 \n\" style=\"fill:#bde7db;stroke:#ffffff;stroke-width:0.75;\"/>\n    <path clip-path=\"url(#p18c6e01adb)\" d=\"M 197.8525 107.639219 \nL 227.6125 107.639219 \nL 227.6125 131.799219 \nL 197.8525 131.799219 \nL 197.8525 107.639219 \n\" style=\"fill:#ffd4ac;stroke:#ffffff;stroke-width:0.75;\"/>\n    <path clip-path=\"url(#p18c6e01adb)\" d=\"M 227.6125 107.639219 \nL 257.3725 107.639219 \nL 257.3725 131.799219 \nL 227.6125 131.799219 \nL 227.6125 107.639219 \n\" style=\"fill:#bde7db;stroke:#ffffff;stroke-width:0.75;\"/>\n    <path clip-path=\"url(#p18c6e01adb)\" d=\"M 257.3725 107.639219 \nL 287.1325 107.639219 \nL 287.1325 131.799219 \nL 257.3725 131.799219 \nL 257.3725 107.639219 \n\" style=\"fill:#bde7db;stroke:#ffffff;stroke-width:0.75;\"/>\n    <path clip-path=\"url(#p18c6e01adb)\" d=\"M 287.1325 107.639219 \nL 316.8925 107.639219 \nL 316.8925 131.799219 \nL 287.1325 131.799219 \nL 287.1325 107.639219 \n\" style=\"fill:#b7e3d9;stroke:#ffffff;stroke-width:0.75;\"/>\n    <path clip-path=\"url(#p18c6e01adb)\" d=\"M 316.8925 107.639219 \nL 346.6525 107.639219 \nL 346.6525 131.799219 \nL 316.8925 131.799219 \nL 316.8925 107.639219 \n\" style=\"fill:#bde7db;stroke:#ffffff;stroke-width:0.75;\"/>\n    <path clip-path=\"url(#p18c6e01adb)\" d=\"M 78.8125 131.799219 \nL 108.5725 131.799219 \nL 108.5725 155.959219 \nL 78.8125 155.959219 \nL 78.8125 131.799219 \n\" style=\"fill:#bde7db;stroke:#ffffff;stroke-width:0.75;\"/>\n    <path clip-path=\"url(#p18c6e01adb)\" d=\"M 108.5725 131.799219 \nL 138.3325 131.799219 \nL 138.3325 155.959219 \nL 108.5725 155.959219 \nL 108.5725 131.799219 \n\" style=\"fill:#bde7db;stroke:#ffffff;stroke-width:0.75;\"/>\n    <path clip-path=\"url(#p18c6e01adb)\" d=\"M 138.3325 131.799219 \nL 168.0925 131.799219 \nL 168.0925 155.959219 \nL 138.3325 155.959219 \nL 138.3325 131.799219 \n\" style=\"fill:#bde7db;stroke:#ffffff;stroke-width:0.75;\"/>\n    <path clip-path=\"url(#p18c6e01adb)\" d=\"M 168.0925 131.799219 \nL 197.8525 131.799219 \nL 197.8525 155.959219 \nL 168.0925 155.959219 \nL 168.0925 131.799219 \n\" style=\"fill:#bde7db;stroke:#ffffff;stroke-width:0.75;\"/>\n    <path clip-path=\"url(#p18c6e01adb)\" d=\"M 197.8525 131.799219 \nL 227.6125 131.799219 \nL 227.6125 155.959219 \nL 197.8525 155.959219 \nL 197.8525 131.799219 \n\" style=\"fill:#bde7db;stroke:#ffffff;stroke-width:0.75;\"/>\n    <path clip-path=\"url(#p18c6e01adb)\" d=\"M 227.6125 131.799219 \nL 257.3725 131.799219 \nL 257.3725 155.959219 \nL 227.6125 155.959219 \nL 227.6125 131.799219 \n\" style=\"fill:#ffd4ac;stroke:#ffffff;stroke-width:0.75;\"/>\n    <path clip-path=\"url(#p18c6e01adb)\" d=\"M 257.3725 131.799219 \nL 287.1325 131.799219 \nL 287.1325 155.959219 \nL 257.3725 155.959219 \nL 257.3725 131.799219 \n\" style=\"fill:#bde7db;stroke:#ffffff;stroke-width:0.75;\"/>\n    <path clip-path=\"url(#p18c6e01adb)\" d=\"M 287.1325 131.799219 \nL 316.8925 131.799219 \nL 316.8925 155.959219 \nL 287.1325 155.959219 \nL 287.1325 131.799219 \n\" style=\"fill:#7bbbce;stroke:#ffffff;stroke-width:0.75;\"/>\n    <path clip-path=\"url(#p18c6e01adb)\" d=\"M 316.8925 131.799219 \nL 346.6525 131.799219 \nL 346.6525 155.959219 \nL 316.8925 155.959219 \nL 316.8925 131.799219 \n\" style=\"fill:#fecea5;stroke:#ffffff;stroke-width:0.75;\"/>\n    <path clip-path=\"url(#p18c6e01adb)\" d=\"M 78.8125 155.959219 \nL 108.5725 155.959219 \nL 108.5725 180.119219 \nL 78.8125 180.119219 \nL 78.8125 155.959219 \n\" style=\"fill:#bde7db;stroke:#ffffff;stroke-width:0.75;\"/>\n    <path clip-path=\"url(#p18c6e01adb)\" d=\"M 108.5725 155.959219 \nL 138.3325 155.959219 \nL 138.3325 180.119219 \nL 108.5725 180.119219 \nL 108.5725 155.959219 \n\" style=\"fill:#bde7db;stroke:#ffffff;stroke-width:0.75;\"/>\n    <path clip-path=\"url(#p18c6e01adb)\" d=\"M 138.3325 155.959219 \nL 168.0925 155.959219 \nL 168.0925 180.119219 \nL 138.3325 180.119219 \nL 138.3325 155.959219 \n\" style=\"fill:#393763;stroke:#ffffff;stroke-width:0.75;\"/>\n    <path clip-path=\"url(#p18c6e01adb)\" d=\"M 168.0925 155.959219 \nL 197.8525 155.959219 \nL 197.8525 180.119219 \nL 168.0925 180.119219 \nL 168.0925 155.959219 \n\" style=\"fill:#bde7db;stroke:#ffffff;stroke-width:0.75;\"/>\n    <path clip-path=\"url(#p18c6e01adb)\" d=\"M 197.8525 155.959219 \nL 227.6125 155.959219 \nL 227.6125 180.119219 \nL 197.8525 180.119219 \nL 197.8525 155.959219 \n\" style=\"fill:#bde7db;stroke:#ffffff;stroke-width:0.75;\"/>\n    <path clip-path=\"url(#p18c6e01adb)\" d=\"M 227.6125 155.959219 \nL 257.3725 155.959219 \nL 257.3725 180.119219 \nL 227.6125 180.119219 \nL 227.6125 155.959219 \n\" style=\"fill:#bde7db;stroke:#ffffff;stroke-width:0.75;\"/>\n    <path clip-path=\"url(#p18c6e01adb)\" d=\"M 257.3725 155.959219 \nL 287.1325 155.959219 \nL 287.1325 180.119219 \nL 257.3725 180.119219 \nL 257.3725 155.959219 \n\" style=\"fill:#ffd4ac;stroke:#ffffff;stroke-width:0.75;\"/>\n    <path clip-path=\"url(#p18c6e01adb)\" d=\"M 287.1325 155.959219 \nL 316.8925 155.959219 \nL 316.8925 180.119219 \nL 287.1325 180.119219 \nL 287.1325 155.959219 \n\" style=\"fill:#bde7db;stroke:#ffffff;stroke-width:0.75;\"/>\n    <path clip-path=\"url(#p18c6e01adb)\" d=\"M 316.8925 155.959219 \nL 346.6525 155.959219 \nL 346.6525 180.119219 \nL 316.8925 180.119219 \nL 316.8925 155.959219 \n\" style=\"fill:#bde7db;stroke:#ffffff;stroke-width:0.75;\"/>\n    <path clip-path=\"url(#p18c6e01adb)\" d=\"M 78.8125 180.119219 \nL 108.5725 180.119219 \nL 108.5725 204.279219 \nL 78.8125 204.279219 \nL 78.8125 180.119219 \n\" style=\"fill:#bde7db;stroke:#ffffff;stroke-width:0.75;\"/>\n    <path clip-path=\"url(#p18c6e01adb)\" d=\"M 108.5725 180.119219 \nL 138.3325 180.119219 \nL 138.3325 204.279219 \nL 108.5725 204.279219 \nL 108.5725 180.119219 \n\" style=\"fill:#bde7db;stroke:#ffffff;stroke-width:0.75;\"/>\n    <path clip-path=\"url(#p18c6e01adb)\" d=\"M 138.3325 180.119219 \nL 168.0925 180.119219 \nL 168.0925 204.279219 \nL 138.3325 204.279219 \nL 138.3325 180.119219 \n\" style=\"fill:#7bbbce;stroke:#ffffff;stroke-width:0.75;\"/>\n    <path clip-path=\"url(#p18c6e01adb)\" d=\"M 168.0925 180.119219 \nL 197.8525 180.119219 \nL 197.8525 204.279219 \nL 168.0925 204.279219 \nL 168.0925 180.119219 \n\" style=\"fill:#bde7db;stroke:#ffffff;stroke-width:0.75;\"/>\n    <path clip-path=\"url(#p18c6e01adb)\" d=\"M 197.8525 180.119219 \nL 227.6125 180.119219 \nL 227.6125 204.279219 \nL 197.8525 204.279219 \nL 197.8525 180.119219 \n\" style=\"fill:#bde7db;stroke:#ffffff;stroke-width:0.75;\"/>\n    <path clip-path=\"url(#p18c6e01adb)\" d=\"M 227.6125 180.119219 \nL 257.3725 180.119219 \nL 257.3725 204.279219 \nL 227.6125 204.279219 \nL 227.6125 180.119219 \n\" style=\"fill:#5da9cd;stroke:#ffffff;stroke-width:0.75;\"/>\n    <path clip-path=\"url(#p18c6e01adb)\" d=\"M 257.3725 180.119219 \nL 287.1325 180.119219 \nL 287.1325 204.279219 \nL 257.3725 204.279219 \nL 257.3725 180.119219 \n\" style=\"fill:#bde7db;stroke:#ffffff;stroke-width:0.75;\"/>\n    <path clip-path=\"url(#p18c6e01adb)\" d=\"M 287.1325 180.119219 \nL 316.8925 180.119219 \nL 316.8925 204.279219 \nL 287.1325 204.279219 \nL 287.1325 180.119219 \n\" style=\"fill:#ffd4ac;stroke:#ffffff;stroke-width:0.75;\"/>\n    <path clip-path=\"url(#p18c6e01adb)\" d=\"M 316.8925 180.119219 \nL 346.6525 180.119219 \nL 346.6525 204.279219 \nL 316.8925 204.279219 \nL 316.8925 180.119219 \n\" style=\"fill:#4596ce;stroke:#ffffff;stroke-width:0.75;\"/>\n    <path clip-path=\"url(#p18c6e01adb)\" d=\"M 78.8125 204.279219 \nL 108.5725 204.279219 \nL 108.5725 228.439219 \nL 78.8125 228.439219 \nL 78.8125 204.279219 \n\" style=\"fill:#bde7db;stroke:#ffffff;stroke-width:0.75;\"/>\n    <path clip-path=\"url(#p18c6e01adb)\" d=\"M 108.5725 204.279219 \nL 138.3325 204.279219 \nL 138.3325 228.439219 \nL 108.5725 228.439219 \nL 108.5725 204.279219 \n\" style=\"fill:#bde7db;stroke:#ffffff;stroke-width:0.75;\"/>\n    <path clip-path=\"url(#p18c6e01adb)\" d=\"M 138.3325 204.279219 \nL 168.0925 204.279219 \nL 168.0925 228.439219 \nL 138.3325 228.439219 \nL 138.3325 204.279219 \n\" style=\"fill:#bde7db;stroke:#ffffff;stroke-width:0.75;\"/>\n    <path clip-path=\"url(#p18c6e01adb)\" d=\"M 168.0925 204.279219 \nL 197.8525 204.279219 \nL 197.8525 228.439219 \nL 168.0925 228.439219 \nL 168.0925 204.279219 \n\" style=\"fill:#bde7db;stroke:#ffffff;stroke-width:0.75;\"/>\n    <path clip-path=\"url(#p18c6e01adb)\" d=\"M 197.8525 204.279219 \nL 227.6125 204.279219 \nL 227.6125 228.439219 \nL 197.8525 228.439219 \nL 197.8525 204.279219 \n\" style=\"fill:#bde7db;stroke:#ffffff;stroke-width:0.75;\"/>\n    <path clip-path=\"url(#p18c6e01adb)\" d=\"M 227.6125 204.279219 \nL 257.3725 204.279219 \nL 257.3725 228.439219 \nL 227.6125 228.439219 \nL 227.6125 204.279219 \n\" style=\"fill:#2a293d;stroke:#ffffff;stroke-width:0.75;\"/>\n    <path clip-path=\"url(#p18c6e01adb)\" d=\"M 257.3725 204.279219 \nL 287.1325 204.279219 \nL 287.1325 228.439219 \nL 257.3725 228.439219 \nL 257.3725 204.279219 \n\" style=\"fill:#bde7db;stroke:#ffffff;stroke-width:0.75;\"/>\n    <path clip-path=\"url(#p18c6e01adb)\" d=\"M 287.1325 204.279219 \nL 316.8925 204.279219 \nL 316.8925 228.439219 \nL 287.1325 228.439219 \nL 287.1325 204.279219 \n\" style=\"fill:#afddd7;stroke:#ffffff;stroke-width:0.75;\"/>\n    <path clip-path=\"url(#p18c6e01adb)\" d=\"M 316.8925 204.279219 \nL 346.6525 204.279219 \nL 346.6525 228.439219 \nL 316.8925 228.439219 \nL 316.8925 204.279219 \n\" style=\"fill:#ffd4ac;stroke:#ffffff;stroke-width:0.75;\"/>\n   </g>\n   <g id=\"matplotlib.axis_1\">\n    <g id=\"xtick_1\">\n     <g id=\"line2d_1\">\n      <defs>\n       <path d=\"M 0 0 \nL 0 3.5 \n\" id=\"m21d1f3ea15\" style=\"stroke:#000000;stroke-width:0.8;\"/>\n      </defs>\n      <g>\n       <use style=\"stroke:#000000;stroke-width:0.8;\" x=\"93.6925\" xlink:href=\"#m21d1f3ea15\" y=\"228.439219\"/>\n      </g>\n     </g>\n     <g id=\"text_1\">\n      <!-- Age -->\n      <defs>\n       <path d=\"M 34.1875 63.1875 \nL 20.796875 26.90625 \nL 47.609375 26.90625 \nz\nM 28.609375 72.90625 \nL 39.796875 72.90625 \nL 67.578125 0 \nL 57.328125 0 \nL 50.6875 18.703125 \nL 17.828125 18.703125 \nL 11.1875 0 \nL 0.78125 0 \nz\n\" id=\"DejaVuSans-65\"/>\n       <path d=\"M 45.40625 27.984375 \nQ 45.40625 37.75 41.375 43.109375 \nQ 37.359375 48.484375 30.078125 48.484375 \nQ 22.859375 48.484375 18.828125 43.109375 \nQ 14.796875 37.75 14.796875 27.984375 \nQ 14.796875 18.265625 18.828125 12.890625 \nQ 22.859375 7.515625 30.078125 7.515625 \nQ 37.359375 7.515625 41.375 12.890625 \nQ 45.40625 18.265625 45.40625 27.984375 \nz\nM 54.390625 6.78125 \nQ 54.390625 -7.171875 48.1875 -13.984375 \nQ 42 -20.796875 29.203125 -20.796875 \nQ 24.46875 -20.796875 20.265625 -20.09375 \nQ 16.0625 -19.390625 12.109375 -17.921875 \nL 12.109375 -9.1875 \nQ 16.0625 -11.328125 19.921875 -12.34375 \nQ 23.78125 -13.375 27.78125 -13.375 \nQ 36.625 -13.375 41.015625 -8.765625 \nQ 45.40625 -4.15625 45.40625 5.171875 \nL 45.40625 9.625 \nQ 42.625 4.78125 38.28125 2.390625 \nQ 33.9375 0 27.875 0 \nQ 17.828125 0 11.671875 7.65625 \nQ 5.515625 15.328125 5.515625 27.984375 \nQ 5.515625 40.671875 11.671875 48.328125 \nQ 17.828125 56 27.875 56 \nQ 33.9375 56 38.28125 53.609375 \nQ 42.625 51.21875 45.40625 46.390625 \nL 45.40625 54.6875 \nL 54.390625 54.6875 \nz\n\" id=\"DejaVuSans-103\"/>\n       <path d=\"M 56.203125 29.59375 \nL 56.203125 25.203125 \nL 14.890625 25.203125 \nQ 15.484375 15.921875 20.484375 11.0625 \nQ 25.484375 6.203125 34.421875 6.203125 \nQ 39.59375 6.203125 44.453125 7.46875 \nQ 49.3125 8.734375 54.109375 11.28125 \nL 54.109375 2.78125 \nQ 49.265625 0.734375 44.1875 -0.34375 \nQ 39.109375 -1.421875 33.890625 -1.421875 \nQ 20.796875 -1.421875 13.15625 6.1875 \nQ 5.515625 13.8125 5.515625 26.8125 \nQ 5.515625 40.234375 12.765625 48.109375 \nQ 20.015625 56 32.328125 56 \nQ 43.359375 56 49.78125 48.890625 \nQ 56.203125 41.796875 56.203125 29.59375 \nz\nM 47.21875 32.234375 \nQ 47.125 39.59375 43.09375 43.984375 \nQ 39.0625 48.390625 32.421875 48.390625 \nQ 24.90625 48.390625 20.390625 44.140625 \nQ 15.875 39.890625 15.1875 32.171875 \nz\n\" id=\"DejaVuSans-101\"/>\n      </defs>\n      <g transform=\"translate(96.451875 254.781406)rotate(-90)scale(0.1 -0.1)\">\n       <use xlink:href=\"#DejaVuSans-65\"/>\n       <use x=\"68.408203\" xlink:href=\"#DejaVuSans-103\"/>\n       <use x=\"131.884766\" xlink:href=\"#DejaVuSans-101\"/>\n      </g>\n     </g>\n    </g>\n    <g id=\"xtick_2\">\n     <g id=\"line2d_2\">\n      <g>\n       <use style=\"stroke:#000000;stroke-width:0.8;\" x=\"123.4525\" xlink:href=\"#m21d1f3ea15\" y=\"228.439219\"/>\n      </g>\n     </g>\n     <g id=\"text_2\">\n      <!-- Embarked -->\n      <defs>\n       <path d=\"M 9.8125 72.90625 \nL 55.90625 72.90625 \nL 55.90625 64.59375 \nL 19.671875 64.59375 \nL 19.671875 43.015625 \nL 54.390625 43.015625 \nL 54.390625 34.71875 \nL 19.671875 34.71875 \nL 19.671875 8.296875 \nL 56.78125 8.296875 \nL 56.78125 0 \nL 9.8125 0 \nz\n\" id=\"DejaVuSans-69\"/>\n       <path d=\"M 52 44.1875 \nQ 55.375 50.25 60.0625 53.125 \nQ 64.75 56 71.09375 56 \nQ 79.640625 56 84.28125 50.015625 \nQ 88.921875 44.046875 88.921875 33.015625 \nL 88.921875 0 \nL 79.890625 0 \nL 79.890625 32.71875 \nQ 79.890625 40.578125 77.09375 44.375 \nQ 74.3125 48.1875 68.609375 48.1875 \nQ 61.625 48.1875 57.5625 43.546875 \nQ 53.515625 38.921875 53.515625 30.90625 \nL 53.515625 0 \nL 44.484375 0 \nL 44.484375 32.71875 \nQ 44.484375 40.625 41.703125 44.40625 \nQ 38.921875 48.1875 33.109375 48.1875 \nQ 26.21875 48.1875 22.15625 43.53125 \nQ 18.109375 38.875 18.109375 30.90625 \nL 18.109375 0 \nL 9.078125 0 \nL 9.078125 54.6875 \nL 18.109375 54.6875 \nL 18.109375 46.1875 \nQ 21.1875 51.21875 25.484375 53.609375 \nQ 29.78125 56 35.6875 56 \nQ 41.65625 56 45.828125 52.96875 \nQ 50 49.953125 52 44.1875 \nz\n\" id=\"DejaVuSans-109\"/>\n       <path d=\"M 48.6875 27.296875 \nQ 48.6875 37.203125 44.609375 42.84375 \nQ 40.53125 48.484375 33.40625 48.484375 \nQ 26.265625 48.484375 22.1875 42.84375 \nQ 18.109375 37.203125 18.109375 27.296875 \nQ 18.109375 17.390625 22.1875 11.75 \nQ 26.265625 6.109375 33.40625 6.109375 \nQ 40.53125 6.109375 44.609375 11.75 \nQ 48.6875 17.390625 48.6875 27.296875 \nz\nM 18.109375 46.390625 \nQ 20.953125 51.265625 25.265625 53.625 \nQ 29.59375 56 35.59375 56 \nQ 45.5625 56 51.78125 48.09375 \nQ 58.015625 40.1875 58.015625 27.296875 \nQ 58.015625 14.40625 51.78125 6.484375 \nQ 45.5625 -1.421875 35.59375 -1.421875 \nQ 29.59375 -1.421875 25.265625 0.953125 \nQ 20.953125 3.328125 18.109375 8.203125 \nL 18.109375 0 \nL 9.078125 0 \nL 9.078125 75.984375 \nL 18.109375 75.984375 \nz\n\" id=\"DejaVuSans-98\"/>\n       <path d=\"M 34.28125 27.484375 \nQ 23.390625 27.484375 19.1875 25 \nQ 14.984375 22.515625 14.984375 16.5 \nQ 14.984375 11.71875 18.140625 8.90625 \nQ 21.296875 6.109375 26.703125 6.109375 \nQ 34.1875 6.109375 38.703125 11.40625 \nQ 43.21875 16.703125 43.21875 25.484375 \nL 43.21875 27.484375 \nz\nM 52.203125 31.203125 \nL 52.203125 0 \nL 43.21875 0 \nL 43.21875 8.296875 \nQ 40.140625 3.328125 35.546875 0.953125 \nQ 30.953125 -1.421875 24.3125 -1.421875 \nQ 15.921875 -1.421875 10.953125 3.296875 \nQ 6 8.015625 6 15.921875 \nQ 6 25.140625 12.171875 29.828125 \nQ 18.359375 34.515625 30.609375 34.515625 \nL 43.21875 34.515625 \nL 43.21875 35.40625 \nQ 43.21875 41.609375 39.140625 45 \nQ 35.0625 48.390625 27.6875 48.390625 \nQ 23 48.390625 18.546875 47.265625 \nQ 14.109375 46.140625 10.015625 43.890625 \nL 10.015625 52.203125 \nQ 14.9375 54.109375 19.578125 55.046875 \nQ 24.21875 56 28.609375 56 \nQ 40.484375 56 46.34375 49.84375 \nQ 52.203125 43.703125 52.203125 31.203125 \nz\n\" id=\"DejaVuSans-97\"/>\n       <path d=\"M 41.109375 46.296875 \nQ 39.59375 47.171875 37.8125 47.578125 \nQ 36.03125 48 33.890625 48 \nQ 26.265625 48 22.1875 43.046875 \nQ 18.109375 38.09375 18.109375 28.8125 \nL 18.109375 0 \nL 9.078125 0 \nL 9.078125 54.6875 \nL 18.109375 54.6875 \nL 18.109375 46.1875 \nQ 20.953125 51.171875 25.484375 53.578125 \nQ 30.03125 56 36.53125 56 \nQ 37.453125 56 38.578125 55.875 \nQ 39.703125 55.765625 41.0625 55.515625 \nz\n\" id=\"DejaVuSans-114\"/>\n       <path d=\"M 9.078125 75.984375 \nL 18.109375 75.984375 \nL 18.109375 31.109375 \nL 44.921875 54.6875 \nL 56.390625 54.6875 \nL 27.390625 29.109375 \nL 57.625 0 \nL 45.90625 0 \nL 18.109375 26.703125 \nL 18.109375 0 \nL 9.078125 0 \nz\n\" id=\"DejaVuSans-107\"/>\n       <path d=\"M 45.40625 46.390625 \nL 45.40625 75.984375 \nL 54.390625 75.984375 \nL 54.390625 0 \nL 45.40625 0 \nL 45.40625 8.203125 \nQ 42.578125 3.328125 38.25 0.953125 \nQ 33.9375 -1.421875 27.875 -1.421875 \nQ 17.96875 -1.421875 11.734375 6.484375 \nQ 5.515625 14.40625 5.515625 27.296875 \nQ 5.515625 40.1875 11.734375 48.09375 \nQ 17.96875 56 27.875 56 \nQ 33.9375 56 38.25 53.625 \nQ 42.578125 51.265625 45.40625 46.390625 \nz\nM 14.796875 27.296875 \nQ 14.796875 17.390625 18.875 11.75 \nQ 22.953125 6.109375 30.078125 6.109375 \nQ 37.203125 6.109375 41.296875 11.75 \nQ 45.40625 17.390625 45.40625 27.296875 \nQ 45.40625 37.203125 41.296875 42.84375 \nQ 37.203125 48.484375 30.078125 48.484375 \nQ 22.953125 48.484375 18.875 42.84375 \nQ 14.796875 37.203125 14.796875 27.296875 \nz\n\" id=\"DejaVuSans-100\"/>\n      </defs>\n      <g transform=\"translate(126.211875 286.373594)rotate(-90)scale(0.1 -0.1)\">\n       <use xlink:href=\"#DejaVuSans-69\"/>\n       <use x=\"63.183594\" xlink:href=\"#DejaVuSans-109\"/>\n       <use x=\"160.595703\" xlink:href=\"#DejaVuSans-98\"/>\n       <use x=\"224.072266\" xlink:href=\"#DejaVuSans-97\"/>\n       <use x=\"285.351562\" xlink:href=\"#DejaVuSans-114\"/>\n       <use x=\"326.464844\" xlink:href=\"#DejaVuSans-107\"/>\n       <use x=\"384.328125\" xlink:href=\"#DejaVuSans-101\"/>\n       <use x=\"445.851562\" xlink:href=\"#DejaVuSans-100\"/>\n      </g>\n     </g>\n    </g>\n    <g id=\"xtick_3\">\n     <g id=\"line2d_3\">\n      <g>\n       <use style=\"stroke:#000000;stroke-width:0.8;\" x=\"153.2125\" xlink:href=\"#m21d1f3ea15\" y=\"228.439219\"/>\n      </g>\n     </g>\n     <g id=\"text_3\">\n      <!-- Fare -->\n      <defs>\n       <path d=\"M 9.8125 72.90625 \nL 51.703125 72.90625 \nL 51.703125 64.59375 \nL 19.671875 64.59375 \nL 19.671875 43.109375 \nL 48.578125 43.109375 \nL 48.578125 34.8125 \nL 19.671875 34.8125 \nL 19.671875 0 \nL 9.8125 0 \nz\n\" id=\"DejaVuSans-70\"/>\n      </defs>\n      <g transform=\"translate(155.971875 257.565781)rotate(-90)scale(0.1 -0.1)\">\n       <use xlink:href=\"#DejaVuSans-70\"/>\n       <use x=\"57.378906\" xlink:href=\"#DejaVuSans-97\"/>\n       <use x=\"118.658203\" xlink:href=\"#DejaVuSans-114\"/>\n       <use x=\"159.740234\" xlink:href=\"#DejaVuSans-101\"/>\n      </g>\n     </g>\n    </g>\n    <g id=\"xtick_4\">\n     <g id=\"line2d_4\">\n      <g>\n       <use style=\"stroke:#000000;stroke-width:0.8;\" x=\"182.9725\" xlink:href=\"#m21d1f3ea15\" y=\"228.439219\"/>\n      </g>\n     </g>\n     <g id=\"text_4\">\n      <!-- Parch -->\n      <defs>\n       <path d=\"M 19.671875 64.796875 \nL 19.671875 37.40625 \nL 32.078125 37.40625 \nQ 38.96875 37.40625 42.71875 40.96875 \nQ 46.484375 44.53125 46.484375 51.125 \nQ 46.484375 57.671875 42.71875 61.234375 \nQ 38.96875 64.796875 32.078125 64.796875 \nz\nM 9.8125 72.90625 \nL 32.078125 72.90625 \nQ 44.34375 72.90625 50.609375 67.359375 \nQ 56.890625 61.8125 56.890625 51.125 \nQ 56.890625 40.328125 50.609375 34.8125 \nQ 44.34375 29.296875 32.078125 29.296875 \nL 19.671875 29.296875 \nL 19.671875 0 \nL 9.8125 0 \nz\n\" id=\"DejaVuSans-80\"/>\n       <path d=\"M 48.78125 52.59375 \nL 48.78125 44.1875 \nQ 44.96875 46.296875 41.140625 47.34375 \nQ 37.3125 48.390625 33.40625 48.390625 \nQ 24.65625 48.390625 19.8125 42.84375 \nQ 14.984375 37.3125 14.984375 27.296875 \nQ 14.984375 17.28125 19.8125 11.734375 \nQ 24.65625 6.203125 33.40625 6.203125 \nQ 37.3125 6.203125 41.140625 7.25 \nQ 44.96875 8.296875 48.78125 10.40625 \nL 48.78125 2.09375 \nQ 45.015625 0.34375 40.984375 -0.53125 \nQ 36.96875 -1.421875 32.421875 -1.421875 \nQ 20.0625 -1.421875 12.78125 6.34375 \nQ 5.515625 14.109375 5.515625 27.296875 \nQ 5.515625 40.671875 12.859375 48.328125 \nQ 20.21875 56 33.015625 56 \nQ 37.15625 56 41.109375 55.140625 \nQ 45.0625 54.296875 48.78125 52.59375 \nz\n\" id=\"DejaVuSans-99\"/>\n       <path d=\"M 54.890625 33.015625 \nL 54.890625 0 \nL 45.90625 0 \nL 45.90625 32.71875 \nQ 45.90625 40.484375 42.875 44.328125 \nQ 39.84375 48.1875 33.796875 48.1875 \nQ 26.515625 48.1875 22.3125 43.546875 \nQ 18.109375 38.921875 18.109375 30.90625 \nL 18.109375 0 \nL 9.078125 0 \nL 9.078125 75.984375 \nL 18.109375 75.984375 \nL 18.109375 46.1875 \nQ 21.34375 51.125 25.703125 53.5625 \nQ 30.078125 56 35.796875 56 \nQ 45.21875 56 50.046875 50.171875 \nQ 54.890625 44.34375 54.890625 33.015625 \nz\n\" id=\"DejaVuSans-104\"/>\n      </defs>\n      <g transform=\"translate(185.731875 263.534531)rotate(-90)scale(0.1 -0.1)\">\n       <use xlink:href=\"#DejaVuSans-80\"/>\n       <use x=\"60.240234\" xlink:href=\"#DejaVuSans-97\"/>\n       <use x=\"121.519531\" xlink:href=\"#DejaVuSans-114\"/>\n       <use x=\"162.601562\" xlink:href=\"#DejaVuSans-99\"/>\n       <use x=\"217.582031\" xlink:href=\"#DejaVuSans-104\"/>\n      </g>\n     </g>\n    </g>\n    <g id=\"xtick_5\">\n     <g id=\"line2d_5\">\n      <g>\n       <use style=\"stroke:#000000;stroke-width:0.8;\" x=\"212.7325\" xlink:href=\"#m21d1f3ea15\" y=\"228.439219\"/>\n      </g>\n     </g>\n     <g id=\"text_5\">\n      <!-- Pclass -->\n      <defs>\n       <path d=\"M 9.421875 75.984375 \nL 18.40625 75.984375 \nL 18.40625 0 \nL 9.421875 0 \nz\n\" id=\"DejaVuSans-108\"/>\n       <path d=\"M 44.28125 53.078125 \nL 44.28125 44.578125 \nQ 40.484375 46.53125 36.375 47.5 \nQ 32.28125 48.484375 27.875 48.484375 \nQ 21.1875 48.484375 17.84375 46.4375 \nQ 14.5 44.390625 14.5 40.28125 \nQ 14.5 37.15625 16.890625 35.375 \nQ 19.28125 33.59375 26.515625 31.984375 \nL 29.59375 31.296875 \nQ 39.15625 29.25 43.1875 25.515625 \nQ 47.21875 21.78125 47.21875 15.09375 \nQ 47.21875 7.46875 41.1875 3.015625 \nQ 35.15625 -1.421875 24.609375 -1.421875 \nQ 20.21875 -1.421875 15.453125 -0.5625 \nQ 10.6875 0.296875 5.421875 2 \nL 5.421875 11.28125 \nQ 10.40625 8.6875 15.234375 7.390625 \nQ 20.0625 6.109375 24.8125 6.109375 \nQ 31.15625 6.109375 34.5625 8.28125 \nQ 37.984375 10.453125 37.984375 14.40625 \nQ 37.984375 18.0625 35.515625 20.015625 \nQ 33.0625 21.96875 24.703125 23.78125 \nL 21.578125 24.515625 \nQ 13.234375 26.265625 9.515625 29.90625 \nQ 5.8125 33.546875 5.8125 39.890625 \nQ 5.8125 47.609375 11.28125 51.796875 \nQ 16.75 56 26.8125 56 \nQ 31.78125 56 36.171875 55.265625 \nQ 40.578125 54.546875 44.28125 53.078125 \nz\n\" id=\"DejaVuSans-115\"/>\n      </defs>\n      <g transform=\"translate(215.491875 266.292344)rotate(-90)scale(0.1 -0.1)\">\n       <use xlink:href=\"#DejaVuSans-80\"/>\n       <use x=\"60.302734\" xlink:href=\"#DejaVuSans-99\"/>\n       <use x=\"115.283203\" xlink:href=\"#DejaVuSans-108\"/>\n       <use x=\"143.066406\" xlink:href=\"#DejaVuSans-97\"/>\n       <use x=\"204.345703\" xlink:href=\"#DejaVuSans-115\"/>\n       <use x=\"256.445312\" xlink:href=\"#DejaVuSans-115\"/>\n      </g>\n     </g>\n    </g>\n    <g id=\"xtick_6\">\n     <g id=\"line2d_6\">\n      <g>\n       <use style=\"stroke:#000000;stroke-width:0.8;\" x=\"242.4925\" xlink:href=\"#m21d1f3ea15\" y=\"228.439219\"/>\n      </g>\n     </g>\n     <g id=\"text_6\">\n      <!-- Sex -->\n      <defs>\n       <path d=\"M 53.515625 70.515625 \nL 53.515625 60.890625 \nQ 47.90625 63.578125 42.921875 64.890625 \nQ 37.9375 66.21875 33.296875 66.21875 \nQ 25.25 66.21875 20.875 63.09375 \nQ 16.5 59.96875 16.5 54.203125 \nQ 16.5 49.359375 19.40625 46.890625 \nQ 22.3125 44.4375 30.421875 42.921875 \nL 36.375 41.703125 \nQ 47.40625 39.59375 52.65625 34.296875 \nQ 57.90625 29 57.90625 20.125 \nQ 57.90625 9.515625 50.796875 4.046875 \nQ 43.703125 -1.421875 29.984375 -1.421875 \nQ 24.8125 -1.421875 18.96875 -0.25 \nQ 13.140625 0.921875 6.890625 3.21875 \nL 6.890625 13.375 \nQ 12.890625 10.015625 18.65625 8.296875 \nQ 24.421875 6.59375 29.984375 6.59375 \nQ 38.421875 6.59375 43.015625 9.90625 \nQ 47.609375 13.234375 47.609375 19.390625 \nQ 47.609375 24.75 44.3125 27.78125 \nQ 41.015625 30.8125 33.5 32.328125 \nL 27.484375 33.5 \nQ 16.453125 35.6875 11.515625 40.375 \nQ 6.59375 45.0625 6.59375 53.421875 \nQ 6.59375 63.09375 13.40625 68.65625 \nQ 20.21875 74.21875 32.171875 74.21875 \nQ 37.3125 74.21875 42.625 73.28125 \nQ 47.953125 72.359375 53.515625 70.515625 \nz\n\" id=\"DejaVuSans-83\"/>\n       <path d=\"M 54.890625 54.6875 \nL 35.109375 28.078125 \nL 55.90625 0 \nL 45.3125 0 \nL 29.390625 21.484375 \nL 13.484375 0 \nL 2.875 0 \nL 24.125 28.609375 \nL 4.6875 54.6875 \nL 15.28125 54.6875 \nL 29.78125 35.203125 \nL 44.28125 54.6875 \nz\n\" id=\"DejaVuSans-120\"/>\n      </defs>\n      <g transform=\"translate(245.251875 253.857969)rotate(-90)scale(0.1 -0.1)\">\n       <use xlink:href=\"#DejaVuSans-83\"/>\n       <use x=\"63.476562\" xlink:href=\"#DejaVuSans-101\"/>\n       <use x=\"124.984375\" xlink:href=\"#DejaVuSans-120\"/>\n      </g>\n     </g>\n    </g>\n    <g id=\"xtick_7\">\n     <g id=\"line2d_7\">\n      <g>\n       <use style=\"stroke:#000000;stroke-width:0.8;\" x=\"272.2525\" xlink:href=\"#m21d1f3ea15\" y=\"228.439219\"/>\n      </g>\n     </g>\n     <g id=\"text_7\">\n      <!-- SibSp -->\n      <defs>\n       <path d=\"M 9.421875 54.6875 \nL 18.40625 54.6875 \nL 18.40625 0 \nL 9.421875 0 \nz\nM 9.421875 75.984375 \nL 18.40625 75.984375 \nL 18.40625 64.59375 \nL 9.421875 64.59375 \nz\n\" id=\"DejaVuSans-105\"/>\n       <path d=\"M 18.109375 8.203125 \nL 18.109375 -20.796875 \nL 9.078125 -20.796875 \nL 9.078125 54.6875 \nL 18.109375 54.6875 \nL 18.109375 46.390625 \nQ 20.953125 51.265625 25.265625 53.625 \nQ 29.59375 56 35.59375 56 \nQ 45.5625 56 51.78125 48.09375 \nQ 58.015625 40.1875 58.015625 27.296875 \nQ 58.015625 14.40625 51.78125 6.484375 \nQ 45.5625 -1.421875 35.59375 -1.421875 \nQ 29.59375 -1.421875 25.265625 0.953125 \nQ 20.953125 3.328125 18.109375 8.203125 \nz\nM 48.6875 27.296875 \nQ 48.6875 37.203125 44.609375 42.84375 \nQ 40.53125 48.484375 33.40625 48.484375 \nQ 26.265625 48.484375 22.1875 42.84375 \nQ 18.109375 37.203125 18.109375 27.296875 \nQ 18.109375 17.390625 22.1875 11.75 \nQ 26.265625 6.109375 33.40625 6.109375 \nQ 40.53125 6.109375 44.609375 11.75 \nQ 48.6875 17.390625 48.6875 27.296875 \nz\n\" id=\"DejaVuSans-112\"/>\n      </defs>\n      <g transform=\"translate(275.011875 263.611094)rotate(-90)scale(0.1 -0.1)\">\n       <use xlink:href=\"#DejaVuSans-83\"/>\n       <use x=\"63.476562\" xlink:href=\"#DejaVuSans-105\"/>\n       <use x=\"91.259766\" xlink:href=\"#DejaVuSans-98\"/>\n       <use x=\"154.736328\" xlink:href=\"#DejaVuSans-83\"/>\n       <use x=\"218.212891\" xlink:href=\"#DejaVuSans-112\"/>\n      </g>\n     </g>\n    </g>\n    <g id=\"xtick_8\">\n     <g id=\"line2d_8\">\n      <g>\n       <use style=\"stroke:#000000;stroke-width:0.8;\" x=\"302.0125\" xlink:href=\"#m21d1f3ea15\" y=\"228.439219\"/>\n      </g>\n     </g>\n     <g id=\"text_8\">\n      <!-- Survived -->\n      <defs>\n       <path d=\"M 8.5 21.578125 \nL 8.5 54.6875 \nL 17.484375 54.6875 \nL 17.484375 21.921875 \nQ 17.484375 14.15625 20.5 10.265625 \nQ 23.53125 6.390625 29.59375 6.390625 \nQ 36.859375 6.390625 41.078125 11.03125 \nQ 45.3125 15.671875 45.3125 23.6875 \nL 45.3125 54.6875 \nL 54.296875 54.6875 \nL 54.296875 0 \nL 45.3125 0 \nL 45.3125 8.40625 \nQ 42.046875 3.421875 37.71875 1 \nQ 33.40625 -1.421875 27.6875 -1.421875 \nQ 18.265625 -1.421875 13.375 4.4375 \nQ 8.5 10.296875 8.5 21.578125 \nz\nM 31.109375 56 \nz\n\" id=\"DejaVuSans-117\"/>\n       <path d=\"M 2.984375 54.6875 \nL 12.5 54.6875 \nL 29.59375 8.796875 \nL 46.6875 54.6875 \nL 56.203125 54.6875 \nL 35.6875 0 \nL 23.484375 0 \nz\n\" id=\"DejaVuSans-118\"/>\n      </defs>\n      <g transform=\"translate(304.771875 279.353281)rotate(-90)scale(0.1 -0.1)\">\n       <use xlink:href=\"#DejaVuSans-83\"/>\n       <use x=\"63.476562\" xlink:href=\"#DejaVuSans-117\"/>\n       <use x=\"126.855469\" xlink:href=\"#DejaVuSans-114\"/>\n       <use x=\"167.96875\" xlink:href=\"#DejaVuSans-118\"/>\n       <use x=\"227.148438\" xlink:href=\"#DejaVuSans-105\"/>\n       <use x=\"254.931641\" xlink:href=\"#DejaVuSans-118\"/>\n       <use x=\"314.111328\" xlink:href=\"#DejaVuSans-101\"/>\n       <use x=\"375.634766\" xlink:href=\"#DejaVuSans-100\"/>\n      </g>\n     </g>\n    </g>\n    <g id=\"xtick_9\">\n     <g id=\"line2d_9\">\n      <g>\n       <use style=\"stroke:#000000;stroke-width:0.8;\" x=\"331.7725\" xlink:href=\"#m21d1f3ea15\" y=\"228.439219\"/>\n      </g>\n     </g>\n     <g id=\"text_9\">\n      <!-- Title -->\n      <defs>\n       <path d=\"M -0.296875 72.90625 \nL 61.375 72.90625 \nL 61.375 64.59375 \nL 35.5 64.59375 \nL 35.5 0 \nL 25.59375 0 \nL 25.59375 64.59375 \nL -0.296875 64.59375 \nz\n\" id=\"DejaVuSans-84\"/>\n       <path d=\"M 18.3125 70.21875 \nL 18.3125 54.6875 \nL 36.8125 54.6875 \nL 36.8125 47.703125 \nL 18.3125 47.703125 \nL 18.3125 18.015625 \nQ 18.3125 11.328125 20.140625 9.421875 \nQ 21.96875 7.515625 27.59375 7.515625 \nL 36.8125 7.515625 \nL 36.8125 0 \nL 27.59375 0 \nQ 17.1875 0 13.234375 3.875 \nQ 9.28125 7.765625 9.28125 18.015625 \nL 9.28125 47.703125 \nL 2.6875 47.703125 \nL 2.6875 54.6875 \nL 9.28125 54.6875 \nL 9.28125 70.21875 \nz\n\" id=\"DejaVuSans-116\"/>\n      </defs>\n      <g transform=\"translate(334.531875 257.172031)rotate(-90)scale(0.1 -0.1)\">\n       <use xlink:href=\"#DejaVuSans-84\"/>\n       <use x=\"61.037109\" xlink:href=\"#DejaVuSans-105\"/>\n       <use x=\"88.820312\" xlink:href=\"#DejaVuSans-116\"/>\n       <use x=\"128.029297\" xlink:href=\"#DejaVuSans-108\"/>\n       <use x=\"155.8125\" xlink:href=\"#DejaVuSans-101\"/>\n      </g>\n     </g>\n    </g>\n    <g id=\"text_10\">\n     <!-- x -->\n     <g transform=\"translate(209.773125 297.972031)scale(0.1 -0.1)\">\n      <use xlink:href=\"#DejaVuSans-120\"/>\n     </g>\n    </g>\n   </g>\n   <g id=\"matplotlib.axis_2\">\n    <g id=\"ytick_1\">\n     <g id=\"line2d_10\">\n      <defs>\n       <path d=\"M 0 0 \nL -3.5 0 \n\" id=\"mb3f37cca24\" style=\"stroke:#000000;stroke-width:0.8;\"/>\n      </defs>\n      <g>\n       <use style=\"stroke:#000000;stroke-width:0.8;\" x=\"78.8125\" xlink:href=\"#mb3f37cca24\" y=\"23.079219\"/>\n      </g>\n     </g>\n     <g id=\"text_11\">\n      <!-- Age -->\n      <g transform=\"translate(52.470312 26.878438)scale(0.1 -0.1)\">\n       <use xlink:href=\"#DejaVuSans-65\"/>\n       <use x=\"68.408203\" xlink:href=\"#DejaVuSans-103\"/>\n       <use x=\"131.884766\" xlink:href=\"#DejaVuSans-101\"/>\n      </g>\n     </g>\n    </g>\n    <g id=\"ytick_2\">\n     <g id=\"line2d_11\">\n      <g>\n       <use style=\"stroke:#000000;stroke-width:0.8;\" x=\"78.8125\" xlink:href=\"#mb3f37cca24\" y=\"47.239219\"/>\n      </g>\n     </g>\n     <g id=\"text_12\">\n      <!-- Embarked -->\n      <g transform=\"translate(20.878125 51.038438)scale(0.1 -0.1)\">\n       <use xlink:href=\"#DejaVuSans-69\"/>\n       <use x=\"63.183594\" xlink:href=\"#DejaVuSans-109\"/>\n       <use x=\"160.595703\" xlink:href=\"#DejaVuSans-98\"/>\n       <use x=\"224.072266\" xlink:href=\"#DejaVuSans-97\"/>\n       <use x=\"285.351562\" xlink:href=\"#DejaVuSans-114\"/>\n       <use x=\"326.464844\" xlink:href=\"#DejaVuSans-107\"/>\n       <use x=\"384.328125\" xlink:href=\"#DejaVuSans-101\"/>\n       <use x=\"445.851562\" xlink:href=\"#DejaVuSans-100\"/>\n      </g>\n     </g>\n    </g>\n    <g id=\"ytick_3\">\n     <g id=\"line2d_12\">\n      <g>\n       <use style=\"stroke:#000000;stroke-width:0.8;\" x=\"78.8125\" xlink:href=\"#mb3f37cca24\" y=\"71.399219\"/>\n      </g>\n     </g>\n     <g id=\"text_13\">\n      <!-- Fare -->\n      <g transform=\"translate(49.685937 75.198438)scale(0.1 -0.1)\">\n       <use xlink:href=\"#DejaVuSans-70\"/>\n       <use x=\"57.378906\" xlink:href=\"#DejaVuSans-97\"/>\n       <use x=\"118.658203\" xlink:href=\"#DejaVuSans-114\"/>\n       <use x=\"159.740234\" xlink:href=\"#DejaVuSans-101\"/>\n      </g>\n     </g>\n    </g>\n    <g id=\"ytick_4\">\n     <g id=\"line2d_13\">\n      <g>\n       <use style=\"stroke:#000000;stroke-width:0.8;\" x=\"78.8125\" xlink:href=\"#mb3f37cca24\" y=\"95.559219\"/>\n      </g>\n     </g>\n     <g id=\"text_14\">\n      <!-- Parch -->\n      <g transform=\"translate(43.717187 99.358438)scale(0.1 -0.1)\">\n       <use xlink:href=\"#DejaVuSans-80\"/>\n       <use x=\"60.240234\" xlink:href=\"#DejaVuSans-97\"/>\n       <use x=\"121.519531\" xlink:href=\"#DejaVuSans-114\"/>\n       <use x=\"162.601562\" xlink:href=\"#DejaVuSans-99\"/>\n       <use x=\"217.582031\" xlink:href=\"#DejaVuSans-104\"/>\n      </g>\n     </g>\n    </g>\n    <g id=\"ytick_5\">\n     <g id=\"line2d_14\">\n      <g>\n       <use style=\"stroke:#000000;stroke-width:0.8;\" x=\"78.8125\" xlink:href=\"#mb3f37cca24\" y=\"119.719219\"/>\n      </g>\n     </g>\n     <g id=\"text_15\">\n      <!-- Pclass -->\n      <g transform=\"translate(40.959375 123.518438)scale(0.1 -0.1)\">\n       <use xlink:href=\"#DejaVuSans-80\"/>\n       <use x=\"60.302734\" xlink:href=\"#DejaVuSans-99\"/>\n       <use x=\"115.283203\" xlink:href=\"#DejaVuSans-108\"/>\n       <use x=\"143.066406\" xlink:href=\"#DejaVuSans-97\"/>\n       <use x=\"204.345703\" xlink:href=\"#DejaVuSans-115\"/>\n       <use x=\"256.445312\" xlink:href=\"#DejaVuSans-115\"/>\n      </g>\n     </g>\n    </g>\n    <g id=\"ytick_6\">\n     <g id=\"line2d_15\">\n      <g>\n       <use style=\"stroke:#000000;stroke-width:0.8;\" x=\"78.8125\" xlink:href=\"#mb3f37cca24\" y=\"143.879219\"/>\n      </g>\n     </g>\n     <g id=\"text_16\">\n      <!-- Sex -->\n      <g transform=\"translate(53.39375 147.678438)scale(0.1 -0.1)\">\n       <use xlink:href=\"#DejaVuSans-83\"/>\n       <use x=\"63.476562\" xlink:href=\"#DejaVuSans-101\"/>\n       <use x=\"124.984375\" xlink:href=\"#DejaVuSans-120\"/>\n      </g>\n     </g>\n    </g>\n    <g id=\"ytick_7\">\n     <g id=\"line2d_16\">\n      <g>\n       <use style=\"stroke:#000000;stroke-width:0.8;\" x=\"78.8125\" xlink:href=\"#mb3f37cca24\" y=\"168.039219\"/>\n      </g>\n     </g>\n     <g id=\"text_17\">\n      <!-- SibSp -->\n      <g transform=\"translate(43.640625 171.838437)scale(0.1 -0.1)\">\n       <use xlink:href=\"#DejaVuSans-83\"/>\n       <use x=\"63.476562\" xlink:href=\"#DejaVuSans-105\"/>\n       <use x=\"91.259766\" xlink:href=\"#DejaVuSans-98\"/>\n       <use x=\"154.736328\" xlink:href=\"#DejaVuSans-83\"/>\n       <use x=\"218.212891\" xlink:href=\"#DejaVuSans-112\"/>\n      </g>\n     </g>\n    </g>\n    <g id=\"ytick_8\">\n     <g id=\"line2d_17\">\n      <g>\n       <use style=\"stroke:#000000;stroke-width:0.8;\" x=\"78.8125\" xlink:href=\"#mb3f37cca24\" y=\"192.199219\"/>\n      </g>\n     </g>\n     <g id=\"text_18\">\n      <!-- Survived -->\n      <g transform=\"translate(27.898438 195.998437)scale(0.1 -0.1)\">\n       <use xlink:href=\"#DejaVuSans-83\"/>\n       <use x=\"63.476562\" xlink:href=\"#DejaVuSans-117\"/>\n       <use x=\"126.855469\" xlink:href=\"#DejaVuSans-114\"/>\n       <use x=\"167.96875\" xlink:href=\"#DejaVuSans-118\"/>\n       <use x=\"227.148438\" xlink:href=\"#DejaVuSans-105\"/>\n       <use x=\"254.931641\" xlink:href=\"#DejaVuSans-118\"/>\n       <use x=\"314.111328\" xlink:href=\"#DejaVuSans-101\"/>\n       <use x=\"375.634766\" xlink:href=\"#DejaVuSans-100\"/>\n      </g>\n     </g>\n    </g>\n    <g id=\"ytick_9\">\n     <g id=\"line2d_18\">\n      <g>\n       <use style=\"stroke:#000000;stroke-width:0.8;\" x=\"78.8125\" xlink:href=\"#mb3f37cca24\" y=\"216.359219\"/>\n      </g>\n     </g>\n     <g id=\"text_19\">\n      <!-- Title -->\n      <g transform=\"translate(50.079687 220.158438)scale(0.1 -0.1)\">\n       <use xlink:href=\"#DejaVuSans-84\"/>\n       <use x=\"61.037109\" xlink:href=\"#DejaVuSans-105\"/>\n       <use x=\"88.820312\" xlink:href=\"#DejaVuSans-116\"/>\n       <use x=\"128.029297\" xlink:href=\"#DejaVuSans-108\"/>\n       <use x=\"155.8125\" xlink:href=\"#DejaVuSans-101\"/>\n      </g>\n     </g>\n    </g>\n    <g id=\"text_20\">\n     <!-- y -->\n     <defs>\n      <path d=\"M 32.171875 -5.078125 \nQ 28.375 -14.84375 24.75 -17.8125 \nQ 21.140625 -20.796875 15.09375 -20.796875 \nL 7.90625 -20.796875 \nL 7.90625 -13.28125 \nL 13.1875 -13.28125 \nQ 16.890625 -13.28125 18.9375 -11.515625 \nQ 21 -9.765625 23.484375 -3.21875 \nL 25.09375 0.875 \nL 2.984375 54.6875 \nL 12.5 54.6875 \nL 29.59375 11.921875 \nL 46.6875 54.6875 \nL 56.203125 54.6875 \nz\n\" id=\"DejaVuSans-121\"/>\n     </defs>\n     <g transform=\"translate(14.798437 122.678594)rotate(-90)scale(0.1 -0.1)\">\n      <use xlink:href=\"#DejaVuSans-121\"/>\n     </g>\n    </g>\n   </g>\n   <g id=\"text_21\">\n    <!-- 1 -->\n    <defs>\n     <path d=\"M 12.40625 8.296875 \nL 28.515625 8.296875 \nL 28.515625 63.921875 \nL 10.984375 60.40625 \nL 10.984375 69.390625 \nL 28.421875 72.90625 \nL 38.28125 72.90625 \nL 38.28125 8.296875 \nL 54.390625 8.296875 \nL 54.390625 0 \nL 12.40625 0 \nz\n\" id=\"DejaVuSans-49\"/>\n    </defs>\n    <g style=\"fill:#262626;\" transform=\"translate(90.51125 25.838594)scale(0.1 -0.1)\">\n     <use xlink:href=\"#DejaVuSans-49\"/>\n    </g>\n   </g>\n   <g id=\"text_22\">\n    <!-- 0 -->\n    <defs>\n     <path d=\"M 31.78125 66.40625 \nQ 24.171875 66.40625 20.328125 58.90625 \nQ 16.5 51.421875 16.5 36.375 \nQ 16.5 21.390625 20.328125 13.890625 \nQ 24.171875 6.390625 31.78125 6.390625 \nQ 39.453125 6.390625 43.28125 13.890625 \nQ 47.125 21.390625 47.125 36.375 \nQ 47.125 51.421875 43.28125 58.90625 \nQ 39.453125 66.40625 31.78125 66.40625 \nz\nM 31.78125 74.21875 \nQ 44.046875 74.21875 50.515625 64.515625 \nQ 56.984375 54.828125 56.984375 36.375 \nQ 56.984375 17.96875 50.515625 8.265625 \nQ 44.046875 -1.421875 31.78125 -1.421875 \nQ 19.53125 -1.421875 13.0625 8.265625 \nQ 6.59375 17.96875 6.59375 36.375 \nQ 6.59375 54.828125 13.0625 64.515625 \nQ 19.53125 74.21875 31.78125 74.21875 \nz\n\" id=\"DejaVuSans-48\"/>\n    </defs>\n    <g style=\"fill:#262626;\" transform=\"translate(120.27125 25.838594)scale(0.1 -0.1)\">\n     <use xlink:href=\"#DejaVuSans-48\"/>\n    </g>\n   </g>\n   <g id=\"text_23\">\n    <!-- 0 -->\n    <g style=\"fill:#262626;\" transform=\"translate(150.03125 25.838594)scale(0.1 -0.1)\">\n     <use xlink:href=\"#DejaVuSans-48\"/>\n    </g>\n   </g>\n   <g id=\"text_24\">\n    <!-- 0.03 -->\n    <defs>\n     <path d=\"M 10.6875 12.40625 \nL 21 12.40625 \nL 21 0 \nL 10.6875 0 \nz\n\" id=\"DejaVuSans-46\"/>\n     <path d=\"M 40.578125 39.3125 \nQ 47.65625 37.796875 51.625 33 \nQ 55.609375 28.21875 55.609375 21.1875 \nQ 55.609375 10.40625 48.1875 4.484375 \nQ 40.765625 -1.421875 27.09375 -1.421875 \nQ 22.515625 -1.421875 17.65625 -0.515625 \nQ 12.796875 0.390625 7.625 2.203125 \nL 7.625 11.71875 \nQ 11.71875 9.328125 16.59375 8.109375 \nQ 21.484375 6.890625 26.8125 6.890625 \nQ 36.078125 6.890625 40.9375 10.546875 \nQ 45.796875 14.203125 45.796875 21.1875 \nQ 45.796875 27.640625 41.28125 31.265625 \nQ 36.765625 34.90625 28.71875 34.90625 \nL 20.21875 34.90625 \nL 20.21875 43.015625 \nL 29.109375 43.015625 \nQ 36.375 43.015625 40.234375 45.921875 \nQ 44.09375 48.828125 44.09375 54.296875 \nQ 44.09375 59.90625 40.109375 62.90625 \nQ 36.140625 65.921875 28.71875 65.921875 \nQ 24.65625 65.921875 20.015625 65.03125 \nQ 15.375 64.15625 9.8125 62.3125 \nL 9.8125 71.09375 \nQ 15.4375 72.65625 20.34375 73.4375 \nQ 25.25 74.21875 29.59375 74.21875 \nQ 40.828125 74.21875 47.359375 69.109375 \nQ 53.90625 64.015625 53.90625 55.328125 \nQ 53.90625 49.265625 50.4375 45.09375 \nQ 46.96875 40.921875 40.578125 39.3125 \nz\n\" id=\"DejaVuSans-51\"/>\n    </defs>\n    <g style=\"fill:#262626;\" transform=\"translate(171.839688 25.838594)scale(0.1 -0.1)\">\n     <use xlink:href=\"#DejaVuSans-48\"/>\n     <use x=\"63.623047\" xlink:href=\"#DejaVuSans-46\"/>\n     <use x=\"95.410156\" xlink:href=\"#DejaVuSans-48\"/>\n     <use x=\"159.033203\" xlink:href=\"#DejaVuSans-51\"/>\n    </g>\n   </g>\n   <g id=\"text_25\">\n    <!-- 0.07 -->\n    <defs>\n     <path d=\"M 8.203125 72.90625 \nL 55.078125 72.90625 \nL 55.078125 68.703125 \nL 28.609375 0 \nL 18.3125 0 \nL 43.21875 64.59375 \nL 8.203125 64.59375 \nz\n\" id=\"DejaVuSans-55\"/>\n    </defs>\n    <g style=\"fill:#262626;\" transform=\"translate(201.599688 25.838594)scale(0.1 -0.1)\">\n     <use xlink:href=\"#DejaVuSans-48\"/>\n     <use x=\"63.623047\" xlink:href=\"#DejaVuSans-46\"/>\n     <use x=\"95.410156\" xlink:href=\"#DejaVuSans-48\"/>\n     <use x=\"159.033203\" xlink:href=\"#DejaVuSans-55\"/>\n    </g>\n   </g>\n   <g id=\"text_26\">\n    <!-- 0 -->\n    <g style=\"fill:#262626;\" transform=\"translate(239.31125 25.838594)scale(0.1 -0.1)\">\n     <use xlink:href=\"#DejaVuSans-48\"/>\n    </g>\n   </g>\n   <g id=\"text_27\">\n    <!-- 0.04 -->\n    <defs>\n     <path d=\"M 37.796875 64.3125 \nL 12.890625 25.390625 \nL 37.796875 25.390625 \nz\nM 35.203125 72.90625 \nL 47.609375 72.90625 \nL 47.609375 25.390625 \nL 58.015625 25.390625 \nL 58.015625 17.1875 \nL 47.609375 17.1875 \nL 47.609375 0 \nL 37.796875 0 \nL 37.796875 17.1875 \nL 4.890625 17.1875 \nL 4.890625 26.703125 \nz\n\" id=\"DejaVuSans-52\"/>\n    </defs>\n    <g style=\"fill:#262626;\" transform=\"translate(261.119687 25.838594)scale(0.1 -0.1)\">\n     <use xlink:href=\"#DejaVuSans-48\"/>\n     <use x=\"63.623047\" xlink:href=\"#DejaVuSans-46\"/>\n     <use x=\"95.410156\" xlink:href=\"#DejaVuSans-48\"/>\n     <use x=\"159.033203\" xlink:href=\"#DejaVuSans-52\"/>\n    </g>\n   </g>\n   <g id=\"text_28\">\n    <!-- 0 -->\n    <g style=\"fill:#262626;\" transform=\"translate(298.83125 25.838594)scale(0.1 -0.1)\">\n     <use xlink:href=\"#DejaVuSans-48\"/>\n    </g>\n   </g>\n   <g id=\"text_29\">\n    <!-- 0.13 -->\n    <g style=\"fill:#ffffff;\" transform=\"translate(320.639688 25.838594)scale(0.1 -0.1)\">\n     <use xlink:href=\"#DejaVuSans-48\"/>\n     <use x=\"63.623047\" xlink:href=\"#DejaVuSans-46\"/>\n     <use x=\"95.410156\" xlink:href=\"#DejaVuSans-49\"/>\n     <use x=\"159.033203\" xlink:href=\"#DejaVuSans-51\"/>\n    </g>\n   </g>\n   <g id=\"text_30\">\n    <!-- 0.05 -->\n    <defs>\n     <path d=\"M 10.796875 72.90625 \nL 49.515625 72.90625 \nL 49.515625 64.59375 \nL 19.828125 64.59375 \nL 19.828125 46.734375 \nQ 21.96875 47.46875 24.109375 47.828125 \nQ 26.265625 48.1875 28.421875 48.1875 \nQ 40.625 48.1875 47.75 41.5 \nQ 54.890625 34.8125 54.890625 23.390625 \nQ 54.890625 11.625 47.5625 5.09375 \nQ 40.234375 -1.421875 26.90625 -1.421875 \nQ 22.3125 -1.421875 17.546875 -0.640625 \nQ 12.796875 0.140625 7.71875 1.703125 \nL 7.71875 11.625 \nQ 12.109375 9.234375 16.796875 8.0625 \nQ 21.484375 6.890625 26.703125 6.890625 \nQ 35.15625 6.890625 40.078125 11.328125 \nQ 45.015625 15.765625 45.015625 23.390625 \nQ 45.015625 31 40.078125 35.4375 \nQ 35.15625 39.890625 26.703125 39.890625 \nQ 22.75 39.890625 18.8125 39.015625 \nQ 14.890625 38.140625 10.796875 36.28125 \nz\n\" id=\"DejaVuSans-53\"/>\n    </defs>\n    <g style=\"fill:#262626;\" transform=\"translate(82.559687 49.998594)scale(0.1 -0.1)\">\n     <use xlink:href=\"#DejaVuSans-48\"/>\n     <use x=\"63.623047\" xlink:href=\"#DejaVuSans-46\"/>\n     <use x=\"95.410156\" xlink:href=\"#DejaVuSans-48\"/>\n     <use x=\"159.033203\" xlink:href=\"#DejaVuSans-53\"/>\n    </g>\n   </g>\n   <g id=\"text_31\">\n    <!-- 1 -->\n    <g style=\"fill:#262626;\" transform=\"translate(120.27125 49.998594)scale(0.1 -0.1)\">\n     <use xlink:href=\"#DejaVuSans-49\"/>\n    </g>\n   </g>\n   <g id=\"text_32\">\n    <!-- 0.74 -->\n    <g style=\"fill:#ffffff;\" transform=\"translate(142.079688 49.998594)scale(0.1 -0.1)\">\n     <use xlink:href=\"#DejaVuSans-48\"/>\n     <use x=\"63.623047\" xlink:href=\"#DejaVuSans-46\"/>\n     <use x=\"95.410156\" xlink:href=\"#DejaVuSans-55\"/>\n     <use x=\"159.033203\" xlink:href=\"#DejaVuSans-52\"/>\n    </g>\n   </g>\n   <g id=\"text_33\">\n    <!-- 0 -->\n    <g style=\"fill:#262626;\" transform=\"translate(179.79125 49.998594)scale(0.1 -0.1)\">\n     <use xlink:href=\"#DejaVuSans-48\"/>\n    </g>\n   </g>\n   <g id=\"text_34\">\n    <!-- 0 -->\n    <g style=\"fill:#262626;\" transform=\"translate(209.55125 49.998594)scale(0.1 -0.1)\">\n     <use xlink:href=\"#DejaVuSans-48\"/>\n    </g>\n   </g>\n   <g id=\"text_35\">\n    <!-- 0 -->\n    <g style=\"fill:#262626;\" transform=\"translate(239.31125 49.998594)scale(0.1 -0.1)\">\n     <use xlink:href=\"#DejaVuSans-48\"/>\n    </g>\n   </g>\n   <g id=\"text_36\">\n    <!-- 0 -->\n    <g style=\"fill:#262626;\" transform=\"translate(269.07125 49.998594)scale(0.1 -0.1)\">\n     <use xlink:href=\"#DejaVuSans-48\"/>\n    </g>\n   </g>\n   <g id=\"text_37\">\n    <!-- 0 -->\n    <g style=\"fill:#262626;\" transform=\"translate(298.83125 49.998594)scale(0.1 -0.1)\">\n     <use xlink:href=\"#DejaVuSans-48\"/>\n    </g>\n   </g>\n   <g id=\"text_38\">\n    <!-- 0 -->\n    <g style=\"fill:#262626;\" transform=\"translate(328.59125 49.998594)scale(0.1 -0.1)\">\n     <use xlink:href=\"#DejaVuSans-48\"/>\n    </g>\n   </g>\n   <g id=\"text_39\">\n    <!-- 0 -->\n    <g style=\"fill:#262626;\" transform=\"translate(90.51125 74.158594)scale(0.1 -0.1)\">\n     <use xlink:href=\"#DejaVuSans-48\"/>\n    </g>\n   </g>\n   <g id=\"text_40\">\n    <!-- 0 -->\n    <g style=\"fill:#262626;\" transform=\"translate(120.27125 74.158594)scale(0.1 -0.1)\">\n     <use xlink:href=\"#DejaVuSans-48\"/>\n    </g>\n   </g>\n   <g id=\"text_41\">\n    <!-- 1 -->\n    <g style=\"fill:#262626;\" transform=\"translate(150.03125 74.158594)scale(0.1 -0.1)\">\n     <use xlink:href=\"#DejaVuSans-49\"/>\n    </g>\n   </g>\n   <g id=\"text_42\">\n    <!-- 0 -->\n    <g style=\"fill:#262626;\" transform=\"translate(179.79125 74.158594)scale(0.1 -0.1)\">\n     <use xlink:href=\"#DejaVuSans-48\"/>\n    </g>\n   </g>\n   <g id=\"text_43\">\n    <!-- 0.19 -->\n    <defs>\n     <path d=\"M 10.984375 1.515625 \nL 10.984375 10.5 \nQ 14.703125 8.734375 18.5 7.8125 \nQ 22.3125 6.890625 25.984375 6.890625 \nQ 35.75 6.890625 40.890625 13.453125 \nQ 46.046875 20.015625 46.78125 33.40625 \nQ 43.953125 29.203125 39.59375 26.953125 \nQ 35.25 24.703125 29.984375 24.703125 \nQ 19.046875 24.703125 12.671875 31.3125 \nQ 6.296875 37.9375 6.296875 49.421875 \nQ 6.296875 60.640625 12.9375 67.421875 \nQ 19.578125 74.21875 30.609375 74.21875 \nQ 43.265625 74.21875 49.921875 64.515625 \nQ 56.59375 54.828125 56.59375 36.375 \nQ 56.59375 19.140625 48.40625 8.859375 \nQ 40.234375 -1.421875 26.421875 -1.421875 \nQ 22.703125 -1.421875 18.890625 -0.6875 \nQ 15.09375 0.046875 10.984375 1.515625 \nz\nM 30.609375 32.421875 \nQ 37.25 32.421875 41.125 36.953125 \nQ 45.015625 41.5 45.015625 49.421875 \nQ 45.015625 57.28125 41.125 61.84375 \nQ 37.25 66.40625 30.609375 66.40625 \nQ 23.96875 66.40625 20.09375 61.84375 \nQ 16.21875 57.28125 16.21875 49.421875 \nQ 16.21875 41.5 20.09375 36.953125 \nQ 23.96875 32.421875 30.609375 32.421875 \nz\n\" id=\"DejaVuSans-57\"/>\n    </defs>\n    <g style=\"fill:#ffffff;\" transform=\"translate(201.599688 74.158594)scale(0.1 -0.1)\">\n     <use xlink:href=\"#DejaVuSans-48\"/>\n     <use x=\"63.623047\" xlink:href=\"#DejaVuSans-46\"/>\n     <use x=\"95.410156\" xlink:href=\"#DejaVuSans-49\"/>\n     <use x=\"159.033203\" xlink:href=\"#DejaVuSans-57\"/>\n    </g>\n   </g>\n   <g id=\"text_44\">\n    <!-- 0 -->\n    <g style=\"fill:#262626;\" transform=\"translate(239.31125 74.158594)scale(0.1 -0.1)\">\n     <use xlink:href=\"#DejaVuSans-48\"/>\n    </g>\n   </g>\n   <g id=\"text_45\">\n    <!-- 0 -->\n    <g style=\"fill:#262626;\" transform=\"translate(269.07125 74.158594)scale(0.1 -0.1)\">\n     <use xlink:href=\"#DejaVuSans-48\"/>\n    </g>\n   </g>\n   <g id=\"text_46\">\n    <!-- 0 -->\n    <g style=\"fill:#262626;\" transform=\"translate(298.83125 74.158594)scale(0.1 -0.1)\">\n     <use xlink:href=\"#DejaVuSans-48\"/>\n    </g>\n   </g>\n   <g id=\"text_47\">\n    <!-- 0 -->\n    <g style=\"fill:#262626;\" transform=\"translate(328.59125 74.158594)scale(0.1 -0.1)\">\n     <use xlink:href=\"#DejaVuSans-48\"/>\n    </g>\n   </g>\n   <g id=\"text_48\">\n    <!-- 0 -->\n    <g style=\"fill:#262626;\" transform=\"translate(90.51125 98.318594)scale(0.1 -0.1)\">\n     <use xlink:href=\"#DejaVuSans-48\"/>\n    </g>\n   </g>\n   <g id=\"text_49\">\n    <!-- 0 -->\n    <g style=\"fill:#262626;\" transform=\"translate(120.27125 98.318594)scale(0.1 -0.1)\">\n     <use xlink:href=\"#DejaVuSans-48\"/>\n    </g>\n   </g>\n   <g id=\"text_50\">\n    <!-- 0.21 -->\n    <defs>\n     <path d=\"M 19.1875 8.296875 \nL 53.609375 8.296875 \nL 53.609375 0 \nL 7.328125 0 \nL 7.328125 8.296875 \nQ 12.9375 14.109375 22.625 23.890625 \nQ 32.328125 33.6875 34.8125 36.53125 \nQ 39.546875 41.84375 41.421875 45.53125 \nQ 43.3125 49.21875 43.3125 52.78125 \nQ 43.3125 58.59375 39.234375 62.25 \nQ 35.15625 65.921875 28.609375 65.921875 \nQ 23.96875 65.921875 18.8125 64.3125 \nQ 13.671875 62.703125 7.8125 59.421875 \nL 7.8125 69.390625 \nQ 13.765625 71.78125 18.9375 73 \nQ 24.125 74.21875 28.421875 74.21875 \nQ 39.75 74.21875 46.484375 68.546875 \nQ 53.21875 62.890625 53.21875 53.421875 \nQ 53.21875 48.921875 51.53125 44.890625 \nQ 49.859375 40.875 45.40625 35.40625 \nQ 44.1875 33.984375 37.640625 27.21875 \nQ 31.109375 20.453125 19.1875 8.296875 \nz\n\" id=\"DejaVuSans-50\"/>\n    </defs>\n    <g style=\"fill:#ffffff;\" transform=\"translate(142.079688 98.318594)scale(0.1 -0.1)\">\n     <use xlink:href=\"#DejaVuSans-48\"/>\n     <use x=\"63.623047\" xlink:href=\"#DejaVuSans-46\"/>\n     <use x=\"95.410156\" xlink:href=\"#DejaVuSans-50\"/>\n     <use x=\"159.033203\" xlink:href=\"#DejaVuSans-49\"/>\n    </g>\n   </g>\n   <g id=\"text_51\">\n    <!-- 1 -->\n    <g style=\"fill:#262626;\" transform=\"translate(179.79125 98.318594)scale(0.1 -0.1)\">\n     <use xlink:href=\"#DejaVuSans-49\"/>\n    </g>\n   </g>\n   <g id=\"text_52\">\n    <!-- 0 -->\n    <g style=\"fill:#262626;\" transform=\"translate(209.55125 98.318594)scale(0.1 -0.1)\">\n     <use xlink:href=\"#DejaVuSans-48\"/>\n    </g>\n   </g>\n   <g id=\"text_53\">\n    <!-- 0 -->\n    <g style=\"fill:#262626;\" transform=\"translate(239.31125 98.318594)scale(0.1 -0.1)\">\n     <use xlink:href=\"#DejaVuSans-48\"/>\n    </g>\n   </g>\n   <g id=\"text_54\">\n    <!-- 0 -->\n    <g style=\"fill:#262626;\" transform=\"translate(269.07125 98.318594)scale(0.1 -0.1)\">\n     <use xlink:href=\"#DejaVuSans-48\"/>\n    </g>\n   </g>\n   <g id=\"text_55\">\n    <!-- 0 -->\n    <g style=\"fill:#262626;\" transform=\"translate(298.83125 98.318594)scale(0.1 -0.1)\">\n     <use xlink:href=\"#DejaVuSans-48\"/>\n    </g>\n   </g>\n   <g id=\"text_56\">\n    <!-- 0 -->\n    <g style=\"fill:#262626;\" transform=\"translate(328.59125 98.318594)scale(0.1 -0.1)\">\n     <use xlink:href=\"#DejaVuSans-48\"/>\n    </g>\n   </g>\n   <g id=\"text_57\">\n    <!-- 0.08 -->\n    <defs>\n     <path d=\"M 31.78125 34.625 \nQ 24.75 34.625 20.71875 30.859375 \nQ 16.703125 27.09375 16.703125 20.515625 \nQ 16.703125 13.921875 20.71875 10.15625 \nQ 24.75 6.390625 31.78125 6.390625 \nQ 38.8125 6.390625 42.859375 10.171875 \nQ 46.921875 13.96875 46.921875 20.515625 \nQ 46.921875 27.09375 42.890625 30.859375 \nQ 38.875 34.625 31.78125 34.625 \nz\nM 21.921875 38.8125 \nQ 15.578125 40.375 12.03125 44.71875 \nQ 8.5 49.078125 8.5 55.328125 \nQ 8.5 64.0625 14.71875 69.140625 \nQ 20.953125 74.21875 31.78125 74.21875 \nQ 42.671875 74.21875 48.875 69.140625 \nQ 55.078125 64.0625 55.078125 55.328125 \nQ 55.078125 49.078125 51.53125 44.71875 \nQ 48 40.375 41.703125 38.8125 \nQ 48.828125 37.15625 52.796875 32.3125 \nQ 56.78125 27.484375 56.78125 20.515625 \nQ 56.78125 9.90625 50.3125 4.234375 \nQ 43.84375 -1.421875 31.78125 -1.421875 \nQ 19.734375 -1.421875 13.25 4.234375 \nQ 6.78125 9.90625 6.78125 20.515625 \nQ 6.78125 27.484375 10.78125 32.3125 \nQ 14.796875 37.15625 21.921875 38.8125 \nz\nM 18.3125 54.390625 \nQ 18.3125 48.734375 21.84375 45.5625 \nQ 25.390625 42.390625 31.78125 42.390625 \nQ 38.140625 42.390625 41.71875 45.5625 \nQ 45.3125 48.734375 45.3125 54.390625 \nQ 45.3125 60.0625 41.71875 63.234375 \nQ 38.140625 66.40625 31.78125 66.40625 \nQ 25.390625 66.40625 21.84375 63.234375 \nQ 18.3125 60.0625 18.3125 54.390625 \nz\n\" id=\"DejaVuSans-56\"/>\n    </defs>\n    <g style=\"fill:#262626;\" transform=\"translate(82.559687 122.478594)scale(0.1 -0.1)\">\n     <use xlink:href=\"#DejaVuSans-48\"/>\n     <use x=\"63.623047\" xlink:href=\"#DejaVuSans-46\"/>\n     <use x=\"95.410156\" xlink:href=\"#DejaVuSans-48\"/>\n     <use x=\"159.033203\" xlink:href=\"#DejaVuSans-56\"/>\n    </g>\n   </g>\n   <g id=\"text_58\">\n    <!-- 0 -->\n    <g style=\"fill:#262626;\" transform=\"translate(120.27125 122.478594)scale(0.1 -0.1)\">\n     <use xlink:href=\"#DejaVuSans-48\"/>\n    </g>\n   </g>\n   <g id=\"text_59\">\n    <!-- 0.9 -->\n    <g style=\"fill:#ffffff;\" transform=\"translate(145.260938 122.478594)scale(0.1 -0.1)\">\n     <use xlink:href=\"#DejaVuSans-48\"/>\n     <use x=\"63.623047\" xlink:href=\"#DejaVuSans-46\"/>\n     <use x=\"95.410156\" xlink:href=\"#DejaVuSans-57\"/>\n    </g>\n   </g>\n   <g id=\"text_60\">\n    <!-- 0 -->\n    <g style=\"fill:#262626;\" transform=\"translate(179.79125 122.478594)scale(0.1 -0.1)\">\n     <use xlink:href=\"#DejaVuSans-48\"/>\n    </g>\n   </g>\n   <g id=\"text_61\">\n    <!-- 1 -->\n    <g style=\"fill:#262626;\" transform=\"translate(209.55125 122.478594)scale(0.1 -0.1)\">\n     <use xlink:href=\"#DejaVuSans-49\"/>\n    </g>\n   </g>\n   <g id=\"text_62\">\n    <!-- 0 -->\n    <g style=\"fill:#262626;\" transform=\"translate(239.31125 122.478594)scale(0.1 -0.1)\">\n     <use xlink:href=\"#DejaVuSans-48\"/>\n    </g>\n   </g>\n   <g id=\"text_63\">\n    <!-- 0 -->\n    <g style=\"fill:#262626;\" transform=\"translate(269.07125 122.478594)scale(0.1 -0.1)\">\n     <use xlink:href=\"#DejaVuSans-48\"/>\n    </g>\n   </g>\n   <g id=\"text_64\">\n    <!-- 0.01 -->\n    <g style=\"fill:#262626;\" transform=\"translate(290.879688 122.478594)scale(0.1 -0.1)\">\n     <use xlink:href=\"#DejaVuSans-48\"/>\n     <use x=\"63.623047\" xlink:href=\"#DejaVuSans-46\"/>\n     <use x=\"95.410156\" xlink:href=\"#DejaVuSans-48\"/>\n     <use x=\"159.033203\" xlink:href=\"#DejaVuSans-49\"/>\n    </g>\n   </g>\n   <g id=\"text_65\">\n    <!-- 0 -->\n    <g style=\"fill:#262626;\" transform=\"translate(328.59125 122.478594)scale(0.1 -0.1)\">\n     <use xlink:href=\"#DejaVuSans-48\"/>\n    </g>\n   </g>\n   <g id=\"text_66\">\n    <!-- 0 -->\n    <g style=\"fill:#262626;\" transform=\"translate(90.51125 146.638594)scale(0.1 -0.1)\">\n     <use xlink:href=\"#DejaVuSans-48\"/>\n    </g>\n   </g>\n   <g id=\"text_67\">\n    <!-- 0 -->\n    <g style=\"fill:#262626;\" transform=\"translate(120.27125 146.638594)scale(0.1 -0.1)\">\n     <use xlink:href=\"#DejaVuSans-48\"/>\n    </g>\n   </g>\n   <g id=\"text_68\">\n    <!-- 0 -->\n    <g style=\"fill:#262626;\" transform=\"translate(150.03125 146.638594)scale(0.1 -0.1)\">\n     <use xlink:href=\"#DejaVuSans-48\"/>\n    </g>\n   </g>\n   <g id=\"text_69\">\n    <!-- 0 -->\n    <g style=\"fill:#262626;\" transform=\"translate(179.79125 146.638594)scale(0.1 -0.1)\">\n     <use xlink:href=\"#DejaVuSans-48\"/>\n    </g>\n   </g>\n   <g id=\"text_70\">\n    <!-- 0 -->\n    <g style=\"fill:#262626;\" transform=\"translate(209.55125 146.638594)scale(0.1 -0.1)\">\n     <use xlink:href=\"#DejaVuSans-48\"/>\n    </g>\n   </g>\n   <g id=\"text_71\">\n    <!-- 1 -->\n    <g style=\"fill:#262626;\" transform=\"translate(239.31125 146.638594)scale(0.1 -0.1)\">\n     <use xlink:href=\"#DejaVuSans-49\"/>\n    </g>\n   </g>\n   <g id=\"text_72\">\n    <!-- 0 -->\n    <g style=\"fill:#262626;\" transform=\"translate(269.07125 146.638594)scale(0.1 -0.1)\">\n     <use xlink:href=\"#DejaVuSans-48\"/>\n    </g>\n   </g>\n   <g id=\"text_73\">\n    <!-- 0.09 -->\n    <g style=\"fill:#262626;\" transform=\"translate(290.879688 146.638594)scale(0.1 -0.1)\">\n     <use xlink:href=\"#DejaVuSans-48\"/>\n     <use x=\"63.623047\" xlink:href=\"#DejaVuSans-46\"/>\n     <use x=\"95.410156\" xlink:href=\"#DejaVuSans-48\"/>\n     <use x=\"159.033203\" xlink:href=\"#DejaVuSans-57\"/>\n    </g>\n   </g>\n   <g id=\"text_74\">\n    <!-- 0.99 -->\n    <g style=\"fill:#262626;\" transform=\"translate(320.639688 146.638594)scale(0.1 -0.1)\">\n     <use xlink:href=\"#DejaVuSans-48\"/>\n     <use x=\"63.623047\" xlink:href=\"#DejaVuSans-46\"/>\n     <use x=\"95.410156\" xlink:href=\"#DejaVuSans-57\"/>\n     <use x=\"159.033203\" xlink:href=\"#DejaVuSans-57\"/>\n    </g>\n   </g>\n   <g id=\"text_75\">\n    <!-- 0 -->\n    <g style=\"fill:#262626;\" transform=\"translate(90.51125 170.798594)scale(0.1 -0.1)\">\n     <use xlink:href=\"#DejaVuSans-48\"/>\n    </g>\n   </g>\n   <g id=\"text_76\">\n    <!-- 0 -->\n    <g style=\"fill:#262626;\" transform=\"translate(120.27125 170.798594)scale(0.1 -0.1)\">\n     <use xlink:href=\"#DejaVuSans-48\"/>\n    </g>\n   </g>\n   <g id=\"text_77\">\n    <!-- 0.37 -->\n    <g style=\"fill:#ffffff;\" transform=\"translate(142.079688 170.798594)scale(0.1 -0.1)\">\n     <use xlink:href=\"#DejaVuSans-48\"/>\n     <use x=\"63.623047\" xlink:href=\"#DejaVuSans-46\"/>\n     <use x=\"95.410156\" xlink:href=\"#DejaVuSans-51\"/>\n     <use x=\"159.033203\" xlink:href=\"#DejaVuSans-55\"/>\n    </g>\n   </g>\n   <g id=\"text_78\">\n    <!-- 0 -->\n    <g style=\"fill:#262626;\" transform=\"translate(179.79125 170.798594)scale(0.1 -0.1)\">\n     <use xlink:href=\"#DejaVuSans-48\"/>\n    </g>\n   </g>\n   <g id=\"text_79\">\n    <!-- 0 -->\n    <g style=\"fill:#262626;\" transform=\"translate(209.55125 170.798594)scale(0.1 -0.1)\">\n     <use xlink:href=\"#DejaVuSans-48\"/>\n    </g>\n   </g>\n   <g id=\"text_80\">\n    <!-- 0 -->\n    <g style=\"fill:#262626;\" transform=\"translate(239.31125 170.798594)scale(0.1 -0.1)\">\n     <use xlink:href=\"#DejaVuSans-48\"/>\n    </g>\n   </g>\n   <g id=\"text_81\">\n    <!-- 1 -->\n    <g style=\"fill:#262626;\" transform=\"translate(269.07125 170.798594)scale(0.1 -0.1)\">\n     <use xlink:href=\"#DejaVuSans-49\"/>\n    </g>\n   </g>\n   <g id=\"text_82\">\n    <!-- 0 -->\n    <g style=\"fill:#262626;\" transform=\"translate(298.83125 170.798594)scale(0.1 -0.1)\">\n     <use xlink:href=\"#DejaVuSans-48\"/>\n    </g>\n   </g>\n   <g id=\"text_83\">\n    <!-- 0 -->\n    <g style=\"fill:#262626;\" transform=\"translate(328.59125 170.798594)scale(0.1 -0.1)\">\n     <use xlink:href=\"#DejaVuSans-48\"/>\n    </g>\n   </g>\n   <g id=\"text_84\">\n    <!-- 0 -->\n    <g style=\"fill:#262626;\" transform=\"translate(90.51125 194.958594)scale(0.1 -0.1)\">\n     <use xlink:href=\"#DejaVuSans-48\"/>\n    </g>\n   </g>\n   <g id=\"text_85\">\n    <!-- 0 -->\n    <g style=\"fill:#262626;\" transform=\"translate(120.27125 194.958594)scale(0.1 -0.1)\">\n     <use xlink:href=\"#DejaVuSans-48\"/>\n    </g>\n   </g>\n   <g id=\"text_86\">\n    <!-- 0.09 -->\n    <g style=\"fill:#262626;\" transform=\"translate(142.079688 194.958594)scale(0.1 -0.1)\">\n     <use xlink:href=\"#DejaVuSans-48\"/>\n     <use x=\"63.623047\" xlink:href=\"#DejaVuSans-46\"/>\n     <use x=\"95.410156\" xlink:href=\"#DejaVuSans-48\"/>\n     <use x=\"159.033203\" xlink:href=\"#DejaVuSans-57\"/>\n    </g>\n   </g>\n   <g id=\"text_87\">\n    <!-- 0 -->\n    <g style=\"fill:#262626;\" transform=\"translate(179.79125 194.958594)scale(0.1 -0.1)\">\n     <use xlink:href=\"#DejaVuSans-48\"/>\n    </g>\n   </g>\n   <g id=\"text_88\">\n    <!-- 0 -->\n    <g style=\"fill:#262626;\" transform=\"translate(209.55125 194.958594)scale(0.1 -0.1)\">\n     <use xlink:href=\"#DejaVuSans-48\"/>\n    </g>\n   </g>\n   <g id=\"text_89\">\n    <!-- 0.13 -->\n    <g style=\"fill:#ffffff;\" transform=\"translate(231.359688 194.958594)scale(0.1 -0.1)\">\n     <use xlink:href=\"#DejaVuSans-48\"/>\n     <use x=\"63.623047\" xlink:href=\"#DejaVuSans-46\"/>\n     <use x=\"95.410156\" xlink:href=\"#DejaVuSans-49\"/>\n     <use x=\"159.033203\" xlink:href=\"#DejaVuSans-51\"/>\n    </g>\n   </g>\n   <g id=\"text_90\">\n    <!-- 0 -->\n    <g style=\"fill:#262626;\" transform=\"translate(269.07125 194.958594)scale(0.1 -0.1)\">\n     <use xlink:href=\"#DejaVuSans-48\"/>\n    </g>\n   </g>\n   <g id=\"text_91\">\n    <!-- 1 -->\n    <g style=\"fill:#262626;\" transform=\"translate(298.83125 194.958594)scale(0.1 -0.1)\">\n     <use xlink:href=\"#DejaVuSans-49\"/>\n    </g>\n   </g>\n   <g id=\"text_92\">\n    <!-- 0.17 -->\n    <g style=\"fill:#ffffff;\" transform=\"translate(320.639688 194.958594)scale(0.1 -0.1)\">\n     <use xlink:href=\"#DejaVuSans-48\"/>\n     <use x=\"63.623047\" xlink:href=\"#DejaVuSans-46\"/>\n     <use x=\"95.410156\" xlink:href=\"#DejaVuSans-49\"/>\n     <use x=\"159.033203\" xlink:href=\"#DejaVuSans-55\"/>\n    </g>\n   </g>\n   <g id=\"text_93\">\n    <!-- 0 -->\n    <g style=\"fill:#262626;\" transform=\"translate(90.51125 219.118594)scale(0.1 -0.1)\">\n     <use xlink:href=\"#DejaVuSans-48\"/>\n    </g>\n   </g>\n   <g id=\"text_94\">\n    <!-- 0 -->\n    <g style=\"fill:#262626;\" transform=\"translate(120.27125 219.118594)scale(0.1 -0.1)\">\n     <use xlink:href=\"#DejaVuSans-48\"/>\n    </g>\n   </g>\n   <g id=\"text_95\">\n    <!-- 0 -->\n    <g style=\"fill:#262626;\" transform=\"translate(150.03125 219.118594)scale(0.1 -0.1)\">\n     <use xlink:href=\"#DejaVuSans-48\"/>\n    </g>\n   </g>\n   <g id=\"text_96\">\n    <!-- 0 -->\n    <g style=\"fill:#262626;\" transform=\"translate(179.79125 219.118594)scale(0.1 -0.1)\">\n     <use xlink:href=\"#DejaVuSans-48\"/>\n    </g>\n   </g>\n   <g id=\"text_97\">\n    <!-- 0 -->\n    <g style=\"fill:#262626;\" transform=\"translate(209.55125 219.118594)scale(0.1 -0.1)\">\n     <use xlink:href=\"#DejaVuSans-48\"/>\n    </g>\n   </g>\n   <g id=\"text_98\">\n    <!-- 0.42 -->\n    <g style=\"fill:#ffffff;\" transform=\"translate(231.359688 219.118594)scale(0.1 -0.1)\">\n     <use xlink:href=\"#DejaVuSans-48\"/>\n     <use x=\"63.623047\" xlink:href=\"#DejaVuSans-46\"/>\n     <use x=\"95.410156\" xlink:href=\"#DejaVuSans-52\"/>\n     <use x=\"159.033203\" xlink:href=\"#DejaVuSans-50\"/>\n    </g>\n   </g>\n   <g id=\"text_99\">\n    <!-- 0 -->\n    <g style=\"fill:#262626;\" transform=\"translate(269.07125 219.118594)scale(0.1 -0.1)\">\n     <use xlink:href=\"#DejaVuSans-48\"/>\n    </g>\n   </g>\n   <g id=\"text_100\">\n    <!-- 0.02 -->\n    <g style=\"fill:#262626;\" transform=\"translate(290.879688 219.118594)scale(0.1 -0.1)\">\n     <use xlink:href=\"#DejaVuSans-48\"/>\n     <use x=\"63.623047\" xlink:href=\"#DejaVuSans-46\"/>\n     <use x=\"95.410156\" xlink:href=\"#DejaVuSans-48\"/>\n     <use x=\"159.033203\" xlink:href=\"#DejaVuSans-50\"/>\n    </g>\n   </g>\n   <g id=\"text_101\">\n    <!-- 1 -->\n    <g style=\"fill:#262626;\" transform=\"translate(328.59125 219.118594)scale(0.1 -0.1)\">\n     <use xlink:href=\"#DejaVuSans-49\"/>\n    </g>\n   </g>\n  </g>\n  <g id=\"axes_2\">\n   <g id=\"patch_3\">\n    <path clip-path=\"url(#p9c81d0c177)\" d=\"M 363.3925 228.439219 \nL 363.3925 227.589844 \nL 363.3925 11.848594 \nL 363.3925 10.999219 \nL 374.2645 10.999219 \nL 374.2645 11.848594 \nL 374.2645 227.589844 \nL 374.2645 228.439219 \nz\n\" style=\"fill:#ffffff;stroke:#ffffff;stroke-linejoin:miter;stroke-width:0.01;\"/>\n   </g>\n   <image height=\"217\" id=\"imagefba3376c4c\" transform=\"scale(1 -1)translate(0 -217)\" width=\"11\" x=\"363\" xlink:href=\"data:image/png;base64,\niVBORw0KGgoAAAANSUhEUgAAAAsAAADZCAYAAAD2WsoCAAAABHNCSVQICAgIfAhkiAAAAa9JREFUaIHN2MFxxCAUg2HAb53+20kpuaeI7NqQFvgOmrHPGs0v8cDY/fv3Z7XNp+65rW11z21tqynO74swQEwYFBCry7WxrW011yPasID72uwKpjDeN4ivZzDTonyuGIadSDHnWBvI3EPOOfElbaxcQNmDi5wvYG7ibGIJSM5dTqTxAbE5w5Fkzh3OghowdjVg+msIRoeBri7MTZzH9Q45k7hP6LktEC9yvv/AOYdBzjGMOR/RxlwwSIRhAWWec8zLnEF833AU5DBIPOFNX3NSQHDGgOScwpg2dfICMmZ40S+49yiGrGAD5mYBxdnaIOeQeGwrW2u1fy9XsXDUaPCBkGROYRwdnAnDxABtztX3F1yZqY39R51B/KI2RHzEqsuN6GltCLNg5KqjgA9hzmGcz8A4tqU6/OR85phJbAHhcnIahogFw5y7/FUT8TlSzsYsGORcRwyDqguKt7WtjpJfnbBjjbmbcwrjeIEzMecCdjg4apzygQC37eoHXCFQTBj7RVc/K+TcCAP2VRLj/EphDOo5tSj9BQGbYYDYnGU2yHk8pQ3aKbGeafhzGNDGP8TTEu1PMHkiAAAAAElFTkSuQmCC\" y=\"-11\"/>\n   <g id=\"matplotlib.axis_3\"/>\n   <g id=\"matplotlib.axis_4\">\n    <g id=\"ytick_10\">\n     <g id=\"line2d_19\">\n      <defs>\n       <path d=\"M 0 0 \nL 3.5 0 \n\" id=\"m343ec8e6df\" style=\"stroke:#000000;stroke-width:0.8;\"/>\n      </defs>\n      <g>\n       <use style=\"stroke:#000000;stroke-width:0.8;\" x=\"374.2645\" xlink:href=\"#m343ec8e6df\" y=\"228.439219\"/>\n      </g>\n     </g>\n     <g id=\"text_102\">\n      <!-- 0.0 -->\n      <g transform=\"translate(381.2645 232.238437)scale(0.1 -0.1)\">\n       <use xlink:href=\"#DejaVuSans-48\"/>\n       <use x=\"63.623047\" xlink:href=\"#DejaVuSans-46\"/>\n       <use x=\"95.410156\" xlink:href=\"#DejaVuSans-48\"/>\n      </g>\n     </g>\n    </g>\n    <g id=\"ytick_11\">\n     <g id=\"line2d_20\">\n      <g>\n       <use style=\"stroke:#000000;stroke-width:0.8;\" x=\"374.2645\" xlink:href=\"#m343ec8e6df\" y=\"184.951219\"/>\n      </g>\n     </g>\n     <g id=\"text_103\">\n      <!-- 0.2 -->\n      <g transform=\"translate(381.2645 188.750437)scale(0.1 -0.1)\">\n       <use xlink:href=\"#DejaVuSans-48\"/>\n       <use x=\"63.623047\" xlink:href=\"#DejaVuSans-46\"/>\n       <use x=\"95.410156\" xlink:href=\"#DejaVuSans-50\"/>\n      </g>\n     </g>\n    </g>\n    <g id=\"ytick_12\">\n     <g id=\"line2d_21\">\n      <g>\n       <use style=\"stroke:#000000;stroke-width:0.8;\" x=\"374.2645\" xlink:href=\"#m343ec8e6df\" y=\"141.463219\"/>\n      </g>\n     </g>\n     <g id=\"text_104\">\n      <!-- 0.4 -->\n      <g transform=\"translate(381.2645 145.262437)scale(0.1 -0.1)\">\n       <use xlink:href=\"#DejaVuSans-48\"/>\n       <use x=\"63.623047\" xlink:href=\"#DejaVuSans-46\"/>\n       <use x=\"95.410156\" xlink:href=\"#DejaVuSans-52\"/>\n      </g>\n     </g>\n    </g>\n    <g id=\"ytick_13\">\n     <g id=\"line2d_22\">\n      <g>\n       <use style=\"stroke:#000000;stroke-width:0.8;\" x=\"374.2645\" xlink:href=\"#m343ec8e6df\" y=\"97.975219\"/>\n      </g>\n     </g>\n     <g id=\"text_105\">\n      <!-- 0.6 -->\n      <defs>\n       <path d=\"M 33.015625 40.375 \nQ 26.375 40.375 22.484375 35.828125 \nQ 18.609375 31.296875 18.609375 23.390625 \nQ 18.609375 15.53125 22.484375 10.953125 \nQ 26.375 6.390625 33.015625 6.390625 \nQ 39.65625 6.390625 43.53125 10.953125 \nQ 47.40625 15.53125 47.40625 23.390625 \nQ 47.40625 31.296875 43.53125 35.828125 \nQ 39.65625 40.375 33.015625 40.375 \nz\nM 52.59375 71.296875 \nL 52.59375 62.3125 \nQ 48.875 64.0625 45.09375 64.984375 \nQ 41.3125 65.921875 37.59375 65.921875 \nQ 27.828125 65.921875 22.671875 59.328125 \nQ 17.53125 52.734375 16.796875 39.40625 \nQ 19.671875 43.65625 24.015625 45.921875 \nQ 28.375 48.1875 33.59375 48.1875 \nQ 44.578125 48.1875 50.953125 41.515625 \nQ 57.328125 34.859375 57.328125 23.390625 \nQ 57.328125 12.15625 50.6875 5.359375 \nQ 44.046875 -1.421875 33.015625 -1.421875 \nQ 20.359375 -1.421875 13.671875 8.265625 \nQ 6.984375 17.96875 6.984375 36.375 \nQ 6.984375 53.65625 15.1875 63.9375 \nQ 23.390625 74.21875 37.203125 74.21875 \nQ 40.921875 74.21875 44.703125 73.484375 \nQ 48.484375 72.75 52.59375 71.296875 \nz\n\" id=\"DejaVuSans-54\"/>\n      </defs>\n      <g transform=\"translate(381.2645 101.774437)scale(0.1 -0.1)\">\n       <use xlink:href=\"#DejaVuSans-48\"/>\n       <use x=\"63.623047\" xlink:href=\"#DejaVuSans-46\"/>\n       <use x=\"95.410156\" xlink:href=\"#DejaVuSans-54\"/>\n      </g>\n     </g>\n    </g>\n    <g id=\"ytick_14\">\n     <g id=\"line2d_23\">\n      <g>\n       <use style=\"stroke:#000000;stroke-width:0.8;\" x=\"374.2645\" xlink:href=\"#m343ec8e6df\" y=\"54.487219\"/>\n      </g>\n     </g>\n     <g id=\"text_106\">\n      <!-- 0.8 -->\n      <g transform=\"translate(381.2645 58.286437)scale(0.1 -0.1)\">\n       <use xlink:href=\"#DejaVuSans-48\"/>\n       <use x=\"63.623047\" xlink:href=\"#DejaVuSans-46\"/>\n       <use x=\"95.410156\" xlink:href=\"#DejaVuSans-56\"/>\n      </g>\n     </g>\n    </g>\n    <g id=\"ytick_15\">\n     <g id=\"line2d_24\">\n      <g>\n       <use style=\"stroke:#000000;stroke-width:0.8;\" x=\"374.2645\" xlink:href=\"#m343ec8e6df\" y=\"10.999219\"/>\n      </g>\n     </g>\n     <g id=\"text_107\">\n      <!-- 1.0 -->\n      <g transform=\"translate(381.2645 14.798438)scale(0.1 -0.1)\">\n       <use xlink:href=\"#DejaVuSans-49\"/>\n       <use x=\"63.623047\" xlink:href=\"#DejaVuSans-46\"/>\n       <use x=\"95.410156\" xlink:href=\"#DejaVuSans-48\"/>\n      </g>\n     </g>\n    </g>\n   </g>\n   <g id=\"patch_4\">\n    <path d=\"M 363.3925 228.439219 \nL 363.3925 227.589844 \nL 363.3925 11.848594 \nL 363.3925 10.999219 \nL 374.2645 10.999219 \nL 374.2645 11.848594 \nL 374.2645 227.589844 \nL 374.2645 228.439219 \nz\n\" style=\"fill:none;\"/>\n   </g>\n  </g>\n </g>\n <defs>\n  <clipPath id=\"p18c6e01adb\">\n   <rect height=\"217.44\" width=\"267.84\" x=\"78.8125\" y=\"10.999219\"/>\n  </clipPath>\n  <clipPath id=\"p9c81d0c177\">\n   <rect height=\"217.44\" width=\"10.872\" x=\"363.3925\" y=\"10.999219\"/>\n  </clipPath>\n </defs>\n</svg>\n",
      "image/png": "[encoded data removed]"
     },
     "metadata": {
      "needs_background": "light"
     }
    }
   ],
   "source": [
    "matrix_pps = pps.matrix(train_df)[['x', 'y', 'ppscore']].pivot(columns='x', index='y', values='ppscore')\n",
    "matrix_pps = matrix_pps.apply(lambda x: round(x, 2))\n",
    "\n",
    "sns.heatmap(matrix_pps, vmin=0, vmax=1, cmap=\"icefire\", linewidths=0.75, annot=True)"
   ]
  },
  {
   "source": [
    "## Completing a numerical continuous feature¶\n"
   ],
   "cell_type": "markdown",
   "metadata": {}
  },
  {
   "cell_type": "code",
   "execution_count": 10,
   "metadata": {},
   "outputs": [
    {
     "output_type": "execute_result",
     "data": {
      "text/plain": [
       "array([[0., 0., 0., 0., 0.],\n",
       "       [0., 0., 0., 0., 0.]])"
      ]
     },
     "metadata": {},
     "execution_count": 10
    }
   ],
   "source": [
    "guess_ages = np.zeros((2,5))\n",
    "guess_ages"
   ]
  },
  {
   "cell_type": "code",
   "execution_count": 11,
   "metadata": {},
   "outputs": [
    {
     "output_type": "execute_result",
     "data": {
      "text/plain": [
       "   Survived  Pclass  Sex  Age  SibSp  Parch     Fare Embarked  Title\n",
       "0         0       3    0   22      1      0   7.2500        S      1\n",
       "1         1       1    1   38      1      0  71.2833        C      2\n",
       "2         1       3    1   26      0      0   7.9250        S      4\n",
       "3         1       1    1   35      1      0  53.1000        S      2\n",
       "4         0       3    0   35      0      0   8.0500        S      1"
      ],
      "text/html": "<div>\n<style scoped>\n    .dataframe tbody tr th:only-of-type {\n        vertical-align: middle;\n    }\n\n    .dataframe tbody tr th {\n        vertical-align: top;\n    }\n\n    .dataframe thead th {\n        text-align: right;\n    }\n</style>\n<table border=\"1\" class=\"dataframe\">\n  <thead>\n    <tr style=\"text-align: right;\">\n      <th></th>\n      <th>Survived</th>\n      <th>Pclass</th>\n      <th>Sex</th>\n      <th>Age</th>\n      <th>SibSp</th>\n      <th>Parch</th>\n      <th>Fare</th>\n      <th>Embarked</th>\n      <th>Title</th>\n    </tr>\n  </thead>\n  <tbody>\n    <tr>\n      <th>0</th>\n      <td>0</td>\n      <td>3</td>\n      <td>0</td>\n      <td>22</td>\n      <td>1</td>\n      <td>0</td>\n      <td>7.2500</td>\n      <td>S</td>\n      <td>1</td>\n    </tr>\n    <tr>\n      <th>1</th>\n      <td>1</td>\n      <td>1</td>\n      <td>1</td>\n      <td>38</td>\n      <td>1</td>\n      <td>0</td>\n      <td>71.2833</td>\n      <td>C</td>\n      <td>2</td>\n    </tr>\n    <tr>\n      <th>2</th>\n      <td>1</td>\n      <td>3</td>\n      <td>1</td>\n      <td>26</td>\n      <td>0</td>\n      <td>0</td>\n      <td>7.9250</td>\n      <td>S</td>\n      <td>4</td>\n    </tr>\n    <tr>\n      <th>3</th>\n      <td>1</td>\n      <td>1</td>\n      <td>1</td>\n      <td>35</td>\n      <td>1</td>\n      <td>0</td>\n      <td>53.1000</td>\n      <td>S</td>\n      <td>2</td>\n    </tr>\n    <tr>\n      <th>4</th>\n      <td>0</td>\n      <td>3</td>\n      <td>0</td>\n      <td>35</td>\n      <td>0</td>\n      <td>0</td>\n      <td>8.0500</td>\n      <td>S</td>\n      <td>1</td>\n    </tr>\n  </tbody>\n</table>\n</div>"
     },
     "metadata": {},
     "execution_count": 11
    }
   ],
   "source": [
    "for dataset in combine:\n",
    "    for i in range(0,2):\n",
    "        for j in range(0,5):\n",
    "            guss_df = dataset[(dataset['Sex'] == i) & (dataset['Title'] == j +1)]['Age'].dropna()\n",
    "            guss_age = guss_df.median()\n",
    "            if guss_age != guss_age:\n",
    "                guss_age = -5 #dataset[(dataset['Sex'] == i)]['Age'].dropna().median()\n",
    "            guess_ages[i,j] = int(guss_age/0.5 + 0.5) * 0.5\n",
    "    for i in range(0,2):\n",
    "        for j in range(0,5):\n",
    "            dataset.loc[(dataset.Age.isnull()) & (dataset.Sex == i ) & ( dataset.Title == j+1), 'Age'] = guess_ages[i,j]\n",
    "    \n",
    "    dataset.loc[(dataset.Age.isnull()), 'Age'] = dataset[(dataset['Sex'] == i)]['Age'].dropna().median()           \n",
    "    dataset['Age'] = dataset['Age'].astype(int)\n",
    "train_df.head()"
   ]
  },
  {
   "cell_type": "code",
   "execution_count": 12,
   "metadata": {},
   "outputs": [
    {
     "output_type": "execute_result",
     "data": {
      "text/plain": [
       "         AgeBand  Survived\n",
       "0  (-0.08, 16.0]  0.548077\n",
       "1   (16.0, 32.0]  0.327381\n",
       "2   (32.0, 48.0]  0.438424\n",
       "3   (48.0, 64.0]  0.434783\n",
       "4   (64.0, 80.0]  0.090909"
      ],
      "text/html": "<div>\n<style scoped>\n    .dataframe tbody tr th:only-of-type {\n        vertical-align: middle;\n    }\n\n    .dataframe tbody tr th {\n        vertical-align: top;\n    }\n\n    .dataframe thead th {\n        text-align: right;\n    }\n</style>\n<table border=\"1\" class=\"dataframe\">\n  <thead>\n    <tr style=\"text-align: right;\">\n      <th></th>\n      <th>AgeBand</th>\n      <th>Survived</th>\n    </tr>\n  </thead>\n  <tbody>\n    <tr>\n      <th>0</th>\n      <td>(-0.08, 16.0]</td>\n      <td>0.548077</td>\n    </tr>\n    <tr>\n      <th>1</th>\n      <td>(16.0, 32.0]</td>\n      <td>0.327381</td>\n    </tr>\n    <tr>\n      <th>2</th>\n      <td>(32.0, 48.0]</td>\n      <td>0.438424</td>\n    </tr>\n    <tr>\n      <th>3</th>\n      <td>(48.0, 64.0]</td>\n      <td>0.434783</td>\n    </tr>\n    <tr>\n      <th>4</th>\n      <td>(64.0, 80.0]</td>\n      <td>0.090909</td>\n    </tr>\n  </tbody>\n</table>\n</div>"
     },
     "metadata": {},
     "execution_count": 12
    }
   ],
   "source": [
    "train_df['AgeBand'] = pd.cut(train_df['Age'], 5)\n",
    "train_df[['AgeBand', 'Survived']].groupby(['AgeBand'], as_index=False).mean().sort_values(by='AgeBand', ascending=True)"
   ]
  },
  {
   "cell_type": "code",
   "execution_count": 13,
   "metadata": {},
   "outputs": [
    {
     "output_type": "execute_result",
     "data": {
      "text/plain": [
       "   Survived  Pclass  Sex  Age  SibSp  Parch     Fare Embarked  Title  \\\n",
       "0         0       3    0    3      1      0   7.2500        S      1   \n",
       "1         1       1    1    2      1      0  71.2833        C      2   \n",
       "2         1       3    1    3      0      0   7.9250        S      4   \n",
       "3         1       1    1    2      1      0  53.1000        S      2   \n",
       "4         0       3    0    2      0      0   8.0500        S      1   \n",
       "\n",
       "        AgeBand  \n",
       "0  (16.0, 32.0]  \n",
       "1  (32.0, 48.0]  \n",
       "2  (16.0, 32.0]  \n",
       "3  (32.0, 48.0]  \n",
       "4  (32.0, 48.0]  "
      ],
      "text/html": "<div>\n<style scoped>\n    .dataframe tbody tr th:only-of-type {\n        vertical-align: middle;\n    }\n\n    .dataframe tbody tr th {\n        vertical-align: top;\n    }\n\n    .dataframe thead th {\n        text-align: right;\n    }\n</style>\n<table border=\"1\" class=\"dataframe\">\n  <thead>\n    <tr style=\"text-align: right;\">\n      <th></th>\n      <th>Survived</th>\n      <th>Pclass</th>\n      <th>Sex</th>\n      <th>Age</th>\n      <th>SibSp</th>\n      <th>Parch</th>\n      <th>Fare</th>\n      <th>Embarked</th>\n      <th>Title</th>\n      <th>AgeBand</th>\n    </tr>\n  </thead>\n  <tbody>\n    <tr>\n      <th>0</th>\n      <td>0</td>\n      <td>3</td>\n      <td>0</td>\n      <td>3</td>\n      <td>1</td>\n      <td>0</td>\n      <td>7.2500</td>\n      <td>S</td>\n      <td>1</td>\n      <td>(16.0, 32.0]</td>\n    </tr>\n    <tr>\n      <th>1</th>\n      <td>1</td>\n      <td>1</td>\n      <td>1</td>\n      <td>2</td>\n      <td>1</td>\n      <td>0</td>\n      <td>71.2833</td>\n      <td>C</td>\n      <td>2</td>\n      <td>(32.0, 48.0]</td>\n    </tr>\n    <tr>\n      <th>2</th>\n      <td>1</td>\n      <td>3</td>\n      <td>1</td>\n      <td>3</td>\n      <td>0</td>\n      <td>0</td>\n      <td>7.9250</td>\n      <td>S</td>\n      <td>4</td>\n      <td>(16.0, 32.0]</td>\n    </tr>\n    <tr>\n      <th>3</th>\n      <td>1</td>\n      <td>1</td>\n      <td>1</td>\n      <td>2</td>\n      <td>1</td>\n      <td>0</td>\n      <td>53.1000</td>\n      <td>S</td>\n      <td>2</td>\n      <td>(32.0, 48.0]</td>\n    </tr>\n    <tr>\n      <th>4</th>\n      <td>0</td>\n      <td>3</td>\n      <td>0</td>\n      <td>2</td>\n      <td>0</td>\n      <td>0</td>\n      <td>8.0500</td>\n      <td>S</td>\n      <td>1</td>\n      <td>(32.0, 48.0]</td>\n    </tr>\n  </tbody>\n</table>\n</div>"
     },
     "metadata": {},
     "execution_count": 13
    }
   ],
   "source": [
    "for dataset in combine:    \n",
    "    dataset.loc[ dataset['Age'] <= 16, 'Age'] = 4\n",
    "    dataset.loc[(dataset['Age'] > 16) & (dataset['Age'] <= 32), 'Age'] = 3\n",
    "    dataset.loc[(dataset['Age'] > 32) & (dataset['Age'] <= 48), 'Age'] = 2\n",
    "    dataset.loc[(dataset['Age'] > 48) & (dataset['Age'] <= 64), 'Age'] = 1\n",
    "    dataset.loc[ dataset['Age'] > 64, 'Age'] = 0\n",
    "train_df.head()"
   ]
  },
  {
   "cell_type": "code",
   "execution_count": 14,
   "metadata": {},
   "outputs": [
    {
     "output_type": "execute_result",
     "data": {
      "text/plain": [
       "   Survived  Pclass  Sex  Age  SibSp  Parch     Fare Embarked  Title\n",
       "0         0       3    0    3      1      0   7.2500        S      1\n",
       "1         1       1    1    2      1      0  71.2833        C      2\n",
       "2         1       3    1    3      0      0   7.9250        S      4\n",
       "3         1       1    1    2      1      0  53.1000        S      2\n",
       "4         0       3    0    2      0      0   8.0500        S      1"
      ],
      "text/html": "<div>\n<style scoped>\n    .dataframe tbody tr th:only-of-type {\n        vertical-align: middle;\n    }\n\n    .dataframe tbody tr th {\n        vertical-align: top;\n    }\n\n    .dataframe thead th {\n        text-align: right;\n    }\n</style>\n<table border=\"1\" class=\"dataframe\">\n  <thead>\n    <tr style=\"text-align: right;\">\n      <th></th>\n      <th>Survived</th>\n      <th>Pclass</th>\n      <th>Sex</th>\n      <th>Age</th>\n      <th>SibSp</th>\n      <th>Parch</th>\n      <th>Fare</th>\n      <th>Embarked</th>\n      <th>Title</th>\n    </tr>\n  </thead>\n  <tbody>\n    <tr>\n      <th>0</th>\n      <td>0</td>\n      <td>3</td>\n      <td>0</td>\n      <td>3</td>\n      <td>1</td>\n      <td>0</td>\n      <td>7.2500</td>\n      <td>S</td>\n      <td>1</td>\n    </tr>\n    <tr>\n      <th>1</th>\n      <td>1</td>\n      <td>1</td>\n      <td>1</td>\n      <td>2</td>\n      <td>1</td>\n      <td>0</td>\n      <td>71.2833</td>\n      <td>C</td>\n      <td>2</td>\n    </tr>\n    <tr>\n      <th>2</th>\n      <td>1</td>\n      <td>3</td>\n      <td>1</td>\n      <td>3</td>\n      <td>0</td>\n      <td>0</td>\n      <td>7.9250</td>\n      <td>S</td>\n      <td>4</td>\n    </tr>\n    <tr>\n      <th>3</th>\n      <td>1</td>\n      <td>1</td>\n      <td>1</td>\n      <td>2</td>\n      <td>1</td>\n      <td>0</td>\n      <td>53.1000</td>\n      <td>S</td>\n      <td>2</td>\n    </tr>\n    <tr>\n      <th>4</th>\n      <td>0</td>\n      <td>3</td>\n      <td>0</td>\n      <td>2</td>\n      <td>0</td>\n      <td>0</td>\n      <td>8.0500</td>\n      <td>S</td>\n      <td>1</td>\n    </tr>\n  </tbody>\n</table>\n</div>"
     },
     "metadata": {},
     "execution_count": 14
    }
   ],
   "source": [
    "train_df = train_df.drop(['AgeBand'], axis=1)\n",
    "combine = [train_df, test_df]\n",
    "train_df.head()"
   ]
  },
  {
   "cell_type": "code",
   "execution_count": 15,
   "metadata": {},
   "outputs": [
    {
     "output_type": "execute_result",
     "data": {
      "text/plain": [
       "   FamilySize  Survived\n",
       "3           3  0.724138\n",
       "2           2  0.578431\n",
       "1           1  0.552795\n",
       "6           6  0.333333\n",
       "0           0  0.303538\n",
       "4           4  0.200000\n",
       "5           5  0.136364\n",
       "7           7  0.000000\n",
       "8          10  0.000000"
      ],
      "text/html": "<div>\n<style scoped>\n    .dataframe tbody tr th:only-of-type {\n        vertical-align: middle;\n    }\n\n    .dataframe tbody tr th {\n        vertical-align: top;\n    }\n\n    .dataframe thead th {\n        text-align: right;\n    }\n</style>\n<table border=\"1\" class=\"dataframe\">\n  <thead>\n    <tr style=\"text-align: right;\">\n      <th></th>\n      <th>FamilySize</th>\n      <th>Survived</th>\n    </tr>\n  </thead>\n  <tbody>\n    <tr>\n      <th>3</th>\n      <td>3</td>\n      <td>0.724138</td>\n    </tr>\n    <tr>\n      <th>2</th>\n      <td>2</td>\n      <td>0.578431</td>\n    </tr>\n    <tr>\n      <th>1</th>\n      <td>1</td>\n      <td>0.552795</td>\n    </tr>\n    <tr>\n      <th>6</th>\n      <td>6</td>\n      <td>0.333333</td>\n    </tr>\n    <tr>\n      <th>0</th>\n      <td>0</td>\n      <td>0.303538</td>\n    </tr>\n    <tr>\n      <th>4</th>\n      <td>4</td>\n      <td>0.200000</td>\n    </tr>\n    <tr>\n      <th>5</th>\n      <td>5</td>\n      <td>0.136364</td>\n    </tr>\n    <tr>\n      <th>7</th>\n      <td>7</td>\n      <td>0.000000</td>\n    </tr>\n    <tr>\n      <th>8</th>\n      <td>10</td>\n      <td>0.000000</td>\n    </tr>\n  </tbody>\n</table>\n</div>"
     },
     "metadata": {},
     "execution_count": 15
    }
   ],
   "source": [
    "for dataset in combine:\n",
    "    dataset['FamilySize'] = dataset['SibSp'] + dataset['Parch']\n",
    "\n",
    "train_df[['FamilySize', 'Survived']].groupby(['FamilySize'], as_index=False).mean().sort_values(by='Survived', ascending=False)"
   ]
  },
  {
   "cell_type": "code",
   "execution_count": 16,
   "metadata": {},
   "outputs": [],
   "source": [
    "# for dataset in combine:\n",
    "#     dataset['IsAlone'] = 0\n",
    "#     dataset.loc[dataset['FamilySize'] == 1, 'IsAlone'] = 1\n",
    "\n",
    "# train_df[['IsAlone', 'Survived']].groupby(['IsAlone'], as_index=False).mean()"
   ]
  },
  {
   "cell_type": "code",
   "execution_count": 17,
   "metadata": {},
   "outputs": [],
   "source": [
    "# for dataset in combine:\n",
    "#     dataset['IsAlone'] = 0\n",
    "#     dataset.loc[dataset['FamilySize'] == 1, 'IsAlone'] = 1\n",
    "\n",
    "# train_df[['IsAlone', 'Survived']].groupby(['IsAlone'], as_index=False).mean()\n"
   ]
  },
  {
   "cell_type": "code",
   "execution_count": 18,
   "metadata": {},
   "outputs": [
    {
     "output_type": "execute_result",
     "data": {
      "text/plain": [
       "   Survived  Pclass  Sex  Age     Fare Embarked  Title  FamilySize\n",
       "0         0       3    0    3   7.2500        S      1           1\n",
       "1         1       1    1    2  71.2833        C      2           1\n",
       "2         1       3    1    3   7.9250        S      4           0\n",
       "3         1       1    1    2  53.1000        S      2           1\n",
       "4         0       3    0    2   8.0500        S      1           0"
      ],
      "text/html": "<div>\n<style scoped>\n    .dataframe tbody tr th:only-of-type {\n        vertical-align: middle;\n    }\n\n    .dataframe tbody tr th {\n        vertical-align: top;\n    }\n\n    .dataframe thead th {\n        text-align: right;\n    }\n</style>\n<table border=\"1\" class=\"dataframe\">\n  <thead>\n    <tr style=\"text-align: right;\">\n      <th></th>\n      <th>Survived</th>\n      <th>Pclass</th>\n      <th>Sex</th>\n      <th>Age</th>\n      <th>Fare</th>\n      <th>Embarked</th>\n      <th>Title</th>\n      <th>FamilySize</th>\n    </tr>\n  </thead>\n  <tbody>\n    <tr>\n      <th>0</th>\n      <td>0</td>\n      <td>3</td>\n      <td>0</td>\n      <td>3</td>\n      <td>7.2500</td>\n      <td>S</td>\n      <td>1</td>\n      <td>1</td>\n    </tr>\n    <tr>\n      <th>1</th>\n      <td>1</td>\n      <td>1</td>\n      <td>1</td>\n      <td>2</td>\n      <td>71.2833</td>\n      <td>C</td>\n      <td>2</td>\n      <td>1</td>\n    </tr>\n    <tr>\n      <th>2</th>\n      <td>1</td>\n      <td>3</td>\n      <td>1</td>\n      <td>3</td>\n      <td>7.9250</td>\n      <td>S</td>\n      <td>4</td>\n      <td>0</td>\n    </tr>\n    <tr>\n      <th>3</th>\n      <td>1</td>\n      <td>1</td>\n      <td>1</td>\n      <td>2</td>\n      <td>53.1000</td>\n      <td>S</td>\n      <td>2</td>\n      <td>1</td>\n    </tr>\n    <tr>\n      <th>4</th>\n      <td>0</td>\n      <td>3</td>\n      <td>0</td>\n      <td>2</td>\n      <td>8.0500</td>\n      <td>S</td>\n      <td>1</td>\n      <td>0</td>\n    </tr>\n  </tbody>\n</table>\n</div>"
     },
     "metadata": {},
     "execution_count": 18
    }
   ],
   "source": [
    "train_df = train_df.drop(['Parch', 'SibSp'], axis=1)\n",
    "test_df = test_df.drop(['Parch', 'SibSp'], axis=1)\n",
    "combine = [train_df, test_df]\n",
    "\n",
    "train_df.head()\n",
    "\n",
    "# train_df = train_df.drop([ 'FamilySize'], axis=1)\n",
    "# test_df = test_df.drop([ 'FamilySize'], axis=1)\n",
    "# combine = [train_df, test_df]\n",
    "\n",
    "# train_df.head()"
   ]
  },
  {
   "cell_type": "code",
   "execution_count": 19,
   "metadata": {},
   "outputs": [],
   "source": [
    "# for dataset in combine:\n",
    "#     dataset['Age*Class'] = dataset.Age * dataset.Pclass\n",
    "\n",
    "# train_df.loc[:, ['Age*Class', 'Age', 'Pclass']].head(10)"
   ]
  },
  {
   "cell_type": "code",
   "execution_count": 20,
   "metadata": {},
   "outputs": [
    {
     "output_type": "execute_result",
     "data": {
      "text/plain": [
       "'S'"
      ]
     },
     "metadata": {},
     "execution_count": 20
    }
   ],
   "source": [
    "freq_port = train_df.Embarked.dropna().mode()[0]\n",
    "freq_port"
   ]
  },
  {
   "cell_type": "code",
   "execution_count": 21,
   "metadata": {},
   "outputs": [
    {
     "output_type": "execute_result",
     "data": {
      "text/plain": [
       "  Embarked  Survived\n",
       "0        C  0.553571\n",
       "1        Q  0.389610\n",
       "2        S  0.339009"
      ],
      "text/html": "<div>\n<style scoped>\n    .dataframe tbody tr th:only-of-type {\n        vertical-align: middle;\n    }\n\n    .dataframe tbody tr th {\n        vertical-align: top;\n    }\n\n    .dataframe thead th {\n        text-align: right;\n    }\n</style>\n<table border=\"1\" class=\"dataframe\">\n  <thead>\n    <tr style=\"text-align: right;\">\n      <th></th>\n      <th>Embarked</th>\n      <th>Survived</th>\n    </tr>\n  </thead>\n  <tbody>\n    <tr>\n      <th>0</th>\n      <td>C</td>\n      <td>0.553571</td>\n    </tr>\n    <tr>\n      <th>1</th>\n      <td>Q</td>\n      <td>0.389610</td>\n    </tr>\n    <tr>\n      <th>2</th>\n      <td>S</td>\n      <td>0.339009</td>\n    </tr>\n  </tbody>\n</table>\n</div>"
     },
     "metadata": {},
     "execution_count": 21
    }
   ],
   "source": [
    "for dataset in combine:\n",
    "    dataset['Embarked'] = dataset['Embarked'].fillna(freq_port)\n",
    "    \n",
    "train_df[['Embarked', 'Survived']].groupby(['Embarked'], as_index=False).mean().sort_values(by='Survived', ascending=False)"
   ]
  },
  {
   "cell_type": "code",
   "execution_count": 22,
   "metadata": {},
   "outputs": [
    {
     "output_type": "execute_result",
     "data": {
      "text/plain": [
       "   Survived  Pclass  Sex  Age     Fare  Embarked  Title  FamilySize\n",
       "0         0       3    0    3   7.2500         0      1           1\n",
       "1         1       1    1    2  71.2833         2      2           1\n",
       "2         1       3    1    3   7.9250         0      4           0\n",
       "3         1       1    1    2  53.1000         0      2           1\n",
       "4         0       3    0    2   8.0500         0      1           0"
      ],
      "text/html": "<div>\n<style scoped>\n    .dataframe tbody tr th:only-of-type {\n        vertical-align: middle;\n    }\n\n    .dataframe tbody tr th {\n        vertical-align: top;\n    }\n\n    .dataframe thead th {\n        text-align: right;\n    }\n</style>\n<table border=\"1\" class=\"dataframe\">\n  <thead>\n    <tr style=\"text-align: right;\">\n      <th></th>\n      <th>Survived</th>\n      <th>Pclass</th>\n      <th>Sex</th>\n      <th>Age</th>\n      <th>Fare</th>\n      <th>Embarked</th>\n      <th>Title</th>\n      <th>FamilySize</th>\n    </tr>\n  </thead>\n  <tbody>\n    <tr>\n      <th>0</th>\n      <td>0</td>\n      <td>3</td>\n      <td>0</td>\n      <td>3</td>\n      <td>7.2500</td>\n      <td>0</td>\n      <td>1</td>\n      <td>1</td>\n    </tr>\n    <tr>\n      <th>1</th>\n      <td>1</td>\n      <td>1</td>\n      <td>1</td>\n      <td>2</td>\n      <td>71.2833</td>\n      <td>2</td>\n      <td>2</td>\n      <td>1</td>\n    </tr>\n    <tr>\n      <th>2</th>\n      <td>1</td>\n      <td>3</td>\n      <td>1</td>\n      <td>3</td>\n      <td>7.9250</td>\n      <td>0</td>\n      <td>4</td>\n      <td>0</td>\n    </tr>\n    <tr>\n      <th>3</th>\n      <td>1</td>\n      <td>1</td>\n      <td>1</td>\n      <td>2</td>\n      <td>53.1000</td>\n      <td>0</td>\n      <td>2</td>\n      <td>1</td>\n    </tr>\n    <tr>\n      <th>4</th>\n      <td>0</td>\n      <td>3</td>\n      <td>0</td>\n      <td>2</td>\n      <td>8.0500</td>\n      <td>0</td>\n      <td>1</td>\n      <td>0</td>\n    </tr>\n  </tbody>\n</table>\n</div>"
     },
     "metadata": {},
     "execution_count": 22
    }
   ],
   "source": [
    "for dataset in combine:\n",
    "    dataset['Embarked'] = dataset['Embarked'].map( {'S': 0, 'C': 2, 'Q': 1} ).astype(int)\n",
    "\n",
    "train_df.head()"
   ]
  },
  {
   "cell_type": "code",
   "execution_count": 23,
   "metadata": {},
   "outputs": [
    {
     "output_type": "execute_result",
     "data": {
      "text/plain": [
       "   Pclass  Survived\n",
       "0       1  0.629630\n",
       "1       2  0.472826\n",
       "2       3  0.242363"
      ],
      "text/html": "<div>\n<style scoped>\n    .dataframe tbody tr th:only-of-type {\n        vertical-align: middle;\n    }\n\n    .dataframe tbody tr th {\n        vertical-align: top;\n    }\n\n    .dataframe thead th {\n        text-align: right;\n    }\n</style>\n<table border=\"1\" class=\"dataframe\">\n  <thead>\n    <tr style=\"text-align: right;\">\n      <th></th>\n      <th>Pclass</th>\n      <th>Survived</th>\n    </tr>\n  </thead>\n  <tbody>\n    <tr>\n      <th>0</th>\n      <td>1</td>\n      <td>0.629630</td>\n    </tr>\n    <tr>\n      <th>1</th>\n      <td>2</td>\n      <td>0.472826</td>\n    </tr>\n    <tr>\n      <th>2</th>\n      <td>3</td>\n      <td>0.242363</td>\n    </tr>\n  </tbody>\n</table>\n</div>"
     },
     "metadata": {},
     "execution_count": 23
    }
   ],
   "source": [
    "for dataset in combine:\n",
    "    dataset['Pclass'] = dataset['Pclass'].fillna(freq_port)\n",
    "    \n",
    "train_df[['Pclass', 'Survived']].groupby(['Pclass'], as_index=False).mean().sort_values(by='Survived', ascending=False)"
   ]
  },
  {
   "cell_type": "code",
   "execution_count": 24,
   "metadata": {},
   "outputs": [
    {
     "output_type": "execute_result",
     "data": {
      "text/plain": [
       "   Survived  Pclass  Sex  Age     Fare  Embarked  Title  FamilySize\n",
       "0         0       0    0    3   7.2500         0      1           1\n",
       "1         1       2    1    2  71.2833         2      2           1\n",
       "2         1       0    1    3   7.9250         0      4           0\n",
       "3         1       2    1    2  53.1000         0      2           1\n",
       "4         0       0    0    2   8.0500         0      1           0"
      ],
      "text/html": "<div>\n<style scoped>\n    .dataframe tbody tr th:only-of-type {\n        vertical-align: middle;\n    }\n\n    .dataframe tbody tr th {\n        vertical-align: top;\n    }\n\n    .dataframe thead th {\n        text-align: right;\n    }\n</style>\n<table border=\"1\" class=\"dataframe\">\n  <thead>\n    <tr style=\"text-align: right;\">\n      <th></th>\n      <th>Survived</th>\n      <th>Pclass</th>\n      <th>Sex</th>\n      <th>Age</th>\n      <th>Fare</th>\n      <th>Embarked</th>\n      <th>Title</th>\n      <th>FamilySize</th>\n    </tr>\n  </thead>\n  <tbody>\n    <tr>\n      <th>0</th>\n      <td>0</td>\n      <td>0</td>\n      <td>0</td>\n      <td>3</td>\n      <td>7.2500</td>\n      <td>0</td>\n      <td>1</td>\n      <td>1</td>\n    </tr>\n    <tr>\n      <th>1</th>\n      <td>1</td>\n      <td>2</td>\n      <td>1</td>\n      <td>2</td>\n      <td>71.2833</td>\n      <td>2</td>\n      <td>2</td>\n      <td>1</td>\n    </tr>\n    <tr>\n      <th>2</th>\n      <td>1</td>\n      <td>0</td>\n      <td>1</td>\n      <td>3</td>\n      <td>7.9250</td>\n      <td>0</td>\n      <td>4</td>\n      <td>0</td>\n    </tr>\n    <tr>\n      <th>3</th>\n      <td>1</td>\n      <td>2</td>\n      <td>1</td>\n      <td>2</td>\n      <td>53.1000</td>\n      <td>0</td>\n      <td>2</td>\n      <td>1</td>\n    </tr>\n    <tr>\n      <th>4</th>\n      <td>0</td>\n      <td>0</td>\n      <td>0</td>\n      <td>2</td>\n      <td>8.0500</td>\n      <td>0</td>\n      <td>1</td>\n      <td>0</td>\n    </tr>\n  </tbody>\n</table>\n</div>"
     },
     "metadata": {},
     "execution_count": 24
    }
   ],
   "source": [
    "for dataset in combine:\n",
    "    dataset['Pclass'] = dataset['Pclass'].map( {3: 0, 2: 1, 1: 2} ).astype(int)\n",
    "\n",
    "train_df.head()"
   ]
  },
  {
   "cell_type": "code",
   "execution_count": 25,
   "metadata": {},
   "outputs": [
    {
     "output_type": "execute_result",
     "data": {
      "text/plain": [
       "   PassengerId  Pclass  Sex  Age     Fare  Embarked  Title  FamilySize\n",
       "0          892       0    0    2   7.8292         1      1           0\n",
       "1          893       0    1    2   7.0000         0      2           1\n",
       "2          894       1    0    1   9.6875         1      1           0\n",
       "3          895       0    0    3   8.6625         0      1           0\n",
       "4          896       0    1    3  12.2875         0      2           2"
      ],
      "text/html": "<div>\n<style scoped>\n    .dataframe tbody tr th:only-of-type {\n        vertical-align: middle;\n    }\n\n    .dataframe tbody tr th {\n        vertical-align: top;\n    }\n\n    .dataframe thead th {\n        text-align: right;\n    }\n</style>\n<table border=\"1\" class=\"dataframe\">\n  <thead>\n    <tr style=\"text-align: right;\">\n      <th></th>\n      <th>PassengerId</th>\n      <th>Pclass</th>\n      <th>Sex</th>\n      <th>Age</th>\n      <th>Fare</th>\n      <th>Embarked</th>\n      <th>Title</th>\n      <th>FamilySize</th>\n    </tr>\n  </thead>\n  <tbody>\n    <tr>\n      <th>0</th>\n      <td>892</td>\n      <td>0</td>\n      <td>0</td>\n      <td>2</td>\n      <td>7.8292</td>\n      <td>1</td>\n      <td>1</td>\n      <td>0</td>\n    </tr>\n    <tr>\n      <th>1</th>\n      <td>893</td>\n      <td>0</td>\n      <td>1</td>\n      <td>2</td>\n      <td>7.0000</td>\n      <td>0</td>\n      <td>2</td>\n      <td>1</td>\n    </tr>\n    <tr>\n      <th>2</th>\n      <td>894</td>\n      <td>1</td>\n      <td>0</td>\n      <td>1</td>\n      <td>9.6875</td>\n      <td>1</td>\n      <td>1</td>\n      <td>0</td>\n    </tr>\n    <tr>\n      <th>3</th>\n      <td>895</td>\n      <td>0</td>\n      <td>0</td>\n      <td>3</td>\n      <td>8.6625</td>\n      <td>0</td>\n      <td>1</td>\n      <td>0</td>\n    </tr>\n    <tr>\n      <th>4</th>\n      <td>896</td>\n      <td>0</td>\n      <td>1</td>\n      <td>3</td>\n      <td>12.2875</td>\n      <td>0</td>\n      <td>2</td>\n      <td>2</td>\n    </tr>\n  </tbody>\n</table>\n</div>"
     },
     "metadata": {},
     "execution_count": 25
    }
   ],
   "source": [
    "test_df['Fare'].fillna(test_df['Fare'].dropna().median(), inplace=True)\n",
    "test_df.head()"
   ]
  },
  {
   "cell_type": "code",
   "execution_count": 26,
   "metadata": {},
   "outputs": [
    {
     "output_type": "execute_result",
     "data": {
      "text/plain": [
       "          FareBand  Survived\n",
       "0   (-0.001, 7.91]  0.197309\n",
       "1   (7.91, 14.454]  0.303571\n",
       "2   (14.454, 31.0]  0.454955\n",
       "3  (31.0, 512.329]  0.581081"
      ],
      "text/html": "<div>\n<style scoped>\n    .dataframe tbody tr th:only-of-type {\n        vertical-align: middle;\n    }\n\n    .dataframe tbody tr th {\n        vertical-align: top;\n    }\n\n    .dataframe thead th {\n        text-align: right;\n    }\n</style>\n<table border=\"1\" class=\"dataframe\">\n  <thead>\n    <tr style=\"text-align: right;\">\n      <th></th>\n      <th>FareBand</th>\n      <th>Survived</th>\n    </tr>\n  </thead>\n  <tbody>\n    <tr>\n      <th>0</th>\n      <td>(-0.001, 7.91]</td>\n      <td>0.197309</td>\n    </tr>\n    <tr>\n      <th>1</th>\n      <td>(7.91, 14.454]</td>\n      <td>0.303571</td>\n    </tr>\n    <tr>\n      <th>2</th>\n      <td>(14.454, 31.0]</td>\n      <td>0.454955</td>\n    </tr>\n    <tr>\n      <th>3</th>\n      <td>(31.0, 512.329]</td>\n      <td>0.581081</td>\n    </tr>\n  </tbody>\n</table>\n</div>"
     },
     "metadata": {},
     "execution_count": 26
    }
   ],
   "source": [
    "train_df['FareBand'] = pd.qcut(train_df['Fare'], 4)\n",
    "train_df[['FareBand', 'Survived']].groupby(['FareBand'], as_index=False).mean().sort_values(by='FareBand', ascending=True)"
   ]
  },
  {
   "cell_type": "code",
   "execution_count": 27,
   "metadata": {},
   "outputs": [
    {
     "output_type": "execute_result",
     "data": {
      "text/plain": [
       "   Survived  Pclass  Sex  Age  Fare  Embarked  Title  FamilySize\n",
       "0         0       0    0    3     0         0      1           1\n",
       "1         1       2    1    2     3         2      2           1\n",
       "2         1       0    1    3     1         0      4           0\n",
       "3         1       2    1    2     3         0      2           1\n",
       "4         0       0    0    2     1         0      1           0\n",
       "5         0       0    0    3     1         1      1           0\n",
       "6         0       2    0    1     3         0      1           0\n",
       "7         0       0    0    4     2         0      3           4\n",
       "8         1       0    1    3     1         0      2           2\n",
       "9         1       1    1    4     2         2      2           1"
      ],
      "text/html": "<div>\n<style scoped>\n    .dataframe tbody tr th:only-of-type {\n        vertical-align: middle;\n    }\n\n    .dataframe tbody tr th {\n        vertical-align: top;\n    }\n\n    .dataframe thead th {\n        text-align: right;\n    }\n</style>\n<table border=\"1\" class=\"dataframe\">\n  <thead>\n    <tr style=\"text-align: right;\">\n      <th></th>\n      <th>Survived</th>\n      <th>Pclass</th>\n      <th>Sex</th>\n      <th>Age</th>\n      <th>Fare</th>\n      <th>Embarked</th>\n      <th>Title</th>\n      <th>FamilySize</th>\n    </tr>\n  </thead>\n  <tbody>\n    <tr>\n      <th>0</th>\n      <td>0</td>\n      <td>0</td>\n      <td>0</td>\n      <td>3</td>\n      <td>0</td>\n      <td>0</td>\n      <td>1</td>\n      <td>1</td>\n    </tr>\n    <tr>\n      <th>1</th>\n      <td>1</td>\n      <td>2</td>\n      <td>1</td>\n      <td>2</td>\n      <td>3</td>\n      <td>2</td>\n      <td>2</td>\n      <td>1</td>\n    </tr>\n    <tr>\n      <th>2</th>\n      <td>1</td>\n      <td>0</td>\n      <td>1</td>\n      <td>3</td>\n      <td>1</td>\n      <td>0</td>\n      <td>4</td>\n      <td>0</td>\n    </tr>\n    <tr>\n      <th>3</th>\n      <td>1</td>\n      <td>2</td>\n      <td>1</td>\n      <td>2</td>\n      <td>3</td>\n      <td>0</td>\n      <td>2</td>\n      <td>1</td>\n    </tr>\n    <tr>\n      <th>4</th>\n      <td>0</td>\n      <td>0</td>\n      <td>0</td>\n      <td>2</td>\n      <td>1</td>\n      <td>0</td>\n      <td>1</td>\n      <td>0</td>\n    </tr>\n    <tr>\n      <th>5</th>\n      <td>0</td>\n      <td>0</td>\n      <td>0</td>\n      <td>3</td>\n      <td>1</td>\n      <td>1</td>\n      <td>1</td>\n      <td>0</td>\n    </tr>\n    <tr>\n      <th>6</th>\n      <td>0</td>\n      <td>2</td>\n      <td>0</td>\n      <td>1</td>\n      <td>3</td>\n      <td>0</td>\n      <td>1</td>\n      <td>0</td>\n    </tr>\n    <tr>\n      <th>7</th>\n      <td>0</td>\n      <td>0</td>\n      <td>0</td>\n      <td>4</td>\n      <td>2</td>\n      <td>0</td>\n      <td>3</td>\n      <td>4</td>\n    </tr>\n    <tr>\n      <th>8</th>\n      <td>1</td>\n      <td>0</td>\n      <td>1</td>\n      <td>3</td>\n      <td>1</td>\n      <td>0</td>\n      <td>2</td>\n      <td>2</td>\n    </tr>\n    <tr>\n      <th>9</th>\n      <td>1</td>\n      <td>1</td>\n      <td>1</td>\n      <td>4</td>\n      <td>2</td>\n      <td>2</td>\n      <td>2</td>\n      <td>1</td>\n    </tr>\n  </tbody>\n</table>\n</div>"
     },
     "metadata": {},
     "execution_count": 27
    }
   ],
   "source": [
    "for dataset in combine:\n",
    "    dataset.loc[ dataset['Fare'] <= 7.91, 'Fare'] = 0\n",
    "    dataset.loc[(dataset['Fare'] > 7.91) & (dataset['Fare'] <= 14.454), 'Fare'] = 1\n",
    "    dataset.loc[(dataset['Fare'] > 14.454) & (dataset['Fare'] <= 31), 'Fare']   = 2\n",
    "    dataset.loc[ dataset['Fare'] > 31, 'Fare'] = 3\n",
    "    dataset['Fare'] = dataset['Fare'].astype(int)\n",
    "\n",
    "train_df = train_df.drop(['FareBand'], axis=1)\n",
    "combine = [train_df, test_df]\n",
    "    \n",
    "train_df.head(10)"
   ]
  },
  {
   "cell_type": "code",
   "execution_count": 28,
   "metadata": {},
   "outputs": [
    {
     "output_type": "execute_result",
     "data": {
      "text/plain": [
       "   Survived  Pclass  Sex  Age  Fare  Embarked  Title  FamilySize\n",
       "0         0       0    0    3     0         0      1           1\n",
       "1         1       2    1    2     3         2      2           1\n",
       "2         1       0    1    3     1         0      4           0\n",
       "3         1       2    1    2     3         0      2           1\n",
       "4         0       0    0    2     1         0      1           0\n",
       "5         0       0    0    3     1         1      1           0\n",
       "6         0       2    0    1     3         0      1           0\n",
       "7         0       0    0    4     2         0      3           4\n",
       "8         1       0    1    3     1         0      2           2\n",
       "9         1       1    1    4     2         2      2           1"
      ],
      "text/html": "<div>\n<style scoped>\n    .dataframe tbody tr th:only-of-type {\n        vertical-align: middle;\n    }\n\n    .dataframe tbody tr th {\n        vertical-align: top;\n    }\n\n    .dataframe thead th {\n        text-align: right;\n    }\n</style>\n<table border=\"1\" class=\"dataframe\">\n  <thead>\n    <tr style=\"text-align: right;\">\n      <th></th>\n      <th>Survived</th>\n      <th>Pclass</th>\n      <th>Sex</th>\n      <th>Age</th>\n      <th>Fare</th>\n      <th>Embarked</th>\n      <th>Title</th>\n      <th>FamilySize</th>\n    </tr>\n  </thead>\n  <tbody>\n    <tr>\n      <th>0</th>\n      <td>0</td>\n      <td>0</td>\n      <td>0</td>\n      <td>3</td>\n      <td>0</td>\n      <td>0</td>\n      <td>1</td>\n      <td>1</td>\n    </tr>\n    <tr>\n      <th>1</th>\n      <td>1</td>\n      <td>2</td>\n      <td>1</td>\n      <td>2</td>\n      <td>3</td>\n      <td>2</td>\n      <td>2</td>\n      <td>1</td>\n    </tr>\n    <tr>\n      <th>2</th>\n      <td>1</td>\n      <td>0</td>\n      <td>1</td>\n      <td>3</td>\n      <td>1</td>\n      <td>0</td>\n      <td>4</td>\n      <td>0</td>\n    </tr>\n    <tr>\n      <th>3</th>\n      <td>1</td>\n      <td>2</td>\n      <td>1</td>\n      <td>2</td>\n      <td>3</td>\n      <td>0</td>\n      <td>2</td>\n      <td>1</td>\n    </tr>\n    <tr>\n      <th>4</th>\n      <td>0</td>\n      <td>0</td>\n      <td>0</td>\n      <td>2</td>\n      <td>1</td>\n      <td>0</td>\n      <td>1</td>\n      <td>0</td>\n    </tr>\n    <tr>\n      <th>5</th>\n      <td>0</td>\n      <td>0</td>\n      <td>0</td>\n      <td>3</td>\n      <td>1</td>\n      <td>1</td>\n      <td>1</td>\n      <td>0</td>\n    </tr>\n    <tr>\n      <th>6</th>\n      <td>0</td>\n      <td>2</td>\n      <td>0</td>\n      <td>1</td>\n      <td>3</td>\n      <td>0</td>\n      <td>1</td>\n      <td>0</td>\n    </tr>\n    <tr>\n      <th>7</th>\n      <td>0</td>\n      <td>0</td>\n      <td>0</td>\n      <td>4</td>\n      <td>2</td>\n      <td>0</td>\n      <td>3</td>\n      <td>4</td>\n    </tr>\n    <tr>\n      <th>8</th>\n      <td>1</td>\n      <td>0</td>\n      <td>1</td>\n      <td>3</td>\n      <td>1</td>\n      <td>0</td>\n      <td>2</td>\n      <td>2</td>\n    </tr>\n    <tr>\n      <th>9</th>\n      <td>1</td>\n      <td>1</td>\n      <td>1</td>\n      <td>4</td>\n      <td>2</td>\n      <td>2</td>\n      <td>2</td>\n      <td>1</td>\n    </tr>\n  </tbody>\n</table>\n</div>"
     },
     "metadata": {},
     "execution_count": 28
    }
   ],
   "source": [
    "train_df.head(10)"
   ]
  },
  {
   "source": [
    "x = train_df.values #returns a numpy array\n",
    "min_max_scaler = preprocessing.MinMaxScaler()\n",
    "x_scaled = min_max_scaler.fit_transform(x)\n",
    "train_df[:] = x_scaled\n",
    "\n",
    "x = test_df.values \n",
    "min_max_scaler = preprocessing.MinMaxScaler()\n",
    "x_scaled = min_max_scaler.fit_transform(x)\n",
    "test_df[:] = x_scaled\n",
    "\n",
    "\n",
    "combine = [train_df, test_df]\n",
    "train_df.head(10)\n"
   ],
   "cell_type": "code",
   "metadata": {},
   "execution_count": 42,
   "outputs": [
    {
     "output_type": "error",
     "ename": "ValueError",
     "evalue": "could not convert string to float: 'Braund, Mr. Owen Harris'",
     "traceback": [
      "\u001b[0;31m---------------------------------------------------------------------------\u001b[0m",
      "\u001b[0;31mValueError\u001b[0m                                Traceback (most recent call last)",
      "\u001b[0;32m<ipython-input-42-06119f18fd0f>\u001b[0m in \u001b[0;36m<module>\u001b[0;34m\u001b[0m\n\u001b[1;32m      1\u001b[0m \u001b[0mx\u001b[0m \u001b[0;34m=\u001b[0m \u001b[0mtrain_df\u001b[0m\u001b[0;34m.\u001b[0m\u001b[0mvalues\u001b[0m \u001b[0;31m#returns a numpy array\u001b[0m\u001b[0;34m\u001b[0m\u001b[0;34m\u001b[0m\u001b[0m\n\u001b[1;32m      2\u001b[0m \u001b[0mmin_max_scaler\u001b[0m \u001b[0;34m=\u001b[0m \u001b[0mpreprocessing\u001b[0m\u001b[0;34m.\u001b[0m\u001b[0mMinMaxScaler\u001b[0m\u001b[0;34m(\u001b[0m\u001b[0;34m)\u001b[0m\u001b[0;34m\u001b[0m\u001b[0;34m\u001b[0m\u001b[0m\n\u001b[0;32m----> 3\u001b[0;31m \u001b[0mx_scaled\u001b[0m \u001b[0;34m=\u001b[0m \u001b[0mmin_max_scaler\u001b[0m\u001b[0;34m.\u001b[0m\u001b[0mfit_transform\u001b[0m\u001b[0;34m(\u001b[0m\u001b[0mx\u001b[0m\u001b[0;34m)\u001b[0m\u001b[0;34m\u001b[0m\u001b[0;34m\u001b[0m\u001b[0m\n\u001b[0m\u001b[1;32m      4\u001b[0m \u001b[0mtrain_df\u001b[0m\u001b[0;34m[\u001b[0m\u001b[0;34m:\u001b[0m\u001b[0;34m]\u001b[0m \u001b[0;34m=\u001b[0m \u001b[0mx_scaled\u001b[0m\u001b[0;34m\u001b[0m\u001b[0;34m\u001b[0m\u001b[0m\n\u001b[1;32m      5\u001b[0m \u001b[0;34m\u001b[0m\u001b[0m\n",
      "\u001b[0;32m~/anaconda3/lib/python3.7/site-packages/sklearn/base.py\u001b[0m in \u001b[0;36mfit_transform\u001b[0;34m(self, X, y, **fit_params)\u001b[0m\n\u001b[1;32m    569\u001b[0m         \u001b[0;32mif\u001b[0m \u001b[0my\u001b[0m \u001b[0;32mis\u001b[0m \u001b[0;32mNone\u001b[0m\u001b[0;34m:\u001b[0m\u001b[0;34m\u001b[0m\u001b[0;34m\u001b[0m\u001b[0m\n\u001b[1;32m    570\u001b[0m             \u001b[0;31m# fit method of arity 1 (unsupervised transformation)\u001b[0m\u001b[0;34m\u001b[0m\u001b[0;34m\u001b[0m\u001b[0;34m\u001b[0m\u001b[0m\n\u001b[0;32m--> 571\u001b[0;31m             \u001b[0;32mreturn\u001b[0m \u001b[0mself\u001b[0m\u001b[0;34m.\u001b[0m\u001b[0mfit\u001b[0m\u001b[0;34m(\u001b[0m\u001b[0mX\u001b[0m\u001b[0;34m,\u001b[0m \u001b[0;34m**\u001b[0m\u001b[0mfit_params\u001b[0m\u001b[0;34m)\u001b[0m\u001b[0;34m.\u001b[0m\u001b[0mtransform\u001b[0m\u001b[0;34m(\u001b[0m\u001b[0mX\u001b[0m\u001b[0;34m)\u001b[0m\u001b[0;34m\u001b[0m\u001b[0;34m\u001b[0m\u001b[0m\n\u001b[0m\u001b[1;32m    572\u001b[0m         \u001b[0;32melse\u001b[0m\u001b[0;34m:\u001b[0m\u001b[0;34m\u001b[0m\u001b[0;34m\u001b[0m\u001b[0m\n\u001b[1;32m    573\u001b[0m             \u001b[0;31m# fit method of arity 2 (supervised transformation)\u001b[0m\u001b[0;34m\u001b[0m\u001b[0;34m\u001b[0m\u001b[0;34m\u001b[0m\u001b[0m\n",
      "\u001b[0;32m~/anaconda3/lib/python3.7/site-packages/sklearn/preprocessing/_data.py\u001b[0m in \u001b[0;36mfit\u001b[0;34m(self, X, y)\u001b[0m\n\u001b[1;32m    337\u001b[0m         \u001b[0;31m# Reset internal state before fitting\u001b[0m\u001b[0;34m\u001b[0m\u001b[0;34m\u001b[0m\u001b[0;34m\u001b[0m\u001b[0m\n\u001b[1;32m    338\u001b[0m         \u001b[0mself\u001b[0m\u001b[0;34m.\u001b[0m\u001b[0m_reset\u001b[0m\u001b[0;34m(\u001b[0m\u001b[0;34m)\u001b[0m\u001b[0;34m\u001b[0m\u001b[0;34m\u001b[0m\u001b[0m\n\u001b[0;32m--> 339\u001b[0;31m         \u001b[0;32mreturn\u001b[0m \u001b[0mself\u001b[0m\u001b[0;34m.\u001b[0m\u001b[0mpartial_fit\u001b[0m\u001b[0;34m(\u001b[0m\u001b[0mX\u001b[0m\u001b[0;34m,\u001b[0m \u001b[0my\u001b[0m\u001b[0;34m)\u001b[0m\u001b[0;34m\u001b[0m\u001b[0;34m\u001b[0m\u001b[0m\n\u001b[0m\u001b[1;32m    340\u001b[0m \u001b[0;34m\u001b[0m\u001b[0m\n\u001b[1;32m    341\u001b[0m     \u001b[0;32mdef\u001b[0m \u001b[0mpartial_fit\u001b[0m\u001b[0;34m(\u001b[0m\u001b[0mself\u001b[0m\u001b[0;34m,\u001b[0m \u001b[0mX\u001b[0m\u001b[0;34m,\u001b[0m \u001b[0my\u001b[0m\u001b[0;34m=\u001b[0m\u001b[0;32mNone\u001b[0m\u001b[0;34m)\u001b[0m\u001b[0;34m:\u001b[0m\u001b[0;34m\u001b[0m\u001b[0;34m\u001b[0m\u001b[0m\n",
      "\u001b[0;32m~/anaconda3/lib/python3.7/site-packages/sklearn/preprocessing/_data.py\u001b[0m in \u001b[0;36mpartial_fit\u001b[0;34m(self, X, y)\u001b[0m\n\u001b[1;32m    371\u001b[0m         X = check_array(X,\n\u001b[1;32m    372\u001b[0m                         \u001b[0mestimator\u001b[0m\u001b[0;34m=\u001b[0m\u001b[0mself\u001b[0m\u001b[0;34m,\u001b[0m \u001b[0mdtype\u001b[0m\u001b[0;34m=\u001b[0m\u001b[0mFLOAT_DTYPES\u001b[0m\u001b[0;34m,\u001b[0m\u001b[0;34m\u001b[0m\u001b[0;34m\u001b[0m\u001b[0m\n\u001b[0;32m--> 373\u001b[0;31m                         force_all_finite=\"allow-nan\")\n\u001b[0m\u001b[1;32m    374\u001b[0m \u001b[0;34m\u001b[0m\u001b[0m\n\u001b[1;32m    375\u001b[0m         \u001b[0mdata_min\u001b[0m \u001b[0;34m=\u001b[0m \u001b[0mnp\u001b[0m\u001b[0;34m.\u001b[0m\u001b[0mnanmin\u001b[0m\u001b[0;34m(\u001b[0m\u001b[0mX\u001b[0m\u001b[0;34m,\u001b[0m \u001b[0maxis\u001b[0m\u001b[0;34m=\u001b[0m\u001b[0;36m0\u001b[0m\u001b[0;34m)\u001b[0m\u001b[0;34m\u001b[0m\u001b[0;34m\u001b[0m\u001b[0m\n",
      "\u001b[0;32m~/anaconda3/lib/python3.7/site-packages/sklearn/utils/validation.py\u001b[0m in \u001b[0;36mcheck_array\u001b[0;34m(array, accept_sparse, accept_large_sparse, dtype, order, copy, force_all_finite, ensure_2d, allow_nd, ensure_min_samples, ensure_min_features, warn_on_dtype, estimator)\u001b[0m\n\u001b[1;32m    529\u001b[0m                     \u001b[0marray\u001b[0m \u001b[0;34m=\u001b[0m \u001b[0marray\u001b[0m\u001b[0;34m.\u001b[0m\u001b[0mastype\u001b[0m\u001b[0;34m(\u001b[0m\u001b[0mdtype\u001b[0m\u001b[0;34m,\u001b[0m \u001b[0mcasting\u001b[0m\u001b[0;34m=\u001b[0m\u001b[0;34m\"unsafe\"\u001b[0m\u001b[0;34m,\u001b[0m \u001b[0mcopy\u001b[0m\u001b[0;34m=\u001b[0m\u001b[0;32mFalse\u001b[0m\u001b[0;34m)\u001b[0m\u001b[0;34m\u001b[0m\u001b[0;34m\u001b[0m\u001b[0m\n\u001b[1;32m    530\u001b[0m                 \u001b[0;32melse\u001b[0m\u001b[0;34m:\u001b[0m\u001b[0;34m\u001b[0m\u001b[0;34m\u001b[0m\u001b[0m\n\u001b[0;32m--> 531\u001b[0;31m                     \u001b[0marray\u001b[0m \u001b[0;34m=\u001b[0m \u001b[0mnp\u001b[0m\u001b[0;34m.\u001b[0m\u001b[0masarray\u001b[0m\u001b[0;34m(\u001b[0m\u001b[0marray\u001b[0m\u001b[0;34m,\u001b[0m \u001b[0morder\u001b[0m\u001b[0;34m=\u001b[0m\u001b[0morder\u001b[0m\u001b[0;34m,\u001b[0m \u001b[0mdtype\u001b[0m\u001b[0;34m=\u001b[0m\u001b[0mdtype\u001b[0m\u001b[0;34m)\u001b[0m\u001b[0;34m\u001b[0m\u001b[0;34m\u001b[0m\u001b[0m\n\u001b[0m\u001b[1;32m    532\u001b[0m             \u001b[0;32mexcept\u001b[0m \u001b[0mComplexWarning\u001b[0m\u001b[0;34m:\u001b[0m\u001b[0;34m\u001b[0m\u001b[0;34m\u001b[0m\u001b[0m\n\u001b[1;32m    533\u001b[0m                 raise ValueError(\"Complex data not supported\\n\"\n",
      "\u001b[0;32m~/anaconda3/lib/python3.7/site-packages/numpy/core/_asarray.py\u001b[0m in \u001b[0;36masarray\u001b[0;34m(a, dtype, order)\u001b[0m\n\u001b[1;32m     83\u001b[0m \u001b[0;34m\u001b[0m\u001b[0m\n\u001b[1;32m     84\u001b[0m     \"\"\"\n\u001b[0;32m---> 85\u001b[0;31m     \u001b[0;32mreturn\u001b[0m \u001b[0marray\u001b[0m\u001b[0;34m(\u001b[0m\u001b[0ma\u001b[0m\u001b[0;34m,\u001b[0m \u001b[0mdtype\u001b[0m\u001b[0;34m,\u001b[0m \u001b[0mcopy\u001b[0m\u001b[0;34m=\u001b[0m\u001b[0;32mFalse\u001b[0m\u001b[0;34m,\u001b[0m \u001b[0morder\u001b[0m\u001b[0;34m=\u001b[0m\u001b[0morder\u001b[0m\u001b[0;34m)\u001b[0m\u001b[0;34m\u001b[0m\u001b[0;34m\u001b[0m\u001b[0m\n\u001b[0m\u001b[1;32m     86\u001b[0m \u001b[0;34m\u001b[0m\u001b[0m\n\u001b[1;32m     87\u001b[0m \u001b[0;34m\u001b[0m\u001b[0m\n",
      "\u001b[0;31mValueError\u001b[0m: could not convert string to float: 'Braund, Mr. Owen Harris'"
     ]
    }
   ]
  },
  {
   "cell_type": "code",
   "execution_count": 31,
   "metadata": {},
   "outputs": [
    {
     "output_type": "execute_result",
     "data": {
      "text/plain": [
       "   Survived  Pclass  Sex   Age      Fare  Embarked  Title  FamilySize\n",
       "0       0.0     0.0  0.0  0.75  0.000000       0.0   0.25         0.1\n",
       "1       1.0     1.0  1.0  0.50  1.000000       1.0   0.50         0.1\n",
       "2       1.0     0.0  1.0  0.75  0.333333       0.0   1.00         0.0\n",
       "3       1.0     1.0  1.0  0.50  1.000000       0.0   0.50         0.1\n",
       "4       0.0     0.0  0.0  0.50  0.333333       0.0   0.25         0.0\n",
       "5       0.0     0.0  0.0  0.75  0.333333       0.5   0.25         0.0\n",
       "6       0.0     1.0  0.0  0.25  1.000000       0.0   0.25         0.0\n",
       "7       0.0     0.0  0.0  1.00  0.666667       0.0   0.75         0.4\n",
       "8       1.0     0.0  1.0  0.75  0.333333       0.0   0.50         0.2\n",
       "9       1.0     0.5  1.0  1.00  0.666667       1.0   0.50         0.1"
      ],
      "text/html": "<div>\n<style scoped>\n    .dataframe tbody tr th:only-of-type {\n        vertical-align: middle;\n    }\n\n    .dataframe tbody tr th {\n        vertical-align: top;\n    }\n\n    .dataframe thead th {\n        text-align: right;\n    }\n</style>\n<table border=\"1\" class=\"dataframe\">\n  <thead>\n    <tr style=\"text-align: right;\">\n      <th></th>\n      <th>Survived</th>\n      <th>Pclass</th>\n      <th>Sex</th>\n      <th>Age</th>\n      <th>Fare</th>\n      <th>Embarked</th>\n      <th>Title</th>\n      <th>FamilySize</th>\n    </tr>\n  </thead>\n  <tbody>\n    <tr>\n      <th>0</th>\n      <td>0.0</td>\n      <td>0.0</td>\n      <td>0.0</td>\n      <td>0.75</td>\n      <td>0.000000</td>\n      <td>0.0</td>\n      <td>0.25</td>\n      <td>0.1</td>\n    </tr>\n    <tr>\n      <th>1</th>\n      <td>1.0</td>\n      <td>1.0</td>\n      <td>1.0</td>\n      <td>0.50</td>\n      <td>1.000000</td>\n      <td>1.0</td>\n      <td>0.50</td>\n      <td>0.1</td>\n    </tr>\n    <tr>\n      <th>2</th>\n      <td>1.0</td>\n      <td>0.0</td>\n      <td>1.0</td>\n      <td>0.75</td>\n      <td>0.333333</td>\n      <td>0.0</td>\n      <td>1.00</td>\n      <td>0.0</td>\n    </tr>\n    <tr>\n      <th>3</th>\n      <td>1.0</td>\n      <td>1.0</td>\n      <td>1.0</td>\n      <td>0.50</td>\n      <td>1.000000</td>\n      <td>0.0</td>\n      <td>0.50</td>\n      <td>0.1</td>\n    </tr>\n    <tr>\n      <th>4</th>\n      <td>0.0</td>\n      <td>0.0</td>\n      <td>0.0</td>\n      <td>0.50</td>\n      <td>0.333333</td>\n      <td>0.0</td>\n      <td>0.25</td>\n      <td>0.0</td>\n    </tr>\n    <tr>\n      <th>5</th>\n      <td>0.0</td>\n      <td>0.0</td>\n      <td>0.0</td>\n      <td>0.75</td>\n      <td>0.333333</td>\n      <td>0.5</td>\n      <td>0.25</td>\n      <td>0.0</td>\n    </tr>\n    <tr>\n      <th>6</th>\n      <td>0.0</td>\n      <td>1.0</td>\n      <td>0.0</td>\n      <td>0.25</td>\n      <td>1.000000</td>\n      <td>0.0</td>\n      <td>0.25</td>\n      <td>0.0</td>\n    </tr>\n    <tr>\n      <th>7</th>\n      <td>0.0</td>\n      <td>0.0</td>\n      <td>0.0</td>\n      <td>1.00</td>\n      <td>0.666667</td>\n      <td>0.0</td>\n      <td>0.75</td>\n      <td>0.4</td>\n    </tr>\n    <tr>\n      <th>8</th>\n      <td>1.0</td>\n      <td>0.0</td>\n      <td>1.0</td>\n      <td>0.75</td>\n      <td>0.333333</td>\n      <td>0.0</td>\n      <td>0.50</td>\n      <td>0.2</td>\n    </tr>\n    <tr>\n      <th>9</th>\n      <td>1.0</td>\n      <td>0.5</td>\n      <td>1.0</td>\n      <td>1.00</td>\n      <td>0.666667</td>\n      <td>1.0</td>\n      <td>0.50</td>\n      <td>0.1</td>\n    </tr>\n  </tbody>\n</table>\n</div>"
     },
     "metadata": {},
     "execution_count": 31
    }
   ],
   "source": [
    "train_df.head(10)"
   ]
  },
  {
   "source": [
    "## Model, predict and solve\n"
   ],
   "cell_type": "markdown",
   "metadata": {}
  },
  {
   "cell_type": "code",
   "execution_count": 33,
   "metadata": {},
   "outputs": [
    {
     "output_type": "execute_result",
     "data": {
      "text/plain": [
       "((891, 11), (891,), (418, 10))"
      ]
     },
     "metadata": {},
     "execution_count": 33
    }
   ],
   "source": [
    "X_train = train_df.drop(\"Survived\", axis=1)\n",
    "Y_train = train_df[\"Survived\"]\n",
    "X_test  = test_df.drop(\"PassengerId\", axis=1).copy()\n",
    "X_train.shape, Y_train.shape, X_test.shape\n"
   ]
  },
  {
   "cell_type": "code",
   "execution_count": 35,
   "metadata": {},
   "outputs": [
    {
     "output_type": "error",
     "ename": "ValueError",
     "evalue": "could not convert string to float: 'Q'",
     "traceback": [
      "\u001b[0;31m---------------------------------------------------------------------------\u001b[0m",
      "\u001b[0;31mValueError\u001b[0m                                Traceback (most recent call last)",
      "\u001b[0;32m<ipython-input-35-c7d82666a78b>\u001b[0m in \u001b[0;36m<module>\u001b[0;34m\u001b[0m\n\u001b[1;32m      1\u001b[0m \u001b[0mlogreg\u001b[0m \u001b[0;34m=\u001b[0m \u001b[0mLogisticRegression\u001b[0m\u001b[0;34m(\u001b[0m\u001b[0;34m)\u001b[0m\u001b[0;34m\u001b[0m\u001b[0;34m\u001b[0m\u001b[0m\n\u001b[0;32m----> 2\u001b[0;31m \u001b[0mlogreg\u001b[0m\u001b[0;34m.\u001b[0m\u001b[0mfit\u001b[0m\u001b[0;34m(\u001b[0m\u001b[0mX_train\u001b[0m\u001b[0;34m,\u001b[0m \u001b[0mY_train\u001b[0m\u001b[0;34m)\u001b[0m\u001b[0;34m\u001b[0m\u001b[0;34m\u001b[0m\u001b[0m\n\u001b[0m\u001b[1;32m      3\u001b[0m \u001b[0mY_pred\u001b[0m \u001b[0;34m=\u001b[0m \u001b[0mlogreg\u001b[0m\u001b[0;34m.\u001b[0m\u001b[0mpredict\u001b[0m\u001b[0;34m(\u001b[0m\u001b[0mX_test\u001b[0m\u001b[0;34m)\u001b[0m\u001b[0;34m\u001b[0m\u001b[0;34m\u001b[0m\u001b[0m\n\u001b[1;32m      4\u001b[0m \u001b[0macc_log\u001b[0m \u001b[0;34m=\u001b[0m \u001b[0mround\u001b[0m\u001b[0;34m(\u001b[0m\u001b[0mlogreg\u001b[0m\u001b[0;34m.\u001b[0m\u001b[0mscore\u001b[0m\u001b[0;34m(\u001b[0m\u001b[0mX_train\u001b[0m\u001b[0;34m,\u001b[0m \u001b[0mY_train\u001b[0m\u001b[0;34m)\u001b[0m \u001b[0;34m*\u001b[0m \u001b[0;36m100\u001b[0m\u001b[0;34m,\u001b[0m \u001b[0;36m2\u001b[0m\u001b[0;34m)\u001b[0m\u001b[0;34m\u001b[0m\u001b[0;34m\u001b[0m\u001b[0m\n\u001b[1;32m      5\u001b[0m \u001b[0macc_log\u001b[0m\u001b[0;34m\u001b[0m\u001b[0;34m\u001b[0m\u001b[0m\n",
      "\u001b[0;32m~/anaconda3/lib/python3.7/site-packages/sklearn/linear_model/_logistic.py\u001b[0m in \u001b[0;36mfit\u001b[0;34m(self, X, y, sample_weight)\u001b[0m\n\u001b[1;32m   1525\u001b[0m \u001b[0;34m\u001b[0m\u001b[0m\n\u001b[1;32m   1526\u001b[0m         X, y = check_X_y(X, y, accept_sparse='csr', dtype=_dtype, order=\"C\",\n\u001b[0;32m-> 1527\u001b[0;31m                          accept_large_sparse=solver != 'liblinear')\n\u001b[0m\u001b[1;32m   1528\u001b[0m         \u001b[0mcheck_classification_targets\u001b[0m\u001b[0;34m(\u001b[0m\u001b[0my\u001b[0m\u001b[0;34m)\u001b[0m\u001b[0;34m\u001b[0m\u001b[0;34m\u001b[0m\u001b[0m\n\u001b[1;32m   1529\u001b[0m         \u001b[0mself\u001b[0m\u001b[0;34m.\u001b[0m\u001b[0mclasses_\u001b[0m \u001b[0;34m=\u001b[0m \u001b[0mnp\u001b[0m\u001b[0;34m.\u001b[0m\u001b[0munique\u001b[0m\u001b[0;34m(\u001b[0m\u001b[0my\u001b[0m\u001b[0;34m)\u001b[0m\u001b[0;34m\u001b[0m\u001b[0;34m\u001b[0m\u001b[0m\n",
      "\u001b[0;32m~/anaconda3/lib/python3.7/site-packages/sklearn/utils/validation.py\u001b[0m in \u001b[0;36mcheck_X_y\u001b[0;34m(X, y, accept_sparse, accept_large_sparse, dtype, order, copy, force_all_finite, ensure_2d, allow_nd, multi_output, ensure_min_samples, ensure_min_features, y_numeric, warn_on_dtype, estimator)\u001b[0m\n\u001b[1;32m    753\u001b[0m                     \u001b[0mensure_min_features\u001b[0m\u001b[0;34m=\u001b[0m\u001b[0mensure_min_features\u001b[0m\u001b[0;34m,\u001b[0m\u001b[0;34m\u001b[0m\u001b[0;34m\u001b[0m\u001b[0m\n\u001b[1;32m    754\u001b[0m                     \u001b[0mwarn_on_dtype\u001b[0m\u001b[0;34m=\u001b[0m\u001b[0mwarn_on_dtype\u001b[0m\u001b[0;34m,\u001b[0m\u001b[0;34m\u001b[0m\u001b[0;34m\u001b[0m\u001b[0m\n\u001b[0;32m--> 755\u001b[0;31m                     estimator=estimator)\n\u001b[0m\u001b[1;32m    756\u001b[0m     \u001b[0;32mif\u001b[0m \u001b[0mmulti_output\u001b[0m\u001b[0;34m:\u001b[0m\u001b[0;34m\u001b[0m\u001b[0;34m\u001b[0m\u001b[0m\n\u001b[1;32m    757\u001b[0m         y = check_array(y, 'csr', force_all_finite=True, ensure_2d=False,\n",
      "\u001b[0;32m~/anaconda3/lib/python3.7/site-packages/sklearn/utils/validation.py\u001b[0m in \u001b[0;36mcheck_array\u001b[0;34m(array, accept_sparse, accept_large_sparse, dtype, order, copy, force_all_finite, ensure_2d, allow_nd, ensure_min_samples, ensure_min_features, warn_on_dtype, estimator)\u001b[0m\n\u001b[1;32m    529\u001b[0m                     \u001b[0marray\u001b[0m \u001b[0;34m=\u001b[0m \u001b[0marray\u001b[0m\u001b[0;34m.\u001b[0m\u001b[0mastype\u001b[0m\u001b[0;34m(\u001b[0m\u001b[0mdtype\u001b[0m\u001b[0;34m,\u001b[0m \u001b[0mcasting\u001b[0m\u001b[0;34m=\u001b[0m\u001b[0;34m\"unsafe\"\u001b[0m\u001b[0;34m,\u001b[0m \u001b[0mcopy\u001b[0m\u001b[0;34m=\u001b[0m\u001b[0;32mFalse\u001b[0m\u001b[0;34m)\u001b[0m\u001b[0;34m\u001b[0m\u001b[0;34m\u001b[0m\u001b[0m\n\u001b[1;32m    530\u001b[0m                 \u001b[0;32melse\u001b[0m\u001b[0;34m:\u001b[0m\u001b[0;34m\u001b[0m\u001b[0;34m\u001b[0m\u001b[0m\n\u001b[0;32m--> 531\u001b[0;31m                     \u001b[0marray\u001b[0m \u001b[0;34m=\u001b[0m \u001b[0mnp\u001b[0m\u001b[0;34m.\u001b[0m\u001b[0masarray\u001b[0m\u001b[0;34m(\u001b[0m\u001b[0marray\u001b[0m\u001b[0;34m,\u001b[0m \u001b[0morder\u001b[0m\u001b[0;34m=\u001b[0m\u001b[0morder\u001b[0m\u001b[0;34m,\u001b[0m \u001b[0mdtype\u001b[0m\u001b[0;34m=\u001b[0m\u001b[0mdtype\u001b[0m\u001b[0;34m)\u001b[0m\u001b[0;34m\u001b[0m\u001b[0;34m\u001b[0m\u001b[0m\n\u001b[0m\u001b[1;32m    532\u001b[0m             \u001b[0;32mexcept\u001b[0m \u001b[0mComplexWarning\u001b[0m\u001b[0;34m:\u001b[0m\u001b[0;34m\u001b[0m\u001b[0;34m\u001b[0m\u001b[0m\n\u001b[1;32m    533\u001b[0m                 raise ValueError(\"Complex data not supported\\n\"\n",
      "\u001b[0;32m~/anaconda3/lib/python3.7/site-packages/numpy/core/_asarray.py\u001b[0m in \u001b[0;36masarray\u001b[0;34m(a, dtype, order)\u001b[0m\n\u001b[1;32m     83\u001b[0m \u001b[0;34m\u001b[0m\u001b[0m\n\u001b[1;32m     84\u001b[0m     \"\"\"\n\u001b[0;32m---> 85\u001b[0;31m     \u001b[0;32mreturn\u001b[0m \u001b[0marray\u001b[0m\u001b[0;34m(\u001b[0m\u001b[0ma\u001b[0m\u001b[0;34m,\u001b[0m \u001b[0mdtype\u001b[0m\u001b[0;34m,\u001b[0m \u001b[0mcopy\u001b[0m\u001b[0;34m=\u001b[0m\u001b[0;32mFalse\u001b[0m\u001b[0;34m,\u001b[0m \u001b[0morder\u001b[0m\u001b[0;34m=\u001b[0m\u001b[0morder\u001b[0m\u001b[0;34m)\u001b[0m\u001b[0;34m\u001b[0m\u001b[0;34m\u001b[0m\u001b[0m\n\u001b[0m\u001b[1;32m     86\u001b[0m \u001b[0;34m\u001b[0m\u001b[0m\n\u001b[1;32m     87\u001b[0m \u001b[0;34m\u001b[0m\u001b[0m\n",
      "\u001b[0;31mValueError\u001b[0m: could not convert string to float: 'Q'"
     ]
    }
   ],
   "source": [
    "logreg = LogisticRegression()\n",
    "logreg.fit(X_train, Y_train)\n",
    "Y_pred = logreg.predict(X_test)\n",
    "acc_log = round(logreg.score(X_train, Y_train) * 100, 2)\n",
    "acc_log"
   ]
  },
  {
   "cell_type": "code",
   "execution_count": 37,
   "metadata": {},
   "outputs": [
    {
     "output_type": "error",
     "ename": "AttributeError",
     "evalue": "'LogisticRegression' object has no attribute 'coef_'",
     "traceback": [
      "\u001b[0;31m---------------------------------------------------------------------------\u001b[0m",
      "\u001b[0;31mAttributeError\u001b[0m                            Traceback (most recent call last)",
      "\u001b[0;32m<ipython-input-37-c5fe6bd0e2fe>\u001b[0m in \u001b[0;36m<module>\u001b[0;34m\u001b[0m\n\u001b[1;32m      1\u001b[0m \u001b[0mcoeff_df\u001b[0m \u001b[0;34m=\u001b[0m \u001b[0mpd\u001b[0m\u001b[0;34m.\u001b[0m\u001b[0mDataFrame\u001b[0m\u001b[0;34m(\u001b[0m\u001b[0mtrain_df\u001b[0m\u001b[0;34m.\u001b[0m\u001b[0mcolumns\u001b[0m\u001b[0;34m.\u001b[0m\u001b[0mdelete\u001b[0m\u001b[0;34m(\u001b[0m\u001b[0;36m0\u001b[0m\u001b[0;34m)\u001b[0m\u001b[0;34m)\u001b[0m\u001b[0;34m\u001b[0m\u001b[0;34m\u001b[0m\u001b[0m\n\u001b[1;32m      2\u001b[0m \u001b[0mcoeff_df\u001b[0m\u001b[0;34m.\u001b[0m\u001b[0mcolumns\u001b[0m \u001b[0;34m=\u001b[0m \u001b[0;34m[\u001b[0m\u001b[0;34m'Feature'\u001b[0m\u001b[0;34m]\u001b[0m\u001b[0;34m\u001b[0m\u001b[0;34m\u001b[0m\u001b[0m\n\u001b[0;32m----> 3\u001b[0;31m \u001b[0mcoeff_df\u001b[0m\u001b[0;34m[\u001b[0m\u001b[0;34m\"Correlation\"\u001b[0m\u001b[0;34m]\u001b[0m \u001b[0;34m=\u001b[0m \u001b[0mpd\u001b[0m\u001b[0;34m.\u001b[0m\u001b[0mSeries\u001b[0m\u001b[0;34m(\u001b[0m\u001b[0mlogreg\u001b[0m\u001b[0;34m.\u001b[0m\u001b[0mcoef_\u001b[0m\u001b[0;34m[\u001b[0m\u001b[0;36m0\u001b[0m\u001b[0;34m]\u001b[0m\u001b[0;34m)\u001b[0m\u001b[0;34m\u001b[0m\u001b[0;34m\u001b[0m\u001b[0m\n\u001b[0m\u001b[1;32m      4\u001b[0m \u001b[0;34m\u001b[0m\u001b[0m\n\u001b[1;32m      5\u001b[0m \u001b[0mcoeff_df\u001b[0m\u001b[0;34m.\u001b[0m\u001b[0msort_values\u001b[0m\u001b[0;34m(\u001b[0m\u001b[0mby\u001b[0m\u001b[0;34m=\u001b[0m\u001b[0;34m'Correlation'\u001b[0m\u001b[0;34m,\u001b[0m \u001b[0mascending\u001b[0m\u001b[0;34m=\u001b[0m\u001b[0;32mFalse\u001b[0m\u001b[0;34m)\u001b[0m\u001b[0;34m\u001b[0m\u001b[0;34m\u001b[0m\u001b[0m\n",
      "\u001b[0;31mAttributeError\u001b[0m: 'LogisticRegression' object has no attribute 'coef_'"
     ]
    }
   ],
   "source": [
    "coeff_df = pd.DataFrame(train_df.columns.delete(0))\n",
    "coeff_df.columns = ['Feature']\n",
    "coeff_df[\"Correlation\"] = pd.Series(logreg.coef_[0])\n",
    "\n",
    "coeff_df.sort_values(by='Correlation', ascending=False)"
   ]
  },
  {
   "cell_type": "code",
   "execution_count": 91,
   "metadata": {},
   "outputs": [
    {
     "output_type": "execute_result",
     "data": {
      "text/plain": [
       "83.16"
      ]
     },
     "metadata": {},
     "execution_count": 91
    }
   ],
   "source": [
    "svc = SVC()\n",
    "svc.fit(X_train, Y_train)\n",
    "Y_pred = svc.predict(X_test)\n",
    "acc_svc = round(svc.score(X_train, Y_train) * 100, 2)\n",
    "acc_svc"
   ]
  },
  {
   "cell_type": "code",
   "execution_count": 92,
   "metadata": {},
   "outputs": [
    {
     "output_type": "execute_result",
     "data": {
      "text/plain": [
       "85.86"
      ]
     },
     "metadata": {},
     "execution_count": 92
    }
   ],
   "source": [
    "knn = KNeighborsClassifier(n_neighbors = 3)\n",
    "knn.fit(X_train, Y_train)\n",
    "Y_pred = knn.predict(X_test)\n",
    "acc_knn = round(knn.score(X_train, Y_train) * 100, 2)\n",
    "acc_knn"
   ]
  },
  {
   "cell_type": "code",
   "execution_count": 93,
   "metadata": {},
   "outputs": [
    {
     "output_type": "execute_result",
     "data": {
      "text/plain": [
       "79.91"
      ]
     },
     "metadata": {},
     "execution_count": 93
    }
   ],
   "source": [
    "gaussian = GaussianNB()\n",
    "gaussian.fit(X_train, Y_train)\n",
    "Y_pred = gaussian.predict(X_test)\n",
    "acc_gaussian = round(gaussian.score(X_train, Y_train) * 100, 2)\n",
    "acc_gaussian"
   ]
  },
  {
   "cell_type": "code",
   "execution_count": 94,
   "metadata": {},
   "outputs": [
    {
     "output_type": "execute_result",
     "data": {
      "text/plain": [
       "74.97"
      ]
     },
     "metadata": {},
     "execution_count": 94
    }
   ],
   "source": [
    "perceptron = Perceptron()\n",
    "perceptron.fit(X_train, Y_train)\n",
    "Y_pred = perceptron.predict(X_test)\n",
    "acc_perceptron = round(perceptron.score(X_train, Y_train) * 100, 2)\n",
    "acc_perceptron"
   ]
  },
  {
   "cell_type": "code",
   "execution_count": 95,
   "metadata": {},
   "outputs": [
    {
     "output_type": "execute_result",
     "data": {
      "text/plain": [
       "78.68"
      ]
     },
     "metadata": {},
     "execution_count": 95
    }
   ],
   "source": [
    "linear_svc = LinearSVC()\n",
    "linear_svc.fit(X_train, Y_train)\n",
    "Y_pred = linear_svc.predict(X_test)\n",
    "acc_linear_svc = round(linear_svc.score(X_train, Y_train) * 100, 2)\n",
    "acc_linear_svc"
   ]
  },
  {
   "cell_type": "code",
   "execution_count": 96,
   "metadata": {},
   "outputs": [
    {
     "output_type": "execute_result",
     "data": {
      "text/plain": [
       "79.8"
      ]
     },
     "metadata": {},
     "execution_count": 96
    }
   ],
   "source": [
    "sgd = SGDClassifier()\n",
    "sgd.fit(X_train, Y_train)\n",
    "Y_pred = sgd.predict(X_test)\n",
    "acc_sgd = round(sgd.score(X_train, Y_train) * 100, 2)\n",
    "acc_sgd"
   ]
  },
  {
   "cell_type": "code",
   "execution_count": 97,
   "metadata": {},
   "outputs": [
    {
     "output_type": "execute_result",
     "data": {
      "text/plain": [
       "88.89"
      ]
     },
     "metadata": {},
     "execution_count": 97
    }
   ],
   "source": [
    "decision_tree = DecisionTreeClassifier()\n",
    "decision_tree.fit(X_train, Y_train)\n",
    "Y_pred = decision_tree.predict(X_test)\n",
    "acc_decision_tree = round(decision_tree.score(X_train, Y_train) * 100, 2)\n",
    "acc_decision_tree"
   ]
  },
  {
   "cell_type": "code",
   "execution_count": 98,
   "metadata": {},
   "outputs": [
    {
     "output_type": "execute_result",
     "data": {
      "text/plain": [
       "88.89"
      ]
     },
     "metadata": {},
     "execution_count": 98
    }
   ],
   "source": [
    "random_forest = RandomForestClassifier(n_estimators=100)\n",
    "random_forest.fit(X_train, Y_train)\n",
    "Y_pred = random_forest.predict(X_test)\n",
    "random_forest.score(X_train, Y_train)\n",
    "acc_random_forest = round(random_forest.score(X_train, Y_train) * 100, 2)\n",
    "acc_random_forest"
   ]
  },
  {
   "cell_type": "code",
   "execution_count": 99,
   "metadata": {},
   "outputs": [
    {
     "output_type": "execute_result",
     "data": {
      "text/plain": [
       "83.95"
      ]
     },
     "metadata": {},
     "execution_count": 99
    }
   ],
   "source": [
    "MLP = MLPClassifier(random_state=1, max_iter=300 )\n",
    "MLP.fit(X_train, Y_train)\n",
    "Y_pred = MLP.predict(X_test)\n",
    "MLP.score(X_train, Y_train)\n",
    "acc_MLP = round(MLP.score(X_train, Y_train) * 100, 2)\n",
    "acc_MLP"
   ]
  },
  {
   "cell_type": "code",
   "execution_count": 100,
   "metadata": {},
   "outputs": [
    {
     "output_type": "execute_result",
     "data": {
      "text/plain": [
       "                        Model  Score\n",
       "3               Random Forest  88.89\n",
       "8               Decision Tree  88.89\n",
       "1                         KNN  85.86\n",
       "9                         MLP  83.95\n",
       "0     Support Vector Machines  83.16\n",
       "4                 Naive Bayes  79.91\n",
       "6  Stochastic Gradient Decent  79.80\n",
       "7                  Linear SVC  78.68\n",
       "2         Logistic Regression  78.34\n",
       "5                  Perceptron  74.97"
      ],
      "text/html": "<div>\n<style scoped>\n    .dataframe tbody tr th:only-of-type {\n        vertical-align: middle;\n    }\n\n    .dataframe tbody tr th {\n        vertical-align: top;\n    }\n\n    .dataframe thead th {\n        text-align: right;\n    }\n</style>\n<table border=\"1\" class=\"dataframe\">\n  <thead>\n    <tr style=\"text-align: right;\">\n      <th></th>\n      <th>Model</th>\n      <th>Score</th>\n    </tr>\n  </thead>\n  <tbody>\n    <tr>\n      <th>3</th>\n      <td>Random Forest</td>\n      <td>88.89</td>\n    </tr>\n    <tr>\n      <th>8</th>\n      <td>Decision Tree</td>\n      <td>88.89</td>\n    </tr>\n    <tr>\n      <th>1</th>\n      <td>KNN</td>\n      <td>85.86</td>\n    </tr>\n    <tr>\n      <th>9</th>\n      <td>MLP</td>\n      <td>83.95</td>\n    </tr>\n    <tr>\n      <th>0</th>\n      <td>Support Vector Machines</td>\n      <td>83.16</td>\n    </tr>\n    <tr>\n      <th>4</th>\n      <td>Naive Bayes</td>\n      <td>79.91</td>\n    </tr>\n    <tr>\n      <th>6</th>\n      <td>Stochastic Gradient Decent</td>\n      <td>79.80</td>\n    </tr>\n    <tr>\n      <th>7</th>\n      <td>Linear SVC</td>\n      <td>78.68</td>\n    </tr>\n    <tr>\n      <th>2</th>\n      <td>Logistic Regression</td>\n      <td>78.34</td>\n    </tr>\n    <tr>\n      <th>5</th>\n      <td>Perceptron</td>\n      <td>74.97</td>\n    </tr>\n  </tbody>\n</table>\n</div>"
     },
     "metadata": {},
     "execution_count": 100
    }
   ],
   "source": [
    "    models = pd.DataFrame({'Model': ['Support Vector Machines', 'KNN', 'Logistic Regression', \n",
    "              'Random Forest', 'Naive Bayes', 'Perceptron', \n",
    "              'Stochastic Gradient Decent', 'Linear SVC', \n",
    "              'Decision Tree', 'MLP'],\n",
    "    'Score': [acc_svc, acc_knn, acc_log, \n",
    "              acc_random_forest, acc_gaussian, acc_perceptron, \n",
    "              acc_sgd, acc_linear_svc, acc_decision_tree, acc_MLP]})\n",
    "models.sort_values(by='Score', ascending=False)"
   ]
  },
  {
   "cell_type": "code",
   "execution_count": 101,
   "metadata": {},
   "outputs": [],
   "source": [
    "submission = pd.DataFrame({\n",
    "        \"PassengerId\": test_df[\"PassengerId\"],\n",
    "        \"Survived\": Y_pred\n",
    "    })\n",
    "submission.to_csv('../out/submission.csv', index=False)"
   ]
  },
  {
   "cell_type": "code",
   "execution_count": 102,
   "metadata": {},
   "outputs": [
    {
     "output_type": "execute_result",
     "data": {
      "text/plain": [
       "369"
      ]
     },
     "metadata": {},
     "execution_count": 102
    }
   ],
   "source": [
    "accuracy_score(result_df['Survived'], Y_pred, normalize=False)"
   ]
  },
  {
   "cell_type": "code",
   "execution_count": 38,
   "metadata": {},
   "outputs": [],
   "source": [
    "import tensorflow as tf\n",
    "from tensorflow.keras.models import Model\n",
    "from tensorflow.keras import layers, losses\n"
   ]
  },
  {
   "cell_type": "code",
   "execution_count": 39,
   "metadata": {},
   "outputs": [],
   "source": [
    "model = tf.keras.Sequential([\n",
    "    tf.keras.layers.Dense(64, activation='relu'),\n",
    "    tf.keras.layers.Dense(128, activation='relu'),\n",
    "    tf.keras.layers.Dense(128, activation='relu'),\n",
    "    tf.keras.layers.Dense(2)\n",
    "])"
   ]
  },
  {
   "cell_type": "code",
   "execution_count": 40,
   "metadata": {},
   "outputs": [],
   "source": [
    "model.compile(optimizer='adam',\n",
    "              loss=tf.keras.losses.SparseCategoricalCrossentropy(from_logits=True),\n",
    "              metrics=['accuracy'])"
   ]
  },
  {
   "cell_type": "code",
   "execution_count": 41,
   "metadata": {},
   "outputs": [
    {
     "output_type": "error",
     "ename": "TypeError",
     "evalue": "Unable to build `Dense` layer with non-floating point dtype <dtype: 'string'>",
     "traceback": [
      "\u001b[0;31m---------------------------------------------------------------------------\u001b[0m",
      "\u001b[0;31mTypeError\u001b[0m                                 Traceback (most recent call last)",
      "\u001b[0;32m<ipython-input-41-585007461790>\u001b[0m in \u001b[0;36m<module>\u001b[0;34m\u001b[0m\n\u001b[0;32m----> 1\u001b[0;31m \u001b[0mmodel\u001b[0m\u001b[0;34m.\u001b[0m\u001b[0mfit\u001b[0m\u001b[0;34m(\u001b[0m\u001b[0mX_train\u001b[0m\u001b[0;34m.\u001b[0m\u001b[0mvalues\u001b[0m\u001b[0;34m,\u001b[0m \u001b[0mY_train\u001b[0m\u001b[0;34m.\u001b[0m\u001b[0mvalues\u001b[0m\u001b[0;34m,\u001b[0m \u001b[0mepochs\u001b[0m\u001b[0;34m=\u001b[0m\u001b[0;36m20\u001b[0m\u001b[0;34m)\u001b[0m\u001b[0;34m\u001b[0m\u001b[0;34m\u001b[0m\u001b[0m\n\u001b[0m",
      "\u001b[0;32m~/anaconda3/lib/python3.7/site-packages/tensorflow-2.0.0b1-py3.7-linux-x86_64.egg/tensorflow/python/keras/engine/training.py\u001b[0m in \u001b[0;36mfit\u001b[0;34m(self, x, y, batch_size, epochs, verbose, callbacks, validation_split, validation_data, shuffle, class_weight, sample_weight, initial_epoch, steps_per_epoch, validation_steps, validation_freq, max_queue_size, workers, use_multiprocessing, **kwargs)\u001b[0m\n\u001b[1;32m    641\u001b[0m         \u001b[0mmax_queue_size\u001b[0m\u001b[0;34m=\u001b[0m\u001b[0mmax_queue_size\u001b[0m\u001b[0;34m,\u001b[0m\u001b[0;34m\u001b[0m\u001b[0;34m\u001b[0m\u001b[0m\n\u001b[1;32m    642\u001b[0m         \u001b[0mworkers\u001b[0m\u001b[0;34m=\u001b[0m\u001b[0mworkers\u001b[0m\u001b[0;34m,\u001b[0m\u001b[0;34m\u001b[0m\u001b[0;34m\u001b[0m\u001b[0m\n\u001b[0;32m--> 643\u001b[0;31m         use_multiprocessing=use_multiprocessing)\n\u001b[0m\u001b[1;32m    644\u001b[0m \u001b[0;34m\u001b[0m\u001b[0m\n\u001b[1;32m    645\u001b[0m   def evaluate(self,\n",
      "\u001b[0;32m~/anaconda3/lib/python3.7/site-packages/tensorflow-2.0.0b1-py3.7-linux-x86_64.egg/tensorflow/python/keras/engine/training_arrays.py\u001b[0m in \u001b[0;36mfit\u001b[0;34m(self, model, x, y, batch_size, epochs, verbose, callbacks, validation_split, validation_data, shuffle, class_weight, sample_weight, initial_epoch, steps_per_epoch, validation_steps, validation_freq, **kwargs)\u001b[0m\n\u001b[1;32m    630\u001b[0m         \u001b[0msteps\u001b[0m\u001b[0;34m=\u001b[0m\u001b[0msteps_per_epoch\u001b[0m\u001b[0;34m,\u001b[0m\u001b[0;34m\u001b[0m\u001b[0;34m\u001b[0m\u001b[0m\n\u001b[1;32m    631\u001b[0m         \u001b[0mvalidation_split\u001b[0m\u001b[0;34m=\u001b[0m\u001b[0mvalidation_split\u001b[0m\u001b[0;34m,\u001b[0m\u001b[0;34m\u001b[0m\u001b[0;34m\u001b[0m\u001b[0m\n\u001b[0;32m--> 632\u001b[0;31m         shuffle=shuffle)\n\u001b[0m\u001b[1;32m    633\u001b[0m \u001b[0;34m\u001b[0m\u001b[0m\n\u001b[1;32m    634\u001b[0m     \u001b[0;32mif\u001b[0m \u001b[0mvalidation_data\u001b[0m\u001b[0;34m:\u001b[0m\u001b[0;34m\u001b[0m\u001b[0;34m\u001b[0m\u001b[0m\n",
      "\u001b[0;32m~/anaconda3/lib/python3.7/site-packages/tensorflow-2.0.0b1-py3.7-linux-x86_64.egg/tensorflow/python/keras/engine/training.py\u001b[0m in \u001b[0;36m_standardize_user_data\u001b[0;34m(self, x, y, sample_weight, class_weight, batch_size, check_steps, steps_name, steps, validation_split, shuffle, extract_tensors_from_dataset)\u001b[0m\n\u001b[1;32m   2333\u001b[0m         \u001b[0mcast_inputs\u001b[0m \u001b[0;34m=\u001b[0m \u001b[0mx_input\u001b[0m\u001b[0;34m\u001b[0m\u001b[0;34m\u001b[0m\u001b[0m\n\u001b[1;32m   2334\u001b[0m \u001b[0;34m\u001b[0m\u001b[0m\n\u001b[0;32m-> 2335\u001b[0;31m       \u001b[0mself\u001b[0m\u001b[0;34m.\u001b[0m\u001b[0m_set_inputs\u001b[0m\u001b[0;34m(\u001b[0m\u001b[0mcast_inputs\u001b[0m\u001b[0;34m)\u001b[0m\u001b[0;34m\u001b[0m\u001b[0;34m\u001b[0m\u001b[0m\n\u001b[0m\u001b[1;32m   2336\u001b[0m     \u001b[0;32melse\u001b[0m\u001b[0;34m:\u001b[0m\u001b[0;34m\u001b[0m\u001b[0;34m\u001b[0m\u001b[0m\n\u001b[1;32m   2337\u001b[0m       \u001b[0my_input\u001b[0m \u001b[0;34m=\u001b[0m \u001b[0my\u001b[0m\u001b[0;34m\u001b[0m\u001b[0;34m\u001b[0m\u001b[0m\n",
      "\u001b[0;32m~/anaconda3/lib/python3.7/site-packages/tensorflow-2.0.0b1-py3.7-linux-x86_64.egg/tensorflow/python/keras/engine/training.py\u001b[0m in \u001b[0;36m_set_inputs\u001b[0;34m(self, inputs, outputs, training)\u001b[0m\n\u001b[1;32m   2551\u001b[0m       \u001b[0mkwargs\u001b[0m \u001b[0;34m=\u001b[0m \u001b[0;34m{\u001b[0m\u001b[0;34m'training'\u001b[0m\u001b[0;34m:\u001b[0m \u001b[0mtraining\u001b[0m\u001b[0;34m}\u001b[0m \u001b[0;32mif\u001b[0m \u001b[0mself\u001b[0m\u001b[0;34m.\u001b[0m\u001b[0m_expects_training_arg\u001b[0m \u001b[0;32melse\u001b[0m \u001b[0;34m{\u001b[0m\u001b[0;34m}\u001b[0m\u001b[0;34m\u001b[0m\u001b[0;34m\u001b[0m\u001b[0m\n\u001b[1;32m   2552\u001b[0m       \u001b[0;32mtry\u001b[0m\u001b[0;34m:\u001b[0m\u001b[0;34m\u001b[0m\u001b[0;34m\u001b[0m\u001b[0m\n\u001b[0;32m-> 2553\u001b[0;31m         \u001b[0moutputs\u001b[0m \u001b[0;34m=\u001b[0m \u001b[0mself\u001b[0m\u001b[0;34m(\u001b[0m\u001b[0minputs\u001b[0m\u001b[0;34m,\u001b[0m \u001b[0;34m**\u001b[0m\u001b[0mkwargs\u001b[0m\u001b[0;34m)\u001b[0m\u001b[0;34m\u001b[0m\u001b[0;34m\u001b[0m\u001b[0m\n\u001b[0m\u001b[1;32m   2554\u001b[0m       \u001b[0;32mexcept\u001b[0m \u001b[0mNotImplementedError\u001b[0m\u001b[0;34m:\u001b[0m\u001b[0;34m\u001b[0m\u001b[0;34m\u001b[0m\u001b[0m\n\u001b[1;32m   2555\u001b[0m         \u001b[0;31m# This Model or a submodel is dynamic and hasn't overridden\u001b[0m\u001b[0;34m\u001b[0m\u001b[0;34m\u001b[0m\u001b[0;34m\u001b[0m\u001b[0m\n",
      "\u001b[0;32m~/anaconda3/lib/python3.7/site-packages/tensorflow-2.0.0b1-py3.7-linux-x86_64.egg/tensorflow/python/keras/engine/base_layer.py\u001b[0m in \u001b[0;36m__call__\u001b[0;34m(self, inputs, *args, **kwargs)\u001b[0m\n\u001b[1;32m    660\u001b[0m                     not base_layer_utils.is_in_eager_or_tf_function()):\n\u001b[1;32m    661\u001b[0m                   \u001b[0;32mwith\u001b[0m \u001b[0mauto_control_deps\u001b[0m\u001b[0;34m.\u001b[0m\u001b[0mAutomaticControlDependencies\u001b[0m\u001b[0;34m(\u001b[0m\u001b[0;34m)\u001b[0m \u001b[0;32mas\u001b[0m \u001b[0macd\u001b[0m\u001b[0;34m:\u001b[0m\u001b[0;34m\u001b[0m\u001b[0;34m\u001b[0m\u001b[0m\n\u001b[0;32m--> 662\u001b[0;31m                     \u001b[0moutputs\u001b[0m \u001b[0;34m=\u001b[0m \u001b[0mcall_fn\u001b[0m\u001b[0;34m(\u001b[0m\u001b[0minputs\u001b[0m\u001b[0;34m,\u001b[0m \u001b[0;34m*\u001b[0m\u001b[0margs\u001b[0m\u001b[0;34m,\u001b[0m \u001b[0;34m**\u001b[0m\u001b[0mkwargs\u001b[0m\u001b[0;34m)\u001b[0m\u001b[0;34m\u001b[0m\u001b[0;34m\u001b[0m\u001b[0m\n\u001b[0m\u001b[1;32m    663\u001b[0m                     \u001b[0;31m# Wrap Tensors in `outputs` in `tf.identity` to avoid\u001b[0m\u001b[0;34m\u001b[0m\u001b[0;34m\u001b[0m\u001b[0;34m\u001b[0m\u001b[0m\n\u001b[1;32m    664\u001b[0m                     \u001b[0;31m# circular dependencies.\u001b[0m\u001b[0;34m\u001b[0m\u001b[0;34m\u001b[0m\u001b[0;34m\u001b[0m\u001b[0m\n",
      "\u001b[0;32m~/anaconda3/lib/python3.7/site-packages/tensorflow-2.0.0b1-py3.7-linux-x86_64.egg/tensorflow/python/keras/engine/sequential.py\u001b[0m in \u001b[0;36mcall\u001b[0;34m(self, inputs, training, mask)\u001b[0m\n\u001b[1;32m    260\u001b[0m         \u001b[0mkwargs\u001b[0m\u001b[0;34m[\u001b[0m\u001b[0;34m'training'\u001b[0m\u001b[0;34m]\u001b[0m \u001b[0;34m=\u001b[0m \u001b[0mtraining\u001b[0m\u001b[0;34m\u001b[0m\u001b[0;34m\u001b[0m\u001b[0m\n\u001b[1;32m    261\u001b[0m \u001b[0;34m\u001b[0m\u001b[0m\n\u001b[0;32m--> 262\u001b[0;31m       \u001b[0moutputs\u001b[0m \u001b[0;34m=\u001b[0m \u001b[0mlayer\u001b[0m\u001b[0;34m(\u001b[0m\u001b[0minputs\u001b[0m\u001b[0;34m,\u001b[0m \u001b[0;34m**\u001b[0m\u001b[0mkwargs\u001b[0m\u001b[0;34m)\u001b[0m\u001b[0;34m\u001b[0m\u001b[0;34m\u001b[0m\u001b[0m\n\u001b[0m\u001b[1;32m    263\u001b[0m \u001b[0;34m\u001b[0m\u001b[0m\n\u001b[1;32m    264\u001b[0m       \u001b[0;31m# `outputs` will be the inputs to the next layer.\u001b[0m\u001b[0;34m\u001b[0m\u001b[0;34m\u001b[0m\u001b[0;34m\u001b[0m\u001b[0m\n",
      "\u001b[0;32m~/anaconda3/lib/python3.7/site-packages/tensorflow-2.0.0b1-py3.7-linux-x86_64.egg/tensorflow/python/keras/engine/base_layer.py\u001b[0m in \u001b[0;36m__call__\u001b[0;34m(self, inputs, *args, **kwargs)\u001b[0m\n\u001b[1;32m    614\u001b[0m           \u001b[0;31m# Build layer if applicable (if the `build` method has been\u001b[0m\u001b[0;34m\u001b[0m\u001b[0;34m\u001b[0m\u001b[0;34m\u001b[0m\u001b[0m\n\u001b[1;32m    615\u001b[0m           \u001b[0;31m# overridden).\u001b[0m\u001b[0;34m\u001b[0m\u001b[0;34m\u001b[0m\u001b[0;34m\u001b[0m\u001b[0m\n\u001b[0;32m--> 616\u001b[0;31m           \u001b[0mself\u001b[0m\u001b[0;34m.\u001b[0m\u001b[0m_maybe_build\u001b[0m\u001b[0;34m(\u001b[0m\u001b[0minputs\u001b[0m\u001b[0;34m)\u001b[0m\u001b[0;34m\u001b[0m\u001b[0;34m\u001b[0m\u001b[0m\n\u001b[0m\u001b[1;32m    617\u001b[0m \u001b[0;34m\u001b[0m\u001b[0m\n\u001b[1;32m    618\u001b[0m           \u001b[0;31m# Wrapping `call` function in autograph to allow for dynamic control\u001b[0m\u001b[0;34m\u001b[0m\u001b[0;34m\u001b[0m\u001b[0;34m\u001b[0m\u001b[0m\n",
      "\u001b[0;32m~/anaconda3/lib/python3.7/site-packages/tensorflow-2.0.0b1-py3.7-linux-x86_64.egg/tensorflow/python/keras/engine/base_layer.py\u001b[0m in \u001b[0;36m_maybe_build\u001b[0;34m(self, inputs)\u001b[0m\n\u001b[1;32m   1964\u001b[0m         \u001b[0;31m# operations.\u001b[0m\u001b[0;34m\u001b[0m\u001b[0;34m\u001b[0m\u001b[0;34m\u001b[0m\u001b[0m\n\u001b[1;32m   1965\u001b[0m         \u001b[0;32mwith\u001b[0m \u001b[0mtf_utils\u001b[0m\u001b[0;34m.\u001b[0m\u001b[0mmaybe_init_scope\u001b[0m\u001b[0;34m(\u001b[0m\u001b[0mself\u001b[0m\u001b[0;34m)\u001b[0m\u001b[0;34m:\u001b[0m\u001b[0;34m\u001b[0m\u001b[0;34m\u001b[0m\u001b[0m\n\u001b[0;32m-> 1966\u001b[0;31m           \u001b[0mself\u001b[0m\u001b[0;34m.\u001b[0m\u001b[0mbuild\u001b[0m\u001b[0;34m(\u001b[0m\u001b[0minput_shapes\u001b[0m\u001b[0;34m)\u001b[0m\u001b[0;34m\u001b[0m\u001b[0;34m\u001b[0m\u001b[0m\n\u001b[0m\u001b[1;32m   1967\u001b[0m       \u001b[0;31m# We must set self.built since user defined build functions are not\u001b[0m\u001b[0;34m\u001b[0m\u001b[0;34m\u001b[0m\u001b[0;34m\u001b[0m\u001b[0m\n\u001b[1;32m   1968\u001b[0m       \u001b[0;31m# constrained to set self.built.\u001b[0m\u001b[0;34m\u001b[0m\u001b[0;34m\u001b[0m\u001b[0;34m\u001b[0m\u001b[0m\n",
      "\u001b[0;32m~/anaconda3/lib/python3.7/site-packages/tensorflow-2.0.0b1-py3.7-linux-x86_64.egg/tensorflow/python/keras/layers/core.py\u001b[0m in \u001b[0;36mbuild\u001b[0;34m(self, input_shape)\u001b[0m\n\u001b[1;32m   1000\u001b[0m     \u001b[0;32mif\u001b[0m \u001b[0;32mnot\u001b[0m \u001b[0;34m(\u001b[0m\u001b[0mdtype\u001b[0m\u001b[0;34m.\u001b[0m\u001b[0mis_floating\u001b[0m \u001b[0;32mor\u001b[0m \u001b[0mdtype\u001b[0m\u001b[0;34m.\u001b[0m\u001b[0mis_complex\u001b[0m\u001b[0;34m)\u001b[0m\u001b[0;34m:\u001b[0m\u001b[0;34m\u001b[0m\u001b[0;34m\u001b[0m\u001b[0m\n\u001b[1;32m   1001\u001b[0m       raise TypeError('Unable to build `Dense` layer with non-floating point '\n\u001b[0;32m-> 1002\u001b[0;31m                       'dtype %s' % (dtype,))\n\u001b[0m\u001b[1;32m   1003\u001b[0m     \u001b[0minput_shape\u001b[0m \u001b[0;34m=\u001b[0m \u001b[0mtensor_shape\u001b[0m\u001b[0;34m.\u001b[0m\u001b[0mTensorShape\u001b[0m\u001b[0;34m(\u001b[0m\u001b[0minput_shape\u001b[0m\u001b[0;34m)\u001b[0m\u001b[0;34m\u001b[0m\u001b[0;34m\u001b[0m\u001b[0m\n\u001b[1;32m   1004\u001b[0m     \u001b[0;32mif\u001b[0m \u001b[0mtensor_shape\u001b[0m\u001b[0;34m.\u001b[0m\u001b[0mdimension_value\u001b[0m\u001b[0;34m(\u001b[0m\u001b[0minput_shape\u001b[0m\u001b[0;34m[\u001b[0m\u001b[0;34m-\u001b[0m\u001b[0;36m1\u001b[0m\u001b[0;34m]\u001b[0m\u001b[0;34m)\u001b[0m \u001b[0;32mis\u001b[0m \u001b[0;32mNone\u001b[0m\u001b[0;34m:\u001b[0m\u001b[0;34m\u001b[0m\u001b[0;34m\u001b[0m\u001b[0m\n",
      "\u001b[0;31mTypeError\u001b[0m: Unable to build `Dense` layer with non-floating point dtype <dtype: 'string'>"
     ]
    }
   ],
   "source": [
    "model.fit(X_train.values, Y_train.values, epochs=20)"
   ]
  },
  {
   "cell_type": "code",
   "execution_count": 167,
   "metadata": {},
   "outputs": [],
   "source": [
    "Y_pred = model.predict(X_test)\n"
   ]
  },
  {
   "cell_type": "code",
   "execution_count": 168,
   "metadata": {},
   "outputs": [
    {
     "output_type": "execute_result",
     "data": {
      "text/plain": [
       "array([[ 7.72662759e-01, -9.49271619e-01],\n",
       "       [-4.77854192e-01,  2.14862168e-01],\n",
       "       [ 5.67640245e-01, -5.96419334e-01],\n",
       "       [ 4.37227070e-01, -8.76711011e-01],\n",
       "       [-2.29029760e-01, -6.56734481e-02],\n",
       "       [ 2.93982655e-01, -8.44648898e-01],\n",
       "       [-8.69355977e-01,  8.19222867e-01],\n",
       "       [ 4.17080283e-01, -8.22601259e-01],\n",
       "       [-1.22475088e+00,  1.05164623e+00],\n",
       "       [ 8.37938607e-01, -1.18060923e+00],\n",
       "       [ 7.57746041e-01, -1.21387517e+00],\n",
       "       [-7.93308914e-02, -2.17302173e-01],\n",
       "       [-2.13883972e+00,  1.96316719e+00],\n",
       "       [ 6.97875202e-01, -9.55747664e-01],\n",
       "       [-2.11587405e+00,  1.96584749e+00],\n",
       "       [-1.86023200e+00,  1.63818562e+00],\n",
       "       [ 3.75999659e-01, -5.05438507e-01],\n",
       "       [ 5.32798171e-01, -7.32834816e-01],\n",
       "       [-1.44211069e-01, -6.38893619e-03],\n",
       "       [-1.04100645e+00,  9.20889616e-01],\n",
       "       [-3.24509256e-02, -7.03227371e-02],\n",
       "       [-6.67738974e-01,  1.53585106e-01],\n",
       "       [-2.14980960e+00,  2.00211954e+00],\n",
       "       [-3.32521260e-01,  1.58351243e-01],\n",
       "       [-2.23512340e+00,  2.07296419e+00],\n",
       "       [ 8.78430784e-01, -1.14392757e+00],\n",
       "       [-2.76375484e+00,  2.54806137e+00],\n",
       "       [ 5.32798171e-01, -7.32834816e-01],\n",
       "       [-7.93308914e-02, -2.17302173e-01],\n",
       "       [ 3.33706260e-01, -6.71598256e-01],\n",
       "       [ 6.97875261e-01, -9.55747604e-01],\n",
       "       [ 3.48927796e-01, -7.79528797e-01],\n",
       "       [-1.86577663e-01, -7.90881068e-02],\n",
       "       [-1.86577663e-01, -7.90881068e-02],\n",
       "       [-3.32521260e-01,  1.58351243e-01],\n",
       "       [ 5.32798171e-01, -7.32834816e-01],\n",
       "       [-3.25413406e-01,  1.79244235e-01],\n",
       "       [-3.25413406e-01,  1.79244235e-01],\n",
       "       [ 4.37227070e-01, -8.76711011e-01],\n",
       "       [-3.10685128e-01, -1.22724131e-01],\n",
       "       [ 7.68454194e-01, -9.58932579e-01],\n",
       "       [-1.45998836e-01, -2.27903128e-01],\n",
       "       [ 8.68927896e-01, -1.19105232e+00],\n",
       "       [-1.35329247e+00,  1.12887907e+00],\n",
       "       [-2.11587405e+00,  1.96584749e+00],\n",
       "       [ 4.37227070e-01, -8.76711011e-01],\n",
       "       [-6.52431697e-02,  1.77263804e-02],\n",
       "       [ 6.14352286e-01, -9.14189637e-01],\n",
       "       [-1.85285091e+00,  1.81495976e+00],\n",
       "       [-4.16865081e-01,  1.73386157e-01],\n",
       "       [-2.63754487e-01, -1.48384586e-01],\n",
       "       [ 9.44612920e-02, -2.61780202e-01],\n",
       "       [-1.49606574e+00,  1.36317611e+00],\n",
       "       [-2.31650066e+00,  2.21583724e+00],\n",
       "       [ 9.44612920e-02, -2.61780202e-01],\n",
       "       [-3.96431416e-01, -1.78749084e-01],\n",
       "       [ 8.68927896e-01, -1.19105232e+00],\n",
       "       [ 7.57746041e-01, -1.21387517e+00],\n",
       "       [ 4.91863221e-01, -8.50986302e-01],\n",
       "       [-2.40411997e+00,  2.26978493e+00],\n",
       "       [ 7.57746041e-01, -1.21387517e+00],\n",
       "       [ 5.28999090e-01, -9.39308941e-01],\n",
       "       [ 7.57745981e-01, -1.21387517e+00],\n",
       "       [-8.69356096e-01,  8.19222867e-01],\n",
       "       [-1.61617291e+00,  1.16583276e+00],\n",
       "       [-1.43874788e+00,  1.25565755e+00],\n",
       "       [-8.69355977e-01,  8.19222867e-01],\n",
       "       [ 4.83944677e-02, -3.79493356e-01],\n",
       "       [-2.67848581e-01,  1.45879328e-01],\n",
       "       [-1.85053909e+00,  1.69810724e+00],\n",
       "       [-8.69355977e-01,  8.19222867e-01],\n",
       "       [ 7.57746041e-01, -1.21387517e+00],\n",
       "       [-3.25413406e-01,  1.79244235e-01],\n",
       "       [-2.67848581e-01,  1.45879328e-01],\n",
       "       [-2.40411997e+00,  2.26978493e+00],\n",
       "       [-3.46895635e-01,  1.85854509e-01],\n",
       "       [ 4.37227070e-01, -8.76711011e-01],\n",
       "       [-1.92897058e+00,  1.81840372e+00],\n",
       "       [ 5.28999090e-01, -9.39308941e-01],\n",
       "       [-8.69355977e-01,  8.19222867e-01],\n",
       "       [-1.24197936e+00,  7.39318967e-01],\n",
       "       [ 5.08231997e-01, -7.22630858e-01],\n",
       "       [ 1.90804049e-01, -3.97189260e-01],\n",
       "       [ 7.57746041e-01, -1.21387517e+00],\n",
       "       [ 2.56248444e-01, -4.92380410e-01],\n",
       "       [ 2.54321039e-01, -5.67239344e-01],\n",
       "       [-8.69355977e-01,  8.19222867e-01],\n",
       "       [-3.25413406e-01,  1.79244235e-01],\n",
       "       [-8.69355977e-01,  8.19222867e-01],\n",
       "       [-1.50769818e+00,  9.85126317e-01],\n",
       "       [-4.11068201e-01,  1.26585588e-01],\n",
       "       [ 7.57746041e-01, -1.21387517e+00],\n",
       "       [-2.03275752e+00,  1.85185540e+00],\n",
       "       [ 4.37227070e-01, -8.76711011e-01],\n",
       "       [-2.67848432e-01,  1.45879328e-01],\n",
       "       [ 7.57745981e-01, -1.21387517e+00],\n",
       "       [-1.92458773e+00,  1.83979106e+00],\n",
       "       [ 4.37227070e-01, -8.76711011e-01],\n",
       "       [-4.38105941e-01,  3.27383906e-01],\n",
       "       [ 6.22554004e-01, -9.41933453e-01],\n",
       "       [-2.22201347e+00,  2.10553074e+00],\n",
       "       [ 2.60212690e-01, -6.52204096e-01],\n",
       "       [ 6.14352286e-01, -9.14189637e-01],\n",
       "       [ 7.57746041e-01, -1.21387517e+00],\n",
       "       [-1.11115563e+00,  9.19933975e-01],\n",
       "       [ 1.55075282e-01, -5.53733110e-01],\n",
       "       [ 6.14352286e-01, -9.14189637e-01],\n",
       "       [ 6.14352286e-01, -9.14189637e-01],\n",
       "       [ 4.37227070e-01, -8.76711011e-01],\n",
       "       [ 5.28999090e-01, -9.39308941e-01],\n",
       "       [ 2.86584437e-01, -3.91433269e-01],\n",
       "       [-8.69355977e-01,  8.19222867e-01],\n",
       "       [-2.40411997e+00,  2.26978493e+00],\n",
       "       [-8.69355977e-01,  8.19222867e-01],\n",
       "       [-2.03962874e+00,  1.91265070e+00],\n",
       "       [ 2.54321039e-01, -5.67239344e-01],\n",
       "       [ 5.32798171e-01, -7.32834816e-01],\n",
       "       [-3.34474385e-01,  2.56145410e-02],\n",
       "       [-2.35133156e-01,  1.19715229e-01],\n",
       "       [-1.39110601e+00,  1.18739045e+00],\n",
       "       [-1.80331647e+00,  1.60426283e+00],\n",
       "       [ 7.06936717e-01, -1.01720393e+00],\n",
       "       [-2.22201347e+00,  2.10553074e+00],\n",
       "       [ 7.57746041e-01, -1.21387517e+00],\n",
       "       [ 6.14352286e-01, -9.14189637e-01],\n",
       "       [-2.63308764e-01,  5.27475663e-02],\n",
       "       [ 7.57745981e-01, -1.21387517e+00],\n",
       "       [-4.93526876e-01,  3.66693377e-01],\n",
       "       [ 5.05272090e-01, -7.85112441e-01],\n",
       "       [ 4.37227070e-01, -8.76711011e-01],\n",
       "       [ 4.37227070e-01, -8.76711011e-01],\n",
       "       [ 7.93554306e-01, -7.32132375e-01],\n",
       "       [ 4.03757915e-02, -3.28804255e-01],\n",
       "       [ 5.71560502e-01, -8.13953996e-01],\n",
       "       [ 8.68927896e-01, -1.19105232e+00],\n",
       "       [ 7.57746041e-01, -1.21387517e+00],\n",
       "       [ 5.32798171e-01, -7.32834816e-01],\n",
       "       [ 5.28999090e-01, -9.39308941e-01],\n",
       "       [-3.25413406e-01,  1.79244235e-01],\n",
       "       [ 2.30603862e+00, -2.72219729e+00],\n",
       "       [ 3.42039436e-01, -8.13335061e-01],\n",
       "       [-2.24698639e+00,  2.17187905e+00],\n",
       "       [ 2.71202087e-01, -4.34241652e-01],\n",
       "       [ 2.41945565e-01, -6.40795708e-01],\n",
       "       [-7.93308914e-02, -2.17302173e-01],\n",
       "       [ 1.16172647e+00, -1.50863814e+00],\n",
       "       [-2.06169590e-01, -1.95623875e-01],\n",
       "       [ 4.37227070e-01, -8.76711011e-01],\n",
       "       [-1.45998836e-01, -2.27903128e-01],\n",
       "       [ 1.18548715e+00, -1.50222683e+00],\n",
       "       [-2.43913722e+00,  2.27501535e+00],\n",
       "       [ 5.32798171e-01, -7.32834816e-01],\n",
       "       [ 5.18640399e-01, -8.05869639e-01],\n",
       "       [-1.57983214e-01, -9.06461924e-02],\n",
       "       [ 3.44249845e-01, -9.56545711e-01],\n",
       "       [ 7.57746041e-01, -1.21387517e+00],\n",
       "       [-2.40305805e+00,  2.30033398e+00],\n",
       "       [-4.38105941e-01,  3.27383906e-01],\n",
       "       [-7.93307424e-02, -2.17302203e-01],\n",
       "       [-2.29029730e-01, -6.56735003e-02],\n",
       "       [-8.69355977e-01,  8.19222867e-01],\n",
       "       [-1.24197936e+00,  7.39318967e-01],\n",
       "       [-1.52016735e+00,  1.42184305e+00],\n",
       "       [ 7.57746041e-01, -1.21387517e+00],\n",
       "       [ 1.15586054e+00, -1.45141602e+00],\n",
       "       [-4.63837862e-01,  1.75909504e-01],\n",
       "       [-2.35133156e-01,  1.19715229e-01],\n",
       "       [ 1.30991256e+00, -1.68842459e+00],\n",
       "       [-1.99027526e+00,  1.93371868e+00],\n",
       "       [-3.25413406e-01,  1.79244235e-01],\n",
       "       [ 7.57746041e-01, -1.21387517e+00],\n",
       "       [ 5.32798171e-01, -7.32834816e-01],\n",
       "       [ 6.36415899e-01, -1.04048109e+00],\n",
       "       [ 5.32798171e-01, -7.32834816e-01],\n",
       "       [ 2.07582736e+00, -2.47102261e+00],\n",
       "       [-1.75030243e+00,  1.48804080e+00],\n",
       "       [-1.67699325e+00,  1.46930408e+00],\n",
       "       [-3.24509256e-02, -7.03227371e-02],\n",
       "       [-1.29777181e+00,  1.06312561e+00],\n",
       "       [-2.02328253e+00,  1.92339170e+00],\n",
       "       [ 5.28999090e-01, -9.39308941e-01],\n",
       "       [-1.88875735e-01,  3.11809517e-02],\n",
       "       [-2.13883972e+00,  1.96316719e+00],\n",
       "       [ 6.14352286e-01, -9.14189637e-01],\n",
       "       [-2.42286587e+00,  2.25372696e+00],\n",
       "       [ 3.69337320e-01, -6.72660172e-01],\n",
       "       [-1.60222077e+00,  1.47192311e+00],\n",
       "       [ 8.84992123e-01, -1.26822376e+00],\n",
       "       [ 1.03590953e+00, -1.58670044e+00],\n",
       "       [ 5.05272090e-01, -7.85112441e-01],\n",
       "       [ 4.38644350e-01, -7.51155555e-01],\n",
       "       [-1.45998716e-01, -2.27903008e-01],\n",
       "       [-9.04091835e-01,  3.98883581e-01],\n",
       "       [ 5.67640245e-01, -5.96419334e-01],\n",
       "       [-1.40687799e+00,  8.43998373e-01],\n",
       "       [ 8.68927896e-01, -1.19105232e+00],\n",
       "       [-1.72099173e+00,  1.31585014e+00],\n",
       "       [-4.38105941e-01,  3.27383906e-01],\n",
       "       [ 5.28999090e-01, -9.39308941e-01],\n",
       "       [-5.46511829e-01,  3.23720276e-01],\n",
       "       [-6.23209059e-01,  5.48251927e-01],\n",
       "       [-9.14585888e-01,  4.14296299e-01],\n",
       "       [ 2.21383676e-01, -3.10258031e-01],\n",
       "       [-1.71796393e+00,  1.53042948e+00],\n",
       "       [ 5.28999090e-01, -9.39308941e-01],\n",
       "       [-2.67848581e-01,  1.45879328e-01],\n",
       "       [-5.77179611e-01,  5.63971102e-01],\n",
       "       [ 5.28999090e-01, -9.39308941e-01],\n",
       "       [-2.25650930e+00,  2.17517281e+00],\n",
       "       [ 7.57746041e-01, -1.21387517e+00],\n",
       "       [ 1.55075282e-01, -5.53733110e-01],\n",
       "       [ 7.57746041e-01, -1.21387517e+00],\n",
       "       [ 1.06077254e-01, -5.30244708e-01],\n",
       "       [-1.37346971e+00,  1.19048750e+00],\n",
       "       [ 8.35769922e-02, -2.51049548e-01],\n",
       "       [ 4.83944677e-02, -3.79493356e-01],\n",
       "       [-8.69355977e-01,  8.19222867e-01],\n",
       "       [ 3.56638193e-01, -6.65103197e-01],\n",
       "       [-2.02328253e+00,  1.92339170e+00],\n",
       "       [ 4.37227070e-01, -8.76711011e-01],\n",
       "       [-1.91873395e+00,  1.75884700e+00],\n",
       "       [ 4.37227070e-01, -8.76711011e-01],\n",
       "       [-1.35329223e+00,  1.12887883e+00],\n",
       "       [ 7.57745981e-01, -1.21387517e+00],\n",
       "       [-1.70735276e+00,  1.72460294e+00],\n",
       "       [-2.79800773e-01,  1.90741330e-01],\n",
       "       [ 7.57746041e-01, -1.21387517e+00],\n",
       "       [-8.69355977e-01,  8.19222867e-01],\n",
       "       [ 2.49065146e-01, -5.67079723e-01],\n",
       "       [ 5.05272090e-01, -7.85112441e-01],\n",
       "       [-9.48649347e-02, -4.19420063e-01],\n",
       "       [-2.34725380e+00,  2.28913879e+00],\n",
       "       [ 8.90073419e-01, -1.33612597e+00],\n",
       "       [ 6.14352286e-01, -9.14189637e-01],\n",
       "       [-2.22766861e-01,  8.69927257e-02],\n",
       "       [ 7.57746041e-01, -1.21387517e+00],\n",
       "       [-3.24509256e-02, -7.03227371e-02],\n",
       "       [ 5.32798171e-01, -7.32834816e-01],\n",
       "       [-1.50091410e+00,  1.40588701e+00],\n",
       "       [-2.22201347e+00,  2.10553074e+00],\n",
       "       [-1.70735276e+00,  1.72460294e+00],\n",
       "       [-1.38318503e+00,  1.18678498e+00],\n",
       "       [-1.88875735e-01,  3.11809517e-02],\n",
       "       [ 7.57746041e-01, -1.21387517e+00],\n",
       "       [-6.37435555e-01,  9.44459140e-02],\n",
       "       [ 3.04005668e-03, -3.53382230e-01],\n",
       "       [-1.46717870e+00,  1.24968243e+00],\n",
       "       [ 6.05215371e-01, -9.94707227e-01],\n",
       "       [-1.39110601e+00,  1.18739045e+00],\n",
       "       [-3.20680439e-01,  2.51884282e-01],\n",
       "       [-1.67746389e+00,  1.48594034e+00],\n",
       "       [ 4.37227070e-01, -8.76711011e-01],\n",
       "       [-3.32521260e-01,  1.58351243e-01],\n",
       "       [ 4.37227070e-01, -8.76711011e-01],\n",
       "       [ 4.37227070e-01, -8.76710951e-01],\n",
       "       [ 7.57745981e-01, -1.21387517e+00],\n",
       "       [ 6.14352286e-01, -9.14189637e-01],\n",
       "       [ 4.37227070e-01, -8.76711011e-01],\n",
       "       [-1.52016735e+00,  1.42184305e+00],\n",
       "       [ 7.57746041e-01, -1.21387517e+00],\n",
       "       [ 6.48886502e-01, -9.36905503e-01],\n",
       "       [ 7.57746041e-01, -1.21387517e+00],\n",
       "       [-1.34434831e+00,  1.13917780e+00],\n",
       "       [-4.13461328e-01,  1.50933683e-01],\n",
       "       [ 1.18294120e-01, -2.46173680e-01],\n",
       "       [ 7.57746041e-01, -1.21387517e+00],\n",
       "       [ 6.52190149e-01, -1.07845759e+00],\n",
       "       [ 7.57746041e-01, -1.21387517e+00],\n",
       "       [-3.25413406e-01,  1.79244235e-01],\n",
       "       [ 4.37227070e-01, -8.76711011e-01],\n",
       "       [-2.35133156e-01,  1.19715229e-01],\n",
       "       [ 6.14352286e-01, -9.14189637e-01],\n",
       "       [-2.43913722e+00,  2.27501535e+00],\n",
       "       [-5.70347130e-01,  4.70601559e-01],\n",
       "       [ 5.32798171e-01, -7.32834816e-01],\n",
       "       [-1.60222077e+00,  1.47192311e+00],\n",
       "       [ 5.28999090e-01, -9.39308941e-01],\n",
       "       [ 4.38644201e-01, -7.51155615e-01],\n",
       "       [ 2.60212690e-01, -6.52204096e-01],\n",
       "       [ 5.28999090e-01, -9.39308941e-01],\n",
       "       [-3.25413406e-01,  1.79244235e-01],\n",
       "       [-9.14585888e-01,  4.14296299e-01],\n",
       "       [-8.69355977e-01,  8.19222867e-01],\n",
       "       [-1.13838577e+00,  9.06725585e-01],\n",
       "       [-3.34474385e-01,  2.56145410e-02],\n",
       "       [ 8.68927896e-01, -1.19105232e+00],\n",
       "       [ 7.57745981e-01, -1.21387517e+00],\n",
       "       [-2.63754368e-01, -1.48384452e-01],\n",
       "       [ 5.32798171e-01, -7.32834816e-01],\n",
       "       [ 4.37227070e-01, -8.76711011e-01],\n",
       "       [-2.06169590e-01, -1.95623875e-01],\n",
       "       [-8.69355977e-01,  8.19222867e-01],\n",
       "       [ 5.32798171e-01, -7.32834816e-01],\n",
       "       [ 6.66561782e-01, -9.19209301e-01],\n",
       "       [ 6.22554004e-01, -9.41933453e-01],\n",
       "       [ 7.57746041e-01, -1.21387517e+00],\n",
       "       [-2.28127480e+00,  1.97733402e+00],\n",
       "       [ 3.33706260e-01, -6.71598256e-01],\n",
       "       [-2.06169590e-01, -1.95623875e-01],\n",
       "       [ 7.57746041e-01, -1.21387517e+00],\n",
       "       [ 7.57746041e-01, -1.21387517e+00],\n",
       "       [ 9.44612920e-02, -2.61780202e-01],\n",
       "       [ 4.38644201e-01, -7.51155615e-01],\n",
       "       [ 4.37227070e-01, -8.76711011e-01],\n",
       "       [-8.69355977e-01,  8.19222867e-01],\n",
       "       [-1.92897058e+00,  1.81840372e+00],\n",
       "       [-1.01059929e-01, -3.49671304e-01],\n",
       "       [-1.00063014e+00,  4.93566573e-01],\n",
       "       [ 3.56638193e-01, -6.65103197e-01],\n",
       "       [-3.63140225e-01,  1.31545201e-01],\n",
       "       [ 4.37227070e-01, -8.76711011e-01],\n",
       "       [ 5.32798171e-01, -7.32834816e-01],\n",
       "       [ 7.57746041e-01, -1.21387517e+00],\n",
       "       [-5.77179611e-01,  5.63971102e-01],\n",
       "       [-1.85285091e+00,  1.81495976e+00],\n",
       "       [-8.69355977e-01,  8.19222867e-01],\n",
       "       [-3.24509256e-02, -7.03227371e-02],\n",
       "       [ 5.28999090e-01, -9.39308941e-01],\n",
       "       [ 7.57745981e-01, -1.21387517e+00],\n",
       "       [ 3.48927796e-01, -7.79528797e-01],\n",
       "       [ 7.57746041e-01, -1.21387517e+00],\n",
       "       [ 5.32798171e-01, -7.32834816e-01],\n",
       "       [ 5.28999090e-01, -9.39308941e-01],\n",
       "       [-7.93308914e-02, -2.17302173e-01],\n",
       "       [-2.24698639e+00,  2.17187905e+00],\n",
       "       [ 7.57746041e-01, -1.21387517e+00],\n",
       "       [-1.67089283e+00,  1.40059304e+00],\n",
       "       [-2.35133156e-01,  1.19715229e-01],\n",
       "       [ 2.60212690e-01, -6.52204096e-01],\n",
       "       [ 5.28999090e-01, -9.39308941e-01],\n",
       "       [-1.40746367e+00,  1.19947839e+00],\n",
       "       [-6.52431697e-02,  1.77263804e-02],\n",
       "       [ 5.32798171e-01, -7.32834816e-01],\n",
       "       [-7.02290833e-01,  5.54923236e-01],\n",
       "       [ 7.57746041e-01, -1.21387517e+00],\n",
       "       [-1.45998836e-01, -2.27903128e-01],\n",
       "       [ 5.28999090e-01, -9.39308941e-01],\n",
       "       [ 1.11750543e+00, -1.29670620e+00],\n",
       "       [ 1.06077254e-01, -5.30244708e-01],\n",
       "       [-1.23316658e+00,  8.49104643e-01],\n",
       "       [ 5.28999090e-01, -9.39308941e-01],\n",
       "       [ 7.57746041e-01, -1.21387517e+00],\n",
       "       [ 2.78725195e+00, -3.34464121e+00],\n",
       "       [-1.94163930e+00,  1.87257934e+00],\n",
       "       [-9.04091835e-01,  3.98883581e-01],\n",
       "       [-6.69933379e-01,  4.67170835e-01],\n",
       "       [ 5.28999090e-01, -9.39308941e-01],\n",
       "       [-1.04100645e+00,  9.20889616e-01],\n",
       "       [ 5.28999090e-01, -9.39308941e-01],\n",
       "       [-1.61801016e+00,  1.47836423e+00],\n",
       "       [-2.22201324e+00,  2.10553074e+00],\n",
       "       [ 5.28999209e-01, -9.39309061e-01],\n",
       "       [ 1.06077254e-01, -5.30244708e-01],\n",
       "       [ 1.00444031e+00, -1.38822174e+00],\n",
       "       [-1.60228685e-01, -1.48545966e-01],\n",
       "       [ 1.90804049e-01, -3.97189260e-01],\n",
       "       [-2.00603628e+00,  1.86926723e+00],\n",
       "       [ 7.57746041e-01, -1.21387517e+00],\n",
       "       [ 6.14352286e-01, -9.14189637e-01],\n",
       "       [-6.56228364e-01,  3.84370983e-01],\n",
       "       [ 1.46250784e+00, -2.18248892e+00],\n",
       "       [-1.83364308e+00,  1.62477231e+00],\n",
       "       [-1.46717870e+00,  1.24968243e+00],\n",
       "       [ 4.37227070e-01, -8.76711011e-01],\n",
       "       [-2.43913722e+00,  2.27501535e+00],\n",
       "       [ 1.21019197e+00, -1.72787702e+00],\n",
       "       [ 2.54321039e-01, -5.67239344e-01],\n",
       "       [-9.52559888e-01,  6.35818064e-01],\n",
       "       [-2.22201347e+00,  2.10553074e+00],\n",
       "       [ 1.18294120e-01, -2.46173680e-01],\n",
       "       [ 5.19133329e-01, -9.15379703e-01],\n",
       "       [-2.76109266e+00,  2.55065703e+00],\n",
       "       [ 4.93220091e-01, -6.87841177e-01],\n",
       "       [ 5.05272090e-01, -7.85112441e-01],\n",
       "       [-2.00603628e+00,  1.86926723e+00],\n",
       "       [-2.40411997e+00,  2.26978493e+00],\n",
       "       [-6.05634786e-02, -1.15875214e-01],\n",
       "       [ 5.28999090e-01, -9.39308941e-01],\n",
       "       [ 3.07753891e-01, -5.65299094e-01],\n",
       "       [ 3.44249845e-01, -9.56545711e-01],\n",
       "       [ 6.14352286e-01, -9.14189637e-01],\n",
       "       [ 6.14352286e-01, -9.14189637e-01],\n",
       "       [-8.20745766e-01,  5.92012942e-01],\n",
       "       [-6.56228244e-01,  3.84370774e-01],\n",
       "       [ 5.28999090e-01, -9.39308941e-01],\n",
       "       [-1.48641288e+00,  1.26450729e+00],\n",
       "       [ 7.57746041e-01, -1.21387517e+00],\n",
       "       [ 6.22138679e-01, -8.02595675e-01],\n",
       "       [ 6.14352286e-01, -9.14189637e-01],\n",
       "       [-3.43697160e-01, -2.23229945e-01],\n",
       "       [-2.06169590e-01, -1.95623875e-01],\n",
       "       [-2.03962874e+00,  1.91265070e+00],\n",
       "       [-9.04091835e-01,  3.98883581e-01],\n",
       "       [ 5.05272090e-01, -7.85112441e-01],\n",
       "       [ 1.42827725e+00, -1.79245913e+00],\n",
       "       [-2.13883972e+00,  1.96316719e+00],\n",
       "       [ 6.14352286e-01, -9.14189637e-01],\n",
       "       [-2.24641943e+00,  2.11486316e+00],\n",
       "       [ 7.57746041e-01, -1.21387517e+00],\n",
       "       [ 6.14352286e-01, -9.14189637e-01],\n",
       "       [-2.40305805e+00,  2.30033398e+00],\n",
       "       [ 4.38644201e-01, -7.51155615e-01],\n",
       "       [-2.76375484e+00,  2.54806137e+00],\n",
       "       [-2.06169590e-01, -1.95623875e-01],\n",
       "       [-6.61033243e-02, -1.68652460e-03],\n",
       "       [ 1.18294120e-01, -2.46173680e-01],\n",
       "       [ 5.19133329e-01, -9.15379703e-01],\n",
       "       [ 3.35627235e-02, -1.56369165e-01],\n",
       "       [-8.69355977e-01,  8.19222867e-01],\n",
       "       [-4.13461328e-01,  1.50933683e-01],\n",
       "       [-8.69355977e-01,  8.19222867e-01],\n",
       "       [-2.22023821e+00,  2.09569788e+00],\n",
       "       [-4.38105941e-01,  3.27383906e-01],\n",
       "       [ 4.37227070e-01, -8.76711011e-01],\n",
       "       [-1.76397431e+00,  1.69021225e+00],\n",
       "       [ 8.68927956e-01, -1.19105232e+00],\n",
       "       [ 4.37227070e-01, -8.76710951e-01],\n",
       "       [-1.24197936e+00,  7.39318907e-01]], dtype=float32)"
      ]
     },
     "metadata": {},
     "execution_count": 168
    }
   ],
   "source": [
    "Y_pred"
   ]
  },
  {
   "cell_type": "code",
   "execution_count": null,
   "metadata": {},
   "outputs": [],
   "source": []
  }
 ]
}